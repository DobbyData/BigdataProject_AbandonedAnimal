{
 "cells": [
  {
   "cell_type": "code",
   "execution_count": 1,
   "metadata": {},
   "outputs": [],
   "source": [
    "import pandas as pd\n",
    "import numpy as np\n",
    "import matplotlib.pyplot as plt\n",
    "import matplotlib\n",
    "%matplotlib inline\n",
    "import seaborn as sns\n",
    "sns.set()"
   ]
  },
  {
   "cell_type": "code",
   "execution_count": 2,
   "metadata": {},
   "outputs": [],
   "source": [
    "df_15 = pd.read_csv(r'D:\\pycharmProject\\BigdataProject_AbandonedAnimal\\lostAnimal_20150101_20151231_vol3.csv', encoding='CP949')\n",
    "df_16 = pd.read_csv(r'D:\\pycharmProject\\BigdataProject_AbandonedAnimal\\lostAnimal_20160101_20161231_vol3.csv', encoding='CP949')\n",
    "df_17 = pd.read_csv(r'D:\\pycharmProject\\BigdataProject_AbandonedAnimal\\lostAnimal_20170101_20171231_vol3.csv', encoding='CP949')\n",
    "df_18 = pd.read_csv(r'D:\\pycharmProject\\BigdataProject_AbandonedAnimal\\lostAnimal_20180101_20181231_vol3.csv', encoding='CP949')\n",
    "df_09 = pd.read_csv(r'D:\\pycharmProject\\BigdataProject_AbandonedAnimal\\__result__\\crawling\\lostAnimal_20090101_20091231.csv', encoding='CP949')\n",
    "df_10 = pd.read_csv(r'D:\\pycharmProject\\BigdataProject_AbandonedAnimal\\__result__\\crawling\\lostAnimal_20100101_20101231.csv', encoding='CP949')\n",
    "df_11 = pd.read_csv(r'D:\\pycharmProject\\BigdataProject_AbandonedAnimal\\__result__\\crawling\\lostAnimal_20110101_20111231.csv', encoding='CP949')\n",
    "df_12 = pd.read_csv(r'D:\\pycharmProject\\BigdataProject_AbandonedAnimal\\__result__\\crawling\\lostAnimal_20120101_20121231.csv', encoding='CP949')\n",
    "df_13 = pd.read_csv(r'D:\\pycharmProject\\BigdataProject_AbandonedAnimal\\__result__\\crawling\\lostAnimal_20130101_20131231.csv', encoding='CP949')\n",
    "df_14 = pd.read_csv(r'D:\\pycharmProject\\BigdataProject_AbandonedAnimal\\__result__\\crawling\\lostAnimal_20140101_20141231.csv', encoding='CP949')"
   ]
  },
  {
   "cell_type": "markdown",
   "metadata": {},
   "source": [
    "## 연도별 건수(2009-2017)"
   ]
  },
  {
   "cell_type": "code",
   "execution_count": 3,
   "metadata": {},
   "outputs": [
    {
     "data": {
      "text/html": [
       "<div>\n",
       "<style scoped>\n",
       "    .dataframe tbody tr th:only-of-type {\n",
       "        vertical-align: middle;\n",
       "    }\n",
       "\n",
       "    .dataframe tbody tr th {\n",
       "        vertical-align: top;\n",
       "    }\n",
       "\n",
       "    .dataframe thead th {\n",
       "        text-align: right;\n",
       "    }\n",
       "</style>\n",
       "<table border=\"1\" class=\"dataframe\">\n",
       "  <thead>\n",
       "    <tr style=\"text-align: right;\">\n",
       "      <th></th>\n",
       "      <th>total</th>\n",
       "    </tr>\n",
       "  </thead>\n",
       "  <tbody>\n",
       "    <tr>\n",
       "      <th>2009</th>\n",
       "      <td>24943</td>\n",
       "    </tr>\n",
       "    <tr>\n",
       "      <th>2010</th>\n",
       "      <td>62848</td>\n",
       "    </tr>\n",
       "    <tr>\n",
       "      <th>2011</th>\n",
       "      <td>60603</td>\n",
       "    </tr>\n",
       "    <tr>\n",
       "      <th>2012</th>\n",
       "      <td>76960</td>\n",
       "    </tr>\n",
       "    <tr>\n",
       "      <th>2013</th>\n",
       "      <td>81827</td>\n",
       "    </tr>\n",
       "    <tr>\n",
       "      <th>2014</th>\n",
       "      <td>79250</td>\n",
       "    </tr>\n",
       "    <tr>\n",
       "      <th>2015</th>\n",
       "      <td>79745</td>\n",
       "    </tr>\n",
       "    <tr>\n",
       "      <th>2016</th>\n",
       "      <td>88175</td>\n",
       "    </tr>\n",
       "    <tr>\n",
       "      <th>2017</th>\n",
       "      <td>100723</td>\n",
       "    </tr>\n",
       "  </tbody>\n",
       "</table>\n",
       "</div>"
      ],
      "text/plain": [
       "       total\n",
       "2009   24943\n",
       "2010   62848\n",
       "2011   60603\n",
       "2012   76960\n",
       "2013   81827\n",
       "2014   79250\n",
       "2015   79745\n",
       "2016   88175\n",
       "2017  100723"
      ]
     },
     "execution_count": 3,
     "metadata": {},
     "output_type": "execute_result"
    }
   ],
   "source": [
    "cnt_09 = df_09.count().max()\n",
    "cnt_10 = df_10.count().max()\n",
    "cnt_11 = df_11.count().max()\n",
    "cnt_12 = df_12.count().max()\n",
    "cnt_13 = df_13.count().max()\n",
    "cnt_14 = df_14.count().max()\n",
    "cnt_15 = df_15.count().max()\n",
    "cnt_16 = df_16.count().max()\n",
    "cnt_17 = df_17.count().max()\n",
    "df_total = pd.DataFrame([cnt_09, cnt_10, cnt_11, cnt_12, cnt_13, cnt_14,\n",
    "                      cnt_15, cnt_16, cnt_17], index=range(2009,2018), columns=['total'])\n",
    "df_total"
   ]
  },
  {
   "cell_type": "code",
   "execution_count": 4,
   "metadata": {
    "scrolled": true
   },
   "outputs": [
    {
     "data": {
      "text/plain": [
       "<matplotlib.axes._subplots.AxesSubplot at 0x1ed04168748>"
      ]
     },
     "execution_count": 4,
     "metadata": {},
     "output_type": "execute_result"
    },
    {
     "data": {
      "image/png": "[encoded data removed]",
      "text/plain": [
       "<Figure size 432x288 with 1 Axes>"
      ]
     },
     "metadata": {
      "needs_background": "light"
     },
     "output_type": "display_data"
    }
   ],
   "source": [
    "df_total.plot(kind='bar')"
   ]
  },
  {
   "cell_type": "markdown",
   "metadata": {},
   "source": [
    "## Ⅰ. 각 연도 유기동물 종류별 카운트(2009-2017)"
   ]
  },
  {
   "cell_type": "markdown",
   "metadata": {},
   "source": [
    "### 전처리된 데이터"
   ]
  },
  {
   "cell_type": "code",
   "execution_count": 5,
   "metadata": {},
   "outputs": [
    {
     "data": {
      "text/html": [
       "<div>\n",
       "<style scoped>\n",
       "    .dataframe tbody tr th:only-of-type {\n",
       "        vertical-align: middle;\n",
       "    }\n",
       "\n",
       "    .dataframe tbody tr th {\n",
       "        vertical-align: top;\n",
       "    }\n",
       "\n",
       "    .dataframe thead th {\n",
       "        text-align: right;\n",
       "    }\n",
       "</style>\n",
       "<table border=\"1\" class=\"dataframe\">\n",
       "  <thead>\n",
       "    <tr style=\"text-align: right;\">\n",
       "      <th></th>\n",
       "      <th>Dogs</th>\n",
       "      <th>Cats</th>\n",
       "      <th>The_Others</th>\n",
       "    </tr>\n",
       "  </thead>\n",
       "  <tbody>\n",
       "    <tr>\n",
       "      <th>2015</th>\n",
       "      <td>58220</td>\n",
       "      <td>20602</td>\n",
       "      <td>923</td>\n",
       "    </tr>\n",
       "  </tbody>\n",
       "</table>\n",
       "</div>"
      ],
      "text/plain": [
       "       Dogs   Cats  The_Others\n",
       "2015  58220  20602         923"
      ]
     },
     "execution_count": 5,
     "metadata": {},
     "output_type": "execute_result"
    }
   ],
   "source": [
    "# 전처리된 2015 데이터에서 유기동물 종류별 카운트\n",
    "kind = df_15['kind'].value_counts()  # 0:개, 1:고양이, 2:기타축종\n",
    "df_kind15 = pd.DataFrame([kind[0], kind[1], kind[2]], index = ['Dogs', 'Cats', 'The_Others'], columns=[2015])\n",
    "df_kind15 = df_kind15.T  # 행, 열 전환\n",
    "df_kind15"
   ]
  },
  {
   "cell_type": "code",
   "execution_count": 6,
   "metadata": {},
   "outputs": [
    {
     "data": {
      "text/html": [
       "<div>\n",
       "<style scoped>\n",
       "    .dataframe tbody tr th:only-of-type {\n",
       "        vertical-align: middle;\n",
       "    }\n",
       "\n",
       "    .dataframe tbody tr th {\n",
       "        vertical-align: top;\n",
       "    }\n",
       "\n",
       "    .dataframe thead th {\n",
       "        text-align: right;\n",
       "    }\n",
       "</style>\n",
       "<table border=\"1\" class=\"dataframe\">\n",
       "  <thead>\n",
       "    <tr style=\"text-align: right;\">\n",
       "      <th></th>\n",
       "      <th>Dogs</th>\n",
       "      <th>Cats</th>\n",
       "      <th>The_Others</th>\n",
       "    </tr>\n",
       "  </thead>\n",
       "  <tbody>\n",
       "    <tr>\n",
       "      <th>2016</th>\n",
       "      <td>62541</td>\n",
       "      <td>24539</td>\n",
       "      <td>1095</td>\n",
       "    </tr>\n",
       "  </tbody>\n",
       "</table>\n",
       "</div>"
      ],
      "text/plain": [
       "       Dogs   Cats  The_Others\n",
       "2016  62541  24539        1095"
      ]
     },
     "execution_count": 6,
     "metadata": {},
     "output_type": "execute_result"
    }
   ],
   "source": [
    "# 전처리된 2016 데이터에서 유기동물 종류별 카운트\n",
    "kind = df_16['kind'].value_counts()\n",
    "df_kind16 = pd.DataFrame([kind[0], kind[1], kind[2]], index = ['Dogs', 'Cats', 'The_Others'], columns=[2016])\n",
    "df_kind16 = df_kind16.T # 행, 열 전환\n",
    "df_kind16"
   ]
  },
  {
   "cell_type": "code",
   "execution_count": 7,
   "metadata": {
    "scrolled": true
   },
   "outputs": [
    {
     "data": {
      "text/html": [
       "<div>\n",
       "<style scoped>\n",
       "    .dataframe tbody tr th:only-of-type {\n",
       "        vertical-align: middle;\n",
       "    }\n",
       "\n",
       "    .dataframe tbody tr th {\n",
       "        vertical-align: top;\n",
       "    }\n",
       "\n",
       "    .dataframe thead th {\n",
       "        text-align: right;\n",
       "    }\n",
       "</style>\n",
       "<table border=\"1\" class=\"dataframe\">\n",
       "  <thead>\n",
       "    <tr style=\"text-align: right;\">\n",
       "      <th></th>\n",
       "      <th>Dogs</th>\n",
       "      <th>Cats</th>\n",
       "      <th>The_Others</th>\n",
       "    </tr>\n",
       "  </thead>\n",
       "  <tbody>\n",
       "    <tr>\n",
       "      <th>2017</th>\n",
       "      <td>73023</td>\n",
       "      <td>26543</td>\n",
       "      <td>1157</td>\n",
       "    </tr>\n",
       "  </tbody>\n",
       "</table>\n",
       "</div>"
      ],
      "text/plain": [
       "       Dogs   Cats  The_Others\n",
       "2017  73023  26543        1157"
      ]
     },
     "execution_count": 7,
     "metadata": {},
     "output_type": "execute_result"
    }
   ],
   "source": [
    "# 전처리된 2017 데이터에서 유기동물 종류별 카운트\n",
    "kind = df_17['kind'].value_counts()\n",
    "df_kind17 = pd.DataFrame([kind[0], kind[1], kind[2]], index = ['Dogs', 'Cats', 'The_Others'], columns=[2017])\n",
    "df_kind17 = df_kind17.T # 행, 열 전환\n",
    "df_kind17"
   ]
  },
  {
   "cell_type": "markdown",
   "metadata": {},
   "source": [
    "### 전처리 안 된 데이터"
   ]
  },
  {
   "cell_type": "code",
   "execution_count": 8,
   "metadata": {},
   "outputs": [
    {
     "data": {
      "text/html": [
       "<div>\n",
       "<style scoped>\n",
       "    .dataframe tbody tr th:only-of-type {\n",
       "        vertical-align: middle;\n",
       "    }\n",
       "\n",
       "    .dataframe tbody tr th {\n",
       "        vertical-align: top;\n",
       "    }\n",
       "\n",
       "    .dataframe thead th {\n",
       "        text-align: right;\n",
       "    }\n",
       "</style>\n",
       "<table border=\"1\" class=\"dataframe\">\n",
       "  <thead>\n",
       "    <tr style=\"text-align: right;\">\n",
       "      <th></th>\n",
       "      <th>Dogs</th>\n",
       "      <th>Cats</th>\n",
       "      <th>The_Others</th>\n",
       "    </tr>\n",
       "  </thead>\n",
       "  <tbody>\n",
       "    <tr>\n",
       "      <th>2009</th>\n",
       "      <td>17913</td>\n",
       "      <td>6897</td>\n",
       "      <td>133</td>\n",
       "    </tr>\n",
       "  </tbody>\n",
       "</table>\n",
       "</div>"
      ],
      "text/plain": [
       "       Dogs  Cats  The_Others\n",
       "2009  17913  6897         133"
      ]
     },
     "execution_count": 8,
     "metadata": {},
     "output_type": "execute_result"
    }
   ],
   "source": [
    "# 전처리되지 않은 2009 데이터에서 유기동물 종류별 카운트\n",
    "kind = df_09['kindCd'].str.extract('([가-힣]+)\\]', expand=False).value_counts()\n",
    "df_kind09 = pd.DataFrame([kind[0], kind[1], kind[2]], index = ['Dogs', 'Cats', 'The_Others'], columns=[2009])\n",
    "df_kind09 = df_kind09.T # 행, 열 전환\n",
    "df_kind09"
   ]
  },
  {
   "cell_type": "code",
   "execution_count": 9,
   "metadata": {},
   "outputs": [
    {
     "data": {
      "text/html": [
       "<div>\n",
       "<style scoped>\n",
       "    .dataframe tbody tr th:only-of-type {\n",
       "        vertical-align: middle;\n",
       "    }\n",
       "\n",
       "    .dataframe tbody tr th {\n",
       "        vertical-align: top;\n",
       "    }\n",
       "\n",
       "    .dataframe thead th {\n",
       "        text-align: right;\n",
       "    }\n",
       "</style>\n",
       "<table border=\"1\" class=\"dataframe\">\n",
       "  <thead>\n",
       "    <tr style=\"text-align: right;\">\n",
       "      <th></th>\n",
       "      <th>Dogs</th>\n",
       "      <th>Cats</th>\n",
       "      <th>The_Others</th>\n",
       "    </tr>\n",
       "  </thead>\n",
       "  <tbody>\n",
       "    <tr>\n",
       "      <th>2010</th>\n",
       "      <td>42142</td>\n",
       "      <td>19882</td>\n",
       "      <td>824</td>\n",
       "    </tr>\n",
       "  </tbody>\n",
       "</table>\n",
       "</div>"
      ],
      "text/plain": [
       "       Dogs   Cats  The_Others\n",
       "2010  42142  19882         824"
      ]
     },
     "execution_count": 9,
     "metadata": {},
     "output_type": "execute_result"
    }
   ],
   "source": [
    "# 전처리되지 않은 2010 데이터에서 유기동물 종류별 카운트\n",
    "kind = df_10['kindCd'].str.extract('([가-힣]+)\\]', expand=False).value_counts()\n",
    "df_kind10 = pd.DataFrame([kind[0], kind[1], kind[2]], index = ['Dogs', 'Cats', 'The_Others'], columns=[2010])\n",
    "df_kind10 = df_kind10.T # 행, 열 전환\n",
    "df_kind10"
   ]
  },
  {
   "cell_type": "code",
   "execution_count": 10,
   "metadata": {},
   "outputs": [
    {
     "data": {
      "text/html": [
       "<div>\n",
       "<style scoped>\n",
       "    .dataframe tbody tr th:only-of-type {\n",
       "        vertical-align: middle;\n",
       "    }\n",
       "\n",
       "    .dataframe tbody tr th {\n",
       "        vertical-align: top;\n",
       "    }\n",
       "\n",
       "    .dataframe thead th {\n",
       "        text-align: right;\n",
       "    }\n",
       "</style>\n",
       "<table border=\"1\" class=\"dataframe\">\n",
       "  <thead>\n",
       "    <tr style=\"text-align: right;\">\n",
       "      <th></th>\n",
       "      <th>Dogs</th>\n",
       "      <th>Cats</th>\n",
       "      <th>The_Others</th>\n",
       "    </tr>\n",
       "  </thead>\n",
       "  <tbody>\n",
       "    <tr>\n",
       "      <th>2011</th>\n",
       "      <td>38185</td>\n",
       "      <td>21522</td>\n",
       "      <td>896</td>\n",
       "    </tr>\n",
       "  </tbody>\n",
       "</table>\n",
       "</div>"
      ],
      "text/plain": [
       "       Dogs   Cats  The_Others\n",
       "2011  38185  21522         896"
      ]
     },
     "execution_count": 10,
     "metadata": {},
     "output_type": "execute_result"
    }
   ],
   "source": [
    "# 전처리되지 않은 2011 데이터에서 유기동물 종류별 카운트\n",
    "kind = df_11['kindCd'].str.extract('([가-힣]+)\\]', expand=False).value_counts()\n",
    "df_kind11 = pd.DataFrame([kind[0], kind[1], kind[2]], index = ['Dogs', 'Cats', 'The_Others'], columns=[2011])\n",
    "df_kind11 = df_kind11.T # 행, 열 전환\n",
    "df_kind11"
   ]
  },
  {
   "cell_type": "code",
   "execution_count": 11,
   "metadata": {},
   "outputs": [
    {
     "data": {
      "text/html": [
       "<div>\n",
       "<style scoped>\n",
       "    .dataframe tbody tr th:only-of-type {\n",
       "        vertical-align: middle;\n",
       "    }\n",
       "\n",
       "    .dataframe tbody tr th {\n",
       "        vertical-align: top;\n",
       "    }\n",
       "\n",
       "    .dataframe thead th {\n",
       "        text-align: right;\n",
       "    }\n",
       "</style>\n",
       "<table border=\"1\" class=\"dataframe\">\n",
       "  <thead>\n",
       "    <tr style=\"text-align: right;\">\n",
       "      <th></th>\n",
       "      <th>Dogs</th>\n",
       "      <th>Cats</th>\n",
       "      <th>The_Others</th>\n",
       "    </tr>\n",
       "  </thead>\n",
       "  <tbody>\n",
       "    <tr>\n",
       "      <th>2012</th>\n",
       "      <td>46351</td>\n",
       "      <td>29634</td>\n",
       "      <td>975</td>\n",
       "    </tr>\n",
       "  </tbody>\n",
       "</table>\n",
       "</div>"
      ],
      "text/plain": [
       "       Dogs   Cats  The_Others\n",
       "2012  46351  29634         975"
      ]
     },
     "execution_count": 11,
     "metadata": {},
     "output_type": "execute_result"
    }
   ],
   "source": [
    "# 전처리되지 않은 2012 데이터에서 유기동물 종류별 카운트\n",
    "kind = df_12['kindCd'].str.extract('([가-힣]+)\\]', expand=False).value_counts()\n",
    "df_kind12 = pd.DataFrame([kind[0], kind[1], kind[2]], index = ['Dogs', 'Cats', 'The_Others'], columns=[2012])\n",
    "df_kind12 = df_kind12.T # 행, 열 전환\n",
    "df_kind12"
   ]
  },
  {
   "cell_type": "code",
   "execution_count": 12,
   "metadata": {},
   "outputs": [
    {
     "data": {
      "text/html": [
       "<div>\n",
       "<style scoped>\n",
       "    .dataframe tbody tr th:only-of-type {\n",
       "        vertical-align: middle;\n",
       "    }\n",
       "\n",
       "    .dataframe tbody tr th {\n",
       "        vertical-align: top;\n",
       "    }\n",
       "\n",
       "    .dataframe thead th {\n",
       "        text-align: right;\n",
       "    }\n",
       "</style>\n",
       "<table border=\"1\" class=\"dataframe\">\n",
       "  <thead>\n",
       "    <tr style=\"text-align: right;\">\n",
       "      <th></th>\n",
       "      <th>Dogs</th>\n",
       "      <th>Cats</th>\n",
       "      <th>The_Others</th>\n",
       "    </tr>\n",
       "  </thead>\n",
       "  <tbody>\n",
       "    <tr>\n",
       "      <th>2013</th>\n",
       "      <td>57499</td>\n",
       "      <td>23322</td>\n",
       "      <td>1006</td>\n",
       "    </tr>\n",
       "  </tbody>\n",
       "</table>\n",
       "</div>"
      ],
      "text/plain": [
       "       Dogs   Cats  The_Others\n",
       "2013  57499  23322        1006"
      ]
     },
     "execution_count": 12,
     "metadata": {},
     "output_type": "execute_result"
    }
   ],
   "source": [
    "# 전처리되지 않은 2013 데이터에서 유기동물 종류별 카운트\n",
    "kind = df_13['kindCd'].str.extract('([가-힣]+)\\]', expand=False).value_counts()\n",
    "df_kind13 = pd.DataFrame([kind[0], kind[1], kind[2]], index = ['Dogs', 'Cats', 'The_Others'], columns=[2013])\n",
    "df_kind13 = df_kind13.T # 행, 열 전환\n",
    "df_kind13"
   ]
  },
  {
   "cell_type": "code",
   "execution_count": 13,
   "metadata": {},
   "outputs": [
    {
     "data": {
      "text/html": [
       "<div>\n",
       "<style scoped>\n",
       "    .dataframe tbody tr th:only-of-type {\n",
       "        vertical-align: middle;\n",
       "    }\n",
       "\n",
       "    .dataframe tbody tr th {\n",
       "        vertical-align: top;\n",
       "    }\n",
       "\n",
       "    .dataframe thead th {\n",
       "        text-align: right;\n",
       "    }\n",
       "</style>\n",
       "<table border=\"1\" class=\"dataframe\">\n",
       "  <thead>\n",
       "    <tr style=\"text-align: right;\">\n",
       "      <th></th>\n",
       "      <th>Dogs</th>\n",
       "      <th>Cats</th>\n",
       "      <th>The_Others</th>\n",
       "    </tr>\n",
       "  </thead>\n",
       "  <tbody>\n",
       "    <tr>\n",
       "      <th>2014</th>\n",
       "      <td>57882</td>\n",
       "      <td>20345</td>\n",
       "      <td>1023</td>\n",
       "    </tr>\n",
       "  </tbody>\n",
       "</table>\n",
       "</div>"
      ],
      "text/plain": [
       "       Dogs   Cats  The_Others\n",
       "2014  57882  20345        1023"
      ]
     },
     "execution_count": 13,
     "metadata": {},
     "output_type": "execute_result"
    }
   ],
   "source": [
    "# 전처리되지 않은 2014 데이터에서 유기동물 종류별 카운트\n",
    "kind = df_14['kindCd'].str.extract('([가-힣]+)\\]', expand=False).value_counts()\n",
    "df_kind14 = pd.DataFrame([kind[0], kind[1], kind[2]], index = ['Dogs', 'Cats', 'The_Others'], columns=[2014])\n",
    "df_kind14 = df_kind14.T # 행, 열 전환\n",
    "df_kind14"
   ]
  },
  {
   "cell_type": "markdown",
   "metadata": {},
   "source": [
    "## 데이터 합치기"
   ]
  },
  {
   "cell_type": "code",
   "execution_count": 14,
   "metadata": {
    "scrolled": false
   },
   "outputs": [
    {
     "data": {
      "text/html": [
       "<div>\n",
       "<style scoped>\n",
       "    .dataframe tbody tr th:only-of-type {\n",
       "        vertical-align: middle;\n",
       "    }\n",
       "\n",
       "    .dataframe tbody tr th {\n",
       "        vertical-align: top;\n",
       "    }\n",
       "\n",
       "    .dataframe thead th {\n",
       "        text-align: right;\n",
       "    }\n",
       "</style>\n",
       "<table border=\"1\" class=\"dataframe\">\n",
       "  <thead>\n",
       "    <tr style=\"text-align: right;\">\n",
       "      <th></th>\n",
       "      <th>Dogs</th>\n",
       "      <th>Cats</th>\n",
       "      <th>The_Others</th>\n",
       "    </tr>\n",
       "  </thead>\n",
       "  <tbody>\n",
       "    <tr>\n",
       "      <th>2009</th>\n",
       "      <td>17913</td>\n",
       "      <td>6897</td>\n",
       "      <td>133</td>\n",
       "    </tr>\n",
       "    <tr>\n",
       "      <th>2010</th>\n",
       "      <td>42142</td>\n",
       "      <td>19882</td>\n",
       "      <td>824</td>\n",
       "    </tr>\n",
       "    <tr>\n",
       "      <th>2011</th>\n",
       "      <td>38185</td>\n",
       "      <td>21522</td>\n",
       "      <td>896</td>\n",
       "    </tr>\n",
       "    <tr>\n",
       "      <th>2012</th>\n",
       "      <td>46351</td>\n",
       "      <td>29634</td>\n",
       "      <td>975</td>\n",
       "    </tr>\n",
       "    <tr>\n",
       "      <th>2013</th>\n",
       "      <td>57499</td>\n",
       "      <td>23322</td>\n",
       "      <td>1006</td>\n",
       "    </tr>\n",
       "    <tr>\n",
       "      <th>2014</th>\n",
       "      <td>57882</td>\n",
       "      <td>20345</td>\n",
       "      <td>1023</td>\n",
       "    </tr>\n",
       "    <tr>\n",
       "      <th>2015</th>\n",
       "      <td>58220</td>\n",
       "      <td>20602</td>\n",
       "      <td>923</td>\n",
       "    </tr>\n",
       "    <tr>\n",
       "      <th>2016</th>\n",
       "      <td>62541</td>\n",
       "      <td>24539</td>\n",
       "      <td>1095</td>\n",
       "    </tr>\n",
       "    <tr>\n",
       "      <th>2017</th>\n",
       "      <td>73023</td>\n",
       "      <td>26543</td>\n",
       "      <td>1157</td>\n",
       "    </tr>\n",
       "  </tbody>\n",
       "</table>\n",
       "</div>"
      ],
      "text/plain": [
       "       Dogs   Cats  The_Others\n",
       "2009  17913   6897         133\n",
       "2010  42142  19882         824\n",
       "2011  38185  21522         896\n",
       "2012  46351  29634         975\n",
       "2013  57499  23322        1006\n",
       "2014  57882  20345        1023\n",
       "2015  58220  20602         923\n",
       "2016  62541  24539        1095\n",
       "2017  73023  26543        1157"
      ]
     },
     "execution_count": 14,
     "metadata": {},
     "output_type": "execute_result"
    }
   ],
   "source": [
    "df_kind = pd.concat([df_kind09, df_kind10, df_kind11, df_kind12, df_kind13, df_kind14, df_kind15, df_kind16, df_kind17], axis=0)\n",
    "# 2015-2017표 합치기\n",
    "df_kind"
   ]
  },
  {
   "cell_type": "code",
   "execution_count": 15,
   "metadata": {},
   "outputs": [
    {
     "data": {
      "text/html": [
       "<div>\n",
       "<style scoped>\n",
       "    .dataframe tbody tr th:only-of-type {\n",
       "        vertical-align: middle;\n",
       "    }\n",
       "\n",
       "    .dataframe tbody tr th {\n",
       "        vertical-align: top;\n",
       "    }\n",
       "\n",
       "    .dataframe thead th {\n",
       "        text-align: right;\n",
       "    }\n",
       "</style>\n",
       "<table border=\"1\" class=\"dataframe\">\n",
       "  <thead>\n",
       "    <tr style=\"text-align: right;\">\n",
       "      <th></th>\n",
       "      <th>Dogs</th>\n",
       "      <th>Cats</th>\n",
       "      <th>The_Others</th>\n",
       "      <th>total</th>\n",
       "    </tr>\n",
       "  </thead>\n",
       "  <tbody>\n",
       "    <tr>\n",
       "      <th>2009</th>\n",
       "      <td>17913</td>\n",
       "      <td>6897</td>\n",
       "      <td>133</td>\n",
       "      <td>24943</td>\n",
       "    </tr>\n",
       "    <tr>\n",
       "      <th>2010</th>\n",
       "      <td>42142</td>\n",
       "      <td>19882</td>\n",
       "      <td>824</td>\n",
       "      <td>62848</td>\n",
       "    </tr>\n",
       "    <tr>\n",
       "      <th>2011</th>\n",
       "      <td>38185</td>\n",
       "      <td>21522</td>\n",
       "      <td>896</td>\n",
       "      <td>60603</td>\n",
       "    </tr>\n",
       "    <tr>\n",
       "      <th>2012</th>\n",
       "      <td>46351</td>\n",
       "      <td>29634</td>\n",
       "      <td>975</td>\n",
       "      <td>76960</td>\n",
       "    </tr>\n",
       "    <tr>\n",
       "      <th>2013</th>\n",
       "      <td>57499</td>\n",
       "      <td>23322</td>\n",
       "      <td>1006</td>\n",
       "      <td>81827</td>\n",
       "    </tr>\n",
       "    <tr>\n",
       "      <th>2014</th>\n",
       "      <td>57882</td>\n",
       "      <td>20345</td>\n",
       "      <td>1023</td>\n",
       "      <td>79250</td>\n",
       "    </tr>\n",
       "    <tr>\n",
       "      <th>2015</th>\n",
       "      <td>58220</td>\n",
       "      <td>20602</td>\n",
       "      <td>923</td>\n",
       "      <td>79745</td>\n",
       "    </tr>\n",
       "    <tr>\n",
       "      <th>2016</th>\n",
       "      <td>62541</td>\n",
       "      <td>24539</td>\n",
       "      <td>1095</td>\n",
       "      <td>88175</td>\n",
       "    </tr>\n",
       "    <tr>\n",
       "      <th>2017</th>\n",
       "      <td>73023</td>\n",
       "      <td>26543</td>\n",
       "      <td>1157</td>\n",
       "      <td>100723</td>\n",
       "    </tr>\n",
       "  </tbody>\n",
       "</table>\n",
       "</div>"
      ],
      "text/plain": [
       "       Dogs   Cats  The_Others   total\n",
       "2009  17913   6897         133   24943\n",
       "2010  42142  19882         824   62848\n",
       "2011  38185  21522         896   60603\n",
       "2012  46351  29634         975   76960\n",
       "2013  57499  23322        1006   81827\n",
       "2014  57882  20345        1023   79250\n",
       "2015  58220  20602         923   79745\n",
       "2016  62541  24539        1095   88175\n",
       "2017  73023  26543        1157  100723"
      ]
     },
     "execution_count": 15,
     "metadata": {},
     "output_type": "execute_result"
    }
   ],
   "source": [
    "df_kind = pd.merge(df_kind, df_total, right_index=True, left_index=True)\n",
    "# 연도별 유기동물 종류 + 연도별 총 건수\n",
    "df_kind"
   ]
  },
  {
   "cell_type": "markdown",
   "metadata": {},
   "source": [
    "## 연도별 유기동물 종류의 비율 확인 그래프"
   ]
  },
  {
   "cell_type": "code",
   "execution_count": null,
   "metadata": {},
   "outputs": [
    {
     "data": {
      "image/png": "[encoded data removed]",
      "text/plain": [
       "<Figure size 432x288 with 1 Axes>"
      ]
     },
     "metadata": {
      "needs_background": "light"
     },
     "output_type": "display_data"
    }
   ],
   "source": [
    "fig = plt.gcf()\n",
    "\n",
    "header = ['Dogs', 'Cats', 'The_Others']\n",
    "\n",
    "configs = df_kind['total']\n",
    "N = len(configs)\n",
    "ind = np.arange(N)\n",
    "\n",
    "p1 = plt.bar(ind, df_kind['Dogs'])  # 개\n",
    "p2 = plt.bar(ind, df_kind['Cats'], bottom=np.array(df_kind['Dogs']))  # 고양이\n",
    "p3 = plt.bar(ind, df_kind['The_Others'], bottom=np.array(df_kind['Dogs'])+np.array(df_kind['Cats']))  # 기타축종\n",
    "\n",
    "plt.legend((p1[0], p2[0], p3[0]),\n",
    "           (header[0], header[1], header[2]))\n",
    "plt.show()"
   ]
  },
  {
   "cell_type": "code",
   "execution_count": 17,
   "metadata": {
    "scrolled": true
   },
   "outputs": [
    {
     "data": {
      "text/plain": [
       "<matplotlib.axes._subplots.AxesSubplot at 0x1ed24127908>"
      ]
     },
     "execution_count": 17,
     "metadata": {},
     "output_type": "execute_result"
    },
    {
     "data": {
      "image/png": "[encoded data removed]",
      "text/plain": [
       "<Figure size 1080x1080 with 10 Axes>"
      ]
     },
     "metadata": {
      "needs_background": "light"
     },
     "output_type": "display_data"
    }
   ],
   "source": [
    "fig, axs = plt.subplots(5, 2, squeeze=False, figsize=(15, 15))\n",
    "df_kind.loc[2009].plot(kind='bar', ax=axs[0,0])\n",
    "df_kind.loc[2010].plot(kind='bar', ax=axs[0,1])\n",
    "df_kind.loc[2011].plot(kind='bar', ax=axs[1,0])\n",
    "df_kind.loc[2012].plot(kind='bar', ax=axs[1,1])\n",
    "df_kind.loc[2013].plot(kind='bar', ax=axs[2,0])\n",
    "df_kind.loc[2014].plot(kind='bar', ax=axs[2,1])\n",
    "df_kind.loc[2015].plot(kind='bar', ax=axs[3,0])\n",
    "df_kind.loc[2016].plot(kind='bar', ax=axs[3,1])\n",
    "df_kind.loc[2017].plot(kind='bar', ax=axs[4,0])\n",
    "# graph_2015 = df_kind['2015'].plot(kind='bar')"
   ]
  },
  {
   "cell_type": "markdown",
   "metadata": {},
   "source": [
    "## Ⅱ. 각 연도 유기동물 보호상태(2009-2017)"
   ]
  },
  {
   "cell_type": "code",
   "execution_count": 18,
   "metadata": {},
   "outputs": [
    {
     "name": "stdout",
     "output_type": "stream",
     "text": [
      "['종료(방사)' '종료(안락사)' '종료(입양)' '종료(자연사)' '종료(반환)' '보호중' '종료(기증)' '종료()'\n",
      " '종료(미포획)']\n",
      "['종료(안락사)' '종료(자연사)' '종료(입양)' '종료(반환)' '종료(기증)' '종료(방사)' '보호중' '종료(미포획)'\n",
      " '종료()']\n",
      "['종료(입양)' '종료(반환)' '종료(자연사)' '종료(안락사)' '보호중' '종료(방사)' '종료(기증)' '종료(미포획)']\n",
      "['종료(반환)' '보호중' '종료(안락사)' '종료(입양)' '종료(자연사)' '종료(방사)' '종료(기증)' '종료(미포획)']\n",
      "['종료(안락사)' '종료(자연사)' '종료(입양)' '종료(기증)' '종료(반환)' '종료(방사)' '보호중' '종료(미포획)'\n",
      " nan]\n",
      "['종료(안락사)' '종료(자연사)' '종료(입양)' '종료(반환)' '종료(기증)' '보호중' '종료(방사)' '종료(미포획)']\n",
      "['종료(안락사)' '종료(기증)' '종료(방사)' '종료(입양)' '종료(자연사)' '종료(반환)' '보호중' '종료(미포획)']\n",
      "['종료(입양)' '종료(안락사)' '종료(반환)' '종료(자연사)' '보호중' '종료(방사)' '종료(기증)' '종료(미포획)']\n",
      "['종료(자연사)' '종료(안락사)' '종료(반환)' '종료(입양)' '보호중' '종료(기증)' '종료(방사)' '종료(미포획)']\n"
     ]
    }
   ],
   "source": [
    "print(df_09['processState'].unique())\n",
    "print(df_10['processState'].unique())\n",
    "print(df_11['processState'].unique())\n",
    "print(df_12['processState'].unique())\n",
    "print(df_13['processState'].unique())\n",
    "print(df_14['processState'].unique())\n",
    "print(df_15['processState'].unique())\n",
    "print(df_16['processState'].unique())\n",
    "print(df_17['processState'].unique())"
   ]
  },
  {
   "cell_type": "code",
   "execution_count": 19,
   "metadata": {},
   "outputs": [
    {
     "data": {
      "text/plain": [
       "1"
      ]
     },
     "execution_count": 19,
     "metadata": {},
     "output_type": "execute_result"
    }
   ],
   "source": [
    "df_13['processState'].isnull().sum()\n",
    "# null 데이터가 1개 이므로 무시"
   ]
  },
  {
   "cell_type": "code",
   "execution_count": 20,
   "metadata": {},
   "outputs": [
    {
     "data": {
      "text/plain": [
       "2009     8775\n",
       "2010    19438\n",
       "2011    16907\n",
       "2012    19646\n",
       "2013    21547\n",
       "2014    19066\n",
       "2015    17001\n",
       "2016    18478\n",
       "2017    20722\n",
       "dtype: int64"
      ]
     },
     "execution_count": 20,
     "metadata": {},
     "output_type": "execute_result"
    }
   ],
   "source": [
    "mkilling_09 = (df_09['processState'] == '종료(안락사)').sum()\n",
    "mkilling_10 = (df_10['processState'] == '종료(안락사)').sum()\n",
    "mkilling_11 = (df_11['processState'] == '종료(안락사)').sum()\n",
    "mkilling_12 = (df_12['processState'] == '종료(안락사)').sum()\n",
    "mkilling_13 = (df_13['processState'] == '종료(안락사)').sum()\n",
    "mkilling_14 = (df_14['processState'] == '종료(안락사)').sum()\n",
    "mkilling_15 = (df_15['processState'] == '종료(안락사)').sum()\n",
    "mkilling_16 = (df_16['processState'] == '종료(안락사)').sum()\n",
    "mkilling_17 = (df_17['processState'] == '종료(안락사)').sum()\n",
    "df_mkilling = pd.Series([mkilling_09, mkilling_10, mkilling_11, mkilling_12, mkilling_13, mkilling_14,\n",
    "                      mkilling_15, mkilling_16, mkilling_17], index=range(2009,2018))\n",
    "df_mkilling"
   ]
  },
  {
   "cell_type": "code",
   "execution_count": 21,
   "metadata": {},
   "outputs": [
    {
     "data": {
      "text/plain": [
       "<matplotlib.axes._subplots.AxesSubplot at 0x1ed24237160>"
      ]
     },
     "execution_count": 21,
     "metadata": {},
     "output_type": "execute_result"
    },
    {
     "data": {
      "image/png": "[encoded data removed]",
      "text/plain": [
       "<Figure size 432x288 with 1 Axes>"
      ]
     },
     "metadata": {
      "needs_background": "light"
     },
     "output_type": "display_data"
    }
   ],
   "source": [
    "df_mkilling.plot(kind='bar')"
   ]
  },
  {
   "cell_type": "code",
   "execution_count": 22,
   "metadata": {},
   "outputs": [
    {
     "data": {
      "text/plain": [
       "2009     3949\n",
       "2010    13150\n",
       "2011    13453\n",
       "2012    19130\n",
       "2013    20395\n",
       "2014    18713\n",
       "2015    19328\n",
       "2016    22817\n",
       "2017    27427\n",
       "dtype: int64"
      ]
     },
     "execution_count": 22,
     "metadata": {},
     "output_type": "execute_result"
    }
   ],
   "source": [
    "death_09 = (df_09['processState'] == '종료(자연사)').sum()\n",
    "death_10 = (df_10['processState'] == '종료(자연사)').sum()\n",
    "death_11 = (df_11['processState'] == '종료(자연사)').sum()\n",
    "death_12 = (df_12['processState'] == '종료(자연사)').sum()\n",
    "death_13 = (df_13['processState'] == '종료(자연사)').sum()\n",
    "death_14 = (df_14['processState'] == '종료(자연사)').sum()\n",
    "death_15 = (df_15['processState'] == '종료(자연사)').sum()\n",
    "death_16 = (df_16['processState'] == '종료(자연사)').sum()\n",
    "death_17 = (df_17['processState'] == '종료(자연사)').sum()\n",
    "df_death = pd.Series([death_09, death_10, death_11, death_12, death_13, death_14,\n",
    "                      death_15, death_16, death_17], index=range(2009,2018))\n",
    "df_death"
   ]
  },
  {
   "cell_type": "code",
   "execution_count": 23,
   "metadata": {},
   "outputs": [
    {
     "data": {
      "text/plain": [
       "<matplotlib.axes._subplots.AxesSubplot at 0x1ed242ebac8>"
      ]
     },
     "execution_count": 23,
     "metadata": {},
     "output_type": "execute_result"
    },
    {
     "data": {
      "image/png": "[encoded data removed]",
      "text/plain": [
       "<Figure size 432x288 with 1 Axes>"
      ]
     },
     "metadata": {
      "needs_background": "light"
     },
     "output_type": "display_data"
    }
   ],
   "source": [
    "df_death.plot(kind='bar')"
   ]
  },
  {
   "cell_type": "code",
   "execution_count": 24,
   "metadata": {},
   "outputs": [
    {
     "data": {
      "text/plain": [
       "2009     6573\n",
       "2010    16187\n",
       "2011    15543\n",
       "2012    20707\n",
       "2013    25183\n",
       "2014    26446\n",
       "2015    27764\n",
       "2016    28823\n",
       "2017    31120\n",
       "dtype: int64"
      ]
     },
     "execution_count": 24,
     "metadata": {},
     "output_type": "execute_result"
    }
   ],
   "source": [
    "adopt_09 = (df_09['processState'] == '종료(입양)').sum()\n",
    "adopt_10 = (df_10['processState'] == '종료(입양)').sum()\n",
    "adopt_11 = (df_11['processState'] == '종료(입양)').sum()\n",
    "adopt_12 = (df_12['processState'] == '종료(입양)').sum()\n",
    "adopt_13 = (df_13['processState'] == '종료(입양)').sum()\n",
    "adopt_14 = (df_14['processState'] == '종료(입양)').sum()\n",
    "adopt_15 = (df_15['processState'] == '종료(입양)').sum()\n",
    "adopt_16 = (df_16['processState'] == '종료(입양)').sum()\n",
    "adopt_17 = (df_17['processState'] == '종료(입양)').sum()\n",
    "df_adopt = pd.Series([adopt_09, adopt_10, adopt_11, adopt_12, adopt_13, adopt_14,\n",
    "                      adopt_15, adopt_16, adopt_17], index=range(2009,2018))\n",
    "df_adopt"
   ]
  },
  {
   "cell_type": "code",
   "execution_count": 25,
   "metadata": {},
   "outputs": [
    {
     "data": {
      "text/plain": [
       "<matplotlib.axes._subplots.AxesSubplot at 0x1ed24358a90>"
      ]
     },
     "execution_count": 25,
     "metadata": {},
     "output_type": "execute_result"
    },
    {
     "data": {
      "image/png": "[encoded data removed]",
      "text/plain": [
       "<Figure size 432x288 with 1 Axes>"
      ]
     },
     "metadata": {
      "needs_background": "light"
     },
     "output_type": "display_data"
    }
   ],
   "source": [
    "df_adopt.plot(kind='bar')"
   ]
  },
  {
   "cell_type": "code",
   "execution_count": 26,
   "metadata": {},
   "outputs": [
    {
     "data": {
      "text/plain": [
       "2009     162\n",
       "2010    1690\n",
       "2011     700\n",
       "2012     620\n",
       "2013     749\n",
       "2014    1163\n",
       "2015    1366\n",
       "2016    1691\n",
       "2017    2077\n",
       "dtype: int64"
      ]
     },
     "execution_count": 26,
     "metadata": {},
     "output_type": "execute_result"
    }
   ],
   "source": [
    "donate_09 = (df_09['processState'] == '종료(기증)').sum()\n",
    "donate_10 = (df_10['processState'] == '종료(기증)').sum()\n",
    "donate_11 = (df_11['processState'] == '종료(기증)').sum()\n",
    "donate_12 = (df_12['processState'] == '종료(기증)').sum()\n",
    "donate_13 = (df_13['processState'] == '종료(기증)').sum()\n",
    "donate_14 = (df_14['processState'] == '종료(기증)').sum()\n",
    "donate_15 = (df_15['processState'] == '종료(기증)').sum()\n",
    "donate_16 = (df_16['processState'] == '종료(기증)').sum()\n",
    "donate_17 = (df_17['processState'] == '종료(기증)').sum()\n",
    "df_donate = pd.Series([donate_09, donate_10, donate_11, donate_12, donate_13, donate_14,\n",
    "                      donate_15, donate_16, donate_17], index=range(2009,2018))\n",
    "df_donate"
   ]
  },
  {
   "cell_type": "code",
   "execution_count": 27,
   "metadata": {
    "scrolled": true
   },
   "outputs": [
    {
     "data": {
      "text/plain": [
       "<matplotlib.axes._subplots.AxesSubplot at 0x1ed2432a128>"
      ]
     },
     "execution_count": 27,
     "metadata": {},
     "output_type": "execute_result"
    },
    {
     "data": {
      "image/png": "[encoded data removed]",
      "text/plain": [
       "<Figure size 432x288 with 1 Axes>"
      ]
     },
     "metadata": {
      "needs_background": "light"
     },
     "output_type": "display_data"
    }
   ],
   "source": [
    "df_donate.plot(kind='bar')"
   ]
  },
  {
   "cell_type": "code",
   "execution_count": 28,
   "metadata": {},
   "outputs": [
    {
     "data": {
      "text/plain": [
       "2009     1343\n",
       "2010     4609\n",
       "2011     5301\n",
       "2012     6947\n",
       "2013     9246\n",
       "2014    10398\n",
       "2015    11936\n",
       "2016    13647\n",
       "2017    14731\n",
       "dtype: int64"
      ]
     },
     "execution_count": 28,
     "metadata": {},
     "output_type": "execute_result"
    }
   ],
   "source": [
    "return_09 = (df_09['processState'] == '종료(반환)').sum()\n",
    "return_10 = (df_10['processState'] == '종료(반환)').sum()\n",
    "return_11 = (df_11['processState'] == '종료(반환)').sum()\n",
    "return_12 = (df_12['processState'] == '종료(반환)').sum()\n",
    "return_13 = (df_13['processState'] == '종료(반환)').sum()\n",
    "return_14 = (df_14['processState'] == '종료(반환)').sum()\n",
    "return_15 = (df_15['processState'] == '종료(반환)').sum()\n",
    "return_16 = (df_16['processState'] == '종료(반환)').sum()\n",
    "return_17 = (df_17['processState'] == '종료(반환)').sum()\n",
    "df_return = pd.Series([return_09, return_10, return_11, return_12, return_13, return_14,\n",
    "                      return_15, return_16, return_17], index=range(2009,2018))\n",
    "df_return"
   ]
  },
  {
   "cell_type": "code",
   "execution_count": 29,
   "metadata": {
    "scrolled": true
   },
   "outputs": [
    {
     "data": {
      "text/plain": [
       "<matplotlib.axes._subplots.AxesSubplot at 0x1ed26c02668>"
      ]
     },
     "execution_count": 29,
     "metadata": {},
     "output_type": "execute_result"
    },
    {
     "data": {
      "image/png": "[encoded data removed]",
      "text/plain": [
       "<Figure size 432x288 with 1 Axes>"
      ]
     },
     "metadata": {
      "needs_background": "light"
     },
     "output_type": "display_data"
    }
   ],
   "source": [
    "df_return.plot(kind='bar')"
   ]
  },
  {
   "cell_type": "code",
   "execution_count": 30,
   "metadata": {},
   "outputs": [
    {
     "data": {
      "text/plain": [
       "2009    2638\n",
       "2010    2108\n",
       "2011    3766\n",
       "2012    6371\n",
       "2013    2670\n",
       "2014    1082\n",
       "2015     856\n",
       "2016     915\n",
       "2017     933\n",
       "dtype: int64"
      ]
     },
     "execution_count": 30,
     "metadata": {},
     "output_type": "execute_result"
    }
   ],
   "source": [
    "pasture_09 = (df_09['processState'] == '종료(방사)').sum()\n",
    "pasture_10 = (df_10['processState'] == '종료(방사)').sum()\n",
    "pasture_11 = (df_11['processState'] == '종료(방사)').sum()\n",
    "pasture_12 = (df_12['processState'] == '종료(방사)').sum()\n",
    "pasture_13 = (df_13['processState'] == '종료(방사)').sum()\n",
    "pasture_14 = (df_14['processState'] == '종료(방사)').sum()\n",
    "pasture_15 = (df_15['processState'] == '종료(방사)').sum()\n",
    "pasture_16 = (df_16['processState'] == '종료(방사)').sum()\n",
    "pasture_17 = (df_17['processState'] == '종료(방사)').sum()\n",
    "df_pasture = pd.Series([pasture_09, pasture_10, pasture_11, pasture_12, pasture_13, pasture_14,\n",
    "                      pasture_15, pasture_16, pasture_17], index=range(2009,2018))\n",
    "df_pasture"
   ]
  },
  {
   "cell_type": "code",
   "execution_count": 31,
   "metadata": {
    "scrolled": true
   },
   "outputs": [
    {
     "data": {
      "text/plain": [
       "<matplotlib.axes._subplots.AxesSubplot at 0x1ed2421e1d0>"
      ]
     },
     "execution_count": 31,
     "metadata": {},
     "output_type": "execute_result"
    },
    {
     "data": {
      "image/png": "[encoded data removed]",
      "text/plain": [
       "<Figure size 432x288 with 1 Axes>"
      ]
     },
     "metadata": {
      "needs_background": "light"
     },
     "output_type": "display_data"
    }
   ],
   "source": [
    "df_pasture.plot(kind='bar')"
   ]
  },
  {
   "cell_type": "code",
   "execution_count": 32,
   "metadata": {},
   "outputs": [
    {
     "data": {
      "text/plain": [
       "2009    1445\n",
       "2010    5258\n",
       "2011    4876\n",
       "2012    3502\n",
       "2013    1877\n",
       "2014    2312\n",
       "2015    1455\n",
       "2016    1741\n",
       "2017    3635\n",
       "dtype: int64"
      ]
     },
     "execution_count": 32,
     "metadata": {},
     "output_type": "execute_result"
    }
   ],
   "source": [
    "shelter_09 = (df_09['processState'] == '보호중').sum()\n",
    "shelter_10 = (df_10['processState'] == '보호중').sum()\n",
    "shelter_11 = (df_11['processState'] == '보호중').sum()\n",
    "shelter_12 = (df_12['processState'] == '보호중').sum()\n",
    "shelter_13 = (df_13['processState'] == '보호중').sum()\n",
    "shelter_14 = (df_14['processState'] == '보호중').sum()\n",
    "shelter_15 = (df_15['processState'] == '보호중').sum()\n",
    "shelter_16 = (df_16['processState'] == '보호중').sum()\n",
    "shelter_17 = (df_17['processState'] == '보호중').sum()\n",
    "df_shelter = pd.Series([shelter_09, shelter_10, shelter_11, shelter_12, shelter_13, shelter_14,\n",
    "                      shelter_15, shelter_16, shelter_17], index=range(2009,2018))\n",
    "df_shelter"
   ]
  },
  {
   "cell_type": "code",
   "execution_count": 33,
   "metadata": {
    "scrolled": true
   },
   "outputs": [
    {
     "data": {
      "text/plain": [
       "<matplotlib.axes._subplots.AxesSubplot at 0x1ed26d1ce10>"
      ]
     },
     "execution_count": 33,
     "metadata": {},
     "output_type": "execute_result"
    },
    {
     "data": {
      "image/png": "[encoded data removed]",
      "text/plain": [
       "<Figure size 432x288 with 1 Axes>"
      ]
     },
     "metadata": {
      "needs_background": "light"
     },
     "output_type": "display_data"
    }
   ],
   "source": [
    "df_shelter.plot(kind='bar')"
   ]
  },
  {
   "cell_type": "code",
   "execution_count": 34,
   "metadata": {},
   "outputs": [
    {
     "data": {
      "text/plain": [
       "2009     39\n",
       "2010    391\n",
       "2011     57\n",
       "2012     37\n",
       "2013    159\n",
       "2014     70\n",
       "2015     39\n",
       "2016     63\n",
       "2017     78\n",
       "dtype: int64"
      ]
     },
     "execution_count": 34,
     "metadata": {},
     "output_type": "execute_result"
    }
   ],
   "source": [
    "ncapture_09 = (df_09['processState'] == '종료(미포획)').sum()\n",
    "ncapture_10 = (df_10['processState'] == '종료(미포획)').sum()\n",
    "ncapture_11 = (df_11['processState'] == '종료(미포획)').sum()\n",
    "ncapture_12 = (df_12['processState'] == '종료(미포획)').sum()\n",
    "ncapture_13 = (df_13['processState'] == '종료(미포획)').sum()\n",
    "ncapture_14 = (df_14['processState'] == '종료(미포획)').sum()\n",
    "ncapture_15 = (df_15['processState'] == '종료(미포획)').sum()\n",
    "ncapture_16 = (df_16['processState'] == '종료(미포획)').sum()\n",
    "ncapture_17 = (df_17['processState'] == '종료(미포획)').sum()\n",
    "df_ncapture = pd.Series([ncapture_09, ncapture_10, ncapture_11, ncapture_12, ncapture_13, ncapture_14,\n",
    "                      ncapture_15, ncapture_16, ncapture_17], index=range(2009,2018))\n",
    "df_ncapture"
   ]
  },
  {
   "cell_type": "code",
   "execution_count": 35,
   "metadata": {
    "scrolled": true
   },
   "outputs": [
    {
     "data": {
      "text/plain": [
       "<matplotlib.axes._subplots.AxesSubplot at 0x1ed26dd2b70>"
      ]
     },
     "execution_count": 35,
     "metadata": {},
     "output_type": "execute_result"
    },
    {
     "data": {
      "image/png": "[encoded data removed]",
      "text/plain": [
       "<Figure size 432x288 with 1 Axes>"
      ]
     },
     "metadata": {
      "needs_background": "light"
     },
     "output_type": "display_data"
    }
   ],
   "source": [
    "df_ncapture.plot(kind='bar')"
   ]
  },
  {
   "cell_type": "code",
   "execution_count": 36,
   "metadata": {},
   "outputs": [
    {
     "data": {
      "text/plain": [
       "2009    19\n",
       "2010    17\n",
       "dtype: int64"
      ]
     },
     "execution_count": 36,
     "metadata": {},
     "output_type": "execute_result"
    }
   ],
   "source": [
    "end_09 = (df_09['processState'] == '종료()').sum()\n",
    "end_10 = (df_10['processState'] == '종료()').sum()\n",
    "df_end = pd.Series([end_09, end_10], index=range(2009, 2011))\n",
    "df_end"
   ]
  },
  {
   "cell_type": "code",
   "execution_count": 37,
   "metadata": {},
   "outputs": [
    {
     "data": {
      "text/plain": [
       "<matplotlib.axes._subplots.AxesSubplot at 0x1ed26e4d860>"
      ]
     },
     "execution_count": 37,
     "metadata": {},
     "output_type": "execute_result"
    },
    {
     "data": {
      "image/png": "[encoded data removed]",
      "text/plain": [
       "<Figure size 432x288 with 1 Axes>"
      ]
     },
     "metadata": {
      "needs_background": "light"
     },
     "output_type": "display_data"
    }
   ],
   "source": [
    "df_end.plot(kind='bar')"
   ]
  },
  {
   "cell_type": "markdown",
   "metadata": {},
   "source": [
    "## 데이터 합치기"
   ]
  },
  {
   "cell_type": "code",
   "execution_count": 38,
   "metadata": {
    "scrolled": true
   },
   "outputs": [
    {
     "data": {
      "text/html": [
       "<div>\n",
       "<style scoped>\n",
       "    .dataframe tbody tr th:only-of-type {\n",
       "        vertical-align: middle;\n",
       "    }\n",
       "\n",
       "    .dataframe tbody tr th {\n",
       "        vertical-align: top;\n",
       "    }\n",
       "\n",
       "    .dataframe thead th {\n",
       "        text-align: right;\n",
       "    }\n",
       "</style>\n",
       "<table border=\"1\" class=\"dataframe\">\n",
       "  <thead>\n",
       "    <tr style=\"text-align: right;\">\n",
       "      <th></th>\n",
       "      <th>안락사</th>\n",
       "      <th>자연사</th>\n",
       "      <th>입양</th>\n",
       "      <th>기증</th>\n",
       "      <th>반환</th>\n",
       "      <th>방사</th>\n",
       "      <th>보호중</th>\n",
       "      <th>미포획</th>\n",
       "      <th>종료()</th>\n",
       "    </tr>\n",
       "  </thead>\n",
       "  <tbody>\n",
       "    <tr>\n",
       "      <th>2009</th>\n",
       "      <td>8775</td>\n",
       "      <td>3949</td>\n",
       "      <td>6573</td>\n",
       "      <td>162</td>\n",
       "      <td>1343</td>\n",
       "      <td>2638</td>\n",
       "      <td>1445</td>\n",
       "      <td>39</td>\n",
       "      <td>19.0</td>\n",
       "    </tr>\n",
       "    <tr>\n",
       "      <th>2010</th>\n",
       "      <td>19438</td>\n",
       "      <td>13150</td>\n",
       "      <td>16187</td>\n",
       "      <td>1690</td>\n",
       "      <td>4609</td>\n",
       "      <td>2108</td>\n",
       "      <td>5258</td>\n",
       "      <td>391</td>\n",
       "      <td>17.0</td>\n",
       "    </tr>\n",
       "    <tr>\n",
       "      <th>2011</th>\n",
       "      <td>16907</td>\n",
       "      <td>13453</td>\n",
       "      <td>15543</td>\n",
       "      <td>700</td>\n",
       "      <td>5301</td>\n",
       "      <td>3766</td>\n",
       "      <td>4876</td>\n",
       "      <td>57</td>\n",
       "      <td>NaN</td>\n",
       "    </tr>\n",
       "    <tr>\n",
       "      <th>2012</th>\n",
       "      <td>19646</td>\n",
       "      <td>19130</td>\n",
       "      <td>20707</td>\n",
       "      <td>620</td>\n",
       "      <td>6947</td>\n",
       "      <td>6371</td>\n",
       "      <td>3502</td>\n",
       "      <td>37</td>\n",
       "      <td>NaN</td>\n",
       "    </tr>\n",
       "    <tr>\n",
       "      <th>2013</th>\n",
       "      <td>21547</td>\n",
       "      <td>20395</td>\n",
       "      <td>25183</td>\n",
       "      <td>749</td>\n",
       "      <td>9246</td>\n",
       "      <td>2670</td>\n",
       "      <td>1877</td>\n",
       "      <td>159</td>\n",
       "      <td>NaN</td>\n",
       "    </tr>\n",
       "    <tr>\n",
       "      <th>2014</th>\n",
       "      <td>19066</td>\n",
       "      <td>18713</td>\n",
       "      <td>26446</td>\n",
       "      <td>1163</td>\n",
       "      <td>10398</td>\n",
       "      <td>1082</td>\n",
       "      <td>2312</td>\n",
       "      <td>70</td>\n",
       "      <td>NaN</td>\n",
       "    </tr>\n",
       "    <tr>\n",
       "      <th>2015</th>\n",
       "      <td>17001</td>\n",
       "      <td>19328</td>\n",
       "      <td>27764</td>\n",
       "      <td>1366</td>\n",
       "      <td>11936</td>\n",
       "      <td>856</td>\n",
       "      <td>1455</td>\n",
       "      <td>39</td>\n",
       "      <td>NaN</td>\n",
       "    </tr>\n",
       "    <tr>\n",
       "      <th>2016</th>\n",
       "      <td>18478</td>\n",
       "      <td>22817</td>\n",
       "      <td>28823</td>\n",
       "      <td>1691</td>\n",
       "      <td>13647</td>\n",
       "      <td>915</td>\n",
       "      <td>1741</td>\n",
       "      <td>63</td>\n",
       "      <td>NaN</td>\n",
       "    </tr>\n",
       "    <tr>\n",
       "      <th>2017</th>\n",
       "      <td>20722</td>\n",
       "      <td>27427</td>\n",
       "      <td>31120</td>\n",
       "      <td>2077</td>\n",
       "      <td>14731</td>\n",
       "      <td>933</td>\n",
       "      <td>3635</td>\n",
       "      <td>78</td>\n",
       "      <td>NaN</td>\n",
       "    </tr>\n",
       "  </tbody>\n",
       "</table>\n",
       "</div>"
      ],
      "text/plain": [
       "        안락사    자연사     입양    기증     반환    방사   보호중  미포획  종료()\n",
       "2009   8775   3949   6573   162   1343  2638  1445   39  19.0\n",
       "2010  19438  13150  16187  1690   4609  2108  5258  391  17.0\n",
       "2011  16907  13453  15543   700   5301  3766  4876   57   NaN\n",
       "2012  19646  19130  20707   620   6947  6371  3502   37   NaN\n",
       "2013  21547  20395  25183   749   9246  2670  1877  159   NaN\n",
       "2014  19066  18713  26446  1163  10398  1082  2312   70   NaN\n",
       "2015  17001  19328  27764  1366  11936   856  1455   39   NaN\n",
       "2016  18478  22817  28823  1691  13647   915  1741   63   NaN\n",
       "2017  20722  27427  31120  2077  14731   933  3635   78   NaN"
      ]
     },
     "execution_count": 38,
     "metadata": {},
     "output_type": "execute_result"
    }
   ],
   "source": [
    "df_state = pd.concat([ df_mkilling, df_death, df_adopt, df_donate, df_return, df_pasture, df_shelter, df_ncapture, df_end],\n",
    "                     keys=('안락사', '자연사', '입양', '기증', '반환', '방사', '보호중', '미포획', '종료()'), axis=1)  # 표 합치기\n",
    "df_state"
   ]
  },
  {
   "cell_type": "code",
   "execution_count": 39,
   "metadata": {},
   "outputs": [
    {
     "data": {
      "text/html": [
       "<div>\n",
       "<style scoped>\n",
       "    .dataframe tbody tr th:only-of-type {\n",
       "        vertical-align: middle;\n",
       "    }\n",
       "\n",
       "    .dataframe tbody tr th {\n",
       "        vertical-align: top;\n",
       "    }\n",
       "\n",
       "    .dataframe thead th {\n",
       "        text-align: right;\n",
       "    }\n",
       "</style>\n",
       "<table border=\"1\" class=\"dataframe\">\n",
       "  <thead>\n",
       "    <tr style=\"text-align: right;\">\n",
       "      <th></th>\n",
       "      <th>안락사</th>\n",
       "      <th>자연사</th>\n",
       "      <th>입양</th>\n",
       "      <th>기증</th>\n",
       "      <th>반환</th>\n",
       "      <th>방사</th>\n",
       "      <th>보호중</th>\n",
       "      <th>미포획</th>\n",
       "      <th>종료()</th>\n",
       "      <th>total</th>\n",
       "    </tr>\n",
       "  </thead>\n",
       "  <tbody>\n",
       "    <tr>\n",
       "      <th>2009</th>\n",
       "      <td>8775</td>\n",
       "      <td>3949</td>\n",
       "      <td>6573</td>\n",
       "      <td>162</td>\n",
       "      <td>1343</td>\n",
       "      <td>2638</td>\n",
       "      <td>1445</td>\n",
       "      <td>39</td>\n",
       "      <td>19.0</td>\n",
       "      <td>24943</td>\n",
       "    </tr>\n",
       "    <tr>\n",
       "      <th>2010</th>\n",
       "      <td>19438</td>\n",
       "      <td>13150</td>\n",
       "      <td>16187</td>\n",
       "      <td>1690</td>\n",
       "      <td>4609</td>\n",
       "      <td>2108</td>\n",
       "      <td>5258</td>\n",
       "      <td>391</td>\n",
       "      <td>17.0</td>\n",
       "      <td>62848</td>\n",
       "    </tr>\n",
       "    <tr>\n",
       "      <th>2011</th>\n",
       "      <td>16907</td>\n",
       "      <td>13453</td>\n",
       "      <td>15543</td>\n",
       "      <td>700</td>\n",
       "      <td>5301</td>\n",
       "      <td>3766</td>\n",
       "      <td>4876</td>\n",
       "      <td>57</td>\n",
       "      <td>NaN</td>\n",
       "      <td>60603</td>\n",
       "    </tr>\n",
       "    <tr>\n",
       "      <th>2012</th>\n",
       "      <td>19646</td>\n",
       "      <td>19130</td>\n",
       "      <td>20707</td>\n",
       "      <td>620</td>\n",
       "      <td>6947</td>\n",
       "      <td>6371</td>\n",
       "      <td>3502</td>\n",
       "      <td>37</td>\n",
       "      <td>NaN</td>\n",
       "      <td>76960</td>\n",
       "    </tr>\n",
       "    <tr>\n",
       "      <th>2013</th>\n",
       "      <td>21547</td>\n",
       "      <td>20395</td>\n",
       "      <td>25183</td>\n",
       "      <td>749</td>\n",
       "      <td>9246</td>\n",
       "      <td>2670</td>\n",
       "      <td>1877</td>\n",
       "      <td>159</td>\n",
       "      <td>NaN</td>\n",
       "      <td>81827</td>\n",
       "    </tr>\n",
       "    <tr>\n",
       "      <th>2014</th>\n",
       "      <td>19066</td>\n",
       "      <td>18713</td>\n",
       "      <td>26446</td>\n",
       "      <td>1163</td>\n",
       "      <td>10398</td>\n",
       "      <td>1082</td>\n",
       "      <td>2312</td>\n",
       "      <td>70</td>\n",
       "      <td>NaN</td>\n",
       "      <td>79250</td>\n",
       "    </tr>\n",
       "    <tr>\n",
       "      <th>2015</th>\n",
       "      <td>17001</td>\n",
       "      <td>19328</td>\n",
       "      <td>27764</td>\n",
       "      <td>1366</td>\n",
       "      <td>11936</td>\n",
       "      <td>856</td>\n",
       "      <td>1455</td>\n",
       "      <td>39</td>\n",
       "      <td>NaN</td>\n",
       "      <td>79745</td>\n",
       "    </tr>\n",
       "    <tr>\n",
       "      <th>2016</th>\n",
       "      <td>18478</td>\n",
       "      <td>22817</td>\n",
       "      <td>28823</td>\n",
       "      <td>1691</td>\n",
       "      <td>13647</td>\n",
       "      <td>915</td>\n",
       "      <td>1741</td>\n",
       "      <td>63</td>\n",
       "      <td>NaN</td>\n",
       "      <td>88175</td>\n",
       "    </tr>\n",
       "    <tr>\n",
       "      <th>2017</th>\n",
       "      <td>20722</td>\n",
       "      <td>27427</td>\n",
       "      <td>31120</td>\n",
       "      <td>2077</td>\n",
       "      <td>14731</td>\n",
       "      <td>933</td>\n",
       "      <td>3635</td>\n",
       "      <td>78</td>\n",
       "      <td>NaN</td>\n",
       "      <td>100723</td>\n",
       "    </tr>\n",
       "  </tbody>\n",
       "</table>\n",
       "</div>"
      ],
      "text/plain": [
       "        안락사    자연사     입양    기증     반환    방사   보호중  미포획  종료()   total\n",
       "2009   8775   3949   6573   162   1343  2638  1445   39  19.0   24943\n",
       "2010  19438  13150  16187  1690   4609  2108  5258  391  17.0   62848\n",
       "2011  16907  13453  15543   700   5301  3766  4876   57   NaN   60603\n",
       "2012  19646  19130  20707   620   6947  6371  3502   37   NaN   76960\n",
       "2013  21547  20395  25183   749   9246  2670  1877  159   NaN   81827\n",
       "2014  19066  18713  26446  1163  10398  1082  2312   70   NaN   79250\n",
       "2015  17001  19328  27764  1366  11936   856  1455   39   NaN   79745\n",
       "2016  18478  22817  28823  1691  13647   915  1741   63   NaN   88175\n",
       "2017  20722  27427  31120  2077  14731   933  3635   78   NaN  100723"
      ]
     },
     "execution_count": 39,
     "metadata": {},
     "output_type": "execute_result"
    }
   ],
   "source": [
    "df_state = pd.merge(df_state, df_total, right_index=True, left_index=True)\n",
    "# 연도별 유기동물 보호상태 + 연도별 총 건수\n",
    "df_state"
   ]
  },
  {
   "cell_type": "markdown",
   "metadata": {},
   "source": [
    "## 각 연도별 유기동물 보호상태의 비율확인 그래프"
   ]
  },
  {
   "cell_type": "code",
   "execution_count": 40,
   "metadata": {},
   "outputs": [
    {
     "data": {
      "image/png": "[encoded data removed]",
      "text/plain": [
       "<Figure size 432x288 with 1 Axes>"
      ]
     },
     "metadata": {
      "needs_background": "light"
     },
     "output_type": "display_data"
    }
   ],
   "source": [
    "fig = matplotlib.pyplot.gcf()\n",
    "\n",
    "header = ['D', 'A', 'R', 'C', 'E']\n",
    "\n",
    "configs = df_total\n",
    "N = len(configs)\n",
    "ind = np.arange(N)\n",
    "\n",
    "p1 = plt.bar(ind, df_mkilling+df_death)  # 안락사, 자연사 D\n",
    "p2 = plt.bar(ind, df_adopt+df_donate, bottom=np.array(df_mkilling+df_death))  #입양, 기증 A\n",
    "p3 = plt.bar(ind, df_return, bottom=np.array(df_mkilling+df_death)+np.array(df_adopt+df_donate)) # 반환 R\n",
    "p4 = plt.bar(ind, df_shelter, bottom=np.array(df_mkilling+df_death)+np.array(df_adopt+df_donate)+np.array(df_return)) # 보호중 C\n",
    "p5 = plt.bar(ind, df_ncapture+df_end, bottom=np.array(df_mkilling+df_death)+np.array(df_adopt+df_donate)+np.array(df_return)+np.array(df_shelter)) # 기타 E\n",
    "\n",
    "plt.legend((p1[0], p2[0], p3[0], p4[0], p5[0]),\n",
    "           (header[0], header[1], header[2], header[3], header[4]))\n",
    "plt.show()"
   ]
  },
  {
   "cell_type": "code",
   "execution_count": 41,
   "metadata": {},
   "outputs": [],
   "source": [
    "# df_kind.loc['Total'] = df_kind.select_dtypes(pd.np.number).sum()  # 열별 총 합\n",
    "# df_kind"
   ]
  }
 ],
 "metadata": {
  "kernelspec": {
   "display_name": "Python 3",
   "language": "python",
   "name": "python3"
  },
  "language_info": {
   "codemirror_mode": {
    "name": "ipython",
    "version": 3
   },
   "file_extension": ".py",
   "mimetype": "text/x-python",
   "name": "python",
   "nbconvert_exporter": "python",
   "pygments_lexer": "ipython3",
   "version": "3.6.5"
  }
 },
 "nbformat": 4,
 "nbformat_minor": 2
}
