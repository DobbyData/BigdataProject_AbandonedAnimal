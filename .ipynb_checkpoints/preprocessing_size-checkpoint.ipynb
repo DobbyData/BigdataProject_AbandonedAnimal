{
 "cells": [
  {
   "cell_type": "code",
   "execution_count": 1,
   "metadata": {},
   "outputs": [],
   "source": [
    "import pandas as pd"
   ]
  },
  {
   "cell_type": "code",
   "execution_count": 2,
   "metadata": {},
   "outputs": [],
   "source": [
    "dct1 = {'age': '2018(년생)',\n",
    "        'careAddr': '경상남도 창원시 마산합포구 진북면 지산2길 139-112 226-19',\n",
    "        'careNm': '마산유기동물보호소',\n",
    "        'careTel': '055-225-5625',\n",
    "        'chargeNm': '마산합포회원구',\n",
    "        'colorCd': '누런색',\n",
    "        'desertionNo': '448528201801118',\n",
    "        'filename': 'http://www.animal.go.kr/files/shelter/2018/10/20181024081090_s.jpg',\n",
    "        'happenDt': '20181023',\n",
    "        'happenPlace': '회동 마을 입구 도로변',\n",
    "        'kindCd': '[개] 믹스견',\n",
    "        'neuterYn': 'U',\n",
    "        'noticeEdt': '20181105',\n",
    "        'noticeNo': '경남-창원2-2018-00554',\n",
    "        'noticeSdt': '20181024',\n",
    "        'officetel': '055-225-5625',\n",
    "        'orgNm': '경상남도 창원시 마산합포회원구',\n",
    "        'popfile': 'http://www.animal.go.kr/files/shelter/2018/10/20181024081090.jpg',\n",
    "        'processState': '보호중',\n",
    "        'sexCd': 'M',\n",
    "        'specialMark': '다리를 젊',\n",
    "        'weight': '2.5(Kg)'}"
   ]
  },
  {
   "cell_type": "code",
   "execution_count": 15,
   "metadata": {},
   "outputs": [
    {
     "name": "stdout",
     "output_type": "stream",
     "text": [
      "['age', 'careAddr', 'careNm', 'careTel', 'chargeNm', 'colorCd', 'desertionNo', 'filename', 'happenDt', 'happenPlace', 'kindCd', 'neuterYn', 'noticeEdt', 'noticeNo', 'noticeSdt', 'officetel', 'orgNm', 'popfile', 'processState', 'sexCd', 'specialMark', 'weight']\n",
      "['2018(년생)', '경상남도 창원시 마산합포구 진북면 지산2길 139-112 226-19', '마산유기동물보호소', '055-225-5625', '마산합포회원구', '누런색', '448528201801118', 'http://www.animal.go.kr/files/shelter/2018/10/20181024081090_s.jpg', '20181023', '회동 마을 입구 도로변', '[개] 믹스견', 'U', '20181105', '경남-창원2-2018-00554', '20181024', '055-225-5625', '경상남도 창원시 마산합포회원구', 'http://www.animal.go.kr/files/shelter/2018/10/20181024081090.jpg', '보호중', 'M', '다리를 젊', '2.5(Kg)']\n"
     ]
    }
   ],
   "source": [
    "dk = list(dct1.keys())\n",
    "dv = list(dct1.values())\n",
    "\n",
    "print(dk)\n",
    "print(dv)"
   ]
  },
  {
   "cell_type": "code",
   "execution_count": 46,
   "metadata": {},
   "outputs": [
    {
     "data": {
      "text/html": [
       "<div>\n",
       "<style scoped>\n",
       "    .dataframe tbody tr th:only-of-type {\n",
       "        vertical-align: middle;\n",
       "    }\n",
       "\n",
       "    .dataframe tbody tr th {\n",
       "        vertical-align: top;\n",
       "    }\n",
       "\n",
       "    .dataframe thead th {\n",
       "        text-align: right;\n",
       "    }\n",
       "</style>\n",
       "<table border=\"1\" class=\"dataframe\">\n",
       "  <thead>\n",
       "    <tr style=\"text-align: right;\">\n",
       "      <th></th>\n",
       "      <th>age</th>\n",
       "      <th>careAddr</th>\n",
       "      <th>careNm</th>\n",
       "      <th>careTel</th>\n",
       "      <th>chargeNm</th>\n",
       "      <th>colorCd</th>\n",
       "      <th>desertionNo</th>\n",
       "      <th>filename</th>\n",
       "      <th>happenDt</th>\n",
       "      <th>happenPlace</th>\n",
       "      <th>...</th>\n",
       "      <th>noticeEdt</th>\n",
       "      <th>noticeNo</th>\n",
       "      <th>noticeSdt</th>\n",
       "      <th>officetel</th>\n",
       "      <th>orgNm</th>\n",
       "      <th>popfile</th>\n",
       "      <th>processState</th>\n",
       "      <th>sexCd</th>\n",
       "      <th>specialMark</th>\n",
       "      <th>weight</th>\n",
       "    </tr>\n",
       "  </thead>\n",
       "  <tbody>\n",
       "    <tr>\n",
       "      <th>0</th>\n",
       "      <td>2018(년생)</td>\n",
       "      <td>경상남도 창원시 마산합포구 진북면 지산2길 139-112 226-19</td>\n",
       "      <td>마산유기동물보호소</td>\n",
       "      <td>055-225-5625</td>\n",
       "      <td>마산합포회원구</td>\n",
       "      <td>누런색</td>\n",
       "      <td>448528201801118</td>\n",
       "      <td>http://www.animal.go.kr/files/shelter/2018/10/...</td>\n",
       "      <td>20181023</td>\n",
       "      <td>회동 마을 입구 도로변</td>\n",
       "      <td>...</td>\n",
       "      <td>20181105</td>\n",
       "      <td>경남-창원2-2018-00554</td>\n",
       "      <td>20181024</td>\n",
       "      <td>055-225-5625</td>\n",
       "      <td>경상남도 창원시 마산합포회원구</td>\n",
       "      <td>http://www.animal.go.kr/files/shelter/2018/10/...</td>\n",
       "      <td>보호중</td>\n",
       "      <td>M</td>\n",
       "      <td>다리를 젊</td>\n",
       "      <td>2.5(Kg)</td>\n",
       "    </tr>\n",
       "  </tbody>\n",
       "</table>\n",
       "<p>1 rows × 22 columns</p>\n",
       "</div>"
      ],
      "text/plain": [
       "        age                                careAddr     careNm       careTel  \\\n",
       "0  2018(년생)  경상남도 창원시 마산합포구 진북면 지산2길 139-112 226-19  마산유기동물보호소  055-225-5625   \n",
       "\n",
       "  chargeNm colorCd      desertionNo  \\\n",
       "0  마산합포회원구     누런색  448528201801118   \n",
       "\n",
       "                                            filename  happenDt   happenPlace  \\\n",
       "0  http://www.animal.go.kr/files/shelter/2018/10/...  20181023  회동 마을 입구 도로변   \n",
       "\n",
       "    ...    noticeEdt           noticeNo noticeSdt     officetel  \\\n",
       "0   ...     20181105  경남-창원2-2018-00554  20181024  055-225-5625   \n",
       "\n",
       "              orgNm                                            popfile  \\\n",
       "0  경상남도 창원시 마산합포회원구  http://www.animal.go.kr/files/shelter/2018/10/...   \n",
       "\n",
       "  processState sexCd specialMark   weight  \n",
       "0          보호중     M       다리를 젊  2.5(Kg)  \n",
       "\n",
       "[1 rows x 22 columns]"
      ]
     },
     "execution_count": 46,
     "metadata": {},
     "output_type": "execute_result"
    }
   ],
   "source": [
    "df = pd.DataFrame(columns=dk)\n",
    "df.loc[0] = dv\n",
    "df"
   ]
  },
  {
   "cell_type": "code",
   "execution_count": 49,
   "metadata": {},
   "outputs": [
    {
     "data": {
      "text/plain": [
       "0    2.5(Kg)\n",
       "Name: weight, dtype: object"
      ]
     },
     "execution_count": 49,
     "metadata": {},
     "output_type": "execute_result"
    }
   ],
   "source": [
    "df.weight"
   ]
  },
  {
   "cell_type": "code",
   "execution_count": 63,
   "metadata": {},
   "outputs": [
    {
     "data": {
      "text/plain": [
       "0    2.5\n",
       "Name: weight, dtype: object"
      ]
     },
     "execution_count": 63,
     "metadata": {},
     "output_type": "execute_result"
    }
   ],
   "source": [
    "df.weight.replace('[(Kg)]','',regex=True)"
   ]
  },
  {
   "cell_type": "code",
   "execution_count": null,
   "metadata": {},
   "outputs": [],
   "source": []
  },
  {
   "cell_type": "code",
   "execution_count": null,
   "metadata": {},
   "outputs": [],
   "source": []
  },
  {
   "cell_type": "code",
   "execution_count": null,
   "metadata": {},
   "outputs": [],
   "source": []
  },
  {
   "cell_type": "code",
   "execution_count": null,
   "metadata": {},
   "outputs": [],
   "source": []
  }
 ],
 "metadata": {
  "kernelspec": {
   "display_name": "Python 3",
   "language": "python",
   "name": "python3"
  },
  "language_info": {
   "codemirror_mode": {
    "name": "ipython",
    "version": 3
   },
   "file_extension": ".py",
   "mimetype": "text/x-python",
   "name": "python",
   "nbconvert_exporter": "python",
   "pygments_lexer": "ipython3",
   "version": "3.6.5"
  }
 },
 "nbformat": 4,
 "nbformat_minor": 1
}
