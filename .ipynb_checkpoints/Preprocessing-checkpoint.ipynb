{
 "cells": [
  {
   "cell_type": "code",
   "execution_count": null,
   "metadata": {},
   "outputs": [],
   "source": [
    "import numpy as np\n",
    "import pandas as pd\n"
   ]
  },
  {
   "cell_type": "code",
   "execution_count": null,
   "metadata": {},
   "outputs": [],
   "source": [
    "df1=pd.read_csv(\"D:\\pycharmProject\\BigdataProject_AbandonedAnimal\\lostAnimal_20180101_20181231_vol2.csv\", encoding=\"euc-kr\")\n",
    "#df2=pd.read_excel(\"D:\\JupyterNotebook\\project\\lostAnimal_data\\processing_data\\lostAnimal_20160101_20161231.xlsx\", encoding=\"euc-kr\")\n",
    "#df3=pd.read_excel(\"D:\\JupyterNotebook\\project\\lostAnimal_data\\processing_data\\lostAnimal_20170101_20171231.xlsx\", encoding=\"euc-kr\")\n",
    "#df4=pd.read_excel(\"D:\\JupyterNotebook\\project\\lostAnimal_data\\processing_data\\lostAnimal_20180101_20181231.xlsx\", encoding=\"euc-kr\")"
   ]
  },
  {
   "cell_type": "code",
   "execution_count": null,
   "metadata": {},
   "outputs": [],
   "source": [
    "df1"
   ]
  },
  {
   "cell_type": "code",
   "execution_count": null,
   "metadata": {},
   "outputs": [],
   "source": [
    "df1[['processState','sexCd','neuterYn']].isnull().sum()"
   ]
  },
  {
   "cell_type": "code",
   "execution_count": null,
   "metadata": {},
   "outputs": [],
   "source": [
    "#df2[['processState','sexCd','neuterYn']].isnull().sum()"
   ]
  },
  {
   "cell_type": "code",
   "execution_count": null,
   "metadata": {},
   "outputs": [],
   "source": [
    "#df3[['processState','sexCd','neuterYn']].isnull().sum()"
   ]
  },
  {
   "cell_type": "code",
   "execution_count": null,
   "metadata": {},
   "outputs": [],
   "source": [
    "#df4[['processState','sexCd','neuterYn']].isnull().sum()"
   ]
  },
  {
   "cell_type": "code",
   "execution_count": null,
   "metadata": {
    "scrolled": true
   },
   "outputs": [],
   "source": [
    "df1['processState'].value_counts()"
   ]
  },
  {
   "cell_type": "markdown",
   "metadata": {},
   "source": [
    "### (processState, sexCd, neuterYn) 전처리(레이블링, column화, one-hot 코딩)"
   ]
  },
  {
   "cell_type": "code",
   "execution_count": null,
   "metadata": {},
   "outputs": [],
   "source": [
    "df1.loc[df1['processState']=='보호중','processState_Pre'] ='C'# 보호중\n",
    "df1.loc[df1['processState']=='종료(입양)','processState_Pre']='A'\n",
    "df1.loc[df1['processState']=='종료(기증)','processState_Pre']='A'\n",
    "df1.loc[df1['processState']=='종료(자연사)','processState_Pre']='D'\n",
    "df1.loc[df1['processState']=='종료(안락사)','processState_Pre']='D'\n",
    "df1.loc[df1['processState']=='종료(반환)','processState_Pre']='R'\n",
    "df1.loc[df1['processState']=='종료(방사)','processState_Pre']='E'\n",
    "df1.loc[df1['processState']=='종료(미포획)','processState_Pre']='E'\n"
   ]
  },
  {
   "cell_type": "code",
   "execution_count": null,
   "metadata": {},
   "outputs": [],
   "source": [
    "# 데이터에서 값제거 코드\n",
    "#df1 = df1[df1.processState!='종료(방사)'] \n"
   ]
  },
  {
   "cell_type": "code",
   "execution_count": null,
   "metadata": {
    "scrolled": true
   },
   "outputs": [],
   "source": [
    "df1['processState_C']=df1['processState_Pre']=='C' #보호중\n",
    "df1['processState_A']=df1['processState_Pre']=='A' #입양+기증\n",
    "df1['processState_D']=df1['processState_Pre']=='D' #자연사+안락사\n",
    "df1['processState_R']=df1['processState_Pre']=='R' #반환\n",
    "df1['processState_E']=df1['processState_Pre']=='E' #미포획+방사\n",
    "df1[['processState','processState_C','processState_A','processState_D','processState_R','processState_E']].head(20)\n"
   ]
  },
  {
   "cell_type": "markdown",
   "metadata": {},
   "source": [
    "### 성별( M=남, F=여자, Q=미상)"
   ]
  },
  {
   "cell_type": "code",
   "execution_count": null,
   "metadata": {},
   "outputs": [],
   "source": [
    "df1['sexCd_M']=df1['sexCd']=='M'\n",
    "df1['sexCd_F']=df1['sexCd']=='F'\n",
    "df1['sexCd_Q']=df1['sexCd']=='Q'\n",
    "df1[['sexCd','sexCd_M','sexCd_F','sexCd_Q']].head(30)"
   ]
  },
  {
   "cell_type": "markdown",
   "metadata": {},
   "source": [
    "### 중성화여부 (Y=중성화, N=중성화X, U=미확인)"
   ]
  },
  {
   "cell_type": "code",
   "execution_count": null,
   "metadata": {},
   "outputs": [],
   "source": [
    "df1['neuterYn_Y']=df1['neuterYn']=='Y'\n",
    "df1['neuterYn_N']=df1['neuterYn']=='N'\n",
    "df1['neuterYn_U']=df1['neuterYn']=='U'\n",
    "df1[['neuterYn','neuterYn_Y','neuterYn_N','neuterYn_U']].head(20)"
   ]
  },
  {
   "cell_type": "markdown",
   "metadata": {},
   "source": [
    "### 보호장소"
   ]
  },
  {
   "cell_type": "code",
   "execution_count": null,
   "metadata": {},
   "outputs": [],
   "source": [
    "dfh1=df1['careNm'].str.contains('병원|의료센터|메디컬|클리닉|의료원') #메디컬(715)+의료(91)+의료(23408)\n",
    "dfh2=df1['careNm'].str.contains('보호소|보호센터|리본센터') #보호소(18387)+센터(18413)\n",
    "dfh3=df1['careNm'].str.contains('군청|시청') #군청(54)+시청(24)\n",
    "dfh4=df1['careNm'].str.contains('수의사회') #수의사회(2443)\n",
    "dfh5=df1['careNm'].str.contains('한동보|협회|보호협' ) #한동보(1115)+동물협회(10806)\n",
    "dfh6=df1['careNm'].str.contains('병원|의료|메디컬|클리닉|보호소|보호센터|리본센터|군청|시청|수의사회|한동보|협회|보호협|의료원')==False"
   ]
  },
  {
   "cell_type": "code",
   "execution_count": null,
   "metadata": {},
   "outputs": [],
   "source": [
    "df1['careNm_ETC']=dfh6 #밑에 컬럼속성들을 제외한 속성\n",
    "df1['careNm_H']=dfh1 # 병원,의료센터,메디컬,클리닉,의료원\n",
    "df1['careNm_C']=dfh2 # 보호소,보호센터,리본센터\n",
    "df1['careNm_O']=dfh3 # 군청, 시청\n",
    "df1['careNm_AD']=dfh4 # 수의사회\n",
    "df1['careNm_CM']=dfh5 # 한동보,동물협회"
   ]
  },
  {
   "cell_type": "code",
   "execution_count": null,
   "metadata": {
    "scrolled": true
   },
   "outputs": [],
   "source": [
    "df1[['careNm','careNm_ETC','careNm_H','careNm_C','careNm_O','careNm_AD','careNm_CM']]"
   ]
  },
  {
   "cell_type": "code",
   "execution_count": null,
   "metadata": {},
   "outputs": [],
   "source": [
    "df1.to_csv('test_df1-1.csv',encoding='euc-kr')"
   ]
  },
  {
   "cell_type": "code",
   "execution_count": null,
   "metadata": {},
   "outputs": [],
   "source": [
    "# df1['orgNm'][df1['orgNm'].str.contains('서울특별시')==True]\n",
    "# df1['orgNm'][df1['orgNm'].str.contains('경기도')==True]\n",
    "# df1['orgNm'][df1['orgNm'].str.contains('강원도')==True]\n",
    "# df1['orgNm'][df1['orgNm'].str.contains('경상남도')==True]\n",
    "# df1['orgNm'][df1['orgNm'].str.contains('경상북도')==True]\n",
    "# df1['orgNm'][df1['orgNm'].str.contains('전라남도')==True]\n",
    "# df1['orgNm'][df1['orgNm'].str.contains('전라북도')==True]\n",
    "# df1['orgNm'][df1['orgNm'].str.contains('충청남도')==True]\n",
    "# df1['orgNm'][df1['orgNm'].str.contains('충청북도')==True]\n",
    "# df1['orgNm'][df1['orgNm'].str.contains('울산광역시')==True]\n",
    "# df1['orgNm'][df1['orgNm'].str.contains('부산광역시')==True]\n",
    "# df1['orgNm'][df1['orgNm'].str.contains('대전광역시')==True]\n",
    "# df1['orgNm'][df1['orgNm'].str.contains('제주특별자치도')==True]\n",
    "#df1['orgNm'].unique()"
   ]
  },
  {
   "cell_type": "code",
   "execution_count": null,
   "metadata": {},
   "outputs": [],
   "source": [
    "df1['orgNm'].str.contains('서울특별시').sum()"
   ]
  },
  {
   "cell_type": "code",
   "execution_count": null,
   "metadata": {},
   "outputs": [],
   "source": [
    "df1['orgNm'].str.contains('경기도').sum()"
   ]
  },
  {
   "cell_type": "code",
   "execution_count": null,
   "metadata": {},
   "outputs": [],
   "source": [
    "df1['orgNm'].str.contains('강원도').sum()"
   ]
  },
  {
   "cell_type": "code",
   "execution_count": null,
   "metadata": {},
   "outputs": [],
   "source": [
    "df1['orgNm'].str.contains('경상남도').sum()"
   ]
  },
  {
   "cell_type": "code",
   "execution_count": null,
   "metadata": {},
   "outputs": [],
   "source": [
    "df1['orgNm'].str.contains('경상북도').sum()"
   ]
  },
  {
   "cell_type": "code",
   "execution_count": null,
   "metadata": {},
   "outputs": [],
   "source": [
    "df1['orgNm'].str.contains('전라남도').sum()"
   ]
  },
  {
   "cell_type": "code",
   "execution_count": null,
   "metadata": {},
   "outputs": [],
   "source": [
    "df1['orgNm'].str.contains('전라북도').sum()"
   ]
  },
  {
   "cell_type": "code",
   "execution_count": null,
   "metadata": {},
   "outputs": [],
   "source": [
    "df1['orgNm'].str.contains('충청남도').sum()"
   ]
  },
  {
   "cell_type": "code",
   "execution_count": null,
   "metadata": {},
   "outputs": [],
   "source": [
    "df1['orgNm'].str.contains('충청북도').sum()"
   ]
  },
  {
   "cell_type": "code",
   "execution_count": null,
   "metadata": {},
   "outputs": [],
   "source": [
    "df1['orgNm'].str.contains('울산광역시').sum()"
   ]
  },
  {
   "cell_type": "code",
   "execution_count": null,
   "metadata": {},
   "outputs": [],
   "source": [
    "df1['orgNm'].str.contains('부산광역시').sum()"
   ]
  },
  {
   "cell_type": "code",
   "execution_count": null,
   "metadata": {},
   "outputs": [],
   "source": [
    "df1['orgNm'].str.contains('대전광역시').sum()"
   ]
  },
  {
   "cell_type": "code",
   "execution_count": null,
   "metadata": {},
   "outputs": [],
   "source": [
    "df1['orgNm'].str.contains('제주특별자치도').sum()"
   ]
  },
  {
   "cell_type": "code",
   "execution_count": null,
   "metadata": {},
   "outputs": [],
   "source": [
    "df1['orgNm'].str.contains('세종특별자치시').sum()"
   ]
  },
  {
   "cell_type": "code",
   "execution_count": null,
   "metadata": {},
   "outputs": [],
   "source": [
    "df1['orgNm'].str.contains('인천광역시').sum()"
   ]
  },
  {
   "cell_type": "code",
   "execution_count": null,
   "metadata": {},
   "outputs": [],
   "source": [
    "df1['orgNm'].str.contains('광주광역시').sum()"
   ]
  },
  {
   "cell_type": "code",
   "execution_count": null,
   "metadata": {},
   "outputs": [],
   "source": [
    "df1['orgNm'].str.contains('대구광역시').sum()"
   ]
  },
  {
   "cell_type": "markdown",
   "metadata": {},
   "source": [
    "### KindCd, happenDt, happenPlace, colorCd"
   ]
  },
  {
   "cell_type": "markdown",
   "metadata": {},
   "source": [
    "### Kind Cd"
   ]
  },
  {
   "cell_type": "code",
   "execution_count": null,
   "metadata": {},
   "outputs": [],
   "source": [
    "df1['kindCd'].head()"
   ]
  },
  {
   "cell_type": "code",
   "execution_count": null,
   "metadata": {},
   "outputs": [],
   "source": [
    "df1['kind'] = df1['kindCd'].str.extract('([가-힣]+)\\]', expand=False) # 한글 정규식\n",
    "df1['kind'].head()"
   ]
  },
  {
   "cell_type": "code",
   "execution_count": null,
   "metadata": {},
   "outputs": [],
   "source": [
    "kind_mapping = {'개': 0, '고양이':1, '기타축종':2}\n",
    "df1['kind'] = df1['kind'].map(kind_mapping)"
   ]
  },
  {
   "cell_type": "code",
   "execution_count": null,
   "metadata": {},
   "outputs": [],
   "source": [
    "df1['kind'].value_counts()"
   ]
  },
  {
   "cell_type": "code",
   "execution_count": null,
   "metadata": {},
   "outputs": [],
   "source": [
    "df1['breed'] = df1['kindCd'].str.split('] ').str[1]"
   ]
  },
  {
   "cell_type": "code",
   "execution_count": null,
   "metadata": {},
   "outputs": [],
   "source": [
    "df1['breed'].head()"
   ]
  },
  {
   "cell_type": "code",
   "execution_count": null,
   "metadata": {},
   "outputs": [],
   "source": [
    "# breed = df1['breed'].value_counts()\n",
    "# breed"
   ]
  },
  {
   "cell_type": "markdown",
   "metadata": {},
   "source": [
    "### happenDt"
   ]
  },
  {
   "cell_type": "code",
   "execution_count": null,
   "metadata": {},
   "outputs": [],
   "source": [
    "df1['happenDt']"
   ]
  },
  {
   "cell_type": "code",
   "execution_count": null,
   "metadata": {},
   "outputs": [],
   "source": [
    "df1['happenDt'] = pd.to_datetime(df1['happenDt'], format='%Y%m%d')\n",
    "# 8자리를 날짜형식으로 바꿈"
   ]
  },
  {
   "cell_type": "code",
   "execution_count": null,
   "metadata": {},
   "outputs": [],
   "source": [
    "df1['happenDt'].head()"
   ]
  },
  {
   "cell_type": "code",
   "execution_count": null,
   "metadata": {},
   "outputs": [],
   "source": [
    "# df['happenWd'] = df['happenDt'].dt.dayofweekday  # 요일을 숫자로 표현함 \"0 = Sunday\"\n",
    "df1['happenWd'] = df1['happenDt'].dt.day_name()"
   ]
  },
  {
   "cell_type": "code",
   "execution_count": null,
   "metadata": {},
   "outputs": [],
   "source": [
    "df1['happenWd'].head()"
   ]
  },
  {
   "cell_type": "code",
   "execution_count": null,
   "metadata": {},
   "outputs": [],
   "source": [
    "df1['happenWd'].value_counts()"
   ]
  },
  {
   "cell_type": "code",
   "execution_count": null,
   "metadata": {},
   "outputs": [],
   "source": [
    "df1['happenMth'] = pd.DatetimeIndex(df1['happenDt']).month\n",
    "# 날짜에서 '월'값을 받음"
   ]
  },
  {
   "cell_type": "code",
   "execution_count": null,
   "metadata": {},
   "outputs": [],
   "source": [
    "df1['happenMth'].value_counts()"
   ]
  },
  {
   "cell_type": "markdown",
   "metadata": {},
   "source": [
    "### weight"
   ]
  },
  {
   "cell_type": "code",
   "execution_count": null,
   "metadata": {},
   "outputs": [],
   "source": [
    "df1['weight(after)'].head()"
   ]
  },
  {
   "cell_type": "code",
   "execution_count": null,
   "metadata": {},
   "outputs": [],
   "source": [
    "df1.loc[df1['weight(after)'] <= 3, 'size'] = '초소형'\n",
    "df1.loc[(df1['weight(after)'] > 3 ) & (df1['weight(after)'] <=9 ), 'size'] = '소형'\n",
    "df1.loc[(df1['weight(after)'] > 9 ) & (df1['weight(after)'] <=25 ), 'size'] = '중형'\n",
    "df1.loc[df1['weight(after)'] > 25, 'size'] = '대형'"
   ]
  },
  {
   "cell_type": "code",
   "execution_count": null,
   "metadata": {},
   "outputs": [],
   "source": [
    "df1['size'].head()"
   ]
  },
  {
   "cell_type": "code",
   "execution_count": null,
   "metadata": {},
   "outputs": [],
   "source": [
    "df1.loc[df1['age(after)'] <= 1, 'age_u'] = '유견기'\n",
    "df1.loc[(df1['age(after)'] > 1 ) & (df1['age(after)'] <= 9 ), 'age_u'] = '성견기'\n",
    "df1.loc[df1['age(after)'] > 9, 'age_u'] = '노견기'"
   ]
  },
  {
   "cell_type": "code",
   "execution_count": null,
   "metadata": {},
   "outputs": [],
   "source": [
    "df1['age_u'].head()"
   ]
  },
  {
   "cell_type": "code",
   "execution_count": null,
   "metadata": {},
   "outputs": [],
   "source": [
    "df1.columns"
   ]
  },
  {
   "cell_type": "code",
   "execution_count": null,
   "metadata": {},
   "outputs": [],
   "source": [
    "df1.to_csv('lostAnimal_20180101_20181231_vol3.csv',encoding='euc-kr')"
   ]
  },
  {
   "cell_type": "code",
   "execution_count": null,
   "metadata": {},
   "outputs": [],
   "source": []
  }
 ],
 "metadata": {
  "kernelspec": {
   "display_name": "Python 3",
   "language": "python",
   "name": "python3"
  },
  "language_info": {
   "codemirror_mode": {
    "name": "ipython",
    "version": 3
   },
   "file_extension": ".py",
   "mimetype": "text/x-python",
   "name": "python",
   "nbconvert_exporter": "python",
   "pygments_lexer": "ipython3",
   "version": "3.6.5"
  }
 },
 "nbformat": 4,
 "nbformat_minor": 2
}
