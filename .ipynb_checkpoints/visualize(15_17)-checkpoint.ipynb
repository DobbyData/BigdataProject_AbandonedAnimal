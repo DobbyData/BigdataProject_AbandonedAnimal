{
 "cells": [
  {
   "cell_type": "code",
   "execution_count": 2,
   "metadata": {},
   "outputs": [],
   "source": [
    "import pandas as pd\n",
    "import numpy as np\n",
    "import matplotlib.pyplot as plt\n",
    "from matplotlib import font_manager, rc, style\n",
    "import matplotlib\n",
    "%matplotlib inline\n",
    "import seaborn as sns\n",
    "sns.set()"
   ]
  },
  {
   "cell_type": "code",
   "execution_count": 15,
   "metadata": {},
   "outputs": [],
   "source": [
    "font_name = font_manager.FontProperties(fname=\"c:/Windows/Fonts/malgun.ttf\").get_name()\n",
    "rc('font', family=font_name)  # 한글 폰트 설정"
   ]
  },
  {
   "cell_type": "code",
   "execution_count": 3,
   "metadata": {},
   "outputs": [],
   "source": [
    "df_15 = pd.read_csv(r'D:\\pycharmProject\\BigdataProject_AbandonedAnimal\\lostAnimal_20150101_20151231_vol3.csv', encoding='CP949')\n",
    "# df_16 = pd.read_csv(r'D:\\pycharmProject\\BigdataProject_AbandonedAnimal\\lostAnimal_20160101_20161231_vol3.csv', encoding='CP949')\n",
    "# df_17 = pd.read_csv(r'D:\\pycharmProject\\BigdataProject_AbandonedAnimal\\lostAnimal_20170101_20171231_vol3.csv', encoding='CP949')\n",
    "# df_18 = pd.read_csv(r'D:\\pycharmProject\\BigdataProject_AbandonedAnimal\\lostAnimal_20180101_20181231_vol3.csv', encoding='CP949')"
   ]
  },
  {
   "cell_type": "markdown",
   "metadata": {},
   "source": [
    "# 2015년 데이터"
   ]
  },
  {
   "cell_type": "markdown",
   "metadata": {},
   "source": [
    "## 전체 데이터"
   ]
  },
  {
   "cell_type": "code",
   "execution_count": 4,
   "metadata": {},
   "outputs": [
    {
     "data": {
      "text/plain": [
       "Index(['Unnamed: 0', 'Unnamed: 0.1', 'Unnamed: 0.1.1', 'age(before)',\n",
       "       'age(after)', 'careAddr', 'careNm', 'careTel', 'chargeNm', 'colorCd',\n",
       "       'desertionNo', 'filename', 'happenDt', 'happenPlace', 'kindCd',\n",
       "       'neuterYn', 'noticeComment', 'noticeEdt', 'noticeNo', 'noticeSdt',\n",
       "       'officetel', 'orgNm', 'popfile', 'processState', 'sexCd', 'specialMark',\n",
       "       'weight(before)', 'weight(after)', 'kind', 'breed', 'breed_Pre',\n",
       "       'happenWd', 'happenMth', 'size', 'age_u', 'processState_Pre',\n",
       "       'processState_C', 'processState_A', 'processState_D', 'processState_R',\n",
       "       'processState_E', 'sexCd_M', 'sexCd_F', 'sexCd_Q', 'neuterYn_Y',\n",
       "       'neuterYn_N', 'neuterYn_U', 'careNm_ETC', 'careNm_H', 'careNm_C',\n",
       "       'careNm_O', 'careNm_AD', 'careNm_CM'],\n",
       "      dtype='object')"
      ]
     },
     "execution_count": 4,
     "metadata": {},
     "output_type": "execute_result"
    }
   ],
   "source": [
    "df_15.columns"
   ]
  },
  {
   "cell_type": "code",
   "execution_count": 5,
   "metadata": {},
   "outputs": [
    {
     "data": {
      "text/plain": [
       "경기도        19300\n",
       "서울특별시       8859\n",
       "부산광역시       6937\n",
       "경상남도        5581\n",
       "인천광역시       5195\n",
       "충청남도        4558\n",
       "강원도         3559\n",
       "대구광역시       3414\n",
       "전라북도        3299\n",
       "경상북도        3259\n",
       "대전광역시       3158\n",
       "울산광역시       2986\n",
       "충청북도        2955\n",
       "전라남도        2943\n",
       "제주특별자치도     1775\n",
       "광주광역시       1683\n",
       "세종특별자치시      284\n",
       "Name: orgNm_Pre, dtype: int64"
      ]
     },
     "execution_count": 5,
     "metadata": {},
     "output_type": "execute_result"
    }
   ],
   "source": [
    "df_15['orgNm_Pre'] = df_15['orgNm'].str.split(\" \").str[0]\n",
    "df_15['orgNm_Pre'].value_counts()"
   ]
  },
  {
   "cell_type": "code",
   "execution_count": 6,
   "metadata": {},
   "outputs": [],
   "source": [
    "df_15=df_15.drop(['Unnamed: 0'],axis=1)\n",
    "df_15=df_15.drop(['Unnamed: 0.1'],axis=1)\n",
    "df_15=df_15.drop(['Unnamed: 0.1.1'],axis=1)\n",
    "df_15=df_15.drop(['careTel'],axis=1)\n",
    "df_15=df_15.drop(['chargeNm'],axis=1)\n",
    "df_15=df_15.drop(['desertionNo'],axis=1)\n",
    "df_15=df_15.drop(['filename'],axis=1)\n",
    "df_15=df_15.drop(['officetel'],axis=1)"
   ]
  },
  {
   "cell_type": "code",
   "execution_count": 7,
   "metadata": {},
   "outputs": [
    {
     "data": {
      "text/plain": [
       "Index(['age(before)', 'age(after)', 'careAddr', 'careNm', 'colorCd',\n",
       "       'happenDt', 'happenPlace', 'kindCd', 'neuterYn', 'noticeComment',\n",
       "       'noticeEdt', 'noticeNo', 'noticeSdt', 'orgNm', 'popfile',\n",
       "       'processState', 'sexCd', 'specialMark', 'weight(before)',\n",
       "       'weight(after)', 'kind', 'breed', 'breed_Pre', 'happenWd', 'happenMth',\n",
       "       'size', 'age_u', 'processState_Pre', 'processState_C', 'processState_A',\n",
       "       'processState_D', 'processState_R', 'processState_E', 'sexCd_M',\n",
       "       'sexCd_F', 'sexCd_Q', 'neuterYn_Y', 'neuterYn_N', 'neuterYn_U',\n",
       "       'careNm_ETC', 'careNm_H', 'careNm_C', 'careNm_O', 'careNm_AD',\n",
       "       'careNm_CM', 'orgNm_Pre'],\n",
       "      dtype='object')"
      ]
     },
     "execution_count": 7,
     "metadata": {},
     "output_type": "execute_result"
    }
   ],
   "source": [
    "df_15.columns"
   ]
  },
  {
   "cell_type": "code",
   "execution_count": 8,
   "metadata": {
    "scrolled": true
   },
   "outputs": [
    {
     "data": {
      "text/html": [
       "<div>\n",
       "<style scoped>\n",
       "    .dataframe tbody tr th:only-of-type {\n",
       "        vertical-align: middle;\n",
       "    }\n",
       "\n",
       "    .dataframe tbody tr th {\n",
       "        vertical-align: top;\n",
       "    }\n",
       "\n",
       "    .dataframe thead th {\n",
       "        text-align: right;\n",
       "    }\n",
       "</style>\n",
       "<table border=\"1\" class=\"dataframe\">\n",
       "  <thead>\n",
       "    <tr style=\"text-align: right;\">\n",
       "      <th></th>\n",
       "      <th>age(after)</th>\n",
       "      <th>noticeEdt</th>\n",
       "      <th>noticeSdt</th>\n",
       "      <th>weight(after)</th>\n",
       "      <th>kind</th>\n",
       "      <th>happenMth</th>\n",
       "    </tr>\n",
       "  </thead>\n",
       "  <tbody>\n",
       "    <tr>\n",
       "      <th>count</th>\n",
       "      <td>79745.000000</td>\n",
       "      <td>7.974500e+04</td>\n",
       "      <td>7.974500e+04</td>\n",
       "      <td>79533.00000</td>\n",
       "      <td>79745.000000</td>\n",
       "      <td>79745.000000</td>\n",
       "    </tr>\n",
       "    <tr>\n",
       "      <th>mean</th>\n",
       "      <td>2.586639</td>\n",
       "      <td>2.015070e+07</td>\n",
       "      <td>2.015071e+07</td>\n",
       "      <td>5.14542</td>\n",
       "      <td>0.281497</td>\n",
       "      <td>6.697034</td>\n",
       "    </tr>\n",
       "    <tr>\n",
       "      <th>std</th>\n",
       "      <td>3.082666</td>\n",
       "      <td>6.377380e+04</td>\n",
       "      <td>8.458330e+02</td>\n",
       "      <td>6.03758</td>\n",
       "      <td>0.474772</td>\n",
       "      <td>3.178152</td>\n",
       "    </tr>\n",
       "    <tr>\n",
       "      <th>min</th>\n",
       "      <td>0.000000</td>\n",
       "      <td>2.150604e+06</td>\n",
       "      <td>2.005011e+07</td>\n",
       "      <td>0.00000</td>\n",
       "      <td>0.000000</td>\n",
       "      <td>1.000000</td>\n",
       "    </tr>\n",
       "    <tr>\n",
       "      <th>25%</th>\n",
       "      <td>0.000000</td>\n",
       "      <td>2.015050e+07</td>\n",
       "      <td>2.015042e+07</td>\n",
       "      <td>2.00000</td>\n",
       "      <td>0.000000</td>\n",
       "      <td>4.000000</td>\n",
       "    </tr>\n",
       "    <tr>\n",
       "      <th>50%</th>\n",
       "      <td>2.000000</td>\n",
       "      <td>2.015072e+07</td>\n",
       "      <td>2.015071e+07</td>\n",
       "      <td>3.50000</td>\n",
       "      <td>0.000000</td>\n",
       "      <td>7.000000</td>\n",
       "    </tr>\n",
       "    <tr>\n",
       "      <th>75%</th>\n",
       "      <td>4.000000</td>\n",
       "      <td>2.015101e+07</td>\n",
       "      <td>2.015093e+07</td>\n",
       "      <td>5.40000</td>\n",
       "      <td>1.000000</td>\n",
       "      <td>9.000000</td>\n",
       "    </tr>\n",
       "    <tr>\n",
       "      <th>max</th>\n",
       "      <td>50.000000</td>\n",
       "      <td>2.051113e+07</td>\n",
       "      <td>2.016100e+07</td>\n",
       "      <td>90.00000</td>\n",
       "      <td>2.000000</td>\n",
       "      <td>12.000000</td>\n",
       "    </tr>\n",
       "  </tbody>\n",
       "</table>\n",
       "</div>"
      ],
      "text/plain": [
       "         age(after)     noticeEdt     noticeSdt  weight(after)          kind  \\\n",
       "count  79745.000000  7.974500e+04  7.974500e+04    79533.00000  79745.000000   \n",
       "mean       2.586639  2.015070e+07  2.015071e+07        5.14542      0.281497   \n",
       "std        3.082666  6.377380e+04  8.458330e+02        6.03758      0.474772   \n",
       "min        0.000000  2.150604e+06  2.005011e+07        0.00000      0.000000   \n",
       "25%        0.000000  2.015050e+07  2.015042e+07        2.00000      0.000000   \n",
       "50%        2.000000  2.015072e+07  2.015071e+07        3.50000      0.000000   \n",
       "75%        4.000000  2.015101e+07  2.015093e+07        5.40000      1.000000   \n",
       "max       50.000000  2.051113e+07  2.016100e+07       90.00000      2.000000   \n",
       "\n",
       "          happenMth  \n",
       "count  79745.000000  \n",
       "mean       6.697034  \n",
       "std        3.178152  \n",
       "min        1.000000  \n",
       "25%        4.000000  \n",
       "50%        7.000000  \n",
       "75%        9.000000  \n",
       "max       12.000000  "
      ]
     },
     "execution_count": 8,
     "metadata": {},
     "output_type": "execute_result"
    }
   ],
   "source": [
    "df_15.describe()"
   ]
  },
  {
   "cell_type": "code",
   "execution_count": 9,
   "metadata": {
    "scrolled": true
   },
   "outputs": [
    {
     "data": {
      "text/html": [
       "<div>\n",
       "<style scoped>\n",
       "    .dataframe tbody tr th:only-of-type {\n",
       "        vertical-align: middle;\n",
       "    }\n",
       "\n",
       "    .dataframe tbody tr th {\n",
       "        vertical-align: top;\n",
       "    }\n",
       "\n",
       "    .dataframe thead th {\n",
       "        text-align: right;\n",
       "    }\n",
       "</style>\n",
       "<table border=\"1\" class=\"dataframe\">\n",
       "  <thead>\n",
       "    <tr style=\"text-align: right;\">\n",
       "      <th></th>\n",
       "      <th>age(before)</th>\n",
       "      <th>age(after)</th>\n",
       "      <th>careAddr</th>\n",
       "      <th>careNm</th>\n",
       "      <th>colorCd</th>\n",
       "      <th>happenDt</th>\n",
       "      <th>happenPlace</th>\n",
       "      <th>kindCd</th>\n",
       "      <th>neuterYn</th>\n",
       "      <th>noticeComment</th>\n",
       "      <th>...</th>\n",
       "      <th>neuterYn_Y</th>\n",
       "      <th>neuterYn_N</th>\n",
       "      <th>neuterYn_U</th>\n",
       "      <th>careNm_ETC</th>\n",
       "      <th>careNm_H</th>\n",
       "      <th>careNm_C</th>\n",
       "      <th>careNm_O</th>\n",
       "      <th>careNm_AD</th>\n",
       "      <th>careNm_CM</th>\n",
       "      <th>orgNm_Pre</th>\n",
       "    </tr>\n",
       "  </thead>\n",
       "  <tbody>\n",
       "    <tr>\n",
       "      <th>0</th>\n",
       "      <td>6개월추정(년생)</td>\n",
       "      <td>0.0</td>\n",
       "      <td>충청남도 공주시 번영1로 54 (신관동)</td>\n",
       "      <td>강북동물병원</td>\n",
       "      <td>흰갈색</td>\n",
       "      <td>2015-12-31</td>\n",
       "      <td>중동 사거리</td>\n",
       "      <td>[개] 믹스견</td>\n",
       "      <td>N</td>\n",
       "      <td>NaN</td>\n",
       "      <td>...</td>\n",
       "      <td>False</td>\n",
       "      <td>True</td>\n",
       "      <td>False</td>\n",
       "      <td>False</td>\n",
       "      <td>True</td>\n",
       "      <td>False</td>\n",
       "      <td>False</td>\n",
       "      <td>False</td>\n",
       "      <td>False</td>\n",
       "      <td>충청남도</td>\n",
       "    </tr>\n",
       "    <tr>\n",
       "      <th>1</th>\n",
       "      <td>4살추정(년생)</td>\n",
       "      <td>4.0</td>\n",
       "      <td>전라남도 순천시 중앙로 3-1 (저전동, 대한동물사랑협회)</td>\n",
       "      <td>대한동물사랑협회</td>\n",
       "      <td>흰색</td>\n",
       "      <td>2015-12-31</td>\n",
       "      <td>팔마체육관앞도로</td>\n",
       "      <td>[개] 말티즈</td>\n",
       "      <td>N</td>\n",
       "      <td>NaN</td>\n",
       "      <td>...</td>\n",
       "      <td>False</td>\n",
       "      <td>True</td>\n",
       "      <td>False</td>\n",
       "      <td>False</td>\n",
       "      <td>False</td>\n",
       "      <td>False</td>\n",
       "      <td>False</td>\n",
       "      <td>False</td>\n",
       "      <td>True</td>\n",
       "      <td>전라남도</td>\n",
       "    </tr>\n",
       "  </tbody>\n",
       "</table>\n",
       "<p>2 rows × 46 columns</p>\n",
       "</div>"
      ],
      "text/plain": [
       "  age(before)  age(after)                          careAddr    careNm colorCd  \\\n",
       "0   6개월추정(년생)         0.0            충청남도 공주시 번영1로 54 (신관동)    강북동물병원     흰갈색   \n",
       "1    4살추정(년생)         4.0  전라남도 순천시 중앙로 3-1 (저전동, 대한동물사랑협회)  대한동물사랑협회      흰색   \n",
       "\n",
       "     happenDt happenPlace   kindCd neuterYn noticeComment    ...      \\\n",
       "0  2015-12-31      중동 사거리  [개] 믹스견        N           NaN    ...       \n",
       "1  2015-12-31    팔마체육관앞도로  [개] 말티즈        N           NaN    ...       \n",
       "\n",
       "   neuterYn_Y neuterYn_N  neuterYn_U careNm_ETC careNm_H careNm_C careNm_O  \\\n",
       "0       False       True       False      False     True    False    False   \n",
       "1       False       True       False      False    False    False    False   \n",
       "\n",
       "  careNm_AD careNm_CM  orgNm_Pre  \n",
       "0     False     False       충청남도  \n",
       "1     False      True       전라남도  \n",
       "\n",
       "[2 rows x 46 columns]"
      ]
     },
     "execution_count": 9,
     "metadata": {},
     "output_type": "execute_result"
    }
   ],
   "source": [
    "df_15.head(2)"
   ]
  },
  {
   "cell_type": "code",
   "execution_count": 10,
   "metadata": {},
   "outputs": [
    {
     "data": {
      "text/plain": [
       "0    58220\n",
       "1    20602\n",
       "2      923\n",
       "Name: kind, dtype: int64"
      ]
     },
     "execution_count": 10,
     "metadata": {},
     "output_type": "execute_result"
    }
   ],
   "source": [
    "df_15['kind'].value_counts()"
   ]
  },
  {
   "cell_type": "code",
   "execution_count": 25,
   "metadata": {},
   "outputs": [
    {
     "data": {
      "image/png": "[encoded data removed]",
      "text/plain": [
       "<Figure size 1080x1440 with 8 Axes>"
      ]
     },
     "metadata": {
      "needs_background": "light"
     },
     "output_type": "display_data"
    }
   ],
   "source": [
    "fig, axs = plt.subplots(4, 2, figsize=(15,20))\n",
    "p1 = sns.countplot(x=\"happenMth\", hue='kind', data=df_15, ax=axs[0,0])\n",
    "p2 = sns.countplot(x='happenWd', hue='kind', data=df_15, ax=axs[0,1])\n",
    "p2.set_xticklabels(p2.get_xticklabels(), rotation=45)\n",
    "p3 = sns.countplot(x='processState', hue='kind', data=df_15, ax=axs[1,0])\n",
    "p3.set_xticklabels(p3.get_xticklabels(), rotation=45)\n",
    "p4 = sns.countplot(x='orgNm_Pre', hue='kind', data=df_15, ax=axs[1,1])\n",
    "p4.set_xticklabels(p4.get_xticklabels(), rotation=45)\n",
    "p5 = sns.countplot(x='processState', hue='kind', data=df_15, ax=axs[2,0])\n",
    "p5.set_xticklabels(p5.get_xticklabels(), rotation=45)\n",
    "p6 = sns.countplot(x='age_u', hue='kind', data=df_15, ax=axs[2,1])\n",
    "p6.set_xticklabels(p6.get_xticklabels(), rotation=45)\n",
    "p7 = sns.countplot(x='sexCd', hue='kind', data=df_15, ax=axs[3,0])\n",
    "p7.set_xticklabels(p7.get_xticklabels(), rotation=45)\n",
    "p8 = sns.countplot(x='neuterYn', hue='kind', data=df_15, ax=axs[3,1])\n",
    "p8.set_xticklabels(p8.get_xticklabels(), rotation=45)\n",
    "\n",
    "plt.tight_layout()\n",
    "plt.show()"
   ]
  },
  {
   "cell_type": "markdown",
   "metadata": {},
   "source": [
    "## 종류가 '개'인 데이터"
   ]
  },
  {
   "cell_type": "code",
   "execution_count": null,
   "metadata": {},
   "outputs": [],
   "source": [
    "df_dog15 = df_15.loc[df_15['kind']==0, :]  # kind가 0인 데이터 '개'\n",
    "df_dog15.head(2)"
   ]
  },
  {
   "cell_type": "code",
   "execution_count": null,
   "metadata": {},
   "outputs": [],
   "source": [
    "df_dog15.describe()"
   ]
  },
  {
   "cell_type": "code",
   "execution_count": null,
   "metadata": {},
   "outputs": [],
   "source": [
    "# df_dog15['breed_Pre'].value_counts()\n",
    "df_dog15['processState_Pre'].value_counts()\n",
    "# processState_C = 보호중\n",
    "# processState_A = 종료(입양), 종료(기증)\n",
    "# processState_D = 종료(자연사),종료(안락사)\n",
    "# processState_R = 종료(반환)\n",
    "# processState_E = 종료(방사),종료(미포획)"
   ]
  },
  {
   "cell_type": "code",
   "execution_count": null,
   "metadata": {},
   "outputs": [],
   "source": [
    "d_dog = df_dog15['processState_D'].sum()  # 종료(자연사),종료(안락사)\n",
    "d_dog"
   ]
  },
  {
   "cell_type": "code",
   "execution_count": null,
   "metadata": {},
   "outputs": [],
   "source": [
    "a_dog = df_dog15['processState_A'].sum()  # 종료(입양), 종료(기증)\n",
    "a_dog"
   ]
  },
  {
   "cell_type": "code",
   "execution_count": null,
   "metadata": {},
   "outputs": [],
   "source": [
    "r_dog = df_dog15['processState_R'].sum()  # 종료(반환)\n",
    "r_dog"
   ]
  },
  {
   "cell_type": "code",
   "execution_count": null,
   "metadata": {},
   "outputs": [],
   "source": [
    "c_dog = df_dog15['processState_C'].sum()\n",
    "c_dog"
   ]
  },
  {
   "cell_type": "code",
   "execution_count": null,
   "metadata": {},
   "outputs": [],
   "source": [
    "e_dog = df_dog15['processState_E'].sum()\n",
    "e_dog"
   ]
  },
  {
   "cell_type": "code",
   "execution_count": null,
   "metadata": {},
   "outputs": [],
   "source": [
    "style.use('ggplot')\n",
    "\n",
    "labels = ['자연사/안락사', '입양/기증', '반환', '보호중', '기타']\n",
    "ratio = [d_dog, a_dog, r_dog, c_dog, e_dog]\n",
    "\n",
    "plt.legend(ratio)\n",
    "\n",
    "plt.pie(ratio, labels=labels, autopct='%1.1f%%')\n",
    "plt.show()"
   ]
  },
  {
   "cell_type": "markdown",
   "metadata": {},
   "source": [
    "### processState 카테고리별 그래프"
   ]
  },
  {
   "cell_type": "code",
   "execution_count": null,
   "metadata": {},
   "outputs": [],
   "source": [
    "df_dog_D15 = df_dog15.loc[df_dog15['processState_D']==True, :]  # 종료(자연사),종료(안락사)\n",
    "df_dog_A15 = df_dog15.loc[df_dog15['processState_A']==True, :]\n",
    "df_dog_R15 = df_dog15.loc[df_dog15['processState_R']==True, :]"
   ]
  },
  {
   "cell_type": "code",
   "execution_count": null,
   "metadata": {},
   "outputs": [],
   "source": [
    "df_dog_D15.columns"
   ]
  },
  {
   "cell_type": "code",
   "execution_count": null,
   "metadata": {},
   "outputs": [],
   "source": [
    "df_dog_D15['sexCd'].value_counts()"
   ]
  },
  {
   "cell_type": "code",
   "execution_count": null,
   "metadata": {},
   "outputs": [],
   "source": [
    "df_dog_D15['age_u'].value_counts()"
   ]
  },
  {
   "cell_type": "code",
   "execution_count": null,
   "metadata": {},
   "outputs": [],
   "source": [
    "df_dog_D15['neuterYn'].value_counts()"
   ]
  },
  {
   "cell_type": "code",
   "execution_count": null,
   "metadata": {},
   "outputs": [],
   "source": [
    "df_dog_D15['size'].value_counts()"
   ]
  },
  {
   "cell_type": "code",
   "execution_count": null,
   "metadata": {},
   "outputs": [],
   "source": [
    "df_dog_D15['orgNm_Pre'].value_counts()"
   ]
  },
  {
   "cell_type": "code",
   "execution_count": null,
   "metadata": {},
   "outputs": [],
   "source": [
    "breed_T10 = df_dog_D15['breed_Pre'].value_counts().head(10)\n",
    "breed_T10"
   ]
  },
  {
   "cell_type": "code",
   "execution_count": null,
   "metadata": {},
   "outputs": [],
   "source": [
    "fig, axs = plt.subplots(4, 2, figsize=(15,20))\n",
    "\n",
    "p1 = sns.countplot(x='happenWd', data=df_dog15, ax=axs[0,0])\n",
    "p1.set_title(\"15년도 연령별 '개'\")\n",
    "p1.set_xticklabels(p1.get_xticklabels(), rotation=45)\n",
    "p2 = sns.countplot(x='age_u', data=df_dog_D15, ax=axs[0,1])\n",
    "p2.set_title(\"15년도 안락사/자연사 연령대\")\n",
    "p3 = sns.countplot(x='neuterYn', data=df_dog_D15, ax=axs[1,0])\n",
    "p3.set_title(\"15년도 안락사/자연사 중성화\")\n",
    "p4 = sns.countplot(x='size', data=df_dog_D15, ax=axs[1,1])\n",
    "p4.set_title(\"15년도 안락사/자연사 크기\")\n",
    "p5 = sns.countplot(x='orgNm_Pre', data=df_dog_D15,ax=axs[2,0])\n",
    "p5.set_title(\"15년도 안락사/자연사 보호소\")\n",
    "p5.set_xticklabels(p5.get_xticklabels(),rotation=45)\n",
    "p6 = sns.countplot(x='sexCd', data=df_dog_D15, ax=axs[2,1])\n",
    "p6.set_title(\"15년도 안락사/자연사 성별\")\n",
    "p7 = sns.countplot(x='happenMth', data=df_dog_D15,ax=axs[3,0])\n",
    "p7.set_title(\"15년도 안락사/자연사 월별\")\n",
    "p8 = sns.countplot(x='breed_Pre', data=df_dog_D15, ax=axs[3,1])\n",
    "p8.set_title(\"15년도 안락사/자연사 품종\")\n",
    "p8.set_xticklabels(p8.get_xticklabels(), rotation=45)\n",
    "\n",
    "plt.tight_layout()\n",
    "plt.show()"
   ]
  },
  {
   "cell_type": "markdown",
   "metadata": {},
   "source": [
    "## 종류가 '고양이'인 데이터"
   ]
  },
  {
   "cell_type": "code",
   "execution_count": null,
   "metadata": {
    "scrolled": true
   },
   "outputs": [],
   "source": [
    "df_cat15 = df_15.loc[df_15['kind']==1, :]  # kind가 0인 데이터 '고양이'\n",
    "df_cat15.head(2)"
   ]
  },
  {
   "cell_type": "code",
   "execution_count": null,
   "metadata": {},
   "outputs": [],
   "source": [
    "df_cat15.describe()"
   ]
  },
  {
   "cell_type": "code",
   "execution_count": null,
   "metadata": {},
   "outputs": [],
   "source": [
    "# df_cat15['breed_Pre'].value_counts()\n",
    "df_cat15['processState_Pre'].value_counts()\n",
    "# processState_C = 보호중\n",
    "# processState_A = 종료(입양), 종료(기증)\n",
    "# processState_D = 종료(자연사),종료(안락사)\n",
    "# processState_R = 종료(반환)\n",
    "# processState_E = 종료(방사),종료(미포획)"
   ]
  },
  {
   "cell_type": "code",
   "execution_count": null,
   "metadata": {},
   "outputs": [],
   "source": [
    "d_cat = df_cat15['processState_D'].sum()\n",
    "d_cat"
   ]
  },
  {
   "cell_type": "code",
   "execution_count": null,
   "metadata": {},
   "outputs": [],
   "source": [
    "a_cat = df_cat15['processState_A'].sum()\n",
    "a_cat"
   ]
  },
  {
   "cell_type": "code",
   "execution_count": null,
   "metadata": {},
   "outputs": [],
   "source": [
    "r_cat = df_cat15['processState_R'].sum()\n",
    "r_cat"
   ]
  },
  {
   "cell_type": "code",
   "execution_count": null,
   "metadata": {},
   "outputs": [],
   "source": [
    "c_cat = df_cat15['processState_C'].sum()\n",
    "c_cat"
   ]
  },
  {
   "cell_type": "code",
   "execution_count": null,
   "metadata": {},
   "outputs": [],
   "source": [
    "e_cat = df_cat15['processState_E'].sum()\n",
    "e_cat"
   ]
  },
  {
   "cell_type": "code",
   "execution_count": null,
   "metadata": {},
   "outputs": [],
   "source": [
    "font_name = font_manager.FontProperties(fname=\"c:/Windows/Fonts/malgun.ttf\").get_name()\n",
    "rc('font', family=font_name)  # 한글 폰트 설정\n",
    "\n",
    "style.use('ggplot')\n",
    "\n",
    "labels = ['자연사/안락사', '입양/기증', '반환', '보호중', '기타']\n",
    "ratio = [d_cat, a_cat, r_cat, c_cat, e_cat]\n",
    "\n",
    "plt.legend(ratio)\n",
    "\n",
    "plt.pie(ratio, labels=labels, autopct='%1.1f%%')\n",
    "plt.show()"
   ]
  },
  {
   "cell_type": "code",
   "execution_count": null,
   "metadata": {},
   "outputs": [],
   "source": []
  },
  {
   "cell_type": "markdown",
   "metadata": {},
   "source": [
    "### '안락사/자연사' 데이터"
   ]
  },
  {
   "cell_type": "code",
   "execution_count": null,
   "metadata": {},
   "outputs": [],
   "source": [
    "df_dog_D15['age(after)'].value_counts().head()"
   ]
  },
  {
   "cell_type": "code",
   "execution_count": null,
   "metadata": {},
   "outputs": [],
   "source": [
    "fig = plt.gcf()\n",
    "plt.hist(df_dog_D15['age(after)'], bins=30)  # '개'의 연령별 히스토그램\n",
    "plt.show()"
   ]
  },
  {
   "cell_type": "code",
   "execution_count": null,
   "metadata": {},
   "outputs": [],
   "source": [
    "df_dog_D15['age_u'].value_counts()"
   ]
  }
 ],
 "metadata": {
  "kernelspec": {
   "display_name": "Python 3",
   "language": "python",
   "name": "python3"
  },
  "language_info": {
   "codemirror_mode": {
    "name": "ipython",
    "version": 3
   },
   "file_extension": ".py",
   "mimetype": "text/x-python",
   "name": "python",
   "nbconvert_exporter": "python",
   "pygments_lexer": "ipython3",
   "version": "3.6.5"
  }
 },
 "nbformat": 4,
 "nbformat_minor": 1
}
