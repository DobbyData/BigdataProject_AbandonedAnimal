{
 "cells": [
  {
   "cell_type": "code",
   "execution_count": 1,
   "metadata": {},
   "outputs": [],
   "source": [
    "import pandas as pd\n",
    "from konlpy.tag import Kkma\n",
    "from konlpy.utils import pprint"
   ]
  },
  {
   "cell_type": "code",
   "execution_count": 2,
   "metadata": {},
   "outputs": [],
   "source": [
    "kkma = Kkma()"
   ]
  },
  {
   "cell_type": "code",
   "execution_count": 3,
   "metadata": {},
   "outputs": [],
   "source": [
    "df = pd.read_csv(r'D:\\pycharmProject\\BigdataProject_AbandonedAnimal\\lostAnimal_20150101_20151231_vol1.csv', encoding='CP949')"
   ]
  },
  {
   "cell_type": "code",
   "execution_count": 4,
   "metadata": {},
   "outputs": [
    {
     "data": {
      "text/plain": [
       "Index(['Unnamed: 0', 'age(before)', 'age(after)', 'careAddr', 'careNm',\n",
       "       'careTel', 'chargeNm', 'colorCd', 'desertionNo', 'filename', 'happenDt',\n",
       "       'happenPlace', 'kindCd', 'neuterYn', 'noticeComment', 'noticeEdt',\n",
       "       'noticeNo', 'noticeSdt', 'officetel', 'orgNm', 'popfile',\n",
       "       'processState', 'sexCd', 'specialMark', 'weight(before)',\n",
       "       'weight(after)'],\n",
       "      dtype='object')"
      ]
     },
     "execution_count": 4,
     "metadata": {},
     "output_type": "execute_result"
    }
   ],
   "source": [
    "df.columns"
   ]
  },
  {
   "cell_type": "code",
   "execution_count": 5,
   "metadata": {},
   "outputs": [
    {
     "name": "stdout",
     "output_type": "stream",
     "text": [
      "<class 'pandas.core.frame.DataFrame'>\n",
      "RangeIndex: 79745 entries, 0 to 79744\n",
      "Data columns (total 26 columns):\n",
      "Unnamed: 0        79745 non-null int64\n",
      "age(before)       79745 non-null object\n",
      "age(after)        79745 non-null float64\n",
      "careAddr          79745 non-null object\n",
      "careNm            79745 non-null object\n",
      "careTel           79745 non-null object\n",
      "chargeNm          76820 non-null object\n",
      "colorCd           79745 non-null object\n",
      "desertionNo       79745 non-null float64\n",
      "filename          79745 non-null object\n",
      "happenDt          79745 non-null int64\n",
      "happenPlace       79745 non-null object\n",
      "kindCd            79745 non-null object\n",
      "neuterYn          79745 non-null object\n",
      "noticeComment     449 non-null object\n",
      "noticeEdt         79745 non-null int64\n",
      "noticeNo          79745 non-null object\n",
      "noticeSdt         79745 non-null int64\n",
      "officetel         77970 non-null object\n",
      "orgNm             79745 non-null object\n",
      "popfile           79745 non-null object\n",
      "processState      79745 non-null object\n",
      "sexCd             79745 non-null object\n",
      "specialMark       79270 non-null object\n",
      "weight(before)    79745 non-null object\n",
      "weight(after)     79533 non-null float64\n",
      "dtypes: float64(3), int64(4), object(19)\n",
      "memory usage: 15.8+ MB\n"
     ]
    }
   ],
   "source": [
    "df.info()"
   ]
  },
  {
   "cell_type": "markdown",
   "metadata": {},
   "source": [
    "## kindCd, happenDt, happenPlace, colorCd"
   ]
  },
  {
   "cell_type": "markdown",
   "metadata": {},
   "source": [
    "### kindCd"
   ]
  },
  {
   "cell_type": "code",
   "execution_count": 6,
   "metadata": {},
   "outputs": [
    {
     "data": {
      "text/plain": [
       "0    [개] 믹스견\n",
       "1    [개] 말티즈\n",
       "2    [개] 믹스견\n",
       "3    [개] 믹스견\n",
       "4    [개] 믹스견\n",
       "Name: kindCd, dtype: object"
      ]
     },
     "execution_count": 6,
     "metadata": {},
     "output_type": "execute_result"
    }
   ],
   "source": [
    "df['kindCd'].head()"
   ]
  },
  {
   "cell_type": "code",
   "execution_count": 7,
   "metadata": {},
   "outputs": [
    {
     "data": {
      "text/plain": [
       "0    개\n",
       "1    개\n",
       "2    개\n",
       "3    개\n",
       "4    개\n",
       "Name: kind, dtype: object"
      ]
     },
     "execution_count": 7,
     "metadata": {},
     "output_type": "execute_result"
    }
   ],
   "source": [
    "df['kind'] = df['kindCd'].str.extract('([가-힣]+)\\]', expand=False) # 한글 정규식\n",
    "df['kind'].head()"
   ]
  },
  {
   "cell_type": "code",
   "execution_count": 8,
   "metadata": {},
   "outputs": [],
   "source": [
    "kind_mapping = {'개': 0, '고양이':1, '기타축종':2}\n",
    "df['kind'] = df['kind'].map(kind_mapping)"
   ]
  },
  {
   "cell_type": "code",
   "execution_count": 9,
   "metadata": {},
   "outputs": [
    {
     "data": {
      "text/plain": [
       "0    58220\n",
       "1    20602\n",
       "2      923\n",
       "Name: kind, dtype: int64"
      ]
     },
     "execution_count": 9,
     "metadata": {},
     "output_type": "execute_result"
    }
   ],
   "source": [
    "df['kind'].value_counts()"
   ]
  },
  {
   "cell_type": "code",
   "execution_count": 10,
   "metadata": {
    "scrolled": true
   },
   "outputs": [],
   "source": [
    "df['breed'] = df['kindCd'].str.split('] ').str[1]\n",
    "# split으로 분리하여 얻은 list에서 2번째 값을 string으로 받음"
   ]
  },
  {
   "cell_type": "code",
   "execution_count": 11,
   "metadata": {},
   "outputs": [
    {
     "data": {
      "text/plain": [
       "0    믹스견\n",
       "1    말티즈\n",
       "2    믹스견\n",
       "3    믹스견\n",
       "4    믹스견\n",
       "Name: breed, dtype: object"
      ]
     },
     "execution_count": 11,
     "metadata": {},
     "output_type": "execute_result"
    }
   ],
   "source": [
    "df['breed'].head()"
   ]
  },
  {
   "cell_type": "code",
   "execution_count": 12,
   "metadata": {},
   "outputs": [
    {
     "data": {
      "text/plain": [
       "믹스견                26492\n",
       "고양이                20584\n",
       "말티즈                 7741\n",
       "푸들                  4873\n",
       "시츄                  3736\n",
       "진도견                 2604\n",
       "요크셔 테리어             2316\n",
       "포메라니안               1047\n",
       "코카 스파니엘              978\n",
       "스피츠                  893\n",
       "슈나우져                 745\n",
       "골든 리트리버              744\n",
       "미니어쳐 핀셔              658\n",
       "치와와                  535\n",
       "닥스훈트                 468\n",
       "비글                   430\n",
       "페키니즈                 390\n",
       "시베리안 허스키             320\n",
       "토끼                   298\n",
       "알라스칸 말라뮤트            198\n",
       "잡종                   180\n",
       "보스턴 테리어              167\n",
       "혼종                   166\n",
       "발바리                  161\n",
       "셰퍼드                  159\n",
       "포인터                  155\n",
       "사모예드                 143\n",
       "고슴도치                 136\n",
       "그레이트 피레니즈            125\n",
       "웰시 코기 펨브로크           110\n",
       "                   ...  \n",
       "아메리칸스테포드셔테리어           1\n",
       "믹스 또는 라사압소             1\n",
       "브레타니 스파니엘              1\n",
       "푸들.말티즈 믹스              1\n",
       "요크 믹스                  1\n",
       "아프간 하운드(추정)            1\n",
       "티베탄테리어                 1\n",
       "제이크랜드테리어               1\n",
       "시바견?                   1\n",
       "슈나우져 혹은 슈나우져 믹스        1\n",
       "잉글리시 세타                1\n",
       "진도견 믹스추정               1\n",
       "맨체스트테리어                1\n",
       "레브라도레트리버               1\n",
       "기나아피그                  1\n",
       "동경견(댕견)                1\n",
       "동경                     1\n",
       "슈나우져 믹스 추정             1\n",
       "패릿                     1\n",
       "미들 오브차카                1\n",
       "웰시코기                   1\n",
       "레몬보더콜리                 1\n",
       "시바이누                   1\n",
       "붉은머리 모란앵무              1\n",
       "라이카 믹스                 1\n",
       "제페니스 친                 1\n",
       "금계                     1\n",
       "테리어                    1\n",
       "코카 혹은 믹스견              1\n",
       "웰시 코기                  1\n",
       "Name: breed, Length: 490, dtype: int64"
      ]
     },
     "execution_count": 12,
     "metadata": {},
     "output_type": "execute_result"
    }
   ],
   "source": [
    "breed = df['breed'].value_counts()\n",
    "breed"
   ]
  },
  {
   "cell_type": "markdown",
   "metadata": {},
   "source": [
    "### happenDt"
   ]
  },
  {
   "cell_type": "code",
   "execution_count": 13,
   "metadata": {},
   "outputs": [
    {
     "data": {
      "text/plain": [
       "0    20151231\n",
       "1    20151231\n",
       "2    20151231\n",
       "3    20151231\n",
       "4    20151231\n",
       "Name: happenDt, dtype: int64"
      ]
     },
     "execution_count": 13,
     "metadata": {},
     "output_type": "execute_result"
    }
   ],
   "source": [
    "df['happenDt'].head()"
   ]
  },
  {
   "cell_type": "code",
   "execution_count": 14,
   "metadata": {},
   "outputs": [],
   "source": [
    "df['happenDt'] = pd.to_datetime(df['happenDt'], format='%Y%m%d')\n",
    "# 8자리를 날짜형식으로 바꿈"
   ]
  },
  {
   "cell_type": "code",
   "execution_count": 15,
   "metadata": {},
   "outputs": [
    {
     "data": {
      "text/plain": [
       "0   2015-12-31\n",
       "1   2015-12-31\n",
       "2   2015-12-31\n",
       "3   2015-12-31\n",
       "4   2015-12-31\n",
       "Name: happenDt, dtype: datetime64[ns]"
      ]
     },
     "execution_count": 15,
     "metadata": {},
     "output_type": "execute_result"
    }
   ],
   "source": [
    "df['happenDt'].head()"
   ]
  },
  {
   "cell_type": "code",
   "execution_count": 16,
   "metadata": {},
   "outputs": [],
   "source": [
    "# df['happenWd'] = df['happenDt'].dt.dayofweekday  # 요일을 숫자로 표현함 \"0 = Sunday\"\n",
    "df['happenWd'] = df['happenDt'].dt.day_name()"
   ]
  },
  {
   "cell_type": "code",
   "execution_count": 17,
   "metadata": {},
   "outputs": [
    {
     "data": {
      "text/plain": [
       "0    Thursday\n",
       "1    Thursday\n",
       "2    Thursday\n",
       "3    Thursday\n",
       "4    Thursday\n",
       "Name: happenWd, dtype: object"
      ]
     },
     "execution_count": 17,
     "metadata": {},
     "output_type": "execute_result"
    }
   ],
   "source": [
    "df['happenWd'].head()"
   ]
  },
  {
   "cell_type": "code",
   "execution_count": 18,
   "metadata": {},
   "outputs": [
    {
     "data": {
      "text/plain": [
       "Monday       17591\n",
       "Tuesday      13327\n",
       "Wednesday    12857\n",
       "Friday       12414\n",
       "Thursday     12399\n",
       "Saturday      7108\n",
       "Sunday        4049\n",
       "Name: happenWd, dtype: int64"
      ]
     },
     "execution_count": 18,
     "metadata": {},
     "output_type": "execute_result"
    }
   ],
   "source": [
    "df['happenWd'].value_counts()"
   ]
  },
  {
   "cell_type": "code",
   "execution_count": 19,
   "metadata": {},
   "outputs": [],
   "source": [
    "df['happenMth'] = pd.DatetimeIndex(df['happenDt']).month\n",
    "# 날짜에서 '월'값을 받음"
   ]
  },
  {
   "cell_type": "code",
   "execution_count": 20,
   "metadata": {},
   "outputs": [
    {
     "data": {
      "text/plain": [
       "0    12\n",
       "1    12\n",
       "2    12\n",
       "3    12\n",
       "4    12\n",
       "Name: happenMth, dtype: int64"
      ]
     },
     "execution_count": 20,
     "metadata": {},
     "output_type": "execute_result"
    }
   ],
   "source": [
    "df['happenMth'].head()"
   ]
  },
  {
   "cell_type": "code",
   "execution_count": 21,
   "metadata": {},
   "outputs": [
    {
     "data": {
      "text/plain": [
       "7     8312\n",
       "6     8271\n",
       "8     7996\n",
       "5     7683\n",
       "9     7159\n",
       "10    6946\n",
       "4     6864\n",
       "11    6088\n",
       "3     5674\n",
       "12    5410\n",
       "1     5079\n",
       "2     4263\n",
       "Name: happenMth, dtype: int64"
      ]
     },
     "execution_count": 21,
     "metadata": {},
     "output_type": "execute_result"
    }
   ],
   "source": [
    "df['happenMth'].value_counts()"
   ]
  },
  {
   "cell_type": "markdown",
   "metadata": {},
   "source": [
    "### age"
   ]
  },
  {
   "cell_type": "code",
   "execution_count": 22,
   "metadata": {},
   "outputs": [
    {
     "data": {
      "text/plain": [
       "0    6.0\n",
       "1    3.5\n",
       "2    5.0\n",
       "3    6.0\n",
       "4    4.0\n",
       "Name: weight(after), dtype: float64"
      ]
     },
     "execution_count": 22,
     "metadata": {},
     "output_type": "execute_result"
    }
   ],
   "source": [
    "df['weight(after)'].head()"
   ]
  },
  {
   "cell_type": "code",
   "execution_count": 23,
   "metadata": {},
   "outputs": [],
   "source": [
    "df.loc[df['weight(after)'] <= 3, 'size'] = '초소형'\n",
    "df.loc[(df['weight(after)'] > 3 ) & (df['weight(after)'] <=9 ), 'size'] = '소형'\n",
    "df.loc[(df['weight(after)'] > 9 ) & (df['weight(after)'] <=25 ), 'size'] = '중형'\n",
    "df.loc[df['weight(after)'] > 25, 'size'] = '대형'"
   ]
  },
  {
   "cell_type": "code",
   "execution_count": 24,
   "metadata": {},
   "outputs": [
    {
     "data": {
      "text/plain": [
       "0    소형\n",
       "1    소형\n",
       "2    소형\n",
       "3    소형\n",
       "4    소형\n",
       "Name: size, dtype: object"
      ]
     },
     "execution_count": 24,
     "metadata": {},
     "output_type": "execute_result"
    }
   ],
   "source": [
    "df['size'].head()"
   ]
  },
  {
   "cell_type": "markdown",
   "metadata": {},
   "source": [
    "### weight"
   ]
  },
  {
   "cell_type": "code",
   "execution_count": 25,
   "metadata": {},
   "outputs": [
    {
     "data": {
      "text/plain": [
       "0    0.0\n",
       "1    4.0\n",
       "2    5.0\n",
       "3    5.0\n",
       "4    1.0\n",
       "Name: age(after), dtype: float64"
      ]
     },
     "execution_count": 25,
     "metadata": {},
     "output_type": "execute_result"
    }
   ],
   "source": [
    "df['age(after)'].head()"
   ]
  },
  {
   "cell_type": "code",
   "execution_count": 26,
   "metadata": {},
   "outputs": [],
   "source": [
    "df.loc[df['age(after)'] <= 1, 'age_u'] = '유견기'\n",
    "df.loc[(df['age(after)'] > 1 ) & (df['age(after)'] <= 9 ), 'age_u'] = '성견기'\n",
    "df.loc[df['age(after)'] > 9, 'age_u'] = '노견기'"
   ]
  },
  {
   "cell_type": "code",
   "execution_count": 27,
   "metadata": {},
   "outputs": [
    {
     "data": {
      "text/plain": [
       "0    유견기\n",
       "1    성견기\n",
       "2    성견기\n",
       "3    성견기\n",
       "4    유견기\n",
       "Name: age_u, dtype: object"
      ]
     },
     "execution_count": 27,
     "metadata": {},
     "output_type": "execute_result"
    }
   ],
   "source": [
    "df['age_u'].head()"
   ]
  },
  {
   "cell_type": "markdown",
   "metadata": {},
   "source": [
    "## Save"
   ]
  },
  {
   "cell_type": "code",
   "execution_count": 28,
   "metadata": {},
   "outputs": [
    {
     "data": {
      "text/plain": [
       "Index(['Unnamed: 0', 'age(before)', 'age(after)', 'careAddr', 'careNm',\n",
       "       'careTel', 'chargeNm', 'colorCd', 'desertionNo', 'filename', 'happenDt',\n",
       "       'happenPlace', 'kindCd', 'neuterYn', 'noticeComment', 'noticeEdt',\n",
       "       'noticeNo', 'noticeSdt', 'officetel', 'orgNm', 'popfile',\n",
       "       'processState', 'sexCd', 'specialMark', 'weight(before)',\n",
       "       'weight(after)', 'kind', 'breed', 'happenWd', 'happenMth', 'size',\n",
       "       'age_u'],\n",
       "      dtype='object')"
      ]
     },
     "execution_count": 28,
     "metadata": {},
     "output_type": "execute_result"
    }
   ],
   "source": [
    "df.columns"
   ]
  },
  {
   "cell_type": "code",
   "execution_count": 30,
   "metadata": {},
   "outputs": [],
   "source": [
    "df.to_csv('lostAnimal_20150101_20151231_vol2.csv',encoding='euc-kr')"
   ]
  },
  {
   "cell_type": "code",
   "execution_count": null,
   "metadata": {},
   "outputs": [],
   "source": []
  }
 ],
 "metadata": {
  "kernelspec": {
   "display_name": "Python 3",
   "language": "python",
   "name": "python3"
  },
  "language_info": {
   "codemirror_mode": {
    "name": "ipython",
    "version": 3
   },
   "file_extension": ".py",
   "mimetype": "text/x-python",
   "name": "python",
   "nbconvert_exporter": "python",
   "pygments_lexer": "ipython3",
   "version": "3.6.5"
  }
 },
 "nbformat": 4,
 "nbformat_minor": 2
}
