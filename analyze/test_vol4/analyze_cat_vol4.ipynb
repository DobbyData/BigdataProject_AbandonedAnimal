{
 "cells": [
  {
   "cell_type": "markdown",
   "metadata": {},
   "source": [
    "## 유기동물 데이터를 이용한 입양률 예측"
   ]
  },
  {
   "cell_type": "code",
   "execution_count": 1,
   "metadata": {},
   "outputs": [
    {
     "name": "stderr",
     "output_type": "stream",
     "text": [
      "C:\\Users\\Bit\\Anaconda3\\lib\\site-packages\\sklearn\\ensemble\\weight_boosting.py:29: DeprecationWarning: numpy.core.umath_tests is an internal NumPy module and should not be imported. It will be removed in a future NumPy release.\n",
      "  from numpy.core.umath_tests import inner1d\n"
     ]
    }
   ],
   "source": [
    "import pandas as pd\n",
    "import numpy as np\n",
    "import os\n",
    "import matplotlib.pyplot as plt\n",
    "from sklearn.neighbors import KNeighborsClassifier\n",
    "from sklearn.linear_model import LogisticRegression\n",
    "from sklearn.model_selection import train_test_split,RandomizedSearchCV, GridSearchCV\n",
    "from sklearn.tree import DecisionTreeClassifier\n",
    "from sklearn.ensemble import RandomForestClassifier\n",
    "from sklearn.ensemble import AdaBoostClassifier\n",
    "from sklearn.naive_bayes import GaussianNB\n",
    "from sklearn.svm import SVC\n",
    "from sklearn import metrics, preprocessing\n",
    "from scipy.stats import itemfreq\n",
    "import mglearn"
   ]
  },
  {
   "cell_type": "markdown",
   "metadata": {},
   "source": [
    "### 1. Data Loading"
   ]
  },
  {
   "cell_type": "code",
   "execution_count": 2,
   "metadata": {},
   "outputs": [],
   "source": [
    "df8=pd.read_csv(\"D:\\KSA\\project_imsi\\lostAnimal_20180101_20181231_vol3.csv\", encoding=\"euc-kr\")\n",
    "df7=pd.read_csv(\"D:\\KSA\\project_imsi\\lostAnimal_20170101_20171231_vol3.csv\", encoding=\"euc-kr\")\n",
    "df6=pd.read_csv(\"D:\\KSA\\project_imsi\\lostAnimal_20160101_20161231_vol3.csv\", encoding=\"euc-kr\")\n",
    "df5=pd.read_csv(\"D:\\KSA\\project_imsi\\lostAnimal_20150101_20151231_vol3.csv\", encoding=\"euc-kr\")"
   ]
  },
  {
   "cell_type": "code",
   "execution_count": 3,
   "metadata": {},
   "outputs": [],
   "source": [
    "df5 = df5.drop(columns=['Unnamed: 0', 'Unnamed: 0.1', 'Unnamed: 0.1.1'])\n",
    "df6 = df6.drop(columns=['Unnamed: 0', 'Unnamed: 0.1', 'Unnamed: 0.1.1'])\n",
    "df7 = df7.drop(columns=['Unnamed: 0', 'Unnamed: 0.1', 'Unnamed: 0.1.1'])\n",
    "df8 = df8.drop(columns=['Unnamed: 0', 'Unnamed: 0.1', 'Unnamed: 0.1.1'])"
   ]
  },
  {
   "cell_type": "code",
   "execution_count": 4,
   "metadata": {
    "scrolled": true
   },
   "outputs": [
    {
     "data": {
      "text/html": [
       "<div>\n",
       "<style scoped>\n",
       "    .dataframe tbody tr th:only-of-type {\n",
       "        vertical-align: middle;\n",
       "    }\n",
       "\n",
       "    .dataframe tbody tr th {\n",
       "        vertical-align: top;\n",
       "    }\n",
       "\n",
       "    .dataframe thead th {\n",
       "        text-align: right;\n",
       "    }\n",
       "</style>\n",
       "<table border=\"1\" class=\"dataframe\">\n",
       "  <thead>\n",
       "    <tr style=\"text-align: right;\">\n",
       "      <th></th>\n",
       "      <th>age(before)</th>\n",
       "      <th>age(after)</th>\n",
       "      <th>careAddr</th>\n",
       "      <th>careNm</th>\n",
       "      <th>careTel</th>\n",
       "      <th>chargeNm</th>\n",
       "      <th>colorCd</th>\n",
       "      <th>desertionNo</th>\n",
       "      <th>filename</th>\n",
       "      <th>happenDt</th>\n",
       "      <th>...</th>\n",
       "      <th>sexCd_Q</th>\n",
       "      <th>neuterYn_Y</th>\n",
       "      <th>neuterYn_N</th>\n",
       "      <th>neuterYn_U</th>\n",
       "      <th>careNm_ETC</th>\n",
       "      <th>careNm_H</th>\n",
       "      <th>careNm_C</th>\n",
       "      <th>careNm_O</th>\n",
       "      <th>careNm_AD</th>\n",
       "      <th>careNm_CM</th>\n",
       "    </tr>\n",
       "  </thead>\n",
       "  <tbody>\n",
       "    <tr>\n",
       "      <th>79744</th>\n",
       "      <td>2달추정(년생)</td>\n",
       "      <td>0.0</td>\n",
       "      <td>경기도 수원시 팔달구 인계동 1135-7</td>\n",
       "      <td>정동물병원</td>\n",
       "      <td>031-239-7585</td>\n",
       "      <td>노선영</td>\n",
       "      <td>흑백</td>\n",
       "      <td>4.413740e+14</td>\n",
       "      <td>http://www.animal.go.kr/files/shelter/2014/12/...</td>\n",
       "      <td>2015-01-01</td>\n",
       "      <td>...</td>\n",
       "      <td>False</td>\n",
       "      <td>False</td>\n",
       "      <td>True</td>\n",
       "      <td>False</td>\n",
       "      <td>False</td>\n",
       "      <td>True</td>\n",
       "      <td>False</td>\n",
       "      <td>False</td>\n",
       "      <td>False</td>\n",
       "      <td>False</td>\n",
       "    </tr>\n",
       "  </tbody>\n",
       "</table>\n",
       "<p>1 rows × 50 columns</p>\n",
       "</div>"
      ],
      "text/plain": [
       "      age(before)  age(after)                careAddr careNm       careTel  \\\n",
       "79744    2달추정(년생)         0.0  경기도 수원시 팔달구 인계동 1135-7  정동물병원  031-239-7585   \n",
       "\n",
       "      chargeNm colorCd   desertionNo  \\\n",
       "79744      노선영      흑백  4.413740e+14   \n",
       "\n",
       "                                                filename    happenDt  \\\n",
       "79744  http://www.animal.go.kr/files/shelter/2014/12/...  2015-01-01   \n",
       "\n",
       "         ...    sexCd_Q neuterYn_Y neuterYn_N neuterYn_U  careNm_ETC careNm_H  \\\n",
       "79744    ...      False      False       True      False       False     True   \n",
       "\n",
       "       careNm_C careNm_O careNm_AD careNm_CM  \n",
       "79744     False    False     False     False  \n",
       "\n",
       "[1 rows x 50 columns]"
      ]
     },
     "execution_count": 4,
     "metadata": {},
     "output_type": "execute_result"
    }
   ],
   "source": [
    "df5.tail(1)"
   ]
  },
  {
   "cell_type": "code",
   "execution_count": 5,
   "metadata": {},
   "outputs": [
    {
     "data": {
      "text/html": [
       "<div>\n",
       "<style scoped>\n",
       "    .dataframe tbody tr th:only-of-type {\n",
       "        vertical-align: middle;\n",
       "    }\n",
       "\n",
       "    .dataframe tbody tr th {\n",
       "        vertical-align: top;\n",
       "    }\n",
       "\n",
       "    .dataframe thead th {\n",
       "        text-align: right;\n",
       "    }\n",
       "</style>\n",
       "<table border=\"1\" class=\"dataframe\">\n",
       "  <thead>\n",
       "    <tr style=\"text-align: right;\">\n",
       "      <th></th>\n",
       "      <th>age(before)</th>\n",
       "      <th>age(after)</th>\n",
       "      <th>careAddr</th>\n",
       "      <th>careNm</th>\n",
       "      <th>careTel</th>\n",
       "      <th>chargeNm</th>\n",
       "      <th>colorCd</th>\n",
       "      <th>desertionNo</th>\n",
       "      <th>filename</th>\n",
       "      <th>happenDt</th>\n",
       "      <th>...</th>\n",
       "      <th>sexCd_Q</th>\n",
       "      <th>neuterYn_Y</th>\n",
       "      <th>neuterYn_N</th>\n",
       "      <th>neuterYn_U</th>\n",
       "      <th>careNm_ETC</th>\n",
       "      <th>careNm_H</th>\n",
       "      <th>careNm_C</th>\n",
       "      <th>careNm_O</th>\n",
       "      <th>careNm_AD</th>\n",
       "      <th>careNm_CM</th>\n",
       "    </tr>\n",
       "  </thead>\n",
       "  <tbody>\n",
       "    <tr>\n",
       "      <th>88174</th>\n",
       "      <td>2개월추정(년생)</td>\n",
       "      <td>0.0</td>\n",
       "      <td>경기도 안산시 상록구 청곡길 50 (부곡동) 한국야생동물보호협회</td>\n",
       "      <td>한국야생동물보호협회</td>\n",
       "      <td>031-296-0124</td>\n",
       "      <td>박태환</td>\n",
       "      <td>흑</td>\n",
       "      <td>4.414010e+14</td>\n",
       "      <td>http://www.animal.go.kr/files/shelter/2015/11/...</td>\n",
       "      <td>2016-01-01</td>\n",
       "      <td>...</td>\n",
       "      <td>False</td>\n",
       "      <td>False</td>\n",
       "      <td>True</td>\n",
       "      <td>False</td>\n",
       "      <td>False</td>\n",
       "      <td>False</td>\n",
       "      <td>False</td>\n",
       "      <td>False</td>\n",
       "      <td>False</td>\n",
       "      <td>True</td>\n",
       "    </tr>\n",
       "  </tbody>\n",
       "</table>\n",
       "<p>1 rows × 50 columns</p>\n",
       "</div>"
      ],
      "text/plain": [
       "      age(before)  age(after)                             careAddr  \\\n",
       "88174   2개월추정(년생)         0.0  경기도 안산시 상록구 청곡길 50 (부곡동) 한국야생동물보호협회   \n",
       "\n",
       "           careNm       careTel chargeNm colorCd   desertionNo  \\\n",
       "88174  한국야생동물보호협회  031-296-0124      박태환       흑  4.414010e+14   \n",
       "\n",
       "                                                filename    happenDt  \\\n",
       "88174  http://www.animal.go.kr/files/shelter/2015/11/...  2016-01-01   \n",
       "\n",
       "         ...    sexCd_Q neuterYn_Y neuterYn_N neuterYn_U  careNm_ETC careNm_H  \\\n",
       "88174    ...      False      False       True      False       False    False   \n",
       "\n",
       "       careNm_C careNm_O careNm_AD careNm_CM  \n",
       "88174     False    False     False      True  \n",
       "\n",
       "[1 rows x 50 columns]"
      ]
     },
     "execution_count": 5,
     "metadata": {},
     "output_type": "execute_result"
    }
   ],
   "source": [
    "df6.tail(1)"
   ]
  },
  {
   "cell_type": "code",
   "execution_count": 6,
   "metadata": {},
   "outputs": [
    {
     "data": {
      "text/html": [
       "<div>\n",
       "<style scoped>\n",
       "    .dataframe tbody tr th:only-of-type {\n",
       "        vertical-align: middle;\n",
       "    }\n",
       "\n",
       "    .dataframe tbody tr th {\n",
       "        vertical-align: top;\n",
       "    }\n",
       "\n",
       "    .dataframe thead th {\n",
       "        text-align: right;\n",
       "    }\n",
       "</style>\n",
       "<table border=\"1\" class=\"dataframe\">\n",
       "  <thead>\n",
       "    <tr style=\"text-align: right;\">\n",
       "      <th></th>\n",
       "      <th>age(before)</th>\n",
       "      <th>age(after)</th>\n",
       "      <th>careAddr</th>\n",
       "      <th>careNm</th>\n",
       "      <th>careTel</th>\n",
       "      <th>chargeNm</th>\n",
       "      <th>colorCd</th>\n",
       "      <th>desertionNo</th>\n",
       "      <th>filename</th>\n",
       "      <th>happenDt</th>\n",
       "      <th>...</th>\n",
       "      <th>sexCd_Q</th>\n",
       "      <th>neuterYn_Y</th>\n",
       "      <th>neuterYn_N</th>\n",
       "      <th>neuterYn_U</th>\n",
       "      <th>careNm_ETC</th>\n",
       "      <th>careNm_H</th>\n",
       "      <th>careNm_C</th>\n",
       "      <th>careNm_O</th>\n",
       "      <th>careNm_AD</th>\n",
       "      <th>careNm_CM</th>\n",
       "    </tr>\n",
       "  </thead>\n",
       "  <tbody>\n",
       "    <tr>\n",
       "      <th>100722</th>\n",
       "      <td>2012(년생)</td>\n",
       "      <td>5</td>\n",
       "      <td>서울특별시 양천구 목동  657번지 16호</td>\n",
       "      <td>강현림 동물병원</td>\n",
       "      <td>02-2642-9159</td>\n",
       "      <td>김영승</td>\n",
       "      <td>갈색</td>\n",
       "      <td>4.113140e+14</td>\n",
       "      <td>http://www.animal.go.kr/files/shelter/2016/10/...</td>\n",
       "      <td>2017-01-01</td>\n",
       "      <td>...</td>\n",
       "      <td>False</td>\n",
       "      <td>False</td>\n",
       "      <td>True</td>\n",
       "      <td>False</td>\n",
       "      <td>False</td>\n",
       "      <td>True</td>\n",
       "      <td>False</td>\n",
       "      <td>False</td>\n",
       "      <td>False</td>\n",
       "      <td>False</td>\n",
       "    </tr>\n",
       "  </tbody>\n",
       "</table>\n",
       "<p>1 rows × 50 columns</p>\n",
       "</div>"
      ],
      "text/plain": [
       "       age(before)  age(after)                 careAddr    careNm  \\\n",
       "100722    2012(년생)           5  서울특별시 양천구 목동  657번지 16호  강현림 동물병원   \n",
       "\n",
       "             careTel chargeNm colorCd   desertionNo  \\\n",
       "100722  02-2642-9159      김영승      갈색  4.113140e+14   \n",
       "\n",
       "                                                 filename    happenDt  \\\n",
       "100722  http://www.animal.go.kr/files/shelter/2016/10/...  2017-01-01   \n",
       "\n",
       "          ...    sexCd_Q neuterYn_Y neuterYn_N neuterYn_U  careNm_ETC  \\\n",
       "100722    ...      False      False       True      False       False   \n",
       "\n",
       "       careNm_H  careNm_C careNm_O careNm_AD careNm_CM  \n",
       "100722     True     False    False     False     False  \n",
       "\n",
       "[1 rows x 50 columns]"
      ]
     },
     "execution_count": 6,
     "metadata": {},
     "output_type": "execute_result"
    }
   ],
   "source": [
    "df7.tail(1)"
   ]
  },
  {
   "cell_type": "code",
   "execution_count": 7,
   "metadata": {},
   "outputs": [
    {
     "data": {
      "text/html": [
       "<div>\n",
       "<style scoped>\n",
       "    .dataframe tbody tr th:only-of-type {\n",
       "        vertical-align: middle;\n",
       "    }\n",
       "\n",
       "    .dataframe tbody tr th {\n",
       "        vertical-align: top;\n",
       "    }\n",
       "\n",
       "    .dataframe thead th {\n",
       "        text-align: right;\n",
       "    }\n",
       "</style>\n",
       "<table border=\"1\" class=\"dataframe\">\n",
       "  <thead>\n",
       "    <tr style=\"text-align: right;\">\n",
       "      <th></th>\n",
       "      <th>age(before)</th>\n",
       "      <th>age(after)</th>\n",
       "      <th>careAddr</th>\n",
       "      <th>careNm</th>\n",
       "      <th>careTel</th>\n",
       "      <th>chargeNm</th>\n",
       "      <th>colorCd</th>\n",
       "      <th>desertionNo</th>\n",
       "      <th>filename</th>\n",
       "      <th>happenDt</th>\n",
       "      <th>...</th>\n",
       "      <th>sexCd_Q</th>\n",
       "      <th>neuterYn_Y</th>\n",
       "      <th>neuterYn_N</th>\n",
       "      <th>neuterYn_U</th>\n",
       "      <th>careNm_ETC</th>\n",
       "      <th>careNm_H</th>\n",
       "      <th>careNm_C</th>\n",
       "      <th>careNm_O</th>\n",
       "      <th>careNm_AD</th>\n",
       "      <th>careNm_CM</th>\n",
       "    </tr>\n",
       "  </thead>\n",
       "  <tbody>\n",
       "    <tr>\n",
       "      <th>80329</th>\n",
       "      <td>2015(년생)</td>\n",
       "      <td>3</td>\n",
       "      <td>대구광역시 수성구 달구벌대로 2475 (범어동)</td>\n",
       "      <td>제니스동물병원</td>\n",
       "      <td>053-756-8290</td>\n",
       "      <td>경제환경과</td>\n",
       "      <td>흰색</td>\n",
       "      <td>4.270000e+14</td>\n",
       "      <td>http://www.animal.go.kr/files/shelter/2017/12/...</td>\n",
       "      <td>2018-01-01</td>\n",
       "      <td>...</td>\n",
       "      <td>False</td>\n",
       "      <td>True</td>\n",
       "      <td>False</td>\n",
       "      <td>False</td>\n",
       "      <td>False</td>\n",
       "      <td>True</td>\n",
       "      <td>False</td>\n",
       "      <td>False</td>\n",
       "      <td>False</td>\n",
       "      <td>False</td>\n",
       "    </tr>\n",
       "  </tbody>\n",
       "</table>\n",
       "<p>1 rows × 50 columns</p>\n",
       "</div>"
      ],
      "text/plain": [
       "      age(before)  age(after)                    careAddr   careNm  \\\n",
       "80329    2015(년생)           3  대구광역시 수성구 달구벌대로 2475 (범어동)  제니스동물병원   \n",
       "\n",
       "            careTel chargeNm colorCd   desertionNo  \\\n",
       "80329  053-756-8290    경제환경과      흰색  4.270000e+14   \n",
       "\n",
       "                                                filename    happenDt  \\\n",
       "80329  http://www.animal.go.kr/files/shelter/2017/12/...  2018-01-01   \n",
       "\n",
       "         ...    sexCd_Q neuterYn_Y neuterYn_N neuterYn_U  careNm_ETC careNm_H  \\\n",
       "80329    ...      False       True      False      False       False     True   \n",
       "\n",
       "       careNm_C careNm_O careNm_AD careNm_CM  \n",
       "80329     False    False     False     False  \n",
       "\n",
       "[1 rows x 50 columns]"
      ]
     },
     "execution_count": 7,
     "metadata": {},
     "output_type": "execute_result"
    }
   ],
   "source": [
    "df8.tail(1)"
   ]
  },
  {
   "cell_type": "code",
   "execution_count": 8,
   "metadata": {
    "scrolled": true
   },
   "outputs": [
    {
     "name": "stdout",
     "output_type": "stream",
     "text": [
      "50\n",
      "50\n",
      "50\n",
      "50\n"
     ]
    }
   ],
   "source": [
    "print(len(df5.columns))\n",
    "print(len(df6.columns))\n",
    "print(len(df7.columns))\n",
    "print(len(df8.columns))"
   ]
  },
  {
   "cell_type": "markdown",
   "metadata": {},
   "source": [
    "### 2. Data PreProcessing"
   ]
  },
  {
   "cell_type": "markdown",
   "metadata": {},
   "source": [
    "#### - 데이터프레임 합치기 (15,16,17년도)"
   ]
  },
  {
   "cell_type": "code",
   "execution_count": 9,
   "metadata": {},
   "outputs": [
    {
     "data": {
      "text/plain": [
       "167920"
      ]
     },
     "execution_count": 9,
     "metadata": {},
     "output_type": "execute_result"
    }
   ],
   "source": [
    "#df567 = pd.merge(df5,df6, how='outer')\n",
    "df567 = pd.concat([df5,df6], ignore_index=True)\n",
    "len(df567)"
   ]
  },
  {
   "cell_type": "code",
   "execution_count": 10,
   "metadata": {},
   "outputs": [
    {
     "name": "stderr",
     "output_type": "stream",
     "text": [
      "C:\\Users\\Bit\\Anaconda3\\lib\\site-packages\\ipykernel_launcher.py:1: FutureWarning: Sorting because non-concatenation axis is not aligned. A future version\n",
      "of pandas will change to not sort by default.\n",
      "\n",
      "To accept the future behavior, pass 'sort=False'.\n",
      "\n",
      "To retain the current behavior and silence the warning, pass 'sort=True'.\n",
      "\n",
      "  \"\"\"Entry point for launching an IPython kernel.\n"
     ]
    },
    {
     "data": {
      "text/plain": [
       "268643"
      ]
     },
     "execution_count": 10,
     "metadata": {},
     "output_type": "execute_result"
    }
   ],
   "source": [
    "df567 = pd.concat([df567,df7], ignore_index=True)\n",
    "len(df567)"
   ]
  },
  {
   "cell_type": "code",
   "execution_count": 11,
   "metadata": {},
   "outputs": [
    {
     "data": {
      "text/html": [
       "<div>\n",
       "<style scoped>\n",
       "    .dataframe tbody tr th:only-of-type {\n",
       "        vertical-align: middle;\n",
       "    }\n",
       "\n",
       "    .dataframe tbody tr th {\n",
       "        vertical-align: top;\n",
       "    }\n",
       "\n",
       "    .dataframe thead th {\n",
       "        text-align: right;\n",
       "    }\n",
       "</style>\n",
       "<table border=\"1\" class=\"dataframe\">\n",
       "  <thead>\n",
       "    <tr style=\"text-align: right;\">\n",
       "      <th></th>\n",
       "      <th>age(after)</th>\n",
       "      <th>age(before)</th>\n",
       "      <th>age_u</th>\n",
       "      <th>breed</th>\n",
       "      <th>breed.1</th>\n",
       "      <th>breed_Pre</th>\n",
       "      <th>careAddr</th>\n",
       "      <th>careNm</th>\n",
       "      <th>careNm_AD</th>\n",
       "      <th>careNm_C</th>\n",
       "      <th>...</th>\n",
       "      <th>processState_Pre</th>\n",
       "      <th>processState_R</th>\n",
       "      <th>sexCd</th>\n",
       "      <th>sexCd_F</th>\n",
       "      <th>sexCd_M</th>\n",
       "      <th>sexCd_Q</th>\n",
       "      <th>size</th>\n",
       "      <th>specialMark</th>\n",
       "      <th>weight(after)</th>\n",
       "      <th>weight(before)</th>\n",
       "    </tr>\n",
       "  </thead>\n",
       "  <tbody>\n",
       "    <tr>\n",
       "      <th>0</th>\n",
       "      <td>0.0</td>\n",
       "      <td>6개월추정(년생)</td>\n",
       "      <td>유견기</td>\n",
       "      <td>믹스견</td>\n",
       "      <td>NaN</td>\n",
       "      <td>믹스견</td>\n",
       "      <td>충청남도 공주시 번영1로 54 (신관동)</td>\n",
       "      <td>강북동물병원</td>\n",
       "      <td>False</td>\n",
       "      <td>False</td>\n",
       "      <td>...</td>\n",
       "      <td>D</td>\n",
       "      <td>False</td>\n",
       "      <td>F</td>\n",
       "      <td>True</td>\n",
       "      <td>False</td>\n",
       "      <td>False</td>\n",
       "      <td>소형</td>\n",
       "      <td>유치잔존,옴 피부병,식욕부진</td>\n",
       "      <td>6.0</td>\n",
       "      <td>6(Kg)</td>\n",
       "    </tr>\n",
       "  </tbody>\n",
       "</table>\n",
       "<p>1 rows × 51 columns</p>\n",
       "</div>"
      ],
      "text/plain": [
       "   age(after) age(before) age_u breed breed.1 breed_Pre  \\\n",
       "0         0.0   6개월추정(년생)   유견기   믹스견     NaN       믹스견   \n",
       "\n",
       "                 careAddr  careNm  careNm_AD  careNm_C      ...        \\\n",
       "0  충청남도 공주시 번영1로 54 (신관동)  강북동물병원      False     False      ...         \n",
       "\n",
       "   processState_Pre  processState_R  sexCd  sexCd_F sexCd_M sexCd_Q size  \\\n",
       "0                 D           False      F     True   False   False   소형   \n",
       "\n",
       "       specialMark weight(after) weight(before)  \n",
       "0  유치잔존,옴 피부병,식욕부진           6.0          6(Kg)  \n",
       "\n",
       "[1 rows x 51 columns]"
      ]
     },
     "execution_count": 11,
     "metadata": {},
     "output_type": "execute_result"
    }
   ],
   "source": [
    "df567.head(1)"
   ]
  },
  {
   "cell_type": "code",
   "execution_count": 12,
   "metadata": {},
   "outputs": [
    {
     "data": {
      "text/html": [
       "<div>\n",
       "<style scoped>\n",
       "    .dataframe tbody tr th:only-of-type {\n",
       "        vertical-align: middle;\n",
       "    }\n",
       "\n",
       "    .dataframe tbody tr th {\n",
       "        vertical-align: top;\n",
       "    }\n",
       "\n",
       "    .dataframe thead th {\n",
       "        text-align: right;\n",
       "    }\n",
       "</style>\n",
       "<table border=\"1\" class=\"dataframe\">\n",
       "  <thead>\n",
       "    <tr style=\"text-align: right;\">\n",
       "      <th></th>\n",
       "      <th>age(after)</th>\n",
       "      <th>age(before)</th>\n",
       "      <th>age_u</th>\n",
       "      <th>breed</th>\n",
       "      <th>breed.1</th>\n",
       "      <th>breed_Pre</th>\n",
       "      <th>careAddr</th>\n",
       "      <th>careNm</th>\n",
       "      <th>careNm_AD</th>\n",
       "      <th>careNm_C</th>\n",
       "      <th>...</th>\n",
       "      <th>processState_Pre</th>\n",
       "      <th>processState_R</th>\n",
       "      <th>sexCd</th>\n",
       "      <th>sexCd_F</th>\n",
       "      <th>sexCd_M</th>\n",
       "      <th>sexCd_Q</th>\n",
       "      <th>size</th>\n",
       "      <th>specialMark</th>\n",
       "      <th>weight(after)</th>\n",
       "      <th>weight(before)</th>\n",
       "    </tr>\n",
       "  </thead>\n",
       "  <tbody>\n",
       "    <tr>\n",
       "      <th>268642</th>\n",
       "      <td>5.0</td>\n",
       "      <td>2012(년생)</td>\n",
       "      <td>성견기</td>\n",
       "      <td>골든 리트리버</td>\n",
       "      <td>리트리버</td>\n",
       "      <td>NaN</td>\n",
       "      <td>서울특별시 양천구 목동  657번지 16호</td>\n",
       "      <td>강현림 동물병원</td>\n",
       "      <td>False</td>\n",
       "      <td>False</td>\n",
       "      <td>...</td>\n",
       "      <td>A</td>\n",
       "      <td>False</td>\n",
       "      <td>M</td>\n",
       "      <td>False</td>\n",
       "      <td>True</td>\n",
       "      <td>False</td>\n",
       "      <td>대형</td>\n",
       "      <td>치석ㅇ&amp;#47552;으며온순하고잘따르나천방지축임</td>\n",
       "      <td>38.0</td>\n",
       "      <td>38(Kg)</td>\n",
       "    </tr>\n",
       "  </tbody>\n",
       "</table>\n",
       "<p>1 rows × 51 columns</p>\n",
       "</div>"
      ],
      "text/plain": [
       "        age(after) age(before) age_u    breed breed.1 breed_Pre  \\\n",
       "268642         5.0    2012(년생)   성견기  골든 리트리버    리트리버       NaN   \n",
       "\n",
       "                       careAddr    careNm  careNm_AD  careNm_C      ...        \\\n",
       "268642  서울특별시 양천구 목동  657번지 16호  강현림 동물병원      False     False      ...         \n",
       "\n",
       "        processState_Pre  processState_R  sexCd  sexCd_F sexCd_M sexCd_Q size  \\\n",
       "268642                 A           False      M    False    True   False   대형   \n",
       "\n",
       "                       specialMark weight(after) weight(before)  \n",
       "268642  치석ㅇ&#47552;으며온순하고잘따르나천방지축임          38.0         38(Kg)  \n",
       "\n",
       "[1 rows x 51 columns]"
      ]
     },
     "execution_count": 12,
     "metadata": {},
     "output_type": "execute_result"
    }
   ],
   "source": [
    "df567.tail(1)"
   ]
  },
  {
   "cell_type": "code",
   "execution_count": 13,
   "metadata": {},
   "outputs": [
    {
     "data": {
      "text/plain": [
       "Index(['age(after)', 'age(before)', 'age_u', 'breed', 'breed.1', 'breed_Pre',\n",
       "       'careAddr', 'careNm', 'careNm_AD', 'careNm_C', 'careNm_CM',\n",
       "       'careNm_ETC', 'careNm_H', 'careNm_O', 'careTel', 'chargeNm', 'colorCd',\n",
       "       'desertionNo', 'filename', 'happenDt', 'happenMth', 'happenPlace',\n",
       "       'happenWd', 'kind', 'kindCd', 'neuterYn', 'neuterYn_N', 'neuterYn_U',\n",
       "       'neuterYn_Y', 'noticeComment', 'noticeEdt', 'noticeNo', 'noticeSdt',\n",
       "       'officetel', 'orgNm', 'popfile', 'processState', 'processState_A',\n",
       "       'processState_C', 'processState_D', 'processState_E',\n",
       "       'processState_Pre', 'processState_R', 'sexCd', 'sexCd_F', 'sexCd_M',\n",
       "       'sexCd_Q', 'size', 'specialMark', 'weight(after)', 'weight(before)'],\n",
       "      dtype='object')"
      ]
     },
     "execution_count": 13,
     "metadata": {},
     "output_type": "execute_result"
    }
   ],
   "source": [
    "df567.columns"
   ]
  },
  {
   "cell_type": "markdown",
   "metadata": {},
   "source": [
    "#### - 필요없는 컬럼 삭제"
   ]
  },
  {
   "cell_type": "code",
   "execution_count": 14,
   "metadata": {
    "scrolled": false
   },
   "outputs": [],
   "source": [
    "df = df567.drop(columns=['age(before)','colorCd','careAddr', 'careNm', 'careTel', 'chargeNm',\n",
    "                      'desertionNo', 'filename', 'happenDt', 'happenPlace', 'kindCd','noticeComment',\n",
    "                       'noticeNo', 'noticeSdt','officetel', 'popfile', 'processState',\n",
    "                       'weight(before)', 'specialMark','breed', 'breed_Pre','breed.1'\n",
    "                      ])\n",
    "\n",
    "df_t = df8.drop(columns=['age(before)','colorCd','careAddr', 'careNm', 'careTel', 'chargeNm',\n",
    "                      'desertionNo', 'filename', 'happenDt', 'happenPlace', 'kindCd','noticeComment',\n",
    "                       'noticeNo', 'noticeSdt','officetel', 'popfile', 'processState',\n",
    "                       'weight(before)', 'specialMark','breed', 'breed_Pre'\n",
    "                      ])\n",
    "\n",
    "#'Unnamed: 0', 'Unnamed: 0.1', 'Unnamed: 0.1.1',"
   ]
  },
  {
   "cell_type": "code",
   "execution_count": 18,
   "metadata": {},
   "outputs": [
    {
     "data": {
      "text/html": [
       "<div>\n",
       "<style scoped>\n",
       "    .dataframe tbody tr th:only-of-type {\n",
       "        vertical-align: middle;\n",
       "    }\n",
       "\n",
       "    .dataframe tbody tr th {\n",
       "        vertical-align: top;\n",
       "    }\n",
       "\n",
       "    .dataframe thead th {\n",
       "        text-align: right;\n",
       "    }\n",
       "</style>\n",
       "<table border=\"1\" class=\"dataframe\">\n",
       "  <thead>\n",
       "    <tr style=\"text-align: right;\">\n",
       "      <th></th>\n",
       "      <th>age(after)</th>\n",
       "      <th>age_u</th>\n",
       "      <th>careNm_AD</th>\n",
       "      <th>careNm_C</th>\n",
       "      <th>careNm_CM</th>\n",
       "      <th>careNm_ETC</th>\n",
       "      <th>careNm_H</th>\n",
       "      <th>careNm_O</th>\n",
       "      <th>happenMth</th>\n",
       "      <th>happenWd</th>\n",
       "      <th>...</th>\n",
       "      <th>processState_D</th>\n",
       "      <th>processState_E</th>\n",
       "      <th>processState_Pre</th>\n",
       "      <th>processState_R</th>\n",
       "      <th>sexCd</th>\n",
       "      <th>sexCd_F</th>\n",
       "      <th>sexCd_M</th>\n",
       "      <th>sexCd_Q</th>\n",
       "      <th>size</th>\n",
       "      <th>weight(after)</th>\n",
       "    </tr>\n",
       "  </thead>\n",
       "  <tbody>\n",
       "    <tr>\n",
       "      <th>268641</th>\n",
       "      <td>1.0</td>\n",
       "      <td>유견기</td>\n",
       "      <td>False</td>\n",
       "      <td>False</td>\n",
       "      <td>False</td>\n",
       "      <td>False</td>\n",
       "      <td>True</td>\n",
       "      <td>False</td>\n",
       "      <td>1</td>\n",
       "      <td>Sunday</td>\n",
       "      <td>...</td>\n",
       "      <td>False</td>\n",
       "      <td>False</td>\n",
       "      <td>A</td>\n",
       "      <td>False</td>\n",
       "      <td>M</td>\n",
       "      <td>False</td>\n",
       "      <td>True</td>\n",
       "      <td>False</td>\n",
       "      <td>초소형</td>\n",
       "      <td>1.5</td>\n",
       "    </tr>\n",
       "    <tr>\n",
       "      <th>268642</th>\n",
       "      <td>5.0</td>\n",
       "      <td>성견기</td>\n",
       "      <td>False</td>\n",
       "      <td>False</td>\n",
       "      <td>False</td>\n",
       "      <td>False</td>\n",
       "      <td>True</td>\n",
       "      <td>False</td>\n",
       "      <td>1</td>\n",
       "      <td>Sunday</td>\n",
       "      <td>...</td>\n",
       "      <td>False</td>\n",
       "      <td>False</td>\n",
       "      <td>A</td>\n",
       "      <td>False</td>\n",
       "      <td>M</td>\n",
       "      <td>False</td>\n",
       "      <td>True</td>\n",
       "      <td>False</td>\n",
       "      <td>대형</td>\n",
       "      <td>38.0</td>\n",
       "    </tr>\n",
       "  </tbody>\n",
       "</table>\n",
       "<p>2 rows × 29 columns</p>\n",
       "</div>"
      ],
      "text/plain": [
       "        age(after) age_u  careNm_AD  careNm_C  careNm_CM  careNm_ETC  \\\n",
       "268641         1.0   유견기      False     False      False       False   \n",
       "268642         5.0   성견기      False     False      False       False   \n",
       "\n",
       "        careNm_H  careNm_O  happenMth happenWd      ...        processState_D  \\\n",
       "268641      True     False          1   Sunday      ...                 False   \n",
       "268642      True     False          1   Sunday      ...                 False   \n",
       "\n",
       "       processState_E  processState_Pre  processState_R  sexCd  sexCd_F  \\\n",
       "268641          False                 A           False      M    False   \n",
       "268642          False                 A           False      M    False   \n",
       "\n",
       "       sexCd_M  sexCd_Q  size  weight(after)  \n",
       "268641    True    False   초소형            1.5  \n",
       "268642    True    False    대형           38.0  \n",
       "\n",
       "[2 rows x 29 columns]"
      ]
     },
     "execution_count": 18,
     "metadata": {},
     "output_type": "execute_result"
    }
   ],
   "source": [
    "df.tail(2)"
   ]
  },
  {
   "cell_type": "code",
   "execution_count": 19,
   "metadata": {},
   "outputs": [
    {
     "data": {
      "text/html": [
       "<div>\n",
       "<style scoped>\n",
       "    .dataframe tbody tr th:only-of-type {\n",
       "        vertical-align: middle;\n",
       "    }\n",
       "\n",
       "    .dataframe tbody tr th {\n",
       "        vertical-align: top;\n",
       "    }\n",
       "\n",
       "    .dataframe thead th {\n",
       "        text-align: right;\n",
       "    }\n",
       "</style>\n",
       "<table border=\"1\" class=\"dataframe\">\n",
       "  <thead>\n",
       "    <tr style=\"text-align: right;\">\n",
       "      <th></th>\n",
       "      <th>age(after)</th>\n",
       "      <th>neuterYn</th>\n",
       "      <th>noticeEdt</th>\n",
       "      <th>orgNm</th>\n",
       "      <th>sexCd</th>\n",
       "      <th>weight(after)</th>\n",
       "      <th>kind</th>\n",
       "      <th>happenWd</th>\n",
       "      <th>happenMth</th>\n",
       "      <th>size</th>\n",
       "      <th>...</th>\n",
       "      <th>sexCd_Q</th>\n",
       "      <th>neuterYn_Y</th>\n",
       "      <th>neuterYn_N</th>\n",
       "      <th>neuterYn_U</th>\n",
       "      <th>careNm_ETC</th>\n",
       "      <th>careNm_H</th>\n",
       "      <th>careNm_C</th>\n",
       "      <th>careNm_O</th>\n",
       "      <th>careNm_AD</th>\n",
       "      <th>careNm_CM</th>\n",
       "    </tr>\n",
       "  </thead>\n",
       "  <tbody>\n",
       "    <tr>\n",
       "      <th>80328</th>\n",
       "      <td>5</td>\n",
       "      <td>U</td>\n",
       "      <td>20180111</td>\n",
       "      <td>광주광역시 남구</td>\n",
       "      <td>M</td>\n",
       "      <td>3.5</td>\n",
       "      <td>0</td>\n",
       "      <td>Monday</td>\n",
       "      <td>1</td>\n",
       "      <td>소형</td>\n",
       "      <td>...</td>\n",
       "      <td>False</td>\n",
       "      <td>False</td>\n",
       "      <td>False</td>\n",
       "      <td>True</td>\n",
       "      <td>False</td>\n",
       "      <td>False</td>\n",
       "      <td>True</td>\n",
       "      <td>False</td>\n",
       "      <td>False</td>\n",
       "      <td>False</td>\n",
       "    </tr>\n",
       "    <tr>\n",
       "      <th>80329</th>\n",
       "      <td>3</td>\n",
       "      <td>Y</td>\n",
       "      <td>20180111</td>\n",
       "      <td>대구광역시 수성구</td>\n",
       "      <td>M</td>\n",
       "      <td>5.0</td>\n",
       "      <td>0</td>\n",
       "      <td>Monday</td>\n",
       "      <td>1</td>\n",
       "      <td>소형</td>\n",
       "      <td>...</td>\n",
       "      <td>False</td>\n",
       "      <td>True</td>\n",
       "      <td>False</td>\n",
       "      <td>False</td>\n",
       "      <td>False</td>\n",
       "      <td>True</td>\n",
       "      <td>False</td>\n",
       "      <td>False</td>\n",
       "      <td>False</td>\n",
       "      <td>False</td>\n",
       "    </tr>\n",
       "  </tbody>\n",
       "</table>\n",
       "<p>2 rows × 29 columns</p>\n",
       "</div>"
      ],
      "text/plain": [
       "       age(after) neuterYn  noticeEdt      orgNm sexCd  weight(after)  kind  \\\n",
       "80328           5        U   20180111   광주광역시 남구     M            3.5     0   \n",
       "80329           3        Y   20180111  대구광역시 수성구     M            5.0     0   \n",
       "\n",
       "      happenWd  happenMth size    ...     sexCd_Q neuterYn_Y  neuterYn_N  \\\n",
       "80328   Monday          1   소형    ...       False      False       False   \n",
       "80329   Monday          1   소형    ...       False       True       False   \n",
       "\n",
       "       neuterYn_U  careNm_ETC  careNm_H  careNm_C  careNm_O  careNm_AD  \\\n",
       "80328        True       False     False      True     False      False   \n",
       "80329       False       False      True     False     False      False   \n",
       "\n",
       "       careNm_CM  \n",
       "80328      False  \n",
       "80329      False  \n",
       "\n",
       "[2 rows x 29 columns]"
      ]
     },
     "execution_count": 19,
     "metadata": {},
     "output_type": "execute_result"
    }
   ],
   "source": [
    "df_t.tail(2)"
   ]
  },
  {
   "cell_type": "code",
   "execution_count": 20,
   "metadata": {},
   "outputs": [
    {
     "name": "stdout",
     "output_type": "stream",
     "text": [
      "15/16/17 데이터프레임 사용할 컬럼 갯수 :  29\n",
      "컬럼 이름 :  Index(['age(after)', 'age_u', 'careNm_AD', 'careNm_C', 'careNm_CM',\n",
      "       'careNm_ETC', 'careNm_H', 'careNm_O', 'happenMth', 'happenWd', 'kind',\n",
      "       'neuterYn', 'neuterYn_N', 'neuterYn_U', 'neuterYn_Y', 'noticeEdt',\n",
      "       'orgNm', 'processState_A', 'processState_C', 'processState_D',\n",
      "       'processState_E', 'processState_Pre', 'processState_R', 'sexCd',\n",
      "       'sexCd_F', 'sexCd_M', 'sexCd_Q', 'size', 'weight(after)'],\n",
      "      dtype='object')\n",
      "18 데이터프레임 사용할 컬럼 갯수 :  29\n",
      "컬럼 이름 :  Index(['age(after)', 'neuterYn', 'noticeEdt', 'orgNm', 'sexCd',\n",
      "       'weight(after)', 'kind', 'happenWd', 'happenMth', 'size', 'age_u',\n",
      "       'processState_Pre', 'processState_C', 'processState_A',\n",
      "       'processState_D', 'processState_R', 'processState_E', 'sexCd_M',\n",
      "       'sexCd_F', 'sexCd_Q', 'neuterYn_Y', 'neuterYn_N', 'neuterYn_U',\n",
      "       'careNm_ETC', 'careNm_H', 'careNm_C', 'careNm_O', 'careNm_AD',\n",
      "       'careNm_CM'],\n",
      "      dtype='object')\n"
     ]
    }
   ],
   "source": [
    "print(\"15/16/17 데이터프레임 사용할 컬럼 갯수 : \",len(df.columns))\n",
    "print(\"컬럼 이름 : \", df.columns)\n",
    "\n",
    "print(\"18 데이터프레임 사용할 컬럼 갯수 : \",len(df_t.columns))\n",
    "print(\"컬럼 이름 : \", df_t.columns)"
   ]
  },
  {
   "cell_type": "code",
   "execution_count": 21,
   "metadata": {},
   "outputs": [
    {
     "name": "stdout",
     "output_type": "stream",
     "text": [
      "<class 'pandas.core.frame.DataFrame'>\n",
      "RangeIndex: 268643 entries, 0 to 268642\n",
      "Data columns (total 29 columns):\n",
      "age(after)          268643 non-null float64\n",
      "age_u               268643 non-null object\n",
      "careNm_AD           268643 non-null bool\n",
      "careNm_C            268643 non-null bool\n",
      "careNm_CM           268643 non-null bool\n",
      "careNm_ETC          268643 non-null bool\n",
      "careNm_H            268643 non-null bool\n",
      "careNm_O            268643 non-null bool\n",
      "happenMth           268643 non-null int64\n",
      "happenWd            268643 non-null object\n",
      "kind                268643 non-null int64\n",
      "neuterYn            268643 non-null object\n",
      "neuterYn_N          268643 non-null bool\n",
      "neuterYn_U          268643 non-null bool\n",
      "neuterYn_Y          268643 non-null bool\n",
      "noticeEdt           268643 non-null int64\n",
      "orgNm               268643 non-null object\n",
      "processState_A      268643 non-null bool\n",
      "processState_C      268643 non-null bool\n",
      "processState_D      268643 non-null bool\n",
      "processState_E      268643 non-null bool\n",
      "processState_Pre    268643 non-null object\n",
      "processState_R      268643 non-null bool\n",
      "sexCd               268643 non-null object\n",
      "sexCd_F             268643 non-null bool\n",
      "sexCd_M             268643 non-null bool\n",
      "sexCd_Q             268643 non-null bool\n",
      "size                267757 non-null object\n",
      "weight(after)       267757 non-null float64\n",
      "dtypes: bool(17), float64(2), int64(3), object(7)\n",
      "memory usage: 29.0+ MB\n"
     ]
    }
   ],
   "source": [
    "df.info()"
   ]
  },
  {
   "cell_type": "code",
   "execution_count": 22,
   "metadata": {},
   "outputs": [
    {
     "name": "stdout",
     "output_type": "stream",
     "text": [
      "<class 'pandas.core.frame.DataFrame'>\n",
      "RangeIndex: 80330 entries, 0 to 80329\n",
      "Data columns (total 29 columns):\n",
      "age(after)          80330 non-null int64\n",
      "neuterYn            80330 non-null object\n",
      "noticeEdt           80330 non-null int64\n",
      "orgNm               80330 non-null object\n",
      "sexCd               80330 non-null object\n",
      "weight(after)       80303 non-null float64\n",
      "kind                80330 non-null int64\n",
      "happenWd            80330 non-null object\n",
      "happenMth           80330 non-null int64\n",
      "size                80303 non-null object\n",
      "age_u               80330 non-null object\n",
      "processState_Pre    80330 non-null object\n",
      "processState_C      80330 non-null bool\n",
      "processState_A      80330 non-null bool\n",
      "processState_D      80330 non-null bool\n",
      "processState_R      80330 non-null bool\n",
      "processState_E      80330 non-null bool\n",
      "sexCd_M             80330 non-null bool\n",
      "sexCd_F             80330 non-null bool\n",
      "sexCd_Q             80330 non-null bool\n",
      "neuterYn_Y          80330 non-null bool\n",
      "neuterYn_N          80330 non-null bool\n",
      "neuterYn_U          80330 non-null bool\n",
      "careNm_ETC          80330 non-null bool\n",
      "careNm_H            80330 non-null bool\n",
      "careNm_C            80330 non-null bool\n",
      "careNm_O            80330 non-null bool\n",
      "careNm_AD           80330 non-null bool\n",
      "careNm_CM           80330 non-null bool\n",
      "dtypes: bool(17), float64(1), int64(4), object(7)\n",
      "memory usage: 8.7+ MB\n"
     ]
    }
   ],
   "source": [
    "df_t.info()"
   ]
  },
  {
   "cell_type": "markdown",
   "metadata": {},
   "source": [
    "#### - 결측치 처리"
   ]
  },
  {
   "cell_type": "code",
   "execution_count": 23,
   "metadata": {
    "scrolled": true
   },
   "outputs": [
    {
     "data": {
      "text/plain": [
       "size             886\n",
       "weight(after)    886\n",
       "dtype: int64"
      ]
     },
     "execution_count": 23,
     "metadata": {},
     "output_type": "execute_result"
    }
   ],
   "source": [
    "## 15/16/17년도 데이터프레임\n",
    "\n",
    "#print(df.isnull().sum()) # 결측치 수\n",
    "#df.isnull().any()\n",
    "null_columns=df.columns[df.isnull().any()]\n",
    "df[null_columns].isnull().sum()\n",
    "#print(df[df[\"breed_Pre\"].isnull()][null_columns])        \n",
    "\n",
    "#print(df['weight(after)'].isnull().sum())       \n",
    "#print(df['size'].isnull().sum())                "
   ]
  },
  {
   "cell_type": "code",
   "execution_count": 24,
   "metadata": {},
   "outputs": [
    {
     "data": {
      "text/plain": [
       "weight(after)    27\n",
       "size             27\n",
       "dtype: int64"
      ]
     },
     "execution_count": 24,
     "metadata": {},
     "output_type": "execute_result"
    }
   ],
   "source": [
    "## 18년도 데이터프레임\n",
    "null_columns=df_t.columns[df_t.isnull().any()]\n",
    "df_t[null_columns].isnull().sum()\n"
   ]
  },
  {
   "cell_type": "code",
   "execution_count": 25,
   "metadata": {},
   "outputs": [],
   "source": [
    "# weight(after) : 나이별로 묶어서 중위값넣기\n",
    "df[\"weight(after)\"].fillna(df.groupby(\"age_u\")[\"weight(after)\"].transform(\"median\"), inplace=True)\n",
    "df_t[\"weight(after)\"].fillna(df_t.groupby(\"age_u\")[\"weight(after)\"].transform(\"median\"), inplace=True)"
   ]
  },
  {
   "cell_type": "code",
   "execution_count": 26,
   "metadata": {},
   "outputs": [
    {
     "data": {
      "text/html": [
       "<div>\n",
       "<style scoped>\n",
       "    .dataframe tbody tr th:only-of-type {\n",
       "        vertical-align: middle;\n",
       "    }\n",
       "\n",
       "    .dataframe tbody tr th {\n",
       "        vertical-align: top;\n",
       "    }\n",
       "\n",
       "    .dataframe thead th {\n",
       "        text-align: right;\n",
       "    }\n",
       "</style>\n",
       "<table border=\"1\" class=\"dataframe\">\n",
       "  <thead>\n",
       "    <tr style=\"text-align: right;\">\n",
       "      <th></th>\n",
       "      <th>age(after)</th>\n",
       "      <th>age_u</th>\n",
       "      <th>careNm_AD</th>\n",
       "      <th>careNm_C</th>\n",
       "      <th>careNm_CM</th>\n",
       "      <th>careNm_ETC</th>\n",
       "      <th>careNm_H</th>\n",
       "      <th>careNm_O</th>\n",
       "      <th>happenMth</th>\n",
       "      <th>happenWd</th>\n",
       "      <th>...</th>\n",
       "      <th>processState_D</th>\n",
       "      <th>processState_E</th>\n",
       "      <th>processState_Pre</th>\n",
       "      <th>processState_R</th>\n",
       "      <th>sexCd</th>\n",
       "      <th>sexCd_F</th>\n",
       "      <th>sexCd_M</th>\n",
       "      <th>sexCd_Q</th>\n",
       "      <th>size</th>\n",
       "      <th>weight(after)</th>\n",
       "    </tr>\n",
       "  </thead>\n",
       "  <tbody>\n",
       "  </tbody>\n",
       "</table>\n",
       "<p>0 rows × 29 columns</p>\n",
       "</div>"
      ],
      "text/plain": [
       "Empty DataFrame\n",
       "Columns: [age(after), age_u, careNm_AD, careNm_C, careNm_CM, careNm_ETC, careNm_H, careNm_O, happenMth, happenWd, kind, neuterYn, neuterYn_N, neuterYn_U, neuterYn_Y, noticeEdt, orgNm, processState_A, processState_C, processState_D, processState_E, processState_Pre, processState_R, sexCd, sexCd_F, sexCd_M, sexCd_Q, size, weight(after)]\n",
       "Index: []\n",
       "\n",
       "[0 rows x 29 columns]"
      ]
     },
     "execution_count": 26,
     "metadata": {},
     "output_type": "execute_result"
    }
   ],
   "source": [
    "df.loc[pd.isnull(df[\"weight(after)\"])]"
   ]
  },
  {
   "cell_type": "code",
   "execution_count": 27,
   "metadata": {},
   "outputs": [
    {
     "data": {
      "text/html": [
       "<div>\n",
       "<style scoped>\n",
       "    .dataframe tbody tr th:only-of-type {\n",
       "        vertical-align: middle;\n",
       "    }\n",
       "\n",
       "    .dataframe tbody tr th {\n",
       "        vertical-align: top;\n",
       "    }\n",
       "\n",
       "    .dataframe thead th {\n",
       "        text-align: right;\n",
       "    }\n",
       "</style>\n",
       "<table border=\"1\" class=\"dataframe\">\n",
       "  <thead>\n",
       "    <tr style=\"text-align: right;\">\n",
       "      <th></th>\n",
       "      <th>age(after)</th>\n",
       "      <th>neuterYn</th>\n",
       "      <th>noticeEdt</th>\n",
       "      <th>orgNm</th>\n",
       "      <th>sexCd</th>\n",
       "      <th>weight(after)</th>\n",
       "      <th>kind</th>\n",
       "      <th>happenWd</th>\n",
       "      <th>happenMth</th>\n",
       "      <th>size</th>\n",
       "      <th>...</th>\n",
       "      <th>sexCd_Q</th>\n",
       "      <th>neuterYn_Y</th>\n",
       "      <th>neuterYn_N</th>\n",
       "      <th>neuterYn_U</th>\n",
       "      <th>careNm_ETC</th>\n",
       "      <th>careNm_H</th>\n",
       "      <th>careNm_C</th>\n",
       "      <th>careNm_O</th>\n",
       "      <th>careNm_AD</th>\n",
       "      <th>careNm_CM</th>\n",
       "    </tr>\n",
       "  </thead>\n",
       "  <tbody>\n",
       "  </tbody>\n",
       "</table>\n",
       "<p>0 rows × 29 columns</p>\n",
       "</div>"
      ],
      "text/plain": [
       "Empty DataFrame\n",
       "Columns: [age(after), neuterYn, noticeEdt, orgNm, sexCd, weight(after), kind, happenWd, happenMth, size, age_u, processState_Pre, processState_C, processState_A, processState_D, processState_R, processState_E, sexCd_M, sexCd_F, sexCd_Q, neuterYn_Y, neuterYn_N, neuterYn_U, careNm_ETC, careNm_H, careNm_C, careNm_O, careNm_AD, careNm_CM]\n",
       "Index: []\n",
       "\n",
       "[0 rows x 29 columns]"
      ]
     },
     "execution_count": 27,
     "metadata": {},
     "output_type": "execute_result"
    }
   ],
   "source": [
    "df_t.loc[pd.isnull(df[\"weight(after)\"])]"
   ]
  },
  {
   "cell_type": "code",
   "execution_count": 28,
   "metadata": {},
   "outputs": [],
   "source": [
    "# size : 몸무게가 비어서 전처리 되지 않은 행 재전처리\n",
    "df.loc[df['weight(after)'] <= 3, 'size'] = '초소형'\n",
    "df.loc[(df['weight(after)'] > 3 ) & (df['weight(after)'] <=9 ), 'size'] = '소형'\n",
    "df.loc[(df['weight(after)'] > 9 ) & (df['weight(after)'] <=25 ), 'size'] = '중형'\n",
    "df.loc[df['weight(after)'] > 25, 'size'] = '대형'\n",
    "\n",
    "df_t.loc[df_t['weight(after)'] <= 3, 'size'] = '초소형'\n",
    "df_t.loc[(df_t['weight(after)'] > 3 ) & (df_t['weight(after)'] <=9 ), 'size'] = '소형'\n",
    "df_t.loc[(df_t['weight(after)'] > 9 ) & (df_t['weight(after)'] <=25 ), 'size'] = '중형'\n",
    "df_t.loc[df_t['weight(after)'] > 25, 'size'] = '대형'"
   ]
  },
  {
   "cell_type": "code",
   "execution_count": 29,
   "metadata": {},
   "outputs": [
    {
     "data": {
      "text/html": [
       "<div>\n",
       "<style scoped>\n",
       "    .dataframe tbody tr th:only-of-type {\n",
       "        vertical-align: middle;\n",
       "    }\n",
       "\n",
       "    .dataframe tbody tr th {\n",
       "        vertical-align: top;\n",
       "    }\n",
       "\n",
       "    .dataframe thead th {\n",
       "        text-align: right;\n",
       "    }\n",
       "</style>\n",
       "<table border=\"1\" class=\"dataframe\">\n",
       "  <thead>\n",
       "    <tr style=\"text-align: right;\">\n",
       "      <th></th>\n",
       "      <th>age(after)</th>\n",
       "      <th>age_u</th>\n",
       "      <th>careNm_AD</th>\n",
       "      <th>careNm_C</th>\n",
       "      <th>careNm_CM</th>\n",
       "      <th>careNm_ETC</th>\n",
       "      <th>careNm_H</th>\n",
       "      <th>careNm_O</th>\n",
       "      <th>happenMth</th>\n",
       "      <th>happenWd</th>\n",
       "      <th>...</th>\n",
       "      <th>processState_D</th>\n",
       "      <th>processState_E</th>\n",
       "      <th>processState_Pre</th>\n",
       "      <th>processState_R</th>\n",
       "      <th>sexCd</th>\n",
       "      <th>sexCd_F</th>\n",
       "      <th>sexCd_M</th>\n",
       "      <th>sexCd_Q</th>\n",
       "      <th>size</th>\n",
       "      <th>weight(after)</th>\n",
       "    </tr>\n",
       "  </thead>\n",
       "  <tbody>\n",
       "  </tbody>\n",
       "</table>\n",
       "<p>0 rows × 29 columns</p>\n",
       "</div>"
      ],
      "text/plain": [
       "Empty DataFrame\n",
       "Columns: [age(after), age_u, careNm_AD, careNm_C, careNm_CM, careNm_ETC, careNm_H, careNm_O, happenMth, happenWd, kind, neuterYn, neuterYn_N, neuterYn_U, neuterYn_Y, noticeEdt, orgNm, processState_A, processState_C, processState_D, processState_E, processState_Pre, processState_R, sexCd, sexCd_F, sexCd_M, sexCd_Q, size, weight(after)]\n",
       "Index: []\n",
       "\n",
       "[0 rows x 29 columns]"
      ]
     },
     "execution_count": 29,
     "metadata": {},
     "output_type": "execute_result"
    }
   ],
   "source": [
    "df.loc[pd.isnull(df[\"size\"])]"
   ]
  },
  {
   "cell_type": "code",
   "execution_count": 30,
   "metadata": {},
   "outputs": [
    {
     "data": {
      "text/html": [
       "<div>\n",
       "<style scoped>\n",
       "    .dataframe tbody tr th:only-of-type {\n",
       "        vertical-align: middle;\n",
       "    }\n",
       "\n",
       "    .dataframe tbody tr th {\n",
       "        vertical-align: top;\n",
       "    }\n",
       "\n",
       "    .dataframe thead th {\n",
       "        text-align: right;\n",
       "    }\n",
       "</style>\n",
       "<table border=\"1\" class=\"dataframe\">\n",
       "  <thead>\n",
       "    <tr style=\"text-align: right;\">\n",
       "      <th></th>\n",
       "      <th>age(after)</th>\n",
       "      <th>neuterYn</th>\n",
       "      <th>noticeEdt</th>\n",
       "      <th>orgNm</th>\n",
       "      <th>sexCd</th>\n",
       "      <th>weight(after)</th>\n",
       "      <th>kind</th>\n",
       "      <th>happenWd</th>\n",
       "      <th>happenMth</th>\n",
       "      <th>size</th>\n",
       "      <th>...</th>\n",
       "      <th>sexCd_Q</th>\n",
       "      <th>neuterYn_Y</th>\n",
       "      <th>neuterYn_N</th>\n",
       "      <th>neuterYn_U</th>\n",
       "      <th>careNm_ETC</th>\n",
       "      <th>careNm_H</th>\n",
       "      <th>careNm_C</th>\n",
       "      <th>careNm_O</th>\n",
       "      <th>careNm_AD</th>\n",
       "      <th>careNm_CM</th>\n",
       "    </tr>\n",
       "  </thead>\n",
       "  <tbody>\n",
       "  </tbody>\n",
       "</table>\n",
       "<p>0 rows × 29 columns</p>\n",
       "</div>"
      ],
      "text/plain": [
       "Empty DataFrame\n",
       "Columns: [age(after), neuterYn, noticeEdt, orgNm, sexCd, weight(after), kind, happenWd, happenMth, size, age_u, processState_Pre, processState_C, processState_A, processState_D, processState_R, processState_E, sexCd_M, sexCd_F, sexCd_Q, neuterYn_Y, neuterYn_N, neuterYn_U, careNm_ETC, careNm_H, careNm_C, careNm_O, careNm_AD, careNm_CM]\n",
       "Index: []\n",
       "\n",
       "[0 rows x 29 columns]"
      ]
     },
     "execution_count": 30,
     "metadata": {},
     "output_type": "execute_result"
    }
   ],
   "source": [
    "df_t.loc[pd.isnull(df_t[\"size\"])]"
   ]
  },
  {
   "cell_type": "code",
   "execution_count": null,
   "metadata": {},
   "outputs": [],
   "source": [
    "# 동물 종 : 몇개 안되니 기타로 입력\n",
    "#df['breed_Pre'].fillna(\"기타\",inplace=True)\n",
    "#df.loc[pd.isnull(df[\"breed_Pre\"])]"
   ]
  },
  {
   "cell_type": "code",
   "execution_count": 31,
   "metadata": {
    "scrolled": true
   },
   "outputs": [
    {
     "data": {
      "text/plain": [
       "Series([], dtype: float64)"
      ]
     },
     "execution_count": 31,
     "metadata": {},
     "output_type": "execute_result"
    }
   ],
   "source": [
    "null_columns=df.columns[df.isnull().any()]\n",
    "df[null_columns].isnull().sum()"
   ]
  },
  {
   "cell_type": "code",
   "execution_count": 32,
   "metadata": {},
   "outputs": [
    {
     "data": {
      "text/plain": [
       "Series([], dtype: float64)"
      ]
     },
     "execution_count": 32,
     "metadata": {},
     "output_type": "execute_result"
    }
   ],
   "source": [
    "null_columns=df_t.columns[df_t.isnull().any()]\n",
    "df_t[null_columns].isnull().sum()"
   ]
  },
  {
   "cell_type": "markdown",
   "metadata": {},
   "source": [
    "#### - neuterYn : 문자 -> 숫자"
   ]
  },
  {
   "cell_type": "code",
   "execution_count": 33,
   "metadata": {},
   "outputs": [
    {
     "name": "stdout",
     "output_type": "stream",
     "text": [
      "1    1\n",
      "2    2\n",
      "Name: neuterYn, dtype: int64\n",
      "1    1\n",
      "2    1\n",
      "Name: neuterYn, dtype: int64\n"
     ]
    }
   ],
   "source": [
    "neuter_mapping = {\"Y\":0,\"N\":1,\"U\":2}\n",
    "df['neuterYn'] = df['neuterYn'].map(neuter_mapping)\n",
    "df_t['neuterYn'] = df_t['neuterYn'].map(neuter_mapping)\n",
    "\n",
    "print(df.neuterYn[1:3])\n",
    "print(df_t.neuterYn[1:3])"
   ]
  },
  {
   "cell_type": "markdown",
   "metadata": {},
   "source": [
    "#### - sexCd : 문자 -> 숫자"
   ]
  },
  {
   "cell_type": "code",
   "execution_count": 34,
   "metadata": {},
   "outputs": [
    {
     "name": "stdout",
     "output_type": "stream",
     "text": [
      "1    0\n",
      "2    1\n",
      "Name: sexCd, dtype: int64\n",
      "1    0\n",
      "2    0\n",
      "Name: sexCd, dtype: int64\n"
     ]
    }
   ],
   "source": [
    "sex_mapping = {\"M\":0,\"F\":1,\"Q\":2}\n",
    "df['sexCd'] = df['sexCd'].map(sex_mapping)\n",
    "df_t['sexCd'] = df_t['sexCd'].map(sex_mapping)\n",
    "\n",
    "print(df.sexCd[1:3])\n",
    "print(df_t.sexCd[1:3])"
   ]
  },
  {
   "cell_type": "markdown",
   "metadata": {},
   "source": [
    "#### - orgNm(담당지역주소) : 두분류로 나눈뒤, 숫자 mapping"
   ]
  },
  {
   "cell_type": "code",
   "execution_count": 35,
   "metadata": {},
   "outputs": [
    {
     "name": "stdout",
     "output_type": "stream",
     "text": [
      "경기도        63772\n",
      "서울특별시      26064\n",
      "부산광역시      21286\n",
      "경상남도       20060\n",
      "인천광역시      16875\n",
      "충청남도       14729\n",
      "강원도        12229\n",
      "경상북도       11687\n",
      "대전광역시      11658\n",
      "대구광역시      11570\n",
      "전라북도       11389\n",
      "충청북도       10338\n",
      "전라남도        9894\n",
      "제주특별자치도     9204\n",
      "울산광역시       8942\n",
      "광주광역시       7933\n",
      "세종특별자치시     1013\n",
      "Name: sido, dtype: int64\n",
      "경기도        17664\n",
      "경상남도        7697\n",
      "서울특별시       5621\n",
      "부산광역시       5153\n",
      "경상북도        5081\n",
      "인천광역시       4830\n",
      "제주특별자치도     4610\n",
      "충청남도        4477\n",
      "전라남도        3928\n",
      "전라북도        3913\n",
      "대전광역시       3735\n",
      "강원도         3474\n",
      "대구광역시       3271\n",
      "충청북도        2342\n",
      "광주광역시       2249\n",
      "울산광역시       2016\n",
      "세종특별자치시      269\n",
      "Name: sido, dtype: int64\n"
     ]
    }
   ],
   "source": [
    "df['sido'] = df['orgNm'].str.split(\" \").str[0]\n",
    "df_t['sido'] = df_t['orgNm'].str.split(\" \").str[0]\n",
    "\n",
    "print(df['sido'].value_counts())\n",
    "print(df_t['sido'].value_counts())"
   ]
  },
  {
   "cell_type": "code",
   "execution_count": 36,
   "metadata": {},
   "outputs": [
    {
     "name": "stdout",
     "output_type": "stream",
     "text": [
      "0     5\n",
      "1    13\n",
      "2     4\n",
      "Name: sido, dtype: int64\n",
      "0    13\n",
      "1    13\n",
      "2    13\n",
      "Name: sido, dtype: int64\n"
     ]
    }
   ],
   "source": [
    "sido_mapping = {\"경기도\":0,\"서울특별시\":1,\"부산광역시\":2,\"경상남도\":3,\n",
    "                \"인천광역시\":4,\"충청남도\":5,\"강원도\":6,\"대구광역시\":7,\n",
    "                \"전라북도\":8,\"경상북도\":9,\"대전광역시\":10,\"울산광역시\":11,\n",
    "                \"충청북도\":12,\"전라남도\":13,\"제주특별자치도\":14,\"광주광역시\":15,\n",
    "                \"세종특별자치시\":16\n",
    "}\n",
    "df['sido'] = df['sido'].map(sido_mapping)\n",
    "df_t['sido'] = df_t['sido'].map(sido_mapping)\n",
    "\n",
    "print(df['sido'].head(3))\n",
    "print(df_t['sido'].head(3))"
   ]
  },
  {
   "cell_type": "markdown",
   "metadata": {},
   "source": [
    "#### - happenWd(발견요일) : 문자 -> 숫자 mapping "
   ]
  },
  {
   "cell_type": "code",
   "execution_count": 37,
   "metadata": {},
   "outputs": [
    {
     "name": "stdout",
     "output_type": "stream",
     "text": [
      "0    4\n",
      "1    4\n",
      "2    4\n",
      "Name: happenWd, dtype: int64\n",
      "0    4\n",
      "1    4\n",
      "2    4\n",
      "Name: happenWd, dtype: int64\n"
     ]
    }
   ],
   "source": [
    "week_mapping = {\"Monday\":0, \"Tuesday\":2, \"Wednesday\":3, \n",
    "                \"Thursday\":4, \"Friday\":5, \"Saturday\":6, \"Sunday\":7}\n",
    "df['happenWd'] = df['happenWd'].map(week_mapping)\n",
    "df_t['happenWd'] = df_t['happenWd'].map(week_mapping) \n",
    "\n",
    "print(df['happenWd'].head(3))\n",
    "print(df_t['happenWd'].head(3))"
   ]
  },
  {
   "cell_type": "markdown",
   "metadata": {},
   "source": [
    "#### - size : 문자 -> 숫자 mapping"
   ]
  },
  {
   "cell_type": "code",
   "execution_count": 38,
   "metadata": {
    "scrolled": true
   },
   "outputs": [
    {
     "name": "stdout",
     "output_type": "stream",
     "text": [
      "0    1\n",
      "1    1\n",
      "2    1\n",
      "Name: size, dtype: int64\n",
      "0    1\n",
      "1    1\n",
      "2    3\n",
      "Name: size, dtype: int64\n"
     ]
    }
   ],
   "source": [
    "#df['size'].fillna('중형',inplace=True)\n",
    "size_mapping = {\"대형\":0,\"소형\":1,\"중형\":2,\"초소형\":3}\n",
    "df['size'] = df['size'].map(size_mapping)\n",
    "df_t['size'] = df_t['size'].map(size_mapping)\n",
    "\n",
    "print(df['size'].head(3))\n",
    "print(df_t['size'].head(3))"
   ]
  },
  {
   "cell_type": "markdown",
   "metadata": {},
   "source": [
    "#### - age : 문자 -> 숫자 mapping "
   ]
  },
  {
   "cell_type": "code",
   "execution_count": 39,
   "metadata": {
    "scrolled": true
   },
   "outputs": [
    {
     "name": "stdout",
     "output_type": "stream",
     "text": [
      "0    1\n",
      "1    1\n",
      "2    1\n",
      "Name: size, dtype: int64\n",
      "0    1\n",
      "1    1\n",
      "2    3\n",
      "Name: size, dtype: int64\n"
     ]
    }
   ],
   "source": [
    "age_mapping = {\"노견기\":0,\"성견기\":1,\"유견기\":2}\n",
    "df['age_u'] = df['age_u'].map(age_mapping)\n",
    "df_t['age_u'] = df_t['age_u'].map(age_mapping)\n",
    "\n",
    "print(df['size'].head(3))\n",
    "print(df_t['size'].head(3))"
   ]
  },
  {
   "cell_type": "markdown",
   "metadata": {},
   "source": [
    "#### - processState_Pre : 문자 -> 숫자 mapping "
   ]
  },
  {
   "cell_type": "code",
   "execution_count": 40,
   "metadata": {},
   "outputs": [
    {
     "name": "stdout",
     "output_type": "stream",
     "text": [
      "0    2\n",
      "1    1\n",
      "2    4\n",
      "Name: processState_Pre, dtype: int64\n",
      "0    0\n",
      "1    0\n",
      "2    0\n",
      "Name: processState_Pre, dtype: int64\n"
     ]
    }
   ],
   "source": [
    "proc_mapping = {\"C\":0, \"A\":1, \"D\":2, \"R\":3, \"E\":4}\n",
    "df['processState_Pre'] = df['processState_Pre'].map(proc_mapping)\n",
    "df_t['processState_Pre'] = df_t['processState_Pre'].map(proc_mapping)\n",
    "\n",
    "print(df['processState_Pre'].head(3))\n",
    "print(df_t['processState_Pre'].head(3))"
   ]
  },
  {
   "cell_type": "markdown",
   "metadata": {},
   "source": [
    "#### - DataFrame 분류 : 개, 고양이, 기타"
   ]
  },
  {
   "cell_type": "code",
   "execution_count": 41,
   "metadata": {},
   "outputs": [
    {
     "name": "stdout",
     "output_type": "stream",
     "text": [
      "1    71684\n",
      "Name: kind, dtype: int64\n",
      "1    18725\n",
      "Name: kind, dtype: int64\n"
     ]
    }
   ],
   "source": [
    "#개:0, 고양이:1, 기타:2\n",
    "#dfd = df[df.kind==0]\n",
    "dfc = df[df.kind==1] #15/16/17\n",
    "dfc2 = df_t[df_t.kind==1] #18\n",
    "#dfe = df[df.kind==2]\n",
    "\n",
    "print(dfc['kind'].value_counts())\n",
    "print(dfc2['kind'].value_counts())\n"
   ]
  },
  {
   "cell_type": "markdown",
   "metadata": {},
   "source": [
    "### 3. Data Statistical Analysis"
   ]
  },
  {
   "cell_type": "code",
   "execution_count": 42,
   "metadata": {},
   "outputs": [
    {
     "data": {
      "text/html": [
       "<div>\n",
       "<style scoped>\n",
       "    .dataframe tbody tr th:only-of-type {\n",
       "        vertical-align: middle;\n",
       "    }\n",
       "\n",
       "    .dataframe tbody tr th {\n",
       "        vertical-align: top;\n",
       "    }\n",
       "\n",
       "    .dataframe thead th {\n",
       "        text-align: right;\n",
       "    }\n",
       "</style>\n",
       "<table border=\"1\" class=\"dataframe\">\n",
       "  <thead>\n",
       "    <tr style=\"text-align: right;\">\n",
       "      <th></th>\n",
       "      <th>age(after)</th>\n",
       "      <th>age_u</th>\n",
       "      <th>happenMth</th>\n",
       "      <th>happenWd</th>\n",
       "      <th>kind</th>\n",
       "      <th>neuterYn</th>\n",
       "      <th>noticeEdt</th>\n",
       "      <th>processState_Pre</th>\n",
       "      <th>sexCd</th>\n",
       "      <th>size</th>\n",
       "      <th>weight(after)</th>\n",
       "      <th>sido</th>\n",
       "    </tr>\n",
       "  </thead>\n",
       "  <tbody>\n",
       "    <tr>\n",
       "      <th>count</th>\n",
       "      <td>71684.000000</td>\n",
       "      <td>71684.000000</td>\n",
       "      <td>71684.000000</td>\n",
       "      <td>71684.000000</td>\n",
       "      <td>71684.0</td>\n",
       "      <td>71684.000000</td>\n",
       "      <td>7.168400e+04</td>\n",
       "      <td>71684.000000</td>\n",
       "      <td>71684.000000</td>\n",
       "      <td>71684.000000</td>\n",
       "      <td>71684.000000</td>\n",
       "      <td>71684.000000</td>\n",
       "    </tr>\n",
       "    <tr>\n",
       "      <th>mean</th>\n",
       "      <td>0.635864</td>\n",
       "      <td>1.814826</td>\n",
       "      <td>6.981530</td>\n",
       "      <td>3.130489</td>\n",
       "      <td>1.0</td>\n",
       "      <td>1.281876</td>\n",
       "      <td>2.016096e+07</td>\n",
       "      <td>1.753557</td>\n",
       "      <td>0.742816</td>\n",
       "      <td>2.707745</td>\n",
       "      <td>1.436298</td>\n",
       "      <td>4.825582</td>\n",
       "    </tr>\n",
       "    <tr>\n",
       "      <th>std</th>\n",
       "      <td>1.403276</td>\n",
       "      <td>0.391589</td>\n",
       "      <td>2.777717</td>\n",
       "      <td>2.102355</td>\n",
       "      <td>0.0</td>\n",
       "      <td>0.494807</td>\n",
       "      <td>1.167071e+05</td>\n",
       "      <td>0.702881</td>\n",
       "      <td>0.725963</td>\n",
       "      <td>0.706295</td>\n",
       "      <td>1.491885</td>\n",
       "      <td>4.689018</td>\n",
       "    </tr>\n",
       "    <tr>\n",
       "      <th>min</th>\n",
       "      <td>0.000000</td>\n",
       "      <td>0.000000</td>\n",
       "      <td>1.000000</td>\n",
       "      <td>0.000000</td>\n",
       "      <td>1.0</td>\n",
       "      <td>0.000000</td>\n",
       "      <td>2.160809e+06</td>\n",
       "      <td>0.000000</td>\n",
       "      <td>0.000000</td>\n",
       "      <td>0.000000</td>\n",
       "      <td>0.000000</td>\n",
       "      <td>0.000000</td>\n",
       "    </tr>\n",
       "    <tr>\n",
       "      <th>25%</th>\n",
       "      <td>0.000000</td>\n",
       "      <td>2.000000</td>\n",
       "      <td>5.000000</td>\n",
       "      <td>2.000000</td>\n",
       "      <td>1.0</td>\n",
       "      <td>1.000000</td>\n",
       "      <td>2.015111e+07</td>\n",
       "      <td>1.000000</td>\n",
       "      <td>0.000000</td>\n",
       "      <td>3.000000</td>\n",
       "      <td>0.380000</td>\n",
       "      <td>1.000000</td>\n",
       "    </tr>\n",
       "    <tr>\n",
       "      <th>50%</th>\n",
       "      <td>0.000000</td>\n",
       "      <td>2.000000</td>\n",
       "      <td>7.000000</td>\n",
       "      <td>3.000000</td>\n",
       "      <td>1.0</td>\n",
       "      <td>1.000000</td>\n",
       "      <td>2.016090e+07</td>\n",
       "      <td>2.000000</td>\n",
       "      <td>1.000000</td>\n",
       "      <td>3.000000</td>\n",
       "      <td>0.800000</td>\n",
       "      <td>4.000000</td>\n",
       "    </tr>\n",
       "    <tr>\n",
       "      <th>75%</th>\n",
       "      <td>1.000000</td>\n",
       "      <td>2.000000</td>\n",
       "      <td>9.000000</td>\n",
       "      <td>5.000000</td>\n",
       "      <td>1.0</td>\n",
       "      <td>2.000000</td>\n",
       "      <td>2.017062e+07</td>\n",
       "      <td>2.000000</td>\n",
       "      <td>1.000000</td>\n",
       "      <td>3.000000</td>\n",
       "      <td>2.300000</td>\n",
       "      <td>8.000000</td>\n",
       "    </tr>\n",
       "    <tr>\n",
       "      <th>max</th>\n",
       "      <td>50.000000</td>\n",
       "      <td>2.000000</td>\n",
       "      <td>12.000000</td>\n",
       "      <td>7.000000</td>\n",
       "      <td>1.0</td>\n",
       "      <td>2.000000</td>\n",
       "      <td>2.070071e+07</td>\n",
       "      <td>4.000000</td>\n",
       "      <td>2.000000</td>\n",
       "      <td>3.000000</td>\n",
       "      <td>40.000000</td>\n",
       "      <td>16.000000</td>\n",
       "    </tr>\n",
       "  </tbody>\n",
       "</table>\n",
       "</div>"
      ],
      "text/plain": [
       "         age(after)         age_u     happenMth      happenWd     kind  \\\n",
       "count  71684.000000  71684.000000  71684.000000  71684.000000  71684.0   \n",
       "mean       0.635864      1.814826      6.981530      3.130489      1.0   \n",
       "std        1.403276      0.391589      2.777717      2.102355      0.0   \n",
       "min        0.000000      0.000000      1.000000      0.000000      1.0   \n",
       "25%        0.000000      2.000000      5.000000      2.000000      1.0   \n",
       "50%        0.000000      2.000000      7.000000      3.000000      1.0   \n",
       "75%        1.000000      2.000000      9.000000      5.000000      1.0   \n",
       "max       50.000000      2.000000     12.000000      7.000000      1.0   \n",
       "\n",
       "           neuterYn     noticeEdt  processState_Pre         sexCd  \\\n",
       "count  71684.000000  7.168400e+04      71684.000000  71684.000000   \n",
       "mean       1.281876  2.016096e+07          1.753557      0.742816   \n",
       "std        0.494807  1.167071e+05          0.702881      0.725963   \n",
       "min        0.000000  2.160809e+06          0.000000      0.000000   \n",
       "25%        1.000000  2.015111e+07          1.000000      0.000000   \n",
       "50%        1.000000  2.016090e+07          2.000000      1.000000   \n",
       "75%        2.000000  2.017062e+07          2.000000      1.000000   \n",
       "max        2.000000  2.070071e+07          4.000000      2.000000   \n",
       "\n",
       "               size  weight(after)          sido  \n",
       "count  71684.000000   71684.000000  71684.000000  \n",
       "mean       2.707745       1.436298      4.825582  \n",
       "std        0.706295       1.491885      4.689018  \n",
       "min        0.000000       0.000000      0.000000  \n",
       "25%        3.000000       0.380000      1.000000  \n",
       "50%        3.000000       0.800000      4.000000  \n",
       "75%        3.000000       2.300000      8.000000  \n",
       "max        3.000000      40.000000     16.000000  "
      ]
     },
     "execution_count": 42,
     "metadata": {},
     "output_type": "execute_result"
    }
   ],
   "source": [
    "dfc.describe()"
   ]
  },
  {
   "cell_type": "code",
   "execution_count": 43,
   "metadata": {},
   "outputs": [
    {
     "data": {
      "text/html": [
       "<div>\n",
       "<style scoped>\n",
       "    .dataframe tbody tr th:only-of-type {\n",
       "        vertical-align: middle;\n",
       "    }\n",
       "\n",
       "    .dataframe tbody tr th {\n",
       "        vertical-align: top;\n",
       "    }\n",
       "\n",
       "    .dataframe thead th {\n",
       "        text-align: right;\n",
       "    }\n",
       "</style>\n",
       "<table border=\"1\" class=\"dataframe\">\n",
       "  <thead>\n",
       "    <tr style=\"text-align: right;\">\n",
       "      <th></th>\n",
       "      <th>age(after)</th>\n",
       "      <th>neuterYn</th>\n",
       "      <th>noticeEdt</th>\n",
       "      <th>sexCd</th>\n",
       "      <th>weight(after)</th>\n",
       "      <th>kind</th>\n",
       "      <th>happenWd</th>\n",
       "      <th>happenMth</th>\n",
       "      <th>size</th>\n",
       "      <th>age_u</th>\n",
       "      <th>processState_Pre</th>\n",
       "      <th>sido</th>\n",
       "    </tr>\n",
       "  </thead>\n",
       "  <tbody>\n",
       "    <tr>\n",
       "      <th>count</th>\n",
       "      <td>18725.000000</td>\n",
       "      <td>18725.000000</td>\n",
       "      <td>1.872500e+04</td>\n",
       "      <td>18725.000000</td>\n",
       "      <td>18725.000000</td>\n",
       "      <td>18725.0</td>\n",
       "      <td>18725.000000</td>\n",
       "      <td>18725.000000</td>\n",
       "      <td>18725.000000</td>\n",
       "      <td>18725.000000</td>\n",
       "      <td>18725.000000</td>\n",
       "      <td>18725.000000</td>\n",
       "    </tr>\n",
       "    <tr>\n",
       "      <th>mean</th>\n",
       "      <td>0.518077</td>\n",
       "      <td>1.309426</td>\n",
       "      <td>2.018061e+07</td>\n",
       "      <td>0.849613</td>\n",
       "      <td>1.299222</td>\n",
       "      <td>1.0</td>\n",
       "      <td>3.159573</td>\n",
       "      <td>5.540080</td>\n",
       "      <td>2.721762</td>\n",
       "      <td>1.850734</td>\n",
       "      <td>1.491162</td>\n",
       "      <td>5.487263</td>\n",
       "    </tr>\n",
       "    <tr>\n",
       "      <th>std</th>\n",
       "      <td>1.204898</td>\n",
       "      <td>0.502673</td>\n",
       "      <td>1.908313e+02</td>\n",
       "      <td>0.781738</td>\n",
       "      <td>1.526364</td>\n",
       "      <td>0.0</td>\n",
       "      <td>2.129000</td>\n",
       "      <td>1.901033</td>\n",
       "      <td>0.692237</td>\n",
       "      <td>0.358452</td>\n",
       "      <td>0.877201</td>\n",
       "      <td>4.877610</td>\n",
       "    </tr>\n",
       "    <tr>\n",
       "      <th>min</th>\n",
       "      <td>0.000000</td>\n",
       "      <td>0.000000</td>\n",
       "      <td>2.018011e+07</td>\n",
       "      <td>0.000000</td>\n",
       "      <td>0.000000</td>\n",
       "      <td>1.0</td>\n",
       "      <td>0.000000</td>\n",
       "      <td>1.000000</td>\n",
       "      <td>0.000000</td>\n",
       "      <td>0.000000</td>\n",
       "      <td>0.000000</td>\n",
       "      <td>0.000000</td>\n",
       "    </tr>\n",
       "    <tr>\n",
       "      <th>25%</th>\n",
       "      <td>0.000000</td>\n",
       "      <td>1.000000</td>\n",
       "      <td>2.018051e+07</td>\n",
       "      <td>0.000000</td>\n",
       "      <td>0.300000</td>\n",
       "      <td>1.0</td>\n",
       "      <td>2.000000</td>\n",
       "      <td>4.000000</td>\n",
       "      <td>3.000000</td>\n",
       "      <td>2.000000</td>\n",
       "      <td>1.000000</td>\n",
       "      <td>1.000000</td>\n",
       "    </tr>\n",
       "    <tr>\n",
       "      <th>50%</th>\n",
       "      <td>0.000000</td>\n",
       "      <td>1.000000</td>\n",
       "      <td>2.018062e+07</td>\n",
       "      <td>1.000000</td>\n",
       "      <td>0.600000</td>\n",
       "      <td>1.0</td>\n",
       "      <td>3.000000</td>\n",
       "      <td>6.000000</td>\n",
       "      <td>3.000000</td>\n",
       "      <td>2.000000</td>\n",
       "      <td>2.000000</td>\n",
       "      <td>4.000000</td>\n",
       "    </tr>\n",
       "    <tr>\n",
       "      <th>75%</th>\n",
       "      <td>0.000000</td>\n",
       "      <td>2.000000</td>\n",
       "      <td>2.018072e+07</td>\n",
       "      <td>1.000000</td>\n",
       "      <td>2.000000</td>\n",
       "      <td>1.0</td>\n",
       "      <td>5.000000</td>\n",
       "      <td>7.000000</td>\n",
       "      <td>3.000000</td>\n",
       "      <td>2.000000</td>\n",
       "      <td>2.000000</td>\n",
       "      <td>10.000000</td>\n",
       "    </tr>\n",
       "    <tr>\n",
       "      <th>max</th>\n",
       "      <td>23.000000</td>\n",
       "      <td>2.000000</td>\n",
       "      <td>2.018093e+07</td>\n",
       "      <td>2.000000</td>\n",
       "      <td>56.000000</td>\n",
       "      <td>1.0</td>\n",
       "      <td>7.000000</td>\n",
       "      <td>9.000000</td>\n",
       "      <td>3.000000</td>\n",
       "      <td>2.000000</td>\n",
       "      <td>4.000000</td>\n",
       "      <td>16.000000</td>\n",
       "    </tr>\n",
       "  </tbody>\n",
       "</table>\n",
       "</div>"
      ],
      "text/plain": [
       "         age(after)      neuterYn     noticeEdt         sexCd  weight(after)  \\\n",
       "count  18725.000000  18725.000000  1.872500e+04  18725.000000   18725.000000   \n",
       "mean       0.518077      1.309426  2.018061e+07      0.849613       1.299222   \n",
       "std        1.204898      0.502673  1.908313e+02      0.781738       1.526364   \n",
       "min        0.000000      0.000000  2.018011e+07      0.000000       0.000000   \n",
       "25%        0.000000      1.000000  2.018051e+07      0.000000       0.300000   \n",
       "50%        0.000000      1.000000  2.018062e+07      1.000000       0.600000   \n",
       "75%        0.000000      2.000000  2.018072e+07      1.000000       2.000000   \n",
       "max       23.000000      2.000000  2.018093e+07      2.000000      56.000000   \n",
       "\n",
       "          kind      happenWd     happenMth          size         age_u  \\\n",
       "count  18725.0  18725.000000  18725.000000  18725.000000  18725.000000   \n",
       "mean       1.0      3.159573      5.540080      2.721762      1.850734   \n",
       "std        0.0      2.129000      1.901033      0.692237      0.358452   \n",
       "min        1.0      0.000000      1.000000      0.000000      0.000000   \n",
       "25%        1.0      2.000000      4.000000      3.000000      2.000000   \n",
       "50%        1.0      3.000000      6.000000      3.000000      2.000000   \n",
       "75%        1.0      5.000000      7.000000      3.000000      2.000000   \n",
       "max        1.0      7.000000      9.000000      3.000000      2.000000   \n",
       "\n",
       "       processState_Pre          sido  \n",
       "count      18725.000000  18725.000000  \n",
       "mean           1.491162      5.487263  \n",
       "std            0.877201      4.877610  \n",
       "min            0.000000      0.000000  \n",
       "25%            1.000000      1.000000  \n",
       "50%            2.000000      4.000000  \n",
       "75%            2.000000     10.000000  \n",
       "max            4.000000     16.000000  "
      ]
     },
     "execution_count": 43,
     "metadata": {},
     "output_type": "execute_result"
    }
   ],
   "source": [
    "dfc2.describe()"
   ]
  },
  {
   "cell_type": "code",
   "execution_count": 44,
   "metadata": {},
   "outputs": [
    {
     "name": "stdout",
     "output_type": "stream",
     "text": [
      "Index(['age(after)', 'age_u', 'careNm_AD', 'careNm_C', 'careNm_CM',\n",
      "       'careNm_ETC', 'careNm_H', 'careNm_O', 'happenMth', 'happenWd', 'kind',\n",
      "       'neuterYn', 'neuterYn_N', 'neuterYn_U', 'neuterYn_Y', 'noticeEdt',\n",
      "       'orgNm', 'processState_A', 'processState_C', 'processState_D',\n",
      "       'processState_E', 'processState_Pre', 'processState_R', 'sexCd',\n",
      "       'sexCd_F', 'sexCd_M', 'sexCd_Q', 'size', 'weight(after)', 'sido'],\n",
      "      dtype='object')\n",
      "Index(['age(after)', 'neuterYn', 'noticeEdt', 'orgNm', 'sexCd',\n",
      "       'weight(after)', 'kind', 'happenWd', 'happenMth', 'size', 'age_u',\n",
      "       'processState_Pre', 'processState_C', 'processState_A',\n",
      "       'processState_D', 'processState_R', 'processState_E', 'sexCd_M',\n",
      "       'sexCd_F', 'sexCd_Q', 'neuterYn_Y', 'neuterYn_N', 'neuterYn_U',\n",
      "       'careNm_ETC', 'careNm_H', 'careNm_C', 'careNm_O', 'careNm_AD',\n",
      "       'careNm_CM', 'sido'],\n",
      "      dtype='object')\n"
     ]
    }
   ],
   "source": [
    "print(dfc.columns)\n",
    "print(dfc2.columns)"
   ]
  },
  {
   "cell_type": "code",
   "execution_count": 45,
   "metadata": {
    "scrolled": true
   },
   "outputs": [
    {
     "data": {
      "text/html": [
       "<div>\n",
       "<style scoped>\n",
       "    .dataframe tbody tr th:only-of-type {\n",
       "        vertical-align: middle;\n",
       "    }\n",
       "\n",
       "    .dataframe tbody tr th {\n",
       "        vertical-align: top;\n",
       "    }\n",
       "\n",
       "    .dataframe thead th {\n",
       "        text-align: right;\n",
       "    }\n",
       "</style>\n",
       "<table border=\"1\" class=\"dataframe\">\n",
       "  <thead>\n",
       "    <tr style=\"text-align: right;\">\n",
       "      <th></th>\n",
       "      <th>processState_Pre</th>\n",
       "      <th>processState_C</th>\n",
       "      <th>processState_A</th>\n",
       "      <th>processState_D</th>\n",
       "      <th>processState_R</th>\n",
       "      <th>processState_E</th>\n",
       "    </tr>\n",
       "  </thead>\n",
       "  <tbody>\n",
       "    <tr>\n",
       "      <th>age(after)</th>\n",
       "      <td>0.072</td>\n",
       "      <td>-0.011</td>\n",
       "      <td>-0.017</td>\n",
       "      <td>-0.035</td>\n",
       "      <td>0.102</td>\n",
       "      <td>0.069</td>\n",
       "    </tr>\n",
       "    <tr>\n",
       "      <th>age_u</th>\n",
       "      <td>-0.080</td>\n",
       "      <td>0.019</td>\n",
       "      <td>0.009</td>\n",
       "      <td>0.049</td>\n",
       "      <td>-0.117</td>\n",
       "      <td>-0.083</td>\n",
       "    </tr>\n",
       "    <tr>\n",
       "      <th>careNm_AD</th>\n",
       "      <td>0.024</td>\n",
       "      <td>-0.037</td>\n",
       "      <td>-0.045</td>\n",
       "      <td>0.070</td>\n",
       "      <td>0.004</td>\n",
       "      <td>-0.043</td>\n",
       "    </tr>\n",
       "    <tr>\n",
       "      <th>careNm_C</th>\n",
       "      <td>-0.017</td>\n",
       "      <td>0.128</td>\n",
       "      <td>-0.049</td>\n",
       "      <td>-0.006</td>\n",
       "      <td>0.012</td>\n",
       "      <td>0.015</td>\n",
       "    </tr>\n",
       "    <tr>\n",
       "      <th>careNm_CM</th>\n",
       "      <td>0.060</td>\n",
       "      <td>-0.011</td>\n",
       "      <td>-0.112</td>\n",
       "      <td>0.120</td>\n",
       "      <td>0.013</td>\n",
       "      <td>-0.037</td>\n",
       "    </tr>\n",
       "    <tr>\n",
       "      <th>careNm_ETC</th>\n",
       "      <td>-0.036</td>\n",
       "      <td>-0.001</td>\n",
       "      <td>0.027</td>\n",
       "      <td>-0.008</td>\n",
       "      <td>-0.018</td>\n",
       "      <td>-0.031</td>\n",
       "    </tr>\n",
       "    <tr>\n",
       "      <th>careNm_H</th>\n",
       "      <td>-0.023</td>\n",
       "      <td>-0.096</td>\n",
       "      <td>0.140</td>\n",
       "      <td>-0.113</td>\n",
       "      <td>-0.016</td>\n",
       "      <td>0.047</td>\n",
       "    </tr>\n",
       "    <tr>\n",
       "      <th>careNm_O</th>\n",
       "      <td>-0.004</td>\n",
       "      <td>-0.001</td>\n",
       "      <td>0.006</td>\n",
       "      <td>-0.005</td>\n",
       "      <td>-0.000</td>\n",
       "      <td>-0.001</td>\n",
       "    </tr>\n",
       "    <tr>\n",
       "      <th>happenMth</th>\n",
       "      <td>0.026</td>\n",
       "      <td>0.020</td>\n",
       "      <td>-0.070</td>\n",
       "      <td>0.067</td>\n",
       "      <td>-0.009</td>\n",
       "      <td>-0.016</td>\n",
       "    </tr>\n",
       "    <tr>\n",
       "      <th>happenWd</th>\n",
       "      <td>-0.004</td>\n",
       "      <td>0.018</td>\n",
       "      <td>0.001</td>\n",
       "      <td>-0.011</td>\n",
       "      <td>-0.001</td>\n",
       "      <td>0.010</td>\n",
       "    </tr>\n",
       "    <tr>\n",
       "      <th>kind</th>\n",
       "      <td>NaN</td>\n",
       "      <td>NaN</td>\n",
       "      <td>NaN</td>\n",
       "      <td>NaN</td>\n",
       "      <td>NaN</td>\n",
       "      <td>NaN</td>\n",
       "    </tr>\n",
       "    <tr>\n",
       "      <th>neuterYn</th>\n",
       "      <td>0.071</td>\n",
       "      <td>-0.066</td>\n",
       "      <td>-0.111</td>\n",
       "      <td>0.149</td>\n",
       "      <td>0.001</td>\n",
       "      <td>-0.057</td>\n",
       "    </tr>\n",
       "    <tr>\n",
       "      <th>neuterYn_N</th>\n",
       "      <td>-0.077</td>\n",
       "      <td>0.061</td>\n",
       "      <td>0.089</td>\n",
       "      <td>-0.103</td>\n",
       "      <td>-0.055</td>\n",
       "      <td>0.034</td>\n",
       "    </tr>\n",
       "    <tr>\n",
       "      <th>neuterYn_U</th>\n",
       "      <td>0.078</td>\n",
       "      <td>-0.067</td>\n",
       "      <td>-0.105</td>\n",
       "      <td>0.132</td>\n",
       "      <td>0.028</td>\n",
       "      <td>-0.048</td>\n",
       "    </tr>\n",
       "    <tr>\n",
       "      <th>neuterYn_Y</th>\n",
       "      <td>0.003</td>\n",
       "      <td>0.014</td>\n",
       "      <td>0.046</td>\n",
       "      <td>-0.088</td>\n",
       "      <td>0.087</td>\n",
       "      <td>0.043</td>\n",
       "    </tr>\n",
       "    <tr>\n",
       "      <th>noticeEdt</th>\n",
       "      <td>-0.003</td>\n",
       "      <td>0.005</td>\n",
       "      <td>-0.003</td>\n",
       "      <td>0.005</td>\n",
       "      <td>-0.016</td>\n",
       "      <td>0.000</td>\n",
       "    </tr>\n",
       "    <tr>\n",
       "      <th>processState_A</th>\n",
       "      <td>-0.674</td>\n",
       "      <td>-0.104</td>\n",
       "      <td>1.000</td>\n",
       "      <td>-0.831</td>\n",
       "      <td>-0.082</td>\n",
       "      <td>-0.123</td>\n",
       "    </tr>\n",
       "    <tr>\n",
       "      <th>processState_C</th>\n",
       "      <td>-0.415</td>\n",
       "      <td>1.000</td>\n",
       "      <td>-0.104</td>\n",
       "      <td>-0.220</td>\n",
       "      <td>-0.022</td>\n",
       "      <td>-0.032</td>\n",
       "    </tr>\n",
       "    <tr>\n",
       "      <th>processState_D</th>\n",
       "      <td>0.464</td>\n",
       "      <td>-0.220</td>\n",
       "      <td>-0.831</td>\n",
       "      <td>1.000</td>\n",
       "      <td>-0.173</td>\n",
       "      <td>-0.259</td>\n",
       "    </tr>\n",
       "    <tr>\n",
       "      <th>processState_E</th>\n",
       "      <td>0.625</td>\n",
       "      <td>-0.032</td>\n",
       "      <td>-0.123</td>\n",
       "      <td>-0.259</td>\n",
       "      <td>-0.026</td>\n",
       "      <td>1.000</td>\n",
       "    </tr>\n",
       "    <tr>\n",
       "      <th>processState_Pre</th>\n",
       "      <td>1.000</td>\n",
       "      <td>-0.415</td>\n",
       "      <td>-0.674</td>\n",
       "      <td>0.464</td>\n",
       "      <td>0.232</td>\n",
       "      <td>0.625</td>\n",
       "    </tr>\n",
       "    <tr>\n",
       "      <th>processState_R</th>\n",
       "      <td>0.232</td>\n",
       "      <td>-0.022</td>\n",
       "      <td>-0.082</td>\n",
       "      <td>-0.173</td>\n",
       "      <td>1.000</td>\n",
       "      <td>-0.026</td>\n",
       "    </tr>\n",
       "    <tr>\n",
       "      <th>sexCd</th>\n",
       "      <td>0.037</td>\n",
       "      <td>-0.039</td>\n",
       "      <td>-0.037</td>\n",
       "      <td>0.054</td>\n",
       "      <td>-0.018</td>\n",
       "      <td>-0.002</td>\n",
       "    </tr>\n",
       "    <tr>\n",
       "      <th>sexCd_F</th>\n",
       "      <td>-0.018</td>\n",
       "      <td>-0.003</td>\n",
       "      <td>0.033</td>\n",
       "      <td>-0.032</td>\n",
       "      <td>0.013</td>\n",
       "      <td>-0.001</td>\n",
       "    </tr>\n",
       "    <tr>\n",
       "      <th>sexCd_M</th>\n",
       "      <td>-0.019</td>\n",
       "      <td>0.030</td>\n",
       "      <td>0.011</td>\n",
       "      <td>-0.023</td>\n",
       "      <td>0.007</td>\n",
       "      <td>0.002</td>\n",
       "    </tr>\n",
       "    <tr>\n",
       "      <th>sexCd_Q</th>\n",
       "      <td>0.048</td>\n",
       "      <td>-0.035</td>\n",
       "      <td>-0.058</td>\n",
       "      <td>0.073</td>\n",
       "      <td>-0.026</td>\n",
       "      <td>-0.001</td>\n",
       "    </tr>\n",
       "    <tr>\n",
       "      <th>size</th>\n",
       "      <td>-0.066</td>\n",
       "      <td>0.001</td>\n",
       "      <td>-0.012</td>\n",
       "      <td>0.080</td>\n",
       "      <td>-0.116</td>\n",
       "      <td>-0.097</td>\n",
       "    </tr>\n",
       "    <tr>\n",
       "      <th>weight(after)</th>\n",
       "      <td>0.075</td>\n",
       "      <td>0.000</td>\n",
       "      <td>0.019</td>\n",
       "      <td>-0.102</td>\n",
       "      <td>0.151</td>\n",
       "      <td>0.112</td>\n",
       "    </tr>\n",
       "    <tr>\n",
       "      <th>sido</th>\n",
       "      <td>0.006</td>\n",
       "      <td>0.045</td>\n",
       "      <td>-0.037</td>\n",
       "      <td>0.018</td>\n",
       "      <td>-0.005</td>\n",
       "      <td>0.008</td>\n",
       "    </tr>\n",
       "  </tbody>\n",
       "</table>\n",
       "</div>"
      ],
      "text/plain": [
       "                  processState_Pre  processState_C  processState_A  \\\n",
       "age(after)                   0.072          -0.011          -0.017   \n",
       "age_u                       -0.080           0.019           0.009   \n",
       "careNm_AD                    0.024          -0.037          -0.045   \n",
       "careNm_C                    -0.017           0.128          -0.049   \n",
       "careNm_CM                    0.060          -0.011          -0.112   \n",
       "careNm_ETC                  -0.036          -0.001           0.027   \n",
       "careNm_H                    -0.023          -0.096           0.140   \n",
       "careNm_O                    -0.004          -0.001           0.006   \n",
       "happenMth                    0.026           0.020          -0.070   \n",
       "happenWd                    -0.004           0.018           0.001   \n",
       "kind                           NaN             NaN             NaN   \n",
       "neuterYn                     0.071          -0.066          -0.111   \n",
       "neuterYn_N                  -0.077           0.061           0.089   \n",
       "neuterYn_U                   0.078          -0.067          -0.105   \n",
       "neuterYn_Y                   0.003           0.014           0.046   \n",
       "noticeEdt                   -0.003           0.005          -0.003   \n",
       "processState_A              -0.674          -0.104           1.000   \n",
       "processState_C              -0.415           1.000          -0.104   \n",
       "processState_D               0.464          -0.220          -0.831   \n",
       "processState_E               0.625          -0.032          -0.123   \n",
       "processState_Pre             1.000          -0.415          -0.674   \n",
       "processState_R               0.232          -0.022          -0.082   \n",
       "sexCd                        0.037          -0.039          -0.037   \n",
       "sexCd_F                     -0.018          -0.003           0.033   \n",
       "sexCd_M                     -0.019           0.030           0.011   \n",
       "sexCd_Q                      0.048          -0.035          -0.058   \n",
       "size                        -0.066           0.001          -0.012   \n",
       "weight(after)                0.075           0.000           0.019   \n",
       "sido                         0.006           0.045          -0.037   \n",
       "\n",
       "                  processState_D  processState_R  processState_E  \n",
       "age(after)                -0.035           0.102           0.069  \n",
       "age_u                      0.049          -0.117          -0.083  \n",
       "careNm_AD                  0.070           0.004          -0.043  \n",
       "careNm_C                  -0.006           0.012           0.015  \n",
       "careNm_CM                  0.120           0.013          -0.037  \n",
       "careNm_ETC                -0.008          -0.018          -0.031  \n",
       "careNm_H                  -0.113          -0.016           0.047  \n",
       "careNm_O                  -0.005          -0.000          -0.001  \n",
       "happenMth                  0.067          -0.009          -0.016  \n",
       "happenWd                  -0.011          -0.001           0.010  \n",
       "kind                         NaN             NaN             NaN  \n",
       "neuterYn                   0.149           0.001          -0.057  \n",
       "neuterYn_N                -0.103          -0.055           0.034  \n",
       "neuterYn_U                 0.132           0.028          -0.048  \n",
       "neuterYn_Y                -0.088           0.087           0.043  \n",
       "noticeEdt                  0.005          -0.016           0.000  \n",
       "processState_A            -0.831          -0.082          -0.123  \n",
       "processState_C            -0.220          -0.022          -0.032  \n",
       "processState_D             1.000          -0.173          -0.259  \n",
       "processState_E            -0.259          -0.026           1.000  \n",
       "processState_Pre           0.464           0.232           0.625  \n",
       "processState_R            -0.173           1.000          -0.026  \n",
       "sexCd                      0.054          -0.018          -0.002  \n",
       "sexCd_F                   -0.032           0.013          -0.001  \n",
       "sexCd_M                   -0.023           0.007           0.002  \n",
       "sexCd_Q                    0.073          -0.026          -0.001  \n",
       "size                       0.080          -0.116          -0.097  \n",
       "weight(after)             -0.102           0.151           0.112  \n",
       "sido                       0.018          -0.005           0.008  "
      ]
     },
     "execution_count": 45,
     "metadata": {},
     "output_type": "execute_result"
    }
   ],
   "source": [
    "# processState와 상관관계\n",
    "cor_t = np.round(dfc.corr(),3)\n",
    "cor1 = cor_t.loc[:,[ 'processState_Pre', 'processState_C', 'processState_A',\n",
    "       'processState_D', 'processState_R', 'processState_E']]\n",
    "cor1"
   ]
  },
  {
   "cell_type": "code",
   "execution_count": 46,
   "metadata": {},
   "outputs": [
    {
     "data": {
      "text/html": [
       "<div>\n",
       "<style scoped>\n",
       "    .dataframe tbody tr th:only-of-type {\n",
       "        vertical-align: middle;\n",
       "    }\n",
       "\n",
       "    .dataframe tbody tr th {\n",
       "        vertical-align: top;\n",
       "    }\n",
       "\n",
       "    .dataframe thead th {\n",
       "        text-align: right;\n",
       "    }\n",
       "</style>\n",
       "<table border=\"1\" class=\"dataframe\">\n",
       "  <thead>\n",
       "    <tr style=\"text-align: right;\">\n",
       "      <th></th>\n",
       "      <th>processState_Pre</th>\n",
       "      <th>processState_C</th>\n",
       "      <th>processState_A</th>\n",
       "      <th>processState_D</th>\n",
       "      <th>processState_R</th>\n",
       "      <th>processState_E</th>\n",
       "    </tr>\n",
       "  </thead>\n",
       "  <tbody>\n",
       "    <tr>\n",
       "      <th>age(after)</th>\n",
       "      <td>0.085</td>\n",
       "      <td>-0.024</td>\n",
       "      <td>-0.013</td>\n",
       "      <td>-0.038</td>\n",
       "      <td>0.118</td>\n",
       "      <td>0.109</td>\n",
       "    </tr>\n",
       "    <tr>\n",
       "      <th>neuterYn</th>\n",
       "      <td>0.029</td>\n",
       "      <td>0.005</td>\n",
       "      <td>-0.108</td>\n",
       "      <td>0.110</td>\n",
       "      <td>-0.001</td>\n",
       "      <td>-0.057</td>\n",
       "    </tr>\n",
       "    <tr>\n",
       "      <th>noticeEdt</th>\n",
       "      <td>-0.206</td>\n",
       "      <td>0.320</td>\n",
       "      <td>-0.172</td>\n",
       "      <td>-0.061</td>\n",
       "      <td>-0.024</td>\n",
       "      <td>-0.054</td>\n",
       "    </tr>\n",
       "    <tr>\n",
       "      <th>sexCd</th>\n",
       "      <td>-0.027</td>\n",
       "      <td>0.050</td>\n",
       "      <td>-0.065</td>\n",
       "      <td>0.039</td>\n",
       "      <td>-0.025</td>\n",
       "      <td>-0.037</td>\n",
       "    </tr>\n",
       "    <tr>\n",
       "      <th>weight(after)</th>\n",
       "      <td>0.072</td>\n",
       "      <td>0.014</td>\n",
       "      <td>-0.005</td>\n",
       "      <td>-0.098</td>\n",
       "      <td>0.145</td>\n",
       "      <td>0.162</td>\n",
       "    </tr>\n",
       "    <tr>\n",
       "      <th>kind</th>\n",
       "      <td>NaN</td>\n",
       "      <td>NaN</td>\n",
       "      <td>NaN</td>\n",
       "      <td>NaN</td>\n",
       "      <td>NaN</td>\n",
       "      <td>NaN</td>\n",
       "    </tr>\n",
       "    <tr>\n",
       "      <th>happenWd</th>\n",
       "      <td>0.030</td>\n",
       "      <td>-0.030</td>\n",
       "      <td>-0.016</td>\n",
       "      <td>0.037</td>\n",
       "      <td>0.015</td>\n",
       "      <td>-0.015</td>\n",
       "    </tr>\n",
       "    <tr>\n",
       "      <th>happenMth</th>\n",
       "      <td>-0.200</td>\n",
       "      <td>0.310</td>\n",
       "      <td>-0.165</td>\n",
       "      <td>-0.061</td>\n",
       "      <td>-0.023</td>\n",
       "      <td>-0.052</td>\n",
       "    </tr>\n",
       "    <tr>\n",
       "      <th>size</th>\n",
       "      <td>-0.088</td>\n",
       "      <td>0.012</td>\n",
       "      <td>0.011</td>\n",
       "      <td>0.060</td>\n",
       "      <td>-0.120</td>\n",
       "      <td>-0.145</td>\n",
       "    </tr>\n",
       "    <tr>\n",
       "      <th>age_u</th>\n",
       "      <td>-0.082</td>\n",
       "      <td>0.025</td>\n",
       "      <td>0.015</td>\n",
       "      <td>0.033</td>\n",
       "      <td>-0.126</td>\n",
       "      <td>-0.093</td>\n",
       "    </tr>\n",
       "    <tr>\n",
       "      <th>processState_Pre</th>\n",
       "      <td>1.000</td>\n",
       "      <td>-0.745</td>\n",
       "      <td>-0.330</td>\n",
       "      <td>0.623</td>\n",
       "      <td>0.234</td>\n",
       "      <td>0.474</td>\n",
       "    </tr>\n",
       "    <tr>\n",
       "      <th>processState_C</th>\n",
       "      <td>-0.745</td>\n",
       "      <td>1.000</td>\n",
       "      <td>-0.259</td>\n",
       "      <td>-0.471</td>\n",
       "      <td>-0.060</td>\n",
       "      <td>-0.073</td>\n",
       "    </tr>\n",
       "    <tr>\n",
       "      <th>processState_A</th>\n",
       "      <td>-0.330</td>\n",
       "      <td>-0.259</td>\n",
       "      <td>1.000</td>\n",
       "      <td>-0.633</td>\n",
       "      <td>-0.080</td>\n",
       "      <td>-0.098</td>\n",
       "    </tr>\n",
       "    <tr>\n",
       "      <th>processState_D</th>\n",
       "      <td>0.623</td>\n",
       "      <td>-0.471</td>\n",
       "      <td>-0.633</td>\n",
       "      <td>1.000</td>\n",
       "      <td>-0.146</td>\n",
       "      <td>-0.178</td>\n",
       "    </tr>\n",
       "    <tr>\n",
       "      <th>processState_R</th>\n",
       "      <td>0.234</td>\n",
       "      <td>-0.060</td>\n",
       "      <td>-0.080</td>\n",
       "      <td>-0.146</td>\n",
       "      <td>1.000</td>\n",
       "      <td>-0.023</td>\n",
       "    </tr>\n",
       "    <tr>\n",
       "      <th>processState_E</th>\n",
       "      <td>0.474</td>\n",
       "      <td>-0.073</td>\n",
       "      <td>-0.098</td>\n",
       "      <td>-0.178</td>\n",
       "      <td>-0.023</td>\n",
       "      <td>1.000</td>\n",
       "    </tr>\n",
       "    <tr>\n",
       "      <th>sexCd_M</th>\n",
       "      <td>0.014</td>\n",
       "      <td>-0.025</td>\n",
       "      <td>0.031</td>\n",
       "      <td>-0.017</td>\n",
       "      <td>0.004</td>\n",
       "      <td>0.021</td>\n",
       "    </tr>\n",
       "    <tr>\n",
       "      <th>sexCd_F</th>\n",
       "      <td>0.015</td>\n",
       "      <td>-0.029</td>\n",
       "      <td>0.042</td>\n",
       "      <td>-0.029</td>\n",
       "      <td>0.032</td>\n",
       "      <td>0.017</td>\n",
       "    </tr>\n",
       "    <tr>\n",
       "      <th>sexCd_Q</th>\n",
       "      <td>-0.033</td>\n",
       "      <td>0.062</td>\n",
       "      <td>-0.083</td>\n",
       "      <td>0.052</td>\n",
       "      <td>-0.040</td>\n",
       "      <td>-0.043</td>\n",
       "    </tr>\n",
       "    <tr>\n",
       "      <th>neuterYn_Y</th>\n",
       "      <td>0.026</td>\n",
       "      <td>0.007</td>\n",
       "      <td>0.020</td>\n",
       "      <td>-0.076</td>\n",
       "      <td>0.117</td>\n",
       "      <td>0.068</td>\n",
       "    </tr>\n",
       "    <tr>\n",
       "      <th>neuterYn_N</th>\n",
       "      <td>-0.046</td>\n",
       "      <td>-0.009</td>\n",
       "      <td>0.102</td>\n",
       "      <td>-0.072</td>\n",
       "      <td>-0.066</td>\n",
       "      <td>0.021</td>\n",
       "    </tr>\n",
       "    <tr>\n",
       "      <th>neuterYn_U</th>\n",
       "      <td>0.039</td>\n",
       "      <td>0.007</td>\n",
       "      <td>-0.110</td>\n",
       "      <td>0.095</td>\n",
       "      <td>0.033</td>\n",
       "      <td>-0.041</td>\n",
       "    </tr>\n",
       "    <tr>\n",
       "      <th>careNm_ETC</th>\n",
       "      <td>-0.015</td>\n",
       "      <td>0.009</td>\n",
       "      <td>-0.007</td>\n",
       "      <td>0.010</td>\n",
       "      <td>-0.007</td>\n",
       "      <td>-0.027</td>\n",
       "    </tr>\n",
       "    <tr>\n",
       "      <th>careNm_H</th>\n",
       "      <td>-0.055</td>\n",
       "      <td>-0.058</td>\n",
       "      <td>0.202</td>\n",
       "      <td>-0.129</td>\n",
       "      <td>-0.022</td>\n",
       "      <td>0.002</td>\n",
       "    </tr>\n",
       "    <tr>\n",
       "      <th>careNm_C</th>\n",
       "      <td>0.047</td>\n",
       "      <td>0.025</td>\n",
       "      <td>-0.114</td>\n",
       "      <td>0.070</td>\n",
       "      <td>0.019</td>\n",
       "      <td>0.022</td>\n",
       "    </tr>\n",
       "    <tr>\n",
       "      <th>careNm_O</th>\n",
       "      <td>-0.004</td>\n",
       "      <td>0.013</td>\n",
       "      <td>-0.000</td>\n",
       "      <td>-0.016</td>\n",
       "      <td>-0.002</td>\n",
       "      <td>0.020</td>\n",
       "    </tr>\n",
       "    <tr>\n",
       "      <th>careNm_AD</th>\n",
       "      <td>0.038</td>\n",
       "      <td>-0.048</td>\n",
       "      <td>-0.003</td>\n",
       "      <td>0.040</td>\n",
       "      <td>0.012</td>\n",
       "      <td>-0.016</td>\n",
       "    </tr>\n",
       "    <tr>\n",
       "      <th>careNm_CM</th>\n",
       "      <td>-0.004</td>\n",
       "      <td>0.061</td>\n",
       "      <td>-0.102</td>\n",
       "      <td>0.048</td>\n",
       "      <td>0.001</td>\n",
       "      <td>-0.011</td>\n",
       "    </tr>\n",
       "    <tr>\n",
       "      <th>sido</th>\n",
       "      <td>0.028</td>\n",
       "      <td>0.014</td>\n",
       "      <td>-0.098</td>\n",
       "      <td>0.082</td>\n",
       "      <td>0.010</td>\n",
       "      <td>-0.028</td>\n",
       "    </tr>\n",
       "  </tbody>\n",
       "</table>\n",
       "</div>"
      ],
      "text/plain": [
       "                  processState_Pre  processState_C  processState_A  \\\n",
       "age(after)                   0.085          -0.024          -0.013   \n",
       "neuterYn                     0.029           0.005          -0.108   \n",
       "noticeEdt                   -0.206           0.320          -0.172   \n",
       "sexCd                       -0.027           0.050          -0.065   \n",
       "weight(after)                0.072           0.014          -0.005   \n",
       "kind                           NaN             NaN             NaN   \n",
       "happenWd                     0.030          -0.030          -0.016   \n",
       "happenMth                   -0.200           0.310          -0.165   \n",
       "size                        -0.088           0.012           0.011   \n",
       "age_u                       -0.082           0.025           0.015   \n",
       "processState_Pre             1.000          -0.745          -0.330   \n",
       "processState_C              -0.745           1.000          -0.259   \n",
       "processState_A              -0.330          -0.259           1.000   \n",
       "processState_D               0.623          -0.471          -0.633   \n",
       "processState_R               0.234          -0.060          -0.080   \n",
       "processState_E               0.474          -0.073          -0.098   \n",
       "sexCd_M                      0.014          -0.025           0.031   \n",
       "sexCd_F                      0.015          -0.029           0.042   \n",
       "sexCd_Q                     -0.033           0.062          -0.083   \n",
       "neuterYn_Y                   0.026           0.007           0.020   \n",
       "neuterYn_N                  -0.046          -0.009           0.102   \n",
       "neuterYn_U                   0.039           0.007          -0.110   \n",
       "careNm_ETC                  -0.015           0.009          -0.007   \n",
       "careNm_H                    -0.055          -0.058           0.202   \n",
       "careNm_C                     0.047           0.025          -0.114   \n",
       "careNm_O                    -0.004           0.013          -0.000   \n",
       "careNm_AD                    0.038          -0.048          -0.003   \n",
       "careNm_CM                   -0.004           0.061          -0.102   \n",
       "sido                         0.028           0.014          -0.098   \n",
       "\n",
       "                  processState_D  processState_R  processState_E  \n",
       "age(after)                -0.038           0.118           0.109  \n",
       "neuterYn                   0.110          -0.001          -0.057  \n",
       "noticeEdt                 -0.061          -0.024          -0.054  \n",
       "sexCd                      0.039          -0.025          -0.037  \n",
       "weight(after)             -0.098           0.145           0.162  \n",
       "kind                         NaN             NaN             NaN  \n",
       "happenWd                   0.037           0.015          -0.015  \n",
       "happenMth                 -0.061          -0.023          -0.052  \n",
       "size                       0.060          -0.120          -0.145  \n",
       "age_u                      0.033          -0.126          -0.093  \n",
       "processState_Pre           0.623           0.234           0.474  \n",
       "processState_C            -0.471          -0.060          -0.073  \n",
       "processState_A            -0.633          -0.080          -0.098  \n",
       "processState_D             1.000          -0.146          -0.178  \n",
       "processState_R            -0.146           1.000          -0.023  \n",
       "processState_E            -0.178          -0.023           1.000  \n",
       "sexCd_M                   -0.017           0.004           0.021  \n",
       "sexCd_F                   -0.029           0.032           0.017  \n",
       "sexCd_Q                    0.052          -0.040          -0.043  \n",
       "neuterYn_Y                -0.076           0.117           0.068  \n",
       "neuterYn_N                -0.072          -0.066           0.021  \n",
       "neuterYn_U                 0.095           0.033          -0.041  \n",
       "careNm_ETC                 0.010          -0.007          -0.027  \n",
       "careNm_H                  -0.129          -0.022           0.002  \n",
       "careNm_C                   0.070           0.019           0.022  \n",
       "careNm_O                  -0.016          -0.002           0.020  \n",
       "careNm_AD                  0.040           0.012          -0.016  \n",
       "careNm_CM                  0.048           0.001          -0.011  \n",
       "sido                       0.082           0.010          -0.028  "
      ]
     },
     "execution_count": 46,
     "metadata": {},
     "output_type": "execute_result"
    }
   ],
   "source": [
    "cor_t2 = np.round(dfc2.corr(),3)\n",
    "cor2 = cor_t2.loc[:,[ 'processState_Pre', 'processState_C', 'processState_A',\n",
    "       'processState_D', 'processState_R', 'processState_E']]\n",
    "cor2"
   ]
  },
  {
   "cell_type": "markdown",
   "metadata": {},
   "source": [
    "### 4. Data Learning"
   ]
  },
  {
   "cell_type": "code",
   "execution_count": null,
   "metadata": {},
   "outputs": [],
   "source": [
    "# null값 처리\n",
    "# df.isnull().any()\n",
    "#null_columns=df.columns[df.isnull().any()]\n",
    "#df[null_columns].isnull().sum()\n",
    "#print(df[df[\"breed_Pre\"].isnull()][null_columns])"
   ]
  },
  {
   "cell_type": "markdown",
   "metadata": {},
   "source": [
    "#### - feature 선택"
   ]
  },
  {
   "cell_type": "code",
   "execution_count": 74,
   "metadata": {},
   "outputs": [],
   "source": [
    "# feature_name = ['age(after)','neuterYn','sexCd','weight(after)', 'kind', 'happenWd', 'happenMth', \n",
    "#                 'size', 'processState_Pre', 'sido']\n",
    "# df_Pre = dfc[feature_name] #15/16/17\n",
    "# dft_Pre = dfc2[feature_name] #18\n",
    "\n",
    "# feature_name2 = ['age(after)','neuterYn','sexCd','weight(after)', 'kind', 'happenWd', 'happenMth', \n",
    "#                 'size', 'processState_A', 'sido']\n",
    "# df_A = dfc[feature_name2]\n",
    "# dft_A = dfc2[feature_name2]"
   ]
  },
  {
   "cell_type": "code",
   "execution_count": 75,
   "metadata": {},
   "outputs": [
    {
     "data": {
      "text/html": [
       "<div>\n",
       "<style scoped>\n",
       "    .dataframe tbody tr th:only-of-type {\n",
       "        vertical-align: middle;\n",
       "    }\n",
       "\n",
       "    .dataframe tbody tr th {\n",
       "        vertical-align: top;\n",
       "    }\n",
       "\n",
       "    .dataframe thead th {\n",
       "        text-align: right;\n",
       "    }\n",
       "</style>\n",
       "<table border=\"1\" class=\"dataframe\">\n",
       "  <thead>\n",
       "    <tr style=\"text-align: right;\">\n",
       "      <th></th>\n",
       "      <th>age(after)</th>\n",
       "      <th>neuterYn</th>\n",
       "      <th>sexCd</th>\n",
       "      <th>weight(after)</th>\n",
       "      <th>kind</th>\n",
       "      <th>happenWd</th>\n",
       "      <th>happenMth</th>\n",
       "      <th>size</th>\n",
       "      <th>processState_Pre</th>\n",
       "      <th>sido</th>\n",
       "    </tr>\n",
       "  </thead>\n",
       "  <tbody>\n",
       "    <tr>\n",
       "      <th>9</th>\n",
       "      <td>3.0</td>\n",
       "      <td>1</td>\n",
       "      <td>1</td>\n",
       "      <td>5.0</td>\n",
       "      <td>1</td>\n",
       "      <td>4</td>\n",
       "      <td>12</td>\n",
       "      <td>1</td>\n",
       "      <td>2</td>\n",
       "      <td>1</td>\n",
       "    </tr>\n",
       "    <tr>\n",
       "      <th>10</th>\n",
       "      <td>0.0</td>\n",
       "      <td>2</td>\n",
       "      <td>1</td>\n",
       "      <td>0.6</td>\n",
       "      <td>1</td>\n",
       "      <td>4</td>\n",
       "      <td>12</td>\n",
       "      <td>3</td>\n",
       "      <td>1</td>\n",
       "      <td>14</td>\n",
       "    </tr>\n",
       "    <tr>\n",
       "      <th>11</th>\n",
       "      <td>0.0</td>\n",
       "      <td>2</td>\n",
       "      <td>1</td>\n",
       "      <td>0.3</td>\n",
       "      <td>1</td>\n",
       "      <td>4</td>\n",
       "      <td>12</td>\n",
       "      <td>3</td>\n",
       "      <td>2</td>\n",
       "      <td>14</td>\n",
       "    </tr>\n",
       "  </tbody>\n",
       "</table>\n",
       "</div>"
      ],
      "text/plain": [
       "    age(after)  neuterYn  sexCd  weight(after)  kind  happenWd  happenMth  \\\n",
       "9          3.0         1      1            5.0     1         4         12   \n",
       "10         0.0         2      1            0.6     1         4         12   \n",
       "11         0.0         2      1            0.3     1         4         12   \n",
       "\n",
       "    size  processState_Pre  sido  \n",
       "9      1                 2     1  \n",
       "10     3                 1    14  \n",
       "11     3                 2    14  "
      ]
     },
     "execution_count": 75,
     "metadata": {},
     "output_type": "execute_result"
    }
   ],
   "source": [
    "df_Pre.head(3)"
   ]
  },
  {
   "cell_type": "code",
   "execution_count": 49,
   "metadata": {},
   "outputs": [
    {
     "data": {
      "text/html": [
       "<div>\n",
       "<style scoped>\n",
       "    .dataframe tbody tr th:only-of-type {\n",
       "        vertical-align: middle;\n",
       "    }\n",
       "\n",
       "    .dataframe tbody tr th {\n",
       "        vertical-align: top;\n",
       "    }\n",
       "\n",
       "    .dataframe thead th {\n",
       "        text-align: right;\n",
       "    }\n",
       "</style>\n",
       "<table border=\"1\" class=\"dataframe\">\n",
       "  <thead>\n",
       "    <tr style=\"text-align: right;\">\n",
       "      <th></th>\n",
       "      <th>age(after)</th>\n",
       "      <th>neuterYn</th>\n",
       "      <th>sexCd</th>\n",
       "      <th>weight(after)</th>\n",
       "      <th>kind</th>\n",
       "      <th>happenWd</th>\n",
       "      <th>happenMth</th>\n",
       "      <th>size</th>\n",
       "      <th>processState_Pre</th>\n",
       "      <th>sido</th>\n",
       "    </tr>\n",
       "  </thead>\n",
       "  <tbody>\n",
       "    <tr>\n",
       "      <th>20</th>\n",
       "      <td>0</td>\n",
       "      <td>1</td>\n",
       "      <td>2</td>\n",
       "      <td>0.01</td>\n",
       "      <td>1</td>\n",
       "      <td>4</td>\n",
       "      <td>9</td>\n",
       "      <td>3</td>\n",
       "      <td>0</td>\n",
       "      <td>7</td>\n",
       "    </tr>\n",
       "    <tr>\n",
       "      <th>21</th>\n",
       "      <td>0</td>\n",
       "      <td>1</td>\n",
       "      <td>2</td>\n",
       "      <td>0.10</td>\n",
       "      <td>1</td>\n",
       "      <td>4</td>\n",
       "      <td>9</td>\n",
       "      <td>3</td>\n",
       "      <td>0</td>\n",
       "      <td>7</td>\n",
       "    </tr>\n",
       "    <tr>\n",
       "      <th>24</th>\n",
       "      <td>0</td>\n",
       "      <td>2</td>\n",
       "      <td>2</td>\n",
       "      <td>0.20</td>\n",
       "      <td>1</td>\n",
       "      <td>4</td>\n",
       "      <td>9</td>\n",
       "      <td>3</td>\n",
       "      <td>0</td>\n",
       "      <td>2</td>\n",
       "    </tr>\n",
       "  </tbody>\n",
       "</table>\n",
       "</div>"
      ],
      "text/plain": [
       "    age(after)  neuterYn  sexCd  weight(after)  kind  happenWd  happenMth  \\\n",
       "20           0         1      2           0.01     1         4          9   \n",
       "21           0         1      2           0.10     1         4          9   \n",
       "24           0         2      2           0.20     1         4          9   \n",
       "\n",
       "    size  processState_Pre  sido  \n",
       "20     3                 0     7  \n",
       "21     3                 0     7  \n",
       "24     3                 0     2  "
      ]
     },
     "execution_count": 49,
     "metadata": {},
     "output_type": "execute_result"
    }
   ],
   "source": [
    "dft_Pre.head(3)"
   ]
  },
  {
   "cell_type": "code",
   "execution_count": 50,
   "metadata": {},
   "outputs": [
    {
     "data": {
      "text/html": [
       "<div>\n",
       "<style scoped>\n",
       "    .dataframe tbody tr th:only-of-type {\n",
       "        vertical-align: middle;\n",
       "    }\n",
       "\n",
       "    .dataframe tbody tr th {\n",
       "        vertical-align: top;\n",
       "    }\n",
       "\n",
       "    .dataframe thead th {\n",
       "        text-align: right;\n",
       "    }\n",
       "</style>\n",
       "<table border=\"1\" class=\"dataframe\">\n",
       "  <thead>\n",
       "    <tr style=\"text-align: right;\">\n",
       "      <th></th>\n",
       "      <th>age(after)</th>\n",
       "      <th>neuterYn</th>\n",
       "      <th>sexCd</th>\n",
       "      <th>weight(after)</th>\n",
       "      <th>kind</th>\n",
       "      <th>happenWd</th>\n",
       "      <th>happenMth</th>\n",
       "      <th>size</th>\n",
       "      <th>processState_A</th>\n",
       "      <th>sido</th>\n",
       "    </tr>\n",
       "  </thead>\n",
       "  <tbody>\n",
       "    <tr>\n",
       "      <th>9</th>\n",
       "      <td>3.0</td>\n",
       "      <td>1</td>\n",
       "      <td>1</td>\n",
       "      <td>5.0</td>\n",
       "      <td>1</td>\n",
       "      <td>4</td>\n",
       "      <td>12</td>\n",
       "      <td>1</td>\n",
       "      <td>False</td>\n",
       "      <td>1</td>\n",
       "    </tr>\n",
       "    <tr>\n",
       "      <th>10</th>\n",
       "      <td>0.0</td>\n",
       "      <td>2</td>\n",
       "      <td>1</td>\n",
       "      <td>0.6</td>\n",
       "      <td>1</td>\n",
       "      <td>4</td>\n",
       "      <td>12</td>\n",
       "      <td>3</td>\n",
       "      <td>True</td>\n",
       "      <td>14</td>\n",
       "    </tr>\n",
       "    <tr>\n",
       "      <th>11</th>\n",
       "      <td>0.0</td>\n",
       "      <td>2</td>\n",
       "      <td>1</td>\n",
       "      <td>0.3</td>\n",
       "      <td>1</td>\n",
       "      <td>4</td>\n",
       "      <td>12</td>\n",
       "      <td>3</td>\n",
       "      <td>False</td>\n",
       "      <td>14</td>\n",
       "    </tr>\n",
       "  </tbody>\n",
       "</table>\n",
       "</div>"
      ],
      "text/plain": [
       "    age(after)  neuterYn  sexCd  weight(after)  kind  happenWd  happenMth  \\\n",
       "9          3.0         1      1            5.0     1         4         12   \n",
       "10         0.0         2      1            0.6     1         4         12   \n",
       "11         0.0         2      1            0.3     1         4         12   \n",
       "\n",
       "    size  processState_A  sido  \n",
       "9      1           False     1  \n",
       "10     3            True    14  \n",
       "11     3           False    14  "
      ]
     },
     "execution_count": 50,
     "metadata": {},
     "output_type": "execute_result"
    }
   ],
   "source": [
    "df_A.head(3)"
   ]
  },
  {
   "cell_type": "code",
   "execution_count": 51,
   "metadata": {},
   "outputs": [
    {
     "data": {
      "text/html": [
       "<div>\n",
       "<style scoped>\n",
       "    .dataframe tbody tr th:only-of-type {\n",
       "        vertical-align: middle;\n",
       "    }\n",
       "\n",
       "    .dataframe tbody tr th {\n",
       "        vertical-align: top;\n",
       "    }\n",
       "\n",
       "    .dataframe thead th {\n",
       "        text-align: right;\n",
       "    }\n",
       "</style>\n",
       "<table border=\"1\" class=\"dataframe\">\n",
       "  <thead>\n",
       "    <tr style=\"text-align: right;\">\n",
       "      <th></th>\n",
       "      <th>age(after)</th>\n",
       "      <th>neuterYn</th>\n",
       "      <th>sexCd</th>\n",
       "      <th>weight(after)</th>\n",
       "      <th>kind</th>\n",
       "      <th>happenWd</th>\n",
       "      <th>happenMth</th>\n",
       "      <th>size</th>\n",
       "      <th>processState_A</th>\n",
       "      <th>sido</th>\n",
       "    </tr>\n",
       "  </thead>\n",
       "  <tbody>\n",
       "    <tr>\n",
       "      <th>20</th>\n",
       "      <td>0</td>\n",
       "      <td>1</td>\n",
       "      <td>2</td>\n",
       "      <td>0.01</td>\n",
       "      <td>1</td>\n",
       "      <td>4</td>\n",
       "      <td>9</td>\n",
       "      <td>3</td>\n",
       "      <td>False</td>\n",
       "      <td>7</td>\n",
       "    </tr>\n",
       "    <tr>\n",
       "      <th>21</th>\n",
       "      <td>0</td>\n",
       "      <td>1</td>\n",
       "      <td>2</td>\n",
       "      <td>0.10</td>\n",
       "      <td>1</td>\n",
       "      <td>4</td>\n",
       "      <td>9</td>\n",
       "      <td>3</td>\n",
       "      <td>False</td>\n",
       "      <td>7</td>\n",
       "    </tr>\n",
       "    <tr>\n",
       "      <th>24</th>\n",
       "      <td>0</td>\n",
       "      <td>2</td>\n",
       "      <td>2</td>\n",
       "      <td>0.20</td>\n",
       "      <td>1</td>\n",
       "      <td>4</td>\n",
       "      <td>9</td>\n",
       "      <td>3</td>\n",
       "      <td>False</td>\n",
       "      <td>2</td>\n",
       "    </tr>\n",
       "  </tbody>\n",
       "</table>\n",
       "</div>"
      ],
      "text/plain": [
       "    age(after)  neuterYn  sexCd  weight(after)  kind  happenWd  happenMth  \\\n",
       "20           0         1      2           0.01     1         4          9   \n",
       "21           0         1      2           0.10     1         4          9   \n",
       "24           0         2      2           0.20     1         4          9   \n",
       "\n",
       "    size  processState_A  sido  \n",
       "20     3           False     7  \n",
       "21     3           False     7  \n",
       "24     3           False     2  "
      ]
     },
     "execution_count": 51,
     "metadata": {},
     "output_type": "execute_result"
    }
   ],
   "source": [
    "dft_A.head(3)"
   ]
  },
  {
   "cell_type": "code",
   "execution_count": 76,
   "metadata": {},
   "outputs": [],
   "source": [
    "feature_name = ['kind', 'happenWd', 'happenMth','size','age_u', 'sexCd_M',\n",
    "               'sexCd_F', 'sexCd_Q', 'neuterYn_Y', 'neuterYn_N', 'neuterYn_U',\n",
    "               'careNm_ETC', 'careNm_H', 'careNm_C', 'careNm_O', 'careNm_AD',\n",
    "               'careNm_CM', 'sido','processState_Pre', 'sido']\n",
    "\n",
    "df_Pre = dfc[feature_name]\n",
    "dft_Pre = dfc2[feature_name]\n",
    "\n",
    "feature_name2 = ['kind', 'happenWd', 'happenMth','size','age_u', 'sexCd_M',\n",
    "               'sexCd_F', 'sexCd_Q', 'neuterYn_Y', 'neuterYn_N', 'neuterYn_U',\n",
    "               'careNm_ETC', 'careNm_H', 'careNm_C', 'careNm_O', 'careNm_AD',\n",
    "               'careNm_CM', 'sido','processState_A', 'sido']\n",
    "df_A = dfc[feature_name2]\n",
    "dft_A = dfc2[feature_name2]\n"
   ]
  },
  {
   "cell_type": "code",
   "execution_count": 77,
   "metadata": {},
   "outputs": [
    {
     "data": {
      "text/html": [
       "<div>\n",
       "<style scoped>\n",
       "    .dataframe tbody tr th:only-of-type {\n",
       "        vertical-align: middle;\n",
       "    }\n",
       "\n",
       "    .dataframe tbody tr th {\n",
       "        vertical-align: top;\n",
       "    }\n",
       "\n",
       "    .dataframe thead th {\n",
       "        text-align: right;\n",
       "    }\n",
       "</style>\n",
       "<table border=\"1\" class=\"dataframe\">\n",
       "  <thead>\n",
       "    <tr style=\"text-align: right;\">\n",
       "      <th></th>\n",
       "      <th>kind</th>\n",
       "      <th>happenWd</th>\n",
       "      <th>happenMth</th>\n",
       "      <th>size</th>\n",
       "      <th>age_u</th>\n",
       "      <th>sexCd_M</th>\n",
       "      <th>sexCd_F</th>\n",
       "      <th>sexCd_Q</th>\n",
       "      <th>neuterYn_Y</th>\n",
       "      <th>neuterYn_N</th>\n",
       "      <th>neuterYn_U</th>\n",
       "      <th>careNm_ETC</th>\n",
       "      <th>careNm_H</th>\n",
       "      <th>careNm_C</th>\n",
       "      <th>careNm_O</th>\n",
       "      <th>careNm_AD</th>\n",
       "      <th>careNm_CM</th>\n",
       "      <th>sido</th>\n",
       "      <th>processState_Pre</th>\n",
       "      <th>sido</th>\n",
       "    </tr>\n",
       "  </thead>\n",
       "  <tbody>\n",
       "    <tr>\n",
       "      <th>9</th>\n",
       "      <td>1</td>\n",
       "      <td>4</td>\n",
       "      <td>12</td>\n",
       "      <td>1</td>\n",
       "      <td>1</td>\n",
       "      <td>False</td>\n",
       "      <td>True</td>\n",
       "      <td>False</td>\n",
       "      <td>False</td>\n",
       "      <td>True</td>\n",
       "      <td>False</td>\n",
       "      <td>False</td>\n",
       "      <td>True</td>\n",
       "      <td>False</td>\n",
       "      <td>False</td>\n",
       "      <td>False</td>\n",
       "      <td>False</td>\n",
       "      <td>1</td>\n",
       "      <td>2</td>\n",
       "      <td>1</td>\n",
       "    </tr>\n",
       "    <tr>\n",
       "      <th>10</th>\n",
       "      <td>1</td>\n",
       "      <td>4</td>\n",
       "      <td>12</td>\n",
       "      <td>3</td>\n",
       "      <td>2</td>\n",
       "      <td>False</td>\n",
       "      <td>True</td>\n",
       "      <td>False</td>\n",
       "      <td>False</td>\n",
       "      <td>False</td>\n",
       "      <td>True</td>\n",
       "      <td>False</td>\n",
       "      <td>False</td>\n",
       "      <td>True</td>\n",
       "      <td>False</td>\n",
       "      <td>False</td>\n",
       "      <td>False</td>\n",
       "      <td>14</td>\n",
       "      <td>1</td>\n",
       "      <td>14</td>\n",
       "    </tr>\n",
       "    <tr>\n",
       "      <th>11</th>\n",
       "      <td>1</td>\n",
       "      <td>4</td>\n",
       "      <td>12</td>\n",
       "      <td>3</td>\n",
       "      <td>2</td>\n",
       "      <td>False</td>\n",
       "      <td>True</td>\n",
       "      <td>False</td>\n",
       "      <td>False</td>\n",
       "      <td>False</td>\n",
       "      <td>True</td>\n",
       "      <td>False</td>\n",
       "      <td>False</td>\n",
       "      <td>True</td>\n",
       "      <td>False</td>\n",
       "      <td>False</td>\n",
       "      <td>False</td>\n",
       "      <td>14</td>\n",
       "      <td>2</td>\n",
       "      <td>14</td>\n",
       "    </tr>\n",
       "  </tbody>\n",
       "</table>\n",
       "</div>"
      ],
      "text/plain": [
       "    kind  happenWd  happenMth  size  age_u  sexCd_M  sexCd_F  sexCd_Q  \\\n",
       "9      1         4         12     1      1    False     True    False   \n",
       "10     1         4         12     3      2    False     True    False   \n",
       "11     1         4         12     3      2    False     True    False   \n",
       "\n",
       "    neuterYn_Y  neuterYn_N  neuterYn_U  careNm_ETC  careNm_H  careNm_C  \\\n",
       "9        False        True       False       False      True     False   \n",
       "10       False       False        True       False     False      True   \n",
       "11       False       False        True       False     False      True   \n",
       "\n",
       "    careNm_O  careNm_AD  careNm_CM  sido  processState_Pre  sido  \n",
       "9      False      False      False     1                 2     1  \n",
       "10     False      False      False    14                 1    14  \n",
       "11     False      False      False    14                 2    14  "
      ]
     },
     "execution_count": 77,
     "metadata": {},
     "output_type": "execute_result"
    }
   ],
   "source": [
    "df_Pre.head(3)"
   ]
  },
  {
   "cell_type": "code",
   "execution_count": 78,
   "metadata": {},
   "outputs": [
    {
     "data": {
      "text/html": [
       "<div>\n",
       "<style scoped>\n",
       "    .dataframe tbody tr th:only-of-type {\n",
       "        vertical-align: middle;\n",
       "    }\n",
       "\n",
       "    .dataframe tbody tr th {\n",
       "        vertical-align: top;\n",
       "    }\n",
       "\n",
       "    .dataframe thead th {\n",
       "        text-align: right;\n",
       "    }\n",
       "</style>\n",
       "<table border=\"1\" class=\"dataframe\">\n",
       "  <thead>\n",
       "    <tr style=\"text-align: right;\">\n",
       "      <th></th>\n",
       "      <th>kind</th>\n",
       "      <th>happenWd</th>\n",
       "      <th>happenMth</th>\n",
       "      <th>size</th>\n",
       "      <th>age_u</th>\n",
       "      <th>sexCd_M</th>\n",
       "      <th>sexCd_F</th>\n",
       "      <th>sexCd_Q</th>\n",
       "      <th>neuterYn_Y</th>\n",
       "      <th>neuterYn_N</th>\n",
       "      <th>neuterYn_U</th>\n",
       "      <th>careNm_ETC</th>\n",
       "      <th>careNm_H</th>\n",
       "      <th>careNm_C</th>\n",
       "      <th>careNm_O</th>\n",
       "      <th>careNm_AD</th>\n",
       "      <th>careNm_CM</th>\n",
       "      <th>sido</th>\n",
       "      <th>processState_Pre</th>\n",
       "      <th>sido</th>\n",
       "    </tr>\n",
       "  </thead>\n",
       "  <tbody>\n",
       "    <tr>\n",
       "      <th>20</th>\n",
       "      <td>1</td>\n",
       "      <td>4</td>\n",
       "      <td>9</td>\n",
       "      <td>3</td>\n",
       "      <td>2</td>\n",
       "      <td>False</td>\n",
       "      <td>False</td>\n",
       "      <td>True</td>\n",
       "      <td>False</td>\n",
       "      <td>True</td>\n",
       "      <td>False</td>\n",
       "      <td>False</td>\n",
       "      <td>True</td>\n",
       "      <td>False</td>\n",
       "      <td>False</td>\n",
       "      <td>False</td>\n",
       "      <td>False</td>\n",
       "      <td>7</td>\n",
       "      <td>0</td>\n",
       "      <td>7</td>\n",
       "    </tr>\n",
       "    <tr>\n",
       "      <th>21</th>\n",
       "      <td>1</td>\n",
       "      <td>4</td>\n",
       "      <td>9</td>\n",
       "      <td>3</td>\n",
       "      <td>2</td>\n",
       "      <td>False</td>\n",
       "      <td>False</td>\n",
       "      <td>True</td>\n",
       "      <td>False</td>\n",
       "      <td>True</td>\n",
       "      <td>False</td>\n",
       "      <td>False</td>\n",
       "      <td>True</td>\n",
       "      <td>False</td>\n",
       "      <td>False</td>\n",
       "      <td>False</td>\n",
       "      <td>False</td>\n",
       "      <td>7</td>\n",
       "      <td>0</td>\n",
       "      <td>7</td>\n",
       "    </tr>\n",
       "    <tr>\n",
       "      <th>24</th>\n",
       "      <td>1</td>\n",
       "      <td>4</td>\n",
       "      <td>9</td>\n",
       "      <td>3</td>\n",
       "      <td>2</td>\n",
       "      <td>False</td>\n",
       "      <td>False</td>\n",
       "      <td>True</td>\n",
       "      <td>False</td>\n",
       "      <td>False</td>\n",
       "      <td>True</td>\n",
       "      <td>False</td>\n",
       "      <td>False</td>\n",
       "      <td>False</td>\n",
       "      <td>False</td>\n",
       "      <td>False</td>\n",
       "      <td>True</td>\n",
       "      <td>2</td>\n",
       "      <td>0</td>\n",
       "      <td>2</td>\n",
       "    </tr>\n",
       "  </tbody>\n",
       "</table>\n",
       "</div>"
      ],
      "text/plain": [
       "    kind  happenWd  happenMth  size  age_u  sexCd_M  sexCd_F  sexCd_Q  \\\n",
       "20     1         4          9     3      2    False    False     True   \n",
       "21     1         4          9     3      2    False    False     True   \n",
       "24     1         4          9     3      2    False    False     True   \n",
       "\n",
       "    neuterYn_Y  neuterYn_N  neuterYn_U  careNm_ETC  careNm_H  careNm_C  \\\n",
       "20       False        True       False       False      True     False   \n",
       "21       False        True       False       False      True     False   \n",
       "24       False       False        True       False     False     False   \n",
       "\n",
       "    careNm_O  careNm_AD  careNm_CM  sido  processState_Pre  sido  \n",
       "20     False      False      False     7                 0     7  \n",
       "21     False      False      False     7                 0     7  \n",
       "24     False      False       True     2                 0     2  "
      ]
     },
     "execution_count": 78,
     "metadata": {},
     "output_type": "execute_result"
    }
   ],
   "source": [
    "dft_Pre.head(3)"
   ]
  },
  {
   "cell_type": "code",
   "execution_count": 79,
   "metadata": {},
   "outputs": [
    {
     "data": {
      "text/html": [
       "<div>\n",
       "<style scoped>\n",
       "    .dataframe tbody tr th:only-of-type {\n",
       "        vertical-align: middle;\n",
       "    }\n",
       "\n",
       "    .dataframe tbody tr th {\n",
       "        vertical-align: top;\n",
       "    }\n",
       "\n",
       "    .dataframe thead th {\n",
       "        text-align: right;\n",
       "    }\n",
       "</style>\n",
       "<table border=\"1\" class=\"dataframe\">\n",
       "  <thead>\n",
       "    <tr style=\"text-align: right;\">\n",
       "      <th></th>\n",
       "      <th>kind</th>\n",
       "      <th>happenWd</th>\n",
       "      <th>happenMth</th>\n",
       "      <th>size</th>\n",
       "      <th>age_u</th>\n",
       "      <th>sexCd_M</th>\n",
       "      <th>sexCd_F</th>\n",
       "      <th>sexCd_Q</th>\n",
       "      <th>neuterYn_Y</th>\n",
       "      <th>neuterYn_N</th>\n",
       "      <th>neuterYn_U</th>\n",
       "      <th>careNm_ETC</th>\n",
       "      <th>careNm_H</th>\n",
       "      <th>careNm_C</th>\n",
       "      <th>careNm_O</th>\n",
       "      <th>careNm_AD</th>\n",
       "      <th>careNm_CM</th>\n",
       "      <th>sido</th>\n",
       "      <th>processState_A</th>\n",
       "      <th>sido</th>\n",
       "    </tr>\n",
       "  </thead>\n",
       "  <tbody>\n",
       "    <tr>\n",
       "      <th>9</th>\n",
       "      <td>1</td>\n",
       "      <td>4</td>\n",
       "      <td>12</td>\n",
       "      <td>1</td>\n",
       "      <td>1</td>\n",
       "      <td>False</td>\n",
       "      <td>True</td>\n",
       "      <td>False</td>\n",
       "      <td>False</td>\n",
       "      <td>True</td>\n",
       "      <td>False</td>\n",
       "      <td>False</td>\n",
       "      <td>True</td>\n",
       "      <td>False</td>\n",
       "      <td>False</td>\n",
       "      <td>False</td>\n",
       "      <td>False</td>\n",
       "      <td>1</td>\n",
       "      <td>False</td>\n",
       "      <td>1</td>\n",
       "    </tr>\n",
       "    <tr>\n",
       "      <th>10</th>\n",
       "      <td>1</td>\n",
       "      <td>4</td>\n",
       "      <td>12</td>\n",
       "      <td>3</td>\n",
       "      <td>2</td>\n",
       "      <td>False</td>\n",
       "      <td>True</td>\n",
       "      <td>False</td>\n",
       "      <td>False</td>\n",
       "      <td>False</td>\n",
       "      <td>True</td>\n",
       "      <td>False</td>\n",
       "      <td>False</td>\n",
       "      <td>True</td>\n",
       "      <td>False</td>\n",
       "      <td>False</td>\n",
       "      <td>False</td>\n",
       "      <td>14</td>\n",
       "      <td>True</td>\n",
       "      <td>14</td>\n",
       "    </tr>\n",
       "    <tr>\n",
       "      <th>11</th>\n",
       "      <td>1</td>\n",
       "      <td>4</td>\n",
       "      <td>12</td>\n",
       "      <td>3</td>\n",
       "      <td>2</td>\n",
       "      <td>False</td>\n",
       "      <td>True</td>\n",
       "      <td>False</td>\n",
       "      <td>False</td>\n",
       "      <td>False</td>\n",
       "      <td>True</td>\n",
       "      <td>False</td>\n",
       "      <td>False</td>\n",
       "      <td>True</td>\n",
       "      <td>False</td>\n",
       "      <td>False</td>\n",
       "      <td>False</td>\n",
       "      <td>14</td>\n",
       "      <td>False</td>\n",
       "      <td>14</td>\n",
       "    </tr>\n",
       "  </tbody>\n",
       "</table>\n",
       "</div>"
      ],
      "text/plain": [
       "    kind  happenWd  happenMth  size  age_u  sexCd_M  sexCd_F  sexCd_Q  \\\n",
       "9      1         4         12     1      1    False     True    False   \n",
       "10     1         4         12     3      2    False     True    False   \n",
       "11     1         4         12     3      2    False     True    False   \n",
       "\n",
       "    neuterYn_Y  neuterYn_N  neuterYn_U  careNm_ETC  careNm_H  careNm_C  \\\n",
       "9        False        True       False       False      True     False   \n",
       "10       False       False        True       False     False      True   \n",
       "11       False       False        True       False     False      True   \n",
       "\n",
       "    careNm_O  careNm_AD  careNm_CM  sido  processState_A  sido  \n",
       "9      False      False      False     1           False     1  \n",
       "10     False      False      False    14            True    14  \n",
       "11     False      False      False    14           False    14  "
      ]
     },
     "execution_count": 79,
     "metadata": {},
     "output_type": "execute_result"
    }
   ],
   "source": [
    "df_A.head(3)"
   ]
  },
  {
   "cell_type": "code",
   "execution_count": 80,
   "metadata": {},
   "outputs": [
    {
     "data": {
      "text/html": [
       "<div>\n",
       "<style scoped>\n",
       "    .dataframe tbody tr th:only-of-type {\n",
       "        vertical-align: middle;\n",
       "    }\n",
       "\n",
       "    .dataframe tbody tr th {\n",
       "        vertical-align: top;\n",
       "    }\n",
       "\n",
       "    .dataframe thead th {\n",
       "        text-align: right;\n",
       "    }\n",
       "</style>\n",
       "<table border=\"1\" class=\"dataframe\">\n",
       "  <thead>\n",
       "    <tr style=\"text-align: right;\">\n",
       "      <th></th>\n",
       "      <th>kind</th>\n",
       "      <th>happenWd</th>\n",
       "      <th>happenMth</th>\n",
       "      <th>size</th>\n",
       "      <th>age_u</th>\n",
       "      <th>sexCd_M</th>\n",
       "      <th>sexCd_F</th>\n",
       "      <th>sexCd_Q</th>\n",
       "      <th>neuterYn_Y</th>\n",
       "      <th>neuterYn_N</th>\n",
       "      <th>neuterYn_U</th>\n",
       "      <th>careNm_ETC</th>\n",
       "      <th>careNm_H</th>\n",
       "      <th>careNm_C</th>\n",
       "      <th>careNm_O</th>\n",
       "      <th>careNm_AD</th>\n",
       "      <th>careNm_CM</th>\n",
       "      <th>sido</th>\n",
       "      <th>processState_A</th>\n",
       "      <th>sido</th>\n",
       "    </tr>\n",
       "  </thead>\n",
       "  <tbody>\n",
       "    <tr>\n",
       "      <th>20</th>\n",
       "      <td>1</td>\n",
       "      <td>4</td>\n",
       "      <td>9</td>\n",
       "      <td>3</td>\n",
       "      <td>2</td>\n",
       "      <td>False</td>\n",
       "      <td>False</td>\n",
       "      <td>True</td>\n",
       "      <td>False</td>\n",
       "      <td>True</td>\n",
       "      <td>False</td>\n",
       "      <td>False</td>\n",
       "      <td>True</td>\n",
       "      <td>False</td>\n",
       "      <td>False</td>\n",
       "      <td>False</td>\n",
       "      <td>False</td>\n",
       "      <td>7</td>\n",
       "      <td>False</td>\n",
       "      <td>7</td>\n",
       "    </tr>\n",
       "    <tr>\n",
       "      <th>21</th>\n",
       "      <td>1</td>\n",
       "      <td>4</td>\n",
       "      <td>9</td>\n",
       "      <td>3</td>\n",
       "      <td>2</td>\n",
       "      <td>False</td>\n",
       "      <td>False</td>\n",
       "      <td>True</td>\n",
       "      <td>False</td>\n",
       "      <td>True</td>\n",
       "      <td>False</td>\n",
       "      <td>False</td>\n",
       "      <td>True</td>\n",
       "      <td>False</td>\n",
       "      <td>False</td>\n",
       "      <td>False</td>\n",
       "      <td>False</td>\n",
       "      <td>7</td>\n",
       "      <td>False</td>\n",
       "      <td>7</td>\n",
       "    </tr>\n",
       "    <tr>\n",
       "      <th>24</th>\n",
       "      <td>1</td>\n",
       "      <td>4</td>\n",
       "      <td>9</td>\n",
       "      <td>3</td>\n",
       "      <td>2</td>\n",
       "      <td>False</td>\n",
       "      <td>False</td>\n",
       "      <td>True</td>\n",
       "      <td>False</td>\n",
       "      <td>False</td>\n",
       "      <td>True</td>\n",
       "      <td>False</td>\n",
       "      <td>False</td>\n",
       "      <td>False</td>\n",
       "      <td>False</td>\n",
       "      <td>False</td>\n",
       "      <td>True</td>\n",
       "      <td>2</td>\n",
       "      <td>False</td>\n",
       "      <td>2</td>\n",
       "    </tr>\n",
       "  </tbody>\n",
       "</table>\n",
       "</div>"
      ],
      "text/plain": [
       "    kind  happenWd  happenMth  size  age_u  sexCd_M  sexCd_F  sexCd_Q  \\\n",
       "20     1         4          9     3      2    False    False     True   \n",
       "21     1         4          9     3      2    False    False     True   \n",
       "24     1         4          9     3      2    False    False     True   \n",
       "\n",
       "    neuterYn_Y  neuterYn_N  neuterYn_U  careNm_ETC  careNm_H  careNm_C  \\\n",
       "20       False        True       False       False      True     False   \n",
       "21       False        True       False       False      True     False   \n",
       "24       False       False        True       False     False     False   \n",
       "\n",
       "    careNm_O  careNm_AD  careNm_CM  sido  processState_A  sido  \n",
       "20     False      False      False     7           False     7  \n",
       "21     False      False      False     7           False     7  \n",
       "24     False      False       True     2           False     2  "
      ]
     },
     "execution_count": 80,
     "metadata": {},
     "output_type": "execute_result"
    }
   ],
   "source": [
    "dft_A.head(3)"
   ]
  },
  {
   "cell_type": "markdown",
   "metadata": {},
   "source": [
    "#### - 종속변수 독립변수 추출"
   ]
  },
  {
   "cell_type": "markdown",
   "metadata": {
    "scrolled": true
   },
   "source": [
    "###### 1) processState_Pre 기준"
   ]
  },
  {
   "cell_type": "code",
   "execution_count": 81,
   "metadata": {},
   "outputs": [],
   "source": [
    "X=np.array(df_Pre.drop(columns='processState_Pre')) #종속변수\n",
    "Y=np.array(df_Pre.processState_Pre) #독립변수\n",
    "\n",
    "X2=np.array(dft_Pre.drop(columns='processState_Pre')) #종속변수\n",
    "Y2=np.array(dft_Pre.processState_Pre) #독립변수"
   ]
  },
  {
   "cell_type": "code",
   "execution_count": 82,
   "metadata": {
    "scrolled": true
   },
   "outputs": [
    {
     "name": "stdout",
     "output_type": "stream",
     "text": [
      "2    125773\n",
      "1     92841\n",
      "3     40314\n",
      "0      6831\n",
      "4      2884\n",
      "Name: processState_Pre, dtype: int64\n"
     ]
    },
    {
     "name": "stderr",
     "output_type": "stream",
     "text": [
      "C:\\Users\\Bit\\Anaconda3\\lib\\site-packages\\ipykernel_launcher.py:2: DeprecationWarning: `itemfreq` is deprecated!\n",
      "`itemfreq` is deprecated and will be removed in a future version. Use instead `np.unique(..., return_counts=True)`\n",
      "  \n"
     ]
    },
    {
     "data": {
      "text/plain": [
       "array([ 1927, 20298, 45611,  1210,  2638], dtype=int64)"
      ]
     },
     "execution_count": 82,
     "metadata": {},
     "output_type": "execute_result"
    },
    {
     "data": {
      "image/png": "[encoded data removed]",
      "text/plain": [
       "<Figure size 432x288 with 1 Axes>"
      ]
     },
     "metadata": {
      "needs_background": "light"
     },
     "output_type": "display_data"
    }
   ],
   "source": [
    "print(df['processState_Pre'].value_counts())\n",
    "table = itemfreq(Y)\n",
    "x_ticks = ['0','1','2','3','4'] \n",
    "# 0 : 보호중, 1:입양,기증, 2:자연사,안락사, 3:반환, 4:방사,미포획\n",
    "plt.bar(x_ticks, table[:,1], color='skyblue')\n",
    "table[:,1]"
   ]
  },
  {
   "cell_type": "markdown",
   "metadata": {},
   "source": [
    "###### 2) processState_A 기준"
   ]
  },
  {
   "cell_type": "code",
   "execution_count": 83,
   "metadata": {},
   "outputs": [],
   "source": [
    "Z=np.array(df_A.drop(columns='processState_A')) #종속변수\n",
    "Q=np.array(df_A.processState_A) #독립변수\n",
    "Z2=np.array(dft_A.drop(columns='processState_A')) #종속변수\n",
    "Q2=np.array(dft_A.processState_A) #독립변수"
   ]
  },
  {
   "cell_type": "code",
   "execution_count": 84,
   "metadata": {},
   "outputs": [
    {
     "name": "stdout",
     "output_type": "stream",
     "text": [
      "False    51386\n",
      "True     20298\n",
      "Name: processState_A, dtype: int64\n"
     ]
    },
    {
     "name": "stderr",
     "output_type": "stream",
     "text": [
      "C:\\Users\\Bit\\Anaconda3\\lib\\site-packages\\ipykernel_launcher.py:2: DeprecationWarning: `itemfreq` is deprecated!\n",
      "`itemfreq` is deprecated and will be removed in a future version. Use instead `np.unique(..., return_counts=True)`\n",
      "  \n"
     ]
    },
    {
     "data": {
      "text/plain": [
       "array([51386, 20298], dtype=int64)"
      ]
     },
     "execution_count": 84,
     "metadata": {},
     "output_type": "execute_result"
    },
    {
     "data": {
      "image/png": "[encoded data removed]",
      "text/plain": [
       "<Figure size 432x288 with 1 Axes>"
      ]
     },
     "metadata": {
      "needs_background": "light"
     },
     "output_type": "display_data"
    }
   ],
   "source": [
    "print(df_A['processState_A'].value_counts())\n",
    "table = itemfreq(Q)\n",
    "x_ticks = ['0','1'] # 0 : 입양X, 1:입양O\n",
    "plt.bar(x_ticks, table[:,1], color='pink')\n",
    "table[:,1]"
   ]
  },
  {
   "cell_type": "markdown",
   "metadata": {},
   "source": [
    "##### - 데이터셋 나누기"
   ]
  },
  {
   "cell_type": "code",
   "execution_count": 85,
   "metadata": {},
   "outputs": [
    {
     "name": "stdout",
     "output_type": "stream",
     "text": [
      "(71684, 19)\n",
      "(71684,)\n",
      "(71684, 19)\n",
      "(71684,)\n"
     ]
    }
   ],
   "source": [
    "# 15/16/17 train 데이터 \n",
    "print(X.shape)\n",
    "print(Y.shape)\n",
    "print(Z.shape)\n",
    "print(Q.shape)"
   ]
  },
  {
   "cell_type": "code",
   "execution_count": 86,
   "metadata": {},
   "outputs": [
    {
     "name": "stdout",
     "output_type": "stream",
     "text": [
      "(18725, 19)\n",
      "(18725,)\n",
      "(18725, 19)\n",
      "(18725,)\n"
     ]
    }
   ],
   "source": [
    "#18년도 test 데이터\n",
    "print(X2.shape)\n",
    "print(Y2.shape)\n",
    "print(Z2.shape)\n",
    "print(Q2.shape)"
   ]
  },
  {
   "cell_type": "code",
   "execution_count": null,
   "metadata": {},
   "outputs": [],
   "source": [
    "#X_train, X_test, Y_train, Y_test = train_test_split(X,Y,test_size=0.3, random_state=5)\n",
    "#Z_train, Z_test, Q_train, Q_test = train_test_split(Z,Q,test_size=0.3, random_state=5)\n",
    "\n",
    "# train_test_split\n",
    "# : 데이터를  train set과 test set으로 단순분리\n",
    "# : 원래 트레이닝 데이터와 결과값이 X와 Y를 무작위로 섞은 후 test_size로 주어진 비율만큼 나눔\n",
    "# test_size 0.3은 X와 Y를 무작위로 섞은 후에 70%은 train으로, 30%는 test로 하는것\n",
    "# random_state : 난수발생을 위한 seed의 인자값"
   ]
  },
  {
   "cell_type": "markdown",
   "metadata": {},
   "source": [
    "#### - 모형 적용"
   ]
  },
  {
   "cell_type": "markdown",
   "metadata": {},
   "source": [
    "##### KNN"
   ]
  },
  {
   "cell_type": "code",
   "execution_count": null,
   "metadata": {
    "scrolled": true
   },
   "outputs": [],
   "source": [
    "# knn객체 : 훈련데이터로 모델을 만들고 새로운 데이터포인트에 대해 예측하는 알고리즘을 캡슐화\n",
    "# 또한 알고리즘이 훈련데이터로부터 추출한 정보를 담고 있음\n",
    "# KNeighborsClassifier : 훈련데이터 자체를 저장\n",
    "knn_Pre = KNeighborsClassifier(n_neighbors=1) # n_neighbor : 이웃의 갯수\n",
    "knn_A = KNeighborsClassifier(n_neighbors=1) # n_neighbor : 이웃의 갯수\n",
    "print(knn_Pre)\n",
    "print(knn_A)\n",
    "# fit() : 훈련데이터셋으로부터 모델 만들기, knn객체 자체를 반환, 그리고 knn객체 자체를 변경시킴, knn객체가 문자열 형태로 출력됨\n",
    "#출력에서 모델으르생성할떄 사용한 매개변수 확인 가능\n",
    "# 훈련데이터(Numpy배열 X_train), 훈련데이터레이블(Numpy배열 y_train)을 매개변수로 받음\n",
    "knn_Pre.fit(X, Y)\n",
    "knn_A.fit(Z, Q)"
   ]
  },
  {
   "cell_type": "markdown",
   "metadata": {},
   "source": [
    "##### Logistic Regression"
   ]
  },
  {
   "cell_type": "code",
   "execution_count": null,
   "metadata": {},
   "outputs": [],
   "source": [
    "glm_Pre = LogisticRegression()\n",
    "glm_A = LogisticRegression()\n",
    "\n",
    "glm_Pre.fit(X, Y)\n",
    "glm_A.fit(Z, Q)"
   ]
  },
  {
   "cell_type": "markdown",
   "metadata": {},
   "source": [
    "##### Naive Bayes"
   ]
  },
  {
   "cell_type": "code",
   "execution_count": null,
   "metadata": {},
   "outputs": [],
   "source": [
    "GNB_Pre = GaussianNB()\n",
    "GNB_A = GaussianNB()\n",
    "print(GNB_Pre)\n",
    "print(GNB_A)\n",
    "\n",
    "GNB_Pre.fit(X, Y)\n",
    "GNB_A.fit(Z, Q) "
   ]
  },
  {
   "cell_type": "markdown",
   "metadata": {},
   "source": [
    "##### Tree"
   ]
  },
  {
   "cell_type": "code",
   "execution_count": null,
   "metadata": {},
   "outputs": [],
   "source": [
    "depth_grid = np.arange(2,31,2)\n",
    "parameters = {'max_depth':depth_grid}\n",
    "\n",
    "gridCV_Pre = GridSearchCV(DecisionTreeClassifier(), parameters, cv=10)\n",
    "gridCV_A = GridSearchCV(DecisionTreeClassifier(), parameters, cv=10)\n",
    "\n",
    "gridCV_Pre.fit(X, Y);\n",
    "gridCV_A.fit(Z, Q);\n",
    "\n",
    "best_depth_Pre = gridCV_Pre.best_params_['max_depth']\n",
    "best_depth_A = gridCV_A.best_params_['max_depth']\n",
    "\n",
    "print(\"Tree best depth : \" + str(best_depth_Pre))\n",
    "print(\"Tree best depth : \" + str(best_depth_A))"
   ]
  },
  {
   "cell_type": "code",
   "execution_count": null,
   "metadata": {},
   "outputs": [],
   "source": [
    "DTC_best_Pre = DecisionTreeClassifier(max_depth=best_depth_Pre)\n",
    "DTC_best_A = DecisionTreeClassifier(max_depth=best_depth_A)\n",
    "\n",
    "DTC_best_Pre.fit(X, Y);\n",
    "DTC_best_A.fit(Z, Q);"
   ]
  },
  {
   "cell_type": "markdown",
   "metadata": {},
   "source": [
    "##### Random Forest"
   ]
  },
  {
   "cell_type": "code",
   "execution_count": null,
   "metadata": {},
   "outputs": [],
   "source": [
    "estimator_grid = np.arange(1, 30, 5)\n",
    "depth_grid = np.arange(1, 10, 2)\n",
    "parameters = {'n_estimators': estimator_grid, 'max_depth': depth_grid}\n",
    "\n",
    "gridCV_Pre = GridSearchCV(RandomForestClassifier(), param_grid=parameters, cv=10)\n",
    "gridCV_A = GridSearchCV(RandomForestClassifier(), param_grid=parameters, cv=10)\n",
    "\n",
    "gridCV_Pre.fit(X, Y);\n",
    "gridCV_A.fit(Z, Q);\n",
    "\n",
    "best_n_estim_Pre = gridCV_Pre.best_params_['n_estimators']\n",
    "best_depth_Pre = gridCV_Pre.best_params_['max_depth']\n",
    "\n",
    "best_n_estim_A = gridCV_A.best_params_['n_estimators']\n",
    "best_depth_A = gridCV_A.best_params_['max_depth']"
   ]
  },
  {
   "cell_type": "code",
   "execution_count": null,
   "metadata": {},
   "outputs": [],
   "source": [
    "print(\"Random Forest best n estimator : \" + str(best_n_estim_Pre))\n",
    "print(\"Random Forest best depth : \" + str(best_depth_Pre))\n",
    "\n",
    "print(\"Random Forest best n estimator : \" + str(best_n_estim_A))\n",
    "print(\"Random Forest best depth : \" + str(best_depth_A))"
   ]
  },
  {
   "cell_type": "code",
   "execution_count": null,
   "metadata": {},
   "outputs": [],
   "source": [
    "RF_best_Pre = RandomForestClassifier(max_depth=best_depth_Pre,n_estimators=best_n_estim_Pre,random_state=3)\n",
    "RF_best_A = RandomForestClassifier(max_depth=best_depth_A,n_estimators=best_n_estim_A,random_state=3)\n",
    "\n",
    "RF_best_Pre.fit(X, Y);\n",
    "RF_best_A.fit(Z, Q);"
   ]
  },
  {
   "cell_type": "markdown",
   "metadata": {},
   "source": [
    "##### AdaBoost"
   ]
  },
  {
   "cell_type": "code",
   "execution_count": 87,
   "metadata": {},
   "outputs": [],
   "source": [
    "estimator_grid = np.arange(30, 80, 10)\n",
    "learning_rate_grid = np.array([0.1,0.2,0.3,0.4,0.5,0.6,0.7,0.8,0.9])\n",
    "parameters = {'n_estimators': estimator_grid, 'learning_rate': learning_rate_grid}\n",
    "\n",
    "gridCV_Pre = GridSearchCV(AdaBoostClassifier(), param_grid=parameters, cv=10)\n",
    "gridCV_A = GridSearchCV(AdaBoostClassifier(), param_grid=parameters, cv=10)\n",
    "\n",
    "gridCV_Pre.fit(X, Y)\n",
    "gridCV_A.fit(Z, Q)\n",
    "\n",
    "best_n_estim_Pre = gridCV_Pre.best_params_['n_estimators']\n",
    "best_learn_rate_Pre = gridCV_Pre.best_params_['learning_rate']\n",
    "\n",
    "best_n_estim_A = gridCV_A.best_params_['n_estimators']\n",
    "best_learn_rate_A = gridCV_A.best_params_['learning_rate']"
   ]
  },
  {
   "cell_type": "code",
   "execution_count": 88,
   "metadata": {},
   "outputs": [
    {
     "name": "stdout",
     "output_type": "stream",
     "text": [
      "Ada Boost best n estimator : 60\n",
      "Ada Boost best learning rate : 0.1\n",
      "Ada Boost best n estimator : 60\n",
      "Ada Boost best learning rate : 0.1\n"
     ]
    }
   ],
   "source": [
    "print(\"Ada Boost best n estimator : \" + str(best_n_estim_Pre))\n",
    "print(\"Ada Boost best learning rate : \" + str(best_learn_rate_A))\n",
    "\n",
    "print(\"Ada Boost best n estimator : \" + str(best_n_estim_Pre))\n",
    "print(\"Ada Boost best learning rate : \" + str(best_learn_rate_A))"
   ]
  },
  {
   "cell_type": "code",
   "execution_count": 89,
   "metadata": {},
   "outputs": [],
   "source": [
    "AB_best_Pre = AdaBoostClassifier(n_estimators=best_n_estim_Pre,learning_rate=best_learn_rate_Pre,random_state=3)\n",
    "AB_best_A = AdaBoostClassifier(n_estimators=best_n_estim_A,learning_rate=best_learn_rate_A,random_state=3)\n",
    "\n",
    "AB_best_Pre.fit(X, Y);\n",
    "AB_best_A.fit(Z, Q);"
   ]
  },
  {
   "cell_type": "markdown",
   "metadata": {},
   "source": [
    "##### SVM (Support Vector Machine)"
   ]
  },
  {
   "cell_type": "code",
   "execution_count": null,
   "metadata": {},
   "outputs": [],
   "source": [
    "C_grid = [0.001, 0.01, 0.1, 1, 10]\n",
    "gamma_grid = [0.001, 0.01, 0.1, 1]\n",
    "parameters = {'C': C_grid, 'gamma' : gamma_grid}\n",
    "\n",
    "gridCV_Pre = GridSearchCV(SVC(kernel='rbf'), parameters, cv=10);\n",
    "gridCV_Pre.fit(X, Y)\n",
    "\n",
    "gridCV_A = GridSearchCV(SVC(kernel='rbf'), parameters, cv=10);\n",
    "gridCV_A.fit(Z, Q)\n",
    "\n",
    "\n",
    "best_C_Pre = gridCV_Pre.best_params_['C']\n",
    "best_gamma_Pre = gridCV_Pre.best_params_['gamma']\n",
    "\n",
    "best_C_A = gridCV_A.best_params_['C']\n",
    "best_gamma_A = gridCV_A.best_params_['gamma']"
   ]
  },
  {
   "cell_type": "code",
   "execution_count": null,
   "metadata": {},
   "outputs": [],
   "source": [
    "print(\"SVM best C : \" + str(best_C_Pre))\n",
    "print(\"SVM best gamma : \" + str(best_gamma_Pre))\n",
    "\n",
    "print(\"SVM best C : \" + str(best_C_A))\n",
    "print(\"SVM best gamma : \" + str(best_gamma_A))"
   ]
  },
  {
   "cell_type": "code",
   "execution_count": null,
   "metadata": {},
   "outputs": [],
   "source": [
    "SVM_best_Pre = SVC(C=best_C_Pre,gamma=best_gamma_Pre)\n",
    "SVM_best_Pre.fit(X, Y);\n",
    "\n",
    "SVM_best_A = SVC(C=best_C_A,gamma=best_gamma_A)\n",
    "SVM_best_A.fit(Z, Q);"
   ]
  },
  {
   "cell_type": "markdown",
   "metadata": {},
   "source": [
    "#### - 예측 및 검증"
   ]
  },
  {
   "cell_type": "code",
   "execution_count": 68,
   "metadata": {},
   "outputs": [
    {
     "name": "stdout",
     "output_type": "stream",
     "text": [
      "X_new.shape : (1, 9)\n",
      "Z_new.shape : (1, 9)\n"
     ]
    }
   ],
   "source": [
    "# X_new = np.array([[5,1,0,4.5,0,1,11,2,12]])\n",
    "# Z_new = np.array([[5,1,0,4.5,0,1,11,2,12]])\n",
    "# print(\"X_new.shape : {}\".format(X_new.shape))\n",
    "# print(\"Z_new.shape : {}\".format(Z_new.shape))"
   ]
  },
  {
   "cell_type": "code",
   "execution_count": 90,
   "metadata": {},
   "outputs": [
    {
     "name": "stdout",
     "output_type": "stream",
     "text": [
      "X_new.shape : (1, 19)\n",
      "Z_new.shape : (1, 19)\n"
     ]
    }
   ],
   "source": [
    "X_new = np.array([[0,3,11,2,1,0,0,1,1,0,0,0,0,0,1,0,0,4,3]])\n",
    "Z_new = np.array([[0,3,11,2,1,0,0,1,1,0,0,0,0,0,1,0,0,4,3]])\n",
    "print(\"X_new.shape : {}\".format(X_new.shape))\n",
    "print(\"Z_new.shape : {}\".format(Z_new.shape))"
   ]
  },
  {
   "cell_type": "code",
   "execution_count": 91,
   "metadata": {},
   "outputs": [],
   "source": [
    "target_Pre = {0:'보호중', 1:'입양기증', 2:'자연사안락사', 3:'반환', 4:'방사미포획'}\n",
    "target_A = {0:'입양X', 1:'입양O'}"
   ]
  },
  {
   "cell_type": "markdown",
   "metadata": {},
   "source": [
    "##### KNN"
   ]
  },
  {
   "cell_type": "code",
   "execution_count": null,
   "metadata": {},
   "outputs": [],
   "source": [
    "prediction_Pre = knn_Pre.predict(X_new)\n",
    "print(\"예측:{}\".format(prediction_Pre))\n",
    "p_Pre = int(prediction_Pre)\n",
    "print(\"예측한 타깃의 이름 : {}\".format(target_Pre[p_Pre]))\n",
    "\n",
    "prediction_A = knn_A.predict(X_new)\n",
    "print(\"예측:{}\".format(prediction_A))\n",
    "p_A = int(prediction_A)\n",
    "print(\"예측한 타깃의 이름 : {}\".format(target_A[p_A]))"
   ]
  },
  {
   "cell_type": "code",
   "execution_count": null,
   "metadata": {},
   "outputs": [],
   "source": [
    "#테스트데이터 사용 (모델을 만들때 사용하지 않았고, 테스트셋에 있는 각 붓꽃의 품종을 정확히 알고있음)\n",
    "Y_pred = knn_Pre.predict(X2) \n",
    "print(\"테스트 셋에 대한 예측값: {}\".format(Y_pred))\n",
    "\n",
    "Q_pred = knn_A.predict(Z2) \n",
    "print(\"테스트 셋에 대한 예측값: {}\".format(Q_pred))"
   ]
  },
  {
   "cell_type": "code",
   "execution_count": null,
   "metadata": {},
   "outputs": [],
   "source": [
    "print( \"KNN best accuracy : \" + str(np.round(metrics.accuracy_score(Y2,Y_pred),3)))\n",
    "print( \"KNN best accuracy : \" + str(np.round(metrics.accuracy_score(Q2,Q_pred),3)))"
   ]
  },
  {
   "cell_type": "markdown",
   "metadata": {},
   "source": [
    "##### Logistic Regression"
   ]
  },
  {
   "cell_type": "code",
   "execution_count": null,
   "metadata": {},
   "outputs": [],
   "source": [
    "prediction_Pre = glm_Pre.predict(X_new)\n",
    "print(\"예측:{}\".format(prediction_Pre))\n",
    "p_Pre = int(prediction_Pre)\n",
    "print(\"예측한 타깃의 이름 : {}\".format(target_Pre[p_Pre]))\n",
    "\n",
    "prediction_A = glm_A.predict(X_new)\n",
    "print(\"예측:{}\".format(prediction_A))\n",
    "p_A = int(prediction_A)\n",
    "print(\"예측한 타깃의 이름 : {}\".format(target_A[p_A]))"
   ]
  },
  {
   "cell_type": "code",
   "execution_count": null,
   "metadata": {},
   "outputs": [],
   "source": [
    "#테스트데이터 사용 (모델을 만들때 사용하지 않았고, 테스트셋에 있는 각 붓꽃의 품종을 정확히 알고있음)\n",
    "Y_pred = glm_Pre.predict(X2) \n",
    "print(\"테스트 셋에 대한 예측값: {}\".format(Y_pred))\n",
    "\n",
    "Q_pred = glm_A.predict(Z2) \n",
    "print(\"테스트 셋에 대한 예측값: {}\".format(Q_pred))"
   ]
  },
  {
   "cell_type": "code",
   "execution_count": null,
   "metadata": {},
   "outputs": [],
   "source": [
    "print( \"Logistic Regression best accuracy : \" + str(np.round(metrics.accuracy_score(Y2,Y_pred),3)))\n",
    "print( \"Logistic Regression best accuracy : \" + str(np.round(metrics.accuracy_score(Q2,Q_pred),3)))"
   ]
  },
  {
   "cell_type": "markdown",
   "metadata": {},
   "source": [
    "##### Naive Bayes"
   ]
  },
  {
   "cell_type": "code",
   "execution_count": null,
   "metadata": {},
   "outputs": [],
   "source": [
    "prediction_Pre = GNB_Pre.predict(X_new)\n",
    "print(\"예측:{}\".format(prediction_Pre))\n",
    "p_Pre = int(prediction_Pre)\n",
    "print(\"예측한 타깃의 이름 : {}\".format(target_Pre[p_Pre]))\n",
    "\n",
    "prediction_A = GNB_A.predict(X_new)\n",
    "print(\"예측:{}\".format(prediction_A))\n",
    "p_A = int(prediction_A)\n",
    "print(\"예측한 타깃의 이름 : {}\".format(target_A[p_A]))"
   ]
  },
  {
   "cell_type": "code",
   "execution_count": null,
   "metadata": {},
   "outputs": [],
   "source": [
    "#테스트데이터 사용 (모델을 만들때 사용하지 않았고, 테스트셋에 있는 각 붓꽃의 품종을 정확히 알고있음)\n",
    "Y_pred = GNB_Pre.predict(X2) \n",
    "print(\"테스트 셋에 대한 예측값: {}\".format(Y_pred))\n",
    "\n",
    "Q_pred = GNB_A.predict(Z2) \n",
    "print(\"테스트 셋에 대한 예측값: {}\".format(Q_pred))"
   ]
  },
  {
   "cell_type": "code",
   "execution_count": null,
   "metadata": {},
   "outputs": [],
   "source": [
    "print( \"Naive Bayes best accuracy : \" + str(np.round(metrics.accuracy_score(Y2,Y_pred),3)))\n",
    "print( \"Naive Bayes best accuracy : \" + str(np.round(metrics.accuracy_score(Q2,Q_pred),3)))"
   ]
  },
  {
   "cell_type": "markdown",
   "metadata": {},
   "source": [
    "##### Tree"
   ]
  },
  {
   "cell_type": "code",
   "execution_count": null,
   "metadata": {},
   "outputs": [],
   "source": [
    "prediction_Pre = DTC_best_Pre.predict(X_new)\n",
    "print(\"예측:{}\".format(prediction_Pre))\n",
    "p_Pre = int(prediction_Pre)\n",
    "print(\"예측한 타깃의 이름 : {}\".format(target_Pre[p_Pre]))\n",
    "\n",
    "prediction_A = DTC_best_A.predict(X_new)\n",
    "print(\"예측:{}\".format(prediction_A))\n",
    "p_A = int(prediction_A)\n",
    "print(\"예측한 타깃의 이름 : {}\".format(target_A[p_A]))"
   ]
  },
  {
   "cell_type": "code",
   "execution_count": null,
   "metadata": {},
   "outputs": [],
   "source": [
    "#테스트데이터 사용 (모델을 만들때 사용하지 않았고, 테스트셋에 있는 각 붓꽃의 품종을 정확히 알고있음)\n",
    "Y_pred = DTC_best_Pre.predict(X2) \n",
    "print(\"테스트 셋에 대한 예측값: {}\".format(Y_pred))\n",
    "\n",
    "Q_pred = DTC_best_A.predict(Z2) \n",
    "print(\"테스트 셋에 대한 예측값: {}\".format(Q_pred))"
   ]
  },
  {
   "cell_type": "code",
   "execution_count": null,
   "metadata": {},
   "outputs": [],
   "source": [
    "print( \"Tree best accuracy : \" + str(np.round(metrics.accuracy_score(Y2,Y_pred),3)))\n",
    "print( \"Tree best accuracy : \" + str(np.round(metrics.accuracy_score(Q2,Q_pred),3)))"
   ]
  },
  {
   "cell_type": "markdown",
   "metadata": {},
   "source": [
    "##### Random Forest"
   ]
  },
  {
   "cell_type": "code",
   "execution_count": null,
   "metadata": {},
   "outputs": [],
   "source": [
    "prediction_Pre = RF_best_Pre.predict(X_new)\n",
    "print(\"예측:{}\".format(prediction_Pre))\n",
    "p_Pre = int(prediction_Pre)\n",
    "print(\"예측한 타깃의 이름 : {}\".format(target_Pre[p_Pre]))\n",
    "\n",
    "prediction_A = RF_best_A.predict(X_new)\n",
    "print(\"예측:{}\".format(prediction_A))\n",
    "p_A = int(prediction_A)\n",
    "print(\"예측한 타깃의 이름 : {}\".format(target_A[p_A]))"
   ]
  },
  {
   "cell_type": "code",
   "execution_count": null,
   "metadata": {},
   "outputs": [],
   "source": [
    "#테스트데이터 사용 (모델을 만들때 사용하지 않았고, 테스트셋에 있는 각 붓꽃의 품종을 정확히 알고있음)\n",
    "Y_pred =RF_best_Pre.predict(X2) \n",
    "print(\"테스트 셋에 대한 예측값: {}\".format(Y_pred))\n",
    "\n",
    "Q_pred = RF_best_A.predict(Z2) \n",
    "print(\"테스트 셋에 대한 예측값: {}\".format(Q_pred))"
   ]
  },
  {
   "cell_type": "code",
   "execution_count": null,
   "metadata": {},
   "outputs": [],
   "source": [
    "print( \"Random Forest best accuracy : \" + str(np.round(metrics.accuracy_score(Y2,Y_pred),3)))\n",
    "print( \"Random Forest best accuracy : \" + str(np.round(metrics.accuracy_score(Q2,Q_pred),3)))"
   ]
  },
  {
   "cell_type": "markdown",
   "metadata": {},
   "source": [
    "##### AdaBoost"
   ]
  },
  {
   "cell_type": "code",
   "execution_count": 92,
   "metadata": {},
   "outputs": [
    {
     "name": "stdout",
     "output_type": "stream",
     "text": [
      "예측:[2]\n",
      "예측한 타깃의 이름 : 자연사안락사\n",
      "예측:[False]\n",
      "예측한 타깃의 이름 : 입양X\n"
     ]
    }
   ],
   "source": [
    "prediction_Pre = AB_best_Pre.predict(X_new)\n",
    "print(\"예측:{}\".format(prediction_Pre))\n",
    "p_Pre = int(prediction_Pre)\n",
    "print(\"예측한 타깃의 이름 : {}\".format(target_Pre[p_Pre]))\n",
    "\n",
    "prediction_A = AB_best_A.predict(X_new)\n",
    "print(\"예측:{}\".format(prediction_A))\n",
    "p_A = int(prediction_A)\n",
    "print(\"예측한 타깃의 이름 : {}\".format(target_A[p_A]))"
   ]
  },
  {
   "cell_type": "code",
   "execution_count": 93,
   "metadata": {},
   "outputs": [
    {
     "name": "stdout",
     "output_type": "stream",
     "text": [
      "테스트 셋에 대한 예측값: [2 2 2 ... 1 2 1]\n",
      "테스트 셋에 대한 예측값: [False False False ... False False False]\n"
     ]
    }
   ],
   "source": [
    "#테스트데이터 사용 (모델을 만들때 사용하지 않았고, 테스트셋에 있는 각 붓꽃의 품종을 정확히 알고있음)\n",
    "Y_pred =AB_best_Pre.predict(X2) \n",
    "print(\"테스트 셋에 대한 예측값: {}\".format(Y_pred))\n",
    "\n",
    "Q_pred = AB_best_A.predict(Z2) \n",
    "print(\"테스트 셋에 대한 예측값: {}\".format(Q_pred))"
   ]
  },
  {
   "cell_type": "code",
   "execution_count": 94,
   "metadata": {
    "scrolled": true
   },
   "outputs": [
    {
     "name": "stdout",
     "output_type": "stream",
     "text": [
      "Ada Boost best accuracy : 0.543\n",
      "Ada Boost best accuracy : 0.742\n"
     ]
    }
   ],
   "source": [
    "print( \"Ada Boost best accuracy : \" + str(np.round(metrics.accuracy_score(Y2,Y_pred),3)))\n",
    "print( \"Ada Boost best accuracy : \" + str(np.round(metrics.accuracy_score(Q2,Q_pred),3)))"
   ]
  },
  {
   "cell_type": "markdown",
   "metadata": {},
   "source": [
    "##### SVM (Support Vector Machine)"
   ]
  },
  {
   "cell_type": "code",
   "execution_count": null,
   "metadata": {},
   "outputs": [],
   "source": [
    "prediction_Pre = SVM_best_Pre.predict(X_new)\n",
    "print(\"예측:{}\".format(prediction_Pre))\n",
    "p_Pre = int(prediction_Pre)\n",
    "print(\"예측한 타깃의 이름 : {}\".format(target_Pre[p_Pre]))\n",
    "\n",
    "prediction_A = SVM_best_A.predict(X_new)\n",
    "print(\"예측:{}\".format(prediction_A))\n",
    "p_A = int(prediction_A)\n",
    "print(\"예측한 타깃의 이름 : {}\".format(target_A[p_A]))"
   ]
  },
  {
   "cell_type": "code",
   "execution_count": null,
   "metadata": {},
   "outputs": [],
   "source": [
    "#테스트데이터 사용 (모델을 만들때 사용하지 않았고, 테스트셋에 있는 각 붓꽃의 품종을 정확히 알고있음)\n",
    "Y_pred =SVM_best_Pre.predict(X2) \n",
    "print(\"테스트 셋에 대한 예측값: {}\".format(Y_pred))\n",
    "\n",
    "Q_pred = SVM_best_A.predict(Z2) \n",
    "print(\"테스트 셋에 대한 예측값: {}\".format(Q_pred))"
   ]
  },
  {
   "cell_type": "code",
   "execution_count": null,
   "metadata": {},
   "outputs": [],
   "source": [
    "print( \"SVM best accuracy : \" + str(np.round(metrics.accuracy_score(Y2,Y_pred),3)))\n",
    "print( \"SVM best accuracy : \" + str(np.round(metrics.accuracy_score(Q2,Q_pred),3)))"
   ]
  },
  {
   "cell_type": "markdown",
   "metadata": {},
   "source": [
    "##### - 검증2"
   ]
  },
  {
   "cell_type": "code",
   "execution_count": null,
   "metadata": {},
   "outputs": [],
   "source": [
    "# 예측값 y_pred와 기존의 정답인 y_test가 맞는지 확인\n",
    "print(\"테스트 셋에 대한 정확도 : {:.2f}\".format(np.mean(Y_pred == Y_test)))\n",
    "print(\"테스트 셋에 대한 정확도 : {:.2f}\".format(np.mean(Z_pred == Z_test)))"
   ]
  },
  {
   "cell_type": "code",
   "execution_count": null,
   "metadata": {},
   "outputs": [],
   "source": [
    "print(\"테스트 셋트에 대한 정확도 : {:.2f}\".format(knn_Pre.score(X_test, Y_test)))\n",
    "print(\"테스트 셋트에 대한 정확도 : {:.2f}\".format(knn_A.score(Z_test, Q_test)))"
   ]
  },
  {
   "cell_type": "code",
   "execution_count": null,
   "metadata": {},
   "outputs": [],
   "source": []
  },
  {
   "cell_type": "code",
   "execution_count": null,
   "metadata": {},
   "outputs": [],
   "source": []
  },
  {
   "cell_type": "code",
   "execution_count": null,
   "metadata": {},
   "outputs": [],
   "source": []
  }
 ],
 "metadata": {
  "kernelspec": {
   "display_name": "Python 3",
   "language": "python",
   "name": "python3"
  },
  "language_info": {
   "codemirror_mode": {
    "name": "ipython",
    "version": 3
   },
   "file_extension": ".py",
   "mimetype": "text/x-python",
   "name": "python",
   "nbconvert_exporter": "python",
   "pygments_lexer": "ipython3",
   "version": "3.7.0"
  }
 },
 "nbformat": 4,
 "nbformat_minor": 1
}
