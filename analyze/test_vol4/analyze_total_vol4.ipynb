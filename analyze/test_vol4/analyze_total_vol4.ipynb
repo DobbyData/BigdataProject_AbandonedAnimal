{
 "cells": [
  {
   "cell_type": "markdown",
   "metadata": {},
   "source": [
    "## 유기동물 데이터를 이용한 입양률 예측"
   ]
  },
  {
   "cell_type": "code",
   "execution_count": 1,
   "metadata": {},
   "outputs": [
    {
     "name": "stderr",
     "output_type": "stream",
     "text": [
      "C:\\Users\\Bit\\Anaconda3\\lib\\site-packages\\sklearn\\ensemble\\weight_boosting.py:29: DeprecationWarning: numpy.core.umath_tests is an internal NumPy module and should not be imported. It will be removed in a future NumPy release.\n",
      "  from numpy.core.umath_tests import inner1d\n"
     ]
    }
   ],
   "source": [
    "import pandas as pd\n",
    "import numpy as np\n",
    "import os\n",
    "import matplotlib.pyplot as plt\n",
    "from sklearn.neighbors import KNeighborsClassifier\n",
    "from sklearn.linear_model import LogisticRegression\n",
    "from sklearn.model_selection import train_test_split,RandomizedSearchCV, GridSearchCV\n",
    "from sklearn.tree import DecisionTreeClassifier\n",
    "from sklearn.ensemble import RandomForestClassifier\n",
    "from sklearn.ensemble import AdaBoostClassifier\n",
    "from sklearn.naive_bayes import GaussianNB\n",
    "from sklearn.svm import SVC\n",
    "from sklearn import metrics, preprocessing\n",
    "from scipy.stats import itemfreq\n",
    "import mglearn"
   ]
  },
  {
   "cell_type": "markdown",
   "metadata": {},
   "source": [
    "### 1. Data Loading"
   ]
  },
  {
   "cell_type": "code",
   "execution_count": 2,
   "metadata": {},
   "outputs": [],
   "source": [
    "df8=pd.read_csv(\"D:\\KSA\\project_imsi\\lostAnimal_20180101_20181231_vol3.csv\", encoding=\"euc-kr\")\n",
    "df7=pd.read_csv(\"D:\\KSA\\project_imsi\\lostAnimal_20170101_20171231_vol3.csv\", encoding=\"euc-kr\")\n",
    "df6=pd.read_csv(\"D:\\KSA\\project_imsi\\lostAnimal_20160101_20161231_vol3.csv\", encoding=\"euc-kr\")\n",
    "df5=pd.read_csv(\"D:\\KSA\\project_imsi\\lostAnimal_20150101_20151231_vol3.csv\", encoding=\"euc-kr\")"
   ]
  },
  {
   "cell_type": "code",
   "execution_count": 3,
   "metadata": {},
   "outputs": [],
   "source": [
    "df5 = df5.drop(columns=['Unnamed: 0', 'Unnamed: 0.1', 'Unnamed: 0.1.1'])\n",
    "df6 = df6.drop(columns=['Unnamed: 0', 'Unnamed: 0.1', 'Unnamed: 0.1.1'])\n",
    "df7 = df7.drop(columns=['Unnamed: 0', 'Unnamed: 0.1', 'Unnamed: 0.1.1'])\n",
    "df8 = df8.drop(columns=['Unnamed: 0', 'Unnamed: 0.1', 'Unnamed: 0.1.1'])"
   ]
  },
  {
   "cell_type": "code",
   "execution_count": null,
   "metadata": {
    "scrolled": true
   },
   "outputs": [],
   "source": [
    "df5.tail(1)"
   ]
  },
  {
   "cell_type": "code",
   "execution_count": null,
   "metadata": {},
   "outputs": [],
   "source": [
    "df6.tail(1)"
   ]
  },
  {
   "cell_type": "code",
   "execution_count": null,
   "metadata": {},
   "outputs": [],
   "source": [
    "df7.tail(1)"
   ]
  },
  {
   "cell_type": "code",
   "execution_count": null,
   "metadata": {},
   "outputs": [],
   "source": [
    "df8.tail(1)"
   ]
  },
  {
   "cell_type": "code",
   "execution_count": 4,
   "metadata": {
    "scrolled": true
   },
   "outputs": [
    {
     "name": "stdout",
     "output_type": "stream",
     "text": [
      "50\n",
      "50\n",
      "50\n",
      "50\n"
     ]
    }
   ],
   "source": [
    "print(len(df5.columns))\n",
    "print(len(df6.columns))\n",
    "print(len(df7.columns))\n",
    "print(len(df8.columns))"
   ]
  },
  {
   "cell_type": "markdown",
   "metadata": {},
   "source": [
    "### 2. Data PreProcessing"
   ]
  },
  {
   "cell_type": "markdown",
   "metadata": {},
   "source": [
    "#### - 데이터프레임 합치기 (15,16,17년도)"
   ]
  },
  {
   "cell_type": "code",
   "execution_count": 5,
   "metadata": {},
   "outputs": [
    {
     "data": {
      "text/plain": [
       "167920"
      ]
     },
     "execution_count": 5,
     "metadata": {},
     "output_type": "execute_result"
    }
   ],
   "source": [
    "#df567 = pd.merge(df5,df6, how='outer')\n",
    "df567 = pd.concat([df5,df6], ignore_index=True)\n",
    "len(df567)"
   ]
  },
  {
   "cell_type": "code",
   "execution_count": 6,
   "metadata": {
    "scrolled": true
   },
   "outputs": [
    {
     "name": "stderr",
     "output_type": "stream",
     "text": [
      "C:\\Users\\Bit\\Anaconda3\\lib\\site-packages\\ipykernel_launcher.py:1: FutureWarning: Sorting because non-concatenation axis is not aligned. A future version\n",
      "of pandas will change to not sort by default.\n",
      "\n",
      "To accept the future behavior, pass 'sort=False'.\n",
      "\n",
      "To retain the current behavior and silence the warning, pass 'sort=True'.\n",
      "\n",
      "  \"\"\"Entry point for launching an IPython kernel.\n"
     ]
    },
    {
     "data": {
      "text/plain": [
       "268643"
      ]
     },
     "execution_count": 6,
     "metadata": {},
     "output_type": "execute_result"
    }
   ],
   "source": [
    "df567 = pd.concat([df567,df7], ignore_index=True)\n",
    "len(df567)"
   ]
  },
  {
   "cell_type": "code",
   "execution_count": 7,
   "metadata": {},
   "outputs": [
    {
     "data": {
      "text/html": [
       "<div>\n",
       "<style scoped>\n",
       "    .dataframe tbody tr th:only-of-type {\n",
       "        vertical-align: middle;\n",
       "    }\n",
       "\n",
       "    .dataframe tbody tr th {\n",
       "        vertical-align: top;\n",
       "    }\n",
       "\n",
       "    .dataframe thead th {\n",
       "        text-align: right;\n",
       "    }\n",
       "</style>\n",
       "<table border=\"1\" class=\"dataframe\">\n",
       "  <thead>\n",
       "    <tr style=\"text-align: right;\">\n",
       "      <th></th>\n",
       "      <th>age(after)</th>\n",
       "      <th>age(before)</th>\n",
       "      <th>age_u</th>\n",
       "      <th>breed</th>\n",
       "      <th>breed.1</th>\n",
       "      <th>breed_Pre</th>\n",
       "      <th>careAddr</th>\n",
       "      <th>careNm</th>\n",
       "      <th>careNm_AD</th>\n",
       "      <th>careNm_C</th>\n",
       "      <th>...</th>\n",
       "      <th>processState_Pre</th>\n",
       "      <th>processState_R</th>\n",
       "      <th>sexCd</th>\n",
       "      <th>sexCd_F</th>\n",
       "      <th>sexCd_M</th>\n",
       "      <th>sexCd_Q</th>\n",
       "      <th>size</th>\n",
       "      <th>specialMark</th>\n",
       "      <th>weight(after)</th>\n",
       "      <th>weight(before)</th>\n",
       "    </tr>\n",
       "  </thead>\n",
       "  <tbody>\n",
       "    <tr>\n",
       "      <th>0</th>\n",
       "      <td>0.0</td>\n",
       "      <td>6개월추정(년생)</td>\n",
       "      <td>유견기</td>\n",
       "      <td>믹스견</td>\n",
       "      <td>NaN</td>\n",
       "      <td>믹스견</td>\n",
       "      <td>충청남도 공주시 번영1로 54 (신관동)</td>\n",
       "      <td>강북동물병원</td>\n",
       "      <td>False</td>\n",
       "      <td>False</td>\n",
       "      <td>...</td>\n",
       "      <td>D</td>\n",
       "      <td>False</td>\n",
       "      <td>F</td>\n",
       "      <td>True</td>\n",
       "      <td>False</td>\n",
       "      <td>False</td>\n",
       "      <td>소형</td>\n",
       "      <td>유치잔존,옴 피부병,식욕부진</td>\n",
       "      <td>6.0</td>\n",
       "      <td>6(Kg)</td>\n",
       "    </tr>\n",
       "  </tbody>\n",
       "</table>\n",
       "<p>1 rows × 51 columns</p>\n",
       "</div>"
      ],
      "text/plain": [
       "   age(after) age(before) age_u breed breed.1 breed_Pre  \\\n",
       "0         0.0   6개월추정(년생)   유견기   믹스견     NaN       믹스견   \n",
       "\n",
       "                 careAddr  careNm  careNm_AD  careNm_C      ...        \\\n",
       "0  충청남도 공주시 번영1로 54 (신관동)  강북동물병원      False     False      ...         \n",
       "\n",
       "   processState_Pre  processState_R  sexCd  sexCd_F sexCd_M sexCd_Q size  \\\n",
       "0                 D           False      F     True   False   False   소형   \n",
       "\n",
       "       specialMark weight(after) weight(before)  \n",
       "0  유치잔존,옴 피부병,식욕부진           6.0          6(Kg)  \n",
       "\n",
       "[1 rows x 51 columns]"
      ]
     },
     "execution_count": 7,
     "metadata": {},
     "output_type": "execute_result"
    }
   ],
   "source": [
    "df567.head(1)"
   ]
  },
  {
   "cell_type": "code",
   "execution_count": 8,
   "metadata": {},
   "outputs": [
    {
     "data": {
      "text/html": [
       "<div>\n",
       "<style scoped>\n",
       "    .dataframe tbody tr th:only-of-type {\n",
       "        vertical-align: middle;\n",
       "    }\n",
       "\n",
       "    .dataframe tbody tr th {\n",
       "        vertical-align: top;\n",
       "    }\n",
       "\n",
       "    .dataframe thead th {\n",
       "        text-align: right;\n",
       "    }\n",
       "</style>\n",
       "<table border=\"1\" class=\"dataframe\">\n",
       "  <thead>\n",
       "    <tr style=\"text-align: right;\">\n",
       "      <th></th>\n",
       "      <th>age(after)</th>\n",
       "      <th>age(before)</th>\n",
       "      <th>age_u</th>\n",
       "      <th>breed</th>\n",
       "      <th>breed.1</th>\n",
       "      <th>breed_Pre</th>\n",
       "      <th>careAddr</th>\n",
       "      <th>careNm</th>\n",
       "      <th>careNm_AD</th>\n",
       "      <th>careNm_C</th>\n",
       "      <th>...</th>\n",
       "      <th>processState_Pre</th>\n",
       "      <th>processState_R</th>\n",
       "      <th>sexCd</th>\n",
       "      <th>sexCd_F</th>\n",
       "      <th>sexCd_M</th>\n",
       "      <th>sexCd_Q</th>\n",
       "      <th>size</th>\n",
       "      <th>specialMark</th>\n",
       "      <th>weight(after)</th>\n",
       "      <th>weight(before)</th>\n",
       "    </tr>\n",
       "  </thead>\n",
       "  <tbody>\n",
       "    <tr>\n",
       "      <th>268642</th>\n",
       "      <td>5.0</td>\n",
       "      <td>2012(년생)</td>\n",
       "      <td>성견기</td>\n",
       "      <td>골든 리트리버</td>\n",
       "      <td>리트리버</td>\n",
       "      <td>NaN</td>\n",
       "      <td>서울특별시 양천구 목동  657번지 16호</td>\n",
       "      <td>강현림 동물병원</td>\n",
       "      <td>False</td>\n",
       "      <td>False</td>\n",
       "      <td>...</td>\n",
       "      <td>A</td>\n",
       "      <td>False</td>\n",
       "      <td>M</td>\n",
       "      <td>False</td>\n",
       "      <td>True</td>\n",
       "      <td>False</td>\n",
       "      <td>대형</td>\n",
       "      <td>치석ㅇ&amp;#47552;으며온순하고잘따르나천방지축임</td>\n",
       "      <td>38.0</td>\n",
       "      <td>38(Kg)</td>\n",
       "    </tr>\n",
       "  </tbody>\n",
       "</table>\n",
       "<p>1 rows × 51 columns</p>\n",
       "</div>"
      ],
      "text/plain": [
       "        age(after) age(before) age_u    breed breed.1 breed_Pre  \\\n",
       "268642         5.0    2012(년생)   성견기  골든 리트리버    리트리버       NaN   \n",
       "\n",
       "                       careAddr    careNm  careNm_AD  careNm_C      ...        \\\n",
       "268642  서울특별시 양천구 목동  657번지 16호  강현림 동물병원      False     False      ...         \n",
       "\n",
       "        processState_Pre  processState_R  sexCd  sexCd_F sexCd_M sexCd_Q size  \\\n",
       "268642                 A           False      M    False    True   False   대형   \n",
       "\n",
       "                       specialMark weight(after) weight(before)  \n",
       "268642  치석ㅇ&#47552;으며온순하고잘따르나천방지축임          38.0         38(Kg)  \n",
       "\n",
       "[1 rows x 51 columns]"
      ]
     },
     "execution_count": 8,
     "metadata": {},
     "output_type": "execute_result"
    }
   ],
   "source": [
    "df567.tail(1)"
   ]
  },
  {
   "cell_type": "code",
   "execution_count": 9,
   "metadata": {},
   "outputs": [
    {
     "data": {
      "text/plain": [
       "Index(['age(after)', 'age(before)', 'age_u', 'breed', 'breed.1', 'breed_Pre',\n",
       "       'careAddr', 'careNm', 'careNm_AD', 'careNm_C', 'careNm_CM',\n",
       "       'careNm_ETC', 'careNm_H', 'careNm_O', 'careTel', 'chargeNm', 'colorCd',\n",
       "       'desertionNo', 'filename', 'happenDt', 'happenMth', 'happenPlace',\n",
       "       'happenWd', 'kind', 'kindCd', 'neuterYn', 'neuterYn_N', 'neuterYn_U',\n",
       "       'neuterYn_Y', 'noticeComment', 'noticeEdt', 'noticeNo', 'noticeSdt',\n",
       "       'officetel', 'orgNm', 'popfile', 'processState', 'processState_A',\n",
       "       'processState_C', 'processState_D', 'processState_E',\n",
       "       'processState_Pre', 'processState_R', 'sexCd', 'sexCd_F', 'sexCd_M',\n",
       "       'sexCd_Q', 'size', 'specialMark', 'weight(after)', 'weight(before)'],\n",
       "      dtype='object')"
      ]
     },
     "execution_count": 9,
     "metadata": {},
     "output_type": "execute_result"
    }
   ],
   "source": [
    "df567.columns"
   ]
  },
  {
   "cell_type": "markdown",
   "metadata": {},
   "source": [
    "#### - 필요없는 컬럼 삭제"
   ]
  },
  {
   "cell_type": "code",
   "execution_count": 10,
   "metadata": {
    "scrolled": false
   },
   "outputs": [],
   "source": [
    "df = df567.drop(columns=['age(before)','colorCd','careAddr', 'careNm', 'careTel', 'chargeNm',\n",
    "                      'desertionNo', 'filename', 'happenDt', 'happenPlace', 'kindCd','noticeComment',\n",
    "                       'noticeNo', 'noticeSdt','officetel', 'popfile', 'processState',\n",
    "                       'weight(before)', 'specialMark','breed', 'breed_Pre','breed.1'\n",
    "                      ])\n",
    "\n",
    "df_t = df8.drop(columns=['age(before)','colorCd','careAddr', 'careNm', 'careTel', 'chargeNm',\n",
    "                      'desertionNo', 'filename', 'happenDt', 'happenPlace', 'kindCd','noticeComment',\n",
    "                       'noticeNo', 'noticeSdt','officetel', 'popfile', 'processState',\n",
    "                       'weight(before)', 'specialMark','breed', 'breed_Pre'\n",
    "                      ])\n",
    "\n",
    "#'Unnamed: 0', 'Unnamed: 0.1', 'Unnamed: 0.1.1',"
   ]
  },
  {
   "cell_type": "code",
   "execution_count": 11,
   "metadata": {},
   "outputs": [
    {
     "data": {
      "text/html": [
       "<div>\n",
       "<style scoped>\n",
       "    .dataframe tbody tr th:only-of-type {\n",
       "        vertical-align: middle;\n",
       "    }\n",
       "\n",
       "    .dataframe tbody tr th {\n",
       "        vertical-align: top;\n",
       "    }\n",
       "\n",
       "    .dataframe thead th {\n",
       "        text-align: right;\n",
       "    }\n",
       "</style>\n",
       "<table border=\"1\" class=\"dataframe\">\n",
       "  <thead>\n",
       "    <tr style=\"text-align: right;\">\n",
       "      <th></th>\n",
       "      <th>age(after)</th>\n",
       "      <th>age_u</th>\n",
       "      <th>careNm_AD</th>\n",
       "      <th>careNm_C</th>\n",
       "      <th>careNm_CM</th>\n",
       "      <th>careNm_ETC</th>\n",
       "      <th>careNm_H</th>\n",
       "      <th>careNm_O</th>\n",
       "      <th>happenMth</th>\n",
       "      <th>happenWd</th>\n",
       "      <th>...</th>\n",
       "      <th>processState_D</th>\n",
       "      <th>processState_E</th>\n",
       "      <th>processState_Pre</th>\n",
       "      <th>processState_R</th>\n",
       "      <th>sexCd</th>\n",
       "      <th>sexCd_F</th>\n",
       "      <th>sexCd_M</th>\n",
       "      <th>sexCd_Q</th>\n",
       "      <th>size</th>\n",
       "      <th>weight(after)</th>\n",
       "    </tr>\n",
       "  </thead>\n",
       "  <tbody>\n",
       "    <tr>\n",
       "      <th>0</th>\n",
       "      <td>0.0</td>\n",
       "      <td>유견기</td>\n",
       "      <td>False</td>\n",
       "      <td>False</td>\n",
       "      <td>False</td>\n",
       "      <td>False</td>\n",
       "      <td>True</td>\n",
       "      <td>False</td>\n",
       "      <td>12</td>\n",
       "      <td>Thursday</td>\n",
       "      <td>...</td>\n",
       "      <td>True</td>\n",
       "      <td>False</td>\n",
       "      <td>D</td>\n",
       "      <td>False</td>\n",
       "      <td>F</td>\n",
       "      <td>True</td>\n",
       "      <td>False</td>\n",
       "      <td>False</td>\n",
       "      <td>소형</td>\n",
       "      <td>6.0</td>\n",
       "    </tr>\n",
       "    <tr>\n",
       "      <th>1</th>\n",
       "      <td>4.0</td>\n",
       "      <td>성견기</td>\n",
       "      <td>False</td>\n",
       "      <td>False</td>\n",
       "      <td>True</td>\n",
       "      <td>False</td>\n",
       "      <td>False</td>\n",
       "      <td>False</td>\n",
       "      <td>12</td>\n",
       "      <td>Thursday</td>\n",
       "      <td>...</td>\n",
       "      <td>False</td>\n",
       "      <td>False</td>\n",
       "      <td>A</td>\n",
       "      <td>False</td>\n",
       "      <td>M</td>\n",
       "      <td>False</td>\n",
       "      <td>True</td>\n",
       "      <td>False</td>\n",
       "      <td>소형</td>\n",
       "      <td>3.5</td>\n",
       "    </tr>\n",
       "  </tbody>\n",
       "</table>\n",
       "<p>2 rows × 29 columns</p>\n",
       "</div>"
      ],
      "text/plain": [
       "   age(after) age_u  careNm_AD  careNm_C  careNm_CM  careNm_ETC  careNm_H  \\\n",
       "0         0.0   유견기      False     False      False       False      True   \n",
       "1         4.0   성견기      False     False       True       False     False   \n",
       "\n",
       "   careNm_O  happenMth  happenWd      ...        processState_D  \\\n",
       "0     False         12  Thursday      ...                  True   \n",
       "1     False         12  Thursday      ...                 False   \n",
       "\n",
       "  processState_E  processState_Pre  processState_R  sexCd  sexCd_F sexCd_M  \\\n",
       "0          False                 D           False      F     True   False   \n",
       "1          False                 A           False      M    False    True   \n",
       "\n",
       "   sexCd_Q  size  weight(after)  \n",
       "0    False    소형            6.0  \n",
       "1    False    소형            3.5  \n",
       "\n",
       "[2 rows x 29 columns]"
      ]
     },
     "execution_count": 11,
     "metadata": {},
     "output_type": "execute_result"
    }
   ],
   "source": [
    "df.head(2)"
   ]
  },
  {
   "cell_type": "code",
   "execution_count": 12,
   "metadata": {},
   "outputs": [
    {
     "data": {
      "text/html": [
       "<div>\n",
       "<style scoped>\n",
       "    .dataframe tbody tr th:only-of-type {\n",
       "        vertical-align: middle;\n",
       "    }\n",
       "\n",
       "    .dataframe tbody tr th {\n",
       "        vertical-align: top;\n",
       "    }\n",
       "\n",
       "    .dataframe thead th {\n",
       "        text-align: right;\n",
       "    }\n",
       "</style>\n",
       "<table border=\"1\" class=\"dataframe\">\n",
       "  <thead>\n",
       "    <tr style=\"text-align: right;\">\n",
       "      <th></th>\n",
       "      <th>age(after)</th>\n",
       "      <th>neuterYn</th>\n",
       "      <th>noticeEdt</th>\n",
       "      <th>orgNm</th>\n",
       "      <th>sexCd</th>\n",
       "      <th>weight(after)</th>\n",
       "      <th>kind</th>\n",
       "      <th>happenWd</th>\n",
       "      <th>happenMth</th>\n",
       "      <th>size</th>\n",
       "      <th>...</th>\n",
       "      <th>sexCd_Q</th>\n",
       "      <th>neuterYn_Y</th>\n",
       "      <th>neuterYn_N</th>\n",
       "      <th>neuterYn_U</th>\n",
       "      <th>careNm_ETC</th>\n",
       "      <th>careNm_H</th>\n",
       "      <th>careNm_C</th>\n",
       "      <th>careNm_O</th>\n",
       "      <th>careNm_AD</th>\n",
       "      <th>careNm_CM</th>\n",
       "    </tr>\n",
       "  </thead>\n",
       "  <tbody>\n",
       "    <tr>\n",
       "      <th>0</th>\n",
       "      <td>1</td>\n",
       "      <td>N</td>\n",
       "      <td>20180917</td>\n",
       "      <td>전라남도 고흥군</td>\n",
       "      <td>F</td>\n",
       "      <td>4.0</td>\n",
       "      <td>0</td>\n",
       "      <td>Thursday</td>\n",
       "      <td>9</td>\n",
       "      <td>소형</td>\n",
       "      <td>...</td>\n",
       "      <td>False</td>\n",
       "      <td>False</td>\n",
       "      <td>True</td>\n",
       "      <td>False</td>\n",
       "      <td>False</td>\n",
       "      <td>True</td>\n",
       "      <td>False</td>\n",
       "      <td>False</td>\n",
       "      <td>False</td>\n",
       "      <td>False</td>\n",
       "    </tr>\n",
       "    <tr>\n",
       "      <th>1</th>\n",
       "      <td>1</td>\n",
       "      <td>N</td>\n",
       "      <td>20180917</td>\n",
       "      <td>전라남도 고흥군</td>\n",
       "      <td>M</td>\n",
       "      <td>5.0</td>\n",
       "      <td>0</td>\n",
       "      <td>Thursday</td>\n",
       "      <td>9</td>\n",
       "      <td>소형</td>\n",
       "      <td>...</td>\n",
       "      <td>False</td>\n",
       "      <td>False</td>\n",
       "      <td>True</td>\n",
       "      <td>False</td>\n",
       "      <td>False</td>\n",
       "      <td>True</td>\n",
       "      <td>False</td>\n",
       "      <td>False</td>\n",
       "      <td>False</td>\n",
       "      <td>False</td>\n",
       "    </tr>\n",
       "  </tbody>\n",
       "</table>\n",
       "<p>2 rows × 29 columns</p>\n",
       "</div>"
      ],
      "text/plain": [
       "   age(after) neuterYn  noticeEdt     orgNm sexCd  weight(after)  kind  \\\n",
       "0           1        N   20180917  전라남도 고흥군     F            4.0     0   \n",
       "1           1        N   20180917  전라남도 고흥군     M            5.0     0   \n",
       "\n",
       "   happenWd  happenMth size    ...     sexCd_Q neuterYn_Y  neuterYn_N  \\\n",
       "0  Thursday          9   소형    ...       False      False        True   \n",
       "1  Thursday          9   소형    ...       False      False        True   \n",
       "\n",
       "   neuterYn_U  careNm_ETC  careNm_H  careNm_C  careNm_O  careNm_AD  careNm_CM  \n",
       "0       False       False      True     False     False      False      False  \n",
       "1       False       False      True     False     False      False      False  \n",
       "\n",
       "[2 rows x 29 columns]"
      ]
     },
     "execution_count": 12,
     "metadata": {},
     "output_type": "execute_result"
    }
   ],
   "source": [
    "df_t.head(2)"
   ]
  },
  {
   "cell_type": "code",
   "execution_count": 13,
   "metadata": {},
   "outputs": [
    {
     "name": "stdout",
     "output_type": "stream",
     "text": [
      "15/16/17 데이터프레임 사용할 컬럼 갯수 :  29\n",
      "컬럼 이름 :  Index(['age(after)', 'age_u', 'careNm_AD', 'careNm_C', 'careNm_CM',\n",
      "       'careNm_ETC', 'careNm_H', 'careNm_O', 'happenMth', 'happenWd', 'kind',\n",
      "       'neuterYn', 'neuterYn_N', 'neuterYn_U', 'neuterYn_Y', 'noticeEdt',\n",
      "       'orgNm', 'processState_A', 'processState_C', 'processState_D',\n",
      "       'processState_E', 'processState_Pre', 'processState_R', 'sexCd',\n",
      "       'sexCd_F', 'sexCd_M', 'sexCd_Q', 'size', 'weight(after)'],\n",
      "      dtype='object')\n",
      "18 데이터프레임 사용할 컬럼 갯수 :  29\n",
      "컬럼 이름 :  Index(['age(after)', 'neuterYn', 'noticeEdt', 'orgNm', 'sexCd',\n",
      "       'weight(after)', 'kind', 'happenWd', 'happenMth', 'size', 'age_u',\n",
      "       'processState_Pre', 'processState_C', 'processState_A',\n",
      "       'processState_D', 'processState_R', 'processState_E', 'sexCd_M',\n",
      "       'sexCd_F', 'sexCd_Q', 'neuterYn_Y', 'neuterYn_N', 'neuterYn_U',\n",
      "       'careNm_ETC', 'careNm_H', 'careNm_C', 'careNm_O', 'careNm_AD',\n",
      "       'careNm_CM'],\n",
      "      dtype='object')\n"
     ]
    }
   ],
   "source": [
    "print(\"15/16/17 데이터프레임 사용할 컬럼 갯수 : \",len(df.columns))\n",
    "print(\"컬럼 이름 : \", df.columns)\n",
    "\n",
    "print(\"18 데이터프레임 사용할 컬럼 갯수 : \",len(df_t.columns))\n",
    "print(\"컬럼 이름 : \", df_t.columns)"
   ]
  },
  {
   "cell_type": "code",
   "execution_count": 14,
   "metadata": {},
   "outputs": [
    {
     "name": "stdout",
     "output_type": "stream",
     "text": [
      "<class 'pandas.core.frame.DataFrame'>\n",
      "RangeIndex: 268643 entries, 0 to 268642\n",
      "Data columns (total 29 columns):\n",
      "age(after)          268643 non-null float64\n",
      "age_u               268643 non-null object\n",
      "careNm_AD           268643 non-null bool\n",
      "careNm_C            268643 non-null bool\n",
      "careNm_CM           268643 non-null bool\n",
      "careNm_ETC          268643 non-null bool\n",
      "careNm_H            268643 non-null bool\n",
      "careNm_O            268643 non-null bool\n",
      "happenMth           268643 non-null int64\n",
      "happenWd            268643 non-null object\n",
      "kind                268643 non-null int64\n",
      "neuterYn            268643 non-null object\n",
      "neuterYn_N          268643 non-null bool\n",
      "neuterYn_U          268643 non-null bool\n",
      "neuterYn_Y          268643 non-null bool\n",
      "noticeEdt           268643 non-null int64\n",
      "orgNm               268643 non-null object\n",
      "processState_A      268643 non-null bool\n",
      "processState_C      268643 non-null bool\n",
      "processState_D      268643 non-null bool\n",
      "processState_E      268643 non-null bool\n",
      "processState_Pre    268643 non-null object\n",
      "processState_R      268643 non-null bool\n",
      "sexCd               268643 non-null object\n",
      "sexCd_F             268643 non-null bool\n",
      "sexCd_M             268643 non-null bool\n",
      "sexCd_Q             268643 non-null bool\n",
      "size                267757 non-null object\n",
      "weight(after)       267757 non-null float64\n",
      "dtypes: bool(17), float64(2), int64(3), object(7)\n",
      "memory usage: 29.0+ MB\n"
     ]
    }
   ],
   "source": [
    "df.info()"
   ]
  },
  {
   "cell_type": "code",
   "execution_count": 15,
   "metadata": {},
   "outputs": [
    {
     "name": "stdout",
     "output_type": "stream",
     "text": [
      "<class 'pandas.core.frame.DataFrame'>\n",
      "RangeIndex: 80330 entries, 0 to 80329\n",
      "Data columns (total 29 columns):\n",
      "age(after)          80330 non-null int64\n",
      "neuterYn            80330 non-null object\n",
      "noticeEdt           80330 non-null int64\n",
      "orgNm               80330 non-null object\n",
      "sexCd               80330 non-null object\n",
      "weight(after)       80303 non-null float64\n",
      "kind                80330 non-null int64\n",
      "happenWd            80330 non-null object\n",
      "happenMth           80330 non-null int64\n",
      "size                80303 non-null object\n",
      "age_u               80330 non-null object\n",
      "processState_Pre    80330 non-null object\n",
      "processState_C      80330 non-null bool\n",
      "processState_A      80330 non-null bool\n",
      "processState_D      80330 non-null bool\n",
      "processState_R      80330 non-null bool\n",
      "processState_E      80330 non-null bool\n",
      "sexCd_M             80330 non-null bool\n",
      "sexCd_F             80330 non-null bool\n",
      "sexCd_Q             80330 non-null bool\n",
      "neuterYn_Y          80330 non-null bool\n",
      "neuterYn_N          80330 non-null bool\n",
      "neuterYn_U          80330 non-null bool\n",
      "careNm_ETC          80330 non-null bool\n",
      "careNm_H            80330 non-null bool\n",
      "careNm_C            80330 non-null bool\n",
      "careNm_O            80330 non-null bool\n",
      "careNm_AD           80330 non-null bool\n",
      "careNm_CM           80330 non-null bool\n",
      "dtypes: bool(17), float64(1), int64(4), object(7)\n",
      "memory usage: 8.7+ MB\n"
     ]
    }
   ],
   "source": [
    "df_t.info()"
   ]
  },
  {
   "cell_type": "markdown",
   "metadata": {},
   "source": [
    "#### - 결측치 처리"
   ]
  },
  {
   "cell_type": "code",
   "execution_count": 16,
   "metadata": {
    "scrolled": true
   },
   "outputs": [
    {
     "data": {
      "text/plain": [
       "size             886\n",
       "weight(after)    886\n",
       "dtype: int64"
      ]
     },
     "execution_count": 16,
     "metadata": {},
     "output_type": "execute_result"
    }
   ],
   "source": [
    "## 15/16/17년도 데이터프레임\n",
    "\n",
    "#print(df.isnull().sum()) # 결측치 수\n",
    "#df.isnull().any()\n",
    "null_columns=df.columns[df.isnull().any()]\n",
    "df[null_columns].isnull().sum()\n",
    "#print(df[df[\"breed_Pre\"].isnull()][null_columns])        \n",
    "\n",
    "#print(df['weight(after)'].isnull().sum())       \n",
    "#print(df['size'].isnull().sum())                "
   ]
  },
  {
   "cell_type": "code",
   "execution_count": 17,
   "metadata": {},
   "outputs": [
    {
     "data": {
      "text/plain": [
       "weight(after)    27\n",
       "size             27\n",
       "dtype: int64"
      ]
     },
     "execution_count": 17,
     "metadata": {},
     "output_type": "execute_result"
    }
   ],
   "source": [
    "## 18년도 데이터프레임\n",
    "null_columns=df_t.columns[df_t.isnull().any()]\n",
    "df_t[null_columns].isnull().sum()\n"
   ]
  },
  {
   "cell_type": "code",
   "execution_count": 18,
   "metadata": {},
   "outputs": [],
   "source": [
    "# weight(after) : 나이별로 묶어서 중위값넣기\n",
    "df[\"weight(after)\"].fillna(df.groupby(\"age_u\")[\"weight(after)\"].transform(\"median\"), inplace=True)\n",
    "df_t[\"weight(after)\"].fillna(df_t.groupby(\"age_u\")[\"weight(after)\"].transform(\"median\"), inplace=True)"
   ]
  },
  {
   "cell_type": "code",
   "execution_count": 19,
   "metadata": {},
   "outputs": [
    {
     "data": {
      "text/html": [
       "<div>\n",
       "<style scoped>\n",
       "    .dataframe tbody tr th:only-of-type {\n",
       "        vertical-align: middle;\n",
       "    }\n",
       "\n",
       "    .dataframe tbody tr th {\n",
       "        vertical-align: top;\n",
       "    }\n",
       "\n",
       "    .dataframe thead th {\n",
       "        text-align: right;\n",
       "    }\n",
       "</style>\n",
       "<table border=\"1\" class=\"dataframe\">\n",
       "  <thead>\n",
       "    <tr style=\"text-align: right;\">\n",
       "      <th></th>\n",
       "      <th>age(after)</th>\n",
       "      <th>age_u</th>\n",
       "      <th>careNm_AD</th>\n",
       "      <th>careNm_C</th>\n",
       "      <th>careNm_CM</th>\n",
       "      <th>careNm_ETC</th>\n",
       "      <th>careNm_H</th>\n",
       "      <th>careNm_O</th>\n",
       "      <th>happenMth</th>\n",
       "      <th>happenWd</th>\n",
       "      <th>...</th>\n",
       "      <th>processState_D</th>\n",
       "      <th>processState_E</th>\n",
       "      <th>processState_Pre</th>\n",
       "      <th>processState_R</th>\n",
       "      <th>sexCd</th>\n",
       "      <th>sexCd_F</th>\n",
       "      <th>sexCd_M</th>\n",
       "      <th>sexCd_Q</th>\n",
       "      <th>size</th>\n",
       "      <th>weight(after)</th>\n",
       "    </tr>\n",
       "  </thead>\n",
       "  <tbody>\n",
       "  </tbody>\n",
       "</table>\n",
       "<p>0 rows × 29 columns</p>\n",
       "</div>"
      ],
      "text/plain": [
       "Empty DataFrame\n",
       "Columns: [age(after), age_u, careNm_AD, careNm_C, careNm_CM, careNm_ETC, careNm_H, careNm_O, happenMth, happenWd, kind, neuterYn, neuterYn_N, neuterYn_U, neuterYn_Y, noticeEdt, orgNm, processState_A, processState_C, processState_D, processState_E, processState_Pre, processState_R, sexCd, sexCd_F, sexCd_M, sexCd_Q, size, weight(after)]\n",
       "Index: []\n",
       "\n",
       "[0 rows x 29 columns]"
      ]
     },
     "execution_count": 19,
     "metadata": {},
     "output_type": "execute_result"
    }
   ],
   "source": [
    "df.loc[pd.isnull(df[\"weight(after)\"])]"
   ]
  },
  {
   "cell_type": "code",
   "execution_count": 20,
   "metadata": {},
   "outputs": [
    {
     "data": {
      "text/html": [
       "<div>\n",
       "<style scoped>\n",
       "    .dataframe tbody tr th:only-of-type {\n",
       "        vertical-align: middle;\n",
       "    }\n",
       "\n",
       "    .dataframe tbody tr th {\n",
       "        vertical-align: top;\n",
       "    }\n",
       "\n",
       "    .dataframe thead th {\n",
       "        text-align: right;\n",
       "    }\n",
       "</style>\n",
       "<table border=\"1\" class=\"dataframe\">\n",
       "  <thead>\n",
       "    <tr style=\"text-align: right;\">\n",
       "      <th></th>\n",
       "      <th>age(after)</th>\n",
       "      <th>neuterYn</th>\n",
       "      <th>noticeEdt</th>\n",
       "      <th>orgNm</th>\n",
       "      <th>sexCd</th>\n",
       "      <th>weight(after)</th>\n",
       "      <th>kind</th>\n",
       "      <th>happenWd</th>\n",
       "      <th>happenMth</th>\n",
       "      <th>size</th>\n",
       "      <th>...</th>\n",
       "      <th>sexCd_Q</th>\n",
       "      <th>neuterYn_Y</th>\n",
       "      <th>neuterYn_N</th>\n",
       "      <th>neuterYn_U</th>\n",
       "      <th>careNm_ETC</th>\n",
       "      <th>careNm_H</th>\n",
       "      <th>careNm_C</th>\n",
       "      <th>careNm_O</th>\n",
       "      <th>careNm_AD</th>\n",
       "      <th>careNm_CM</th>\n",
       "    </tr>\n",
       "  </thead>\n",
       "  <tbody>\n",
       "  </tbody>\n",
       "</table>\n",
       "<p>0 rows × 29 columns</p>\n",
       "</div>"
      ],
      "text/plain": [
       "Empty DataFrame\n",
       "Columns: [age(after), neuterYn, noticeEdt, orgNm, sexCd, weight(after), kind, happenWd, happenMth, size, age_u, processState_Pre, processState_C, processState_A, processState_D, processState_R, processState_E, sexCd_M, sexCd_F, sexCd_Q, neuterYn_Y, neuterYn_N, neuterYn_U, careNm_ETC, careNm_H, careNm_C, careNm_O, careNm_AD, careNm_CM]\n",
       "Index: []\n",
       "\n",
       "[0 rows x 29 columns]"
      ]
     },
     "execution_count": 20,
     "metadata": {},
     "output_type": "execute_result"
    }
   ],
   "source": [
    "df_t.loc[pd.isnull(df[\"weight(after)\"])]"
   ]
  },
  {
   "cell_type": "code",
   "execution_count": 21,
   "metadata": {},
   "outputs": [],
   "source": [
    "# size : 몸무게가 비어서 전처리 되지 않은 행 재전처리\n",
    "df.loc[df['weight(after)'] <= 3, 'size'] = '초소형'\n",
    "df.loc[(df['weight(after)'] > 3 ) & (df['weight(after)'] <=9 ), 'size'] = '소형'\n",
    "df.loc[(df['weight(after)'] > 9 ) & (df['weight(after)'] <=25 ), 'size'] = '중형'\n",
    "df.loc[df['weight(after)'] > 25, 'size'] = '대형'\n",
    "\n",
    "df_t.loc[df_t['weight(after)'] <= 3, 'size'] = '초소형'\n",
    "df_t.loc[(df_t['weight(after)'] > 3 ) & (df_t['weight(after)'] <=9 ), 'size'] = '소형'\n",
    "df_t.loc[(df_t['weight(after)'] > 9 ) & (df_t['weight(after)'] <=25 ), 'size'] = '중형'\n",
    "df_t.loc[df_t['weight(after)'] > 25, 'size'] = '대형'"
   ]
  },
  {
   "cell_type": "code",
   "execution_count": 22,
   "metadata": {
    "scrolled": true
   },
   "outputs": [
    {
     "data": {
      "text/html": [
       "<div>\n",
       "<style scoped>\n",
       "    .dataframe tbody tr th:only-of-type {\n",
       "        vertical-align: middle;\n",
       "    }\n",
       "\n",
       "    .dataframe tbody tr th {\n",
       "        vertical-align: top;\n",
       "    }\n",
       "\n",
       "    .dataframe thead th {\n",
       "        text-align: right;\n",
       "    }\n",
       "</style>\n",
       "<table border=\"1\" class=\"dataframe\">\n",
       "  <thead>\n",
       "    <tr style=\"text-align: right;\">\n",
       "      <th></th>\n",
       "      <th>age(after)</th>\n",
       "      <th>age_u</th>\n",
       "      <th>careNm_AD</th>\n",
       "      <th>careNm_C</th>\n",
       "      <th>careNm_CM</th>\n",
       "      <th>careNm_ETC</th>\n",
       "      <th>careNm_H</th>\n",
       "      <th>careNm_O</th>\n",
       "      <th>happenMth</th>\n",
       "      <th>happenWd</th>\n",
       "      <th>...</th>\n",
       "      <th>processState_D</th>\n",
       "      <th>processState_E</th>\n",
       "      <th>processState_Pre</th>\n",
       "      <th>processState_R</th>\n",
       "      <th>sexCd</th>\n",
       "      <th>sexCd_F</th>\n",
       "      <th>sexCd_M</th>\n",
       "      <th>sexCd_Q</th>\n",
       "      <th>size</th>\n",
       "      <th>weight(after)</th>\n",
       "    </tr>\n",
       "  </thead>\n",
       "  <tbody>\n",
       "  </tbody>\n",
       "</table>\n",
       "<p>0 rows × 29 columns</p>\n",
       "</div>"
      ],
      "text/plain": [
       "Empty DataFrame\n",
       "Columns: [age(after), age_u, careNm_AD, careNm_C, careNm_CM, careNm_ETC, careNm_H, careNm_O, happenMth, happenWd, kind, neuterYn, neuterYn_N, neuterYn_U, neuterYn_Y, noticeEdt, orgNm, processState_A, processState_C, processState_D, processState_E, processState_Pre, processState_R, sexCd, sexCd_F, sexCd_M, sexCd_Q, size, weight(after)]\n",
       "Index: []\n",
       "\n",
       "[0 rows x 29 columns]"
      ]
     },
     "execution_count": 22,
     "metadata": {},
     "output_type": "execute_result"
    }
   ],
   "source": [
    "df.loc[pd.isnull(df[\"size\"])]"
   ]
  },
  {
   "cell_type": "code",
   "execution_count": 23,
   "metadata": {},
   "outputs": [
    {
     "data": {
      "text/html": [
       "<div>\n",
       "<style scoped>\n",
       "    .dataframe tbody tr th:only-of-type {\n",
       "        vertical-align: middle;\n",
       "    }\n",
       "\n",
       "    .dataframe tbody tr th {\n",
       "        vertical-align: top;\n",
       "    }\n",
       "\n",
       "    .dataframe thead th {\n",
       "        text-align: right;\n",
       "    }\n",
       "</style>\n",
       "<table border=\"1\" class=\"dataframe\">\n",
       "  <thead>\n",
       "    <tr style=\"text-align: right;\">\n",
       "      <th></th>\n",
       "      <th>age(after)</th>\n",
       "      <th>neuterYn</th>\n",
       "      <th>noticeEdt</th>\n",
       "      <th>orgNm</th>\n",
       "      <th>sexCd</th>\n",
       "      <th>weight(after)</th>\n",
       "      <th>kind</th>\n",
       "      <th>happenWd</th>\n",
       "      <th>happenMth</th>\n",
       "      <th>size</th>\n",
       "      <th>...</th>\n",
       "      <th>sexCd_Q</th>\n",
       "      <th>neuterYn_Y</th>\n",
       "      <th>neuterYn_N</th>\n",
       "      <th>neuterYn_U</th>\n",
       "      <th>careNm_ETC</th>\n",
       "      <th>careNm_H</th>\n",
       "      <th>careNm_C</th>\n",
       "      <th>careNm_O</th>\n",
       "      <th>careNm_AD</th>\n",
       "      <th>careNm_CM</th>\n",
       "    </tr>\n",
       "  </thead>\n",
       "  <tbody>\n",
       "  </tbody>\n",
       "</table>\n",
       "<p>0 rows × 29 columns</p>\n",
       "</div>"
      ],
      "text/plain": [
       "Empty DataFrame\n",
       "Columns: [age(after), neuterYn, noticeEdt, orgNm, sexCd, weight(after), kind, happenWd, happenMth, size, age_u, processState_Pre, processState_C, processState_A, processState_D, processState_R, processState_E, sexCd_M, sexCd_F, sexCd_Q, neuterYn_Y, neuterYn_N, neuterYn_U, careNm_ETC, careNm_H, careNm_C, careNm_O, careNm_AD, careNm_CM]\n",
       "Index: []\n",
       "\n",
       "[0 rows x 29 columns]"
      ]
     },
     "execution_count": 23,
     "metadata": {},
     "output_type": "execute_result"
    }
   ],
   "source": [
    "df_t.loc[pd.isnull(df_t[\"size\"])]"
   ]
  },
  {
   "cell_type": "code",
   "execution_count": 24,
   "metadata": {},
   "outputs": [],
   "source": [
    "# 동물 종 : 몇개 안되니 기타로 입력\n",
    "#df['breed_Pre'].fillna(\"기타\",inplace=True)\n",
    "#df.loc[pd.isnull(df[\"breed_Pre\"])]"
   ]
  },
  {
   "cell_type": "code",
   "execution_count": 25,
   "metadata": {
    "scrolled": true
   },
   "outputs": [
    {
     "data": {
      "text/plain": [
       "Series([], dtype: float64)"
      ]
     },
     "execution_count": 25,
     "metadata": {},
     "output_type": "execute_result"
    }
   ],
   "source": [
    "null_columns=df.columns[df.isnull().any()]\n",
    "df[null_columns].isnull().sum()"
   ]
  },
  {
   "cell_type": "code",
   "execution_count": 26,
   "metadata": {},
   "outputs": [
    {
     "data": {
      "text/plain": [
       "Series([], dtype: float64)"
      ]
     },
     "execution_count": 26,
     "metadata": {},
     "output_type": "execute_result"
    }
   ],
   "source": [
    "null_columns=df_t.columns[df_t.isnull().any()]\n",
    "df_t[null_columns].isnull().sum()"
   ]
  },
  {
   "cell_type": "markdown",
   "metadata": {},
   "source": [
    "#### - neuterYn : 문자 -> 숫자"
   ]
  },
  {
   "cell_type": "code",
   "execution_count": 27,
   "metadata": {},
   "outputs": [
    {
     "name": "stdout",
     "output_type": "stream",
     "text": [
      "1    1\n",
      "2    2\n",
      "Name: neuterYn, dtype: int64\n",
      "1    1\n",
      "2    1\n",
      "Name: neuterYn, dtype: int64\n"
     ]
    }
   ],
   "source": [
    "neuter_mapping = {\"Y\":0,\"N\":1,\"U\":2}\n",
    "df['neuterYn'] = df['neuterYn'].map(neuter_mapping)\n",
    "df_t['neuterYn'] = df_t['neuterYn'].map(neuter_mapping)\n",
    "\n",
    "print(df.neuterYn[1:3])\n",
    "print(df_t.neuterYn[1:3])"
   ]
  },
  {
   "cell_type": "markdown",
   "metadata": {},
   "source": [
    "#### - sexCd : 문자 -> 숫자"
   ]
  },
  {
   "cell_type": "code",
   "execution_count": 28,
   "metadata": {},
   "outputs": [
    {
     "name": "stdout",
     "output_type": "stream",
     "text": [
      "1    0\n",
      "2    1\n",
      "Name: sexCd, dtype: int64\n",
      "1    0\n",
      "2    0\n",
      "Name: sexCd, dtype: int64\n"
     ]
    }
   ],
   "source": [
    "sex_mapping = {\"M\":0,\"F\":1,\"Q\":2}\n",
    "df['sexCd'] = df['sexCd'].map(sex_mapping)\n",
    "df_t['sexCd'] = df_t['sexCd'].map(sex_mapping)\n",
    "\n",
    "print(df.sexCd[1:3])\n",
    "print(df_t.sexCd[1:3])"
   ]
  },
  {
   "cell_type": "markdown",
   "metadata": {},
   "source": [
    "#### - orgNm(담당지역주소) : 두분류로 나눈뒤, 숫자 mapping"
   ]
  },
  {
   "cell_type": "code",
   "execution_count": 29,
   "metadata": {},
   "outputs": [
    {
     "name": "stdout",
     "output_type": "stream",
     "text": [
      "경기도        63772\n",
      "서울특별시      26064\n",
      "부산광역시      21286\n",
      "경상남도       20060\n",
      "인천광역시      16875\n",
      "충청남도       14729\n",
      "강원도        12229\n",
      "경상북도       11687\n",
      "대전광역시      11658\n",
      "대구광역시      11570\n",
      "전라북도       11389\n",
      "충청북도       10338\n",
      "전라남도        9894\n",
      "제주특별자치도     9204\n",
      "울산광역시       8942\n",
      "광주광역시       7933\n",
      "세종특별자치시     1013\n",
      "Name: sido, dtype: int64\n",
      "경기도        17664\n",
      "경상남도        7697\n",
      "서울특별시       5621\n",
      "부산광역시       5153\n",
      "경상북도        5081\n",
      "인천광역시       4830\n",
      "제주특별자치도     4610\n",
      "충청남도        4477\n",
      "전라남도        3928\n",
      "전라북도        3913\n",
      "대전광역시       3735\n",
      "강원도         3474\n",
      "대구광역시       3271\n",
      "충청북도        2342\n",
      "광주광역시       2249\n",
      "울산광역시       2016\n",
      "세종특별자치시      269\n",
      "Name: sido, dtype: int64\n"
     ]
    }
   ],
   "source": [
    "df['sido'] = df['orgNm'].str.split(\" \").str[0]\n",
    "df_t['sido'] = df_t['orgNm'].str.split(\" \").str[0]\n",
    "\n",
    "print(df['sido'].value_counts())\n",
    "print(df_t['sido'].value_counts())"
   ]
  },
  {
   "cell_type": "code",
   "execution_count": 30,
   "metadata": {},
   "outputs": [
    {
     "name": "stdout",
     "output_type": "stream",
     "text": [
      "0     5\n",
      "1    13\n",
      "2     4\n",
      "Name: sido, dtype: int64\n",
      "0    13\n",
      "1    13\n",
      "2    13\n",
      "Name: sido, dtype: int64\n"
     ]
    }
   ],
   "source": [
    "sido_mapping = {\"경기도\":0,\"서울특별시\":1,\"부산광역시\":2,\"경상남도\":3,\n",
    "                \"인천광역시\":4,\"충청남도\":5,\"강원도\":6,\"대구광역시\":7,\n",
    "                \"전라북도\":8,\"경상북도\":9,\"대전광역시\":10,\"울산광역시\":11,\n",
    "                \"충청북도\":12,\"전라남도\":13,\"제주특별자치도\":14,\"광주광역시\":15,\n",
    "                \"세종특별자치시\":16\n",
    "}\n",
    "df['sido'] = df['sido'].map(sido_mapping)\n",
    "df_t['sido'] = df_t['sido'].map(sido_mapping)\n",
    "\n",
    "print(df['sido'].head(3))\n",
    "print(df_t['sido'].head(3))"
   ]
  },
  {
   "cell_type": "markdown",
   "metadata": {},
   "source": [
    "#### - happenWd(발견요일) : 문자 -> 숫자 mapping "
   ]
  },
  {
   "cell_type": "code",
   "execution_count": 31,
   "metadata": {},
   "outputs": [
    {
     "name": "stdout",
     "output_type": "stream",
     "text": [
      "0    4\n",
      "1    4\n",
      "2    4\n",
      "Name: happenWd, dtype: int64\n",
      "0    4\n",
      "1    4\n",
      "2    4\n",
      "Name: happenWd, dtype: int64\n"
     ]
    }
   ],
   "source": [
    "week_mapping = {\"Monday\":0, \"Tuesday\":2, \"Wednesday\":3, \n",
    "                \"Thursday\":4, \"Friday\":5, \"Saturday\":6, \"Sunday\":7}\n",
    "df['happenWd'] = df['happenWd'].map(week_mapping)\n",
    "df_t['happenWd'] = df_t['happenWd'].map(week_mapping) \n",
    "\n",
    "print(df['happenWd'].head(3))\n",
    "print(df_t['happenWd'].head(3))"
   ]
  },
  {
   "cell_type": "markdown",
   "metadata": {},
   "source": [
    "#### - size : 문자 -> 숫자 mapping"
   ]
  },
  {
   "cell_type": "code",
   "execution_count": 32,
   "metadata": {
    "scrolled": true
   },
   "outputs": [
    {
     "name": "stdout",
     "output_type": "stream",
     "text": [
      "0    1\n",
      "1    1\n",
      "2    1\n",
      "Name: size, dtype: int64\n",
      "0    1\n",
      "1    1\n",
      "2    3\n",
      "Name: size, dtype: int64\n"
     ]
    }
   ],
   "source": [
    "#df['size'].fillna('중형',inplace=True)\n",
    "size_mapping = {\"대형\":0,\"소형\":1,\"중형\":2,\"초소형\":3}\n",
    "df['size'] = df['size'].map(size_mapping)\n",
    "df_t['size'] = df_t['size'].map(size_mapping)\n",
    "\n",
    "print(df['size'].head(3))\n",
    "print(df_t['size'].head(3))"
   ]
  },
  {
   "cell_type": "markdown",
   "metadata": {},
   "source": [
    "#### - age : 문자 -> 숫자 mapping "
   ]
  },
  {
   "cell_type": "code",
   "execution_count": 33,
   "metadata": {
    "scrolled": true
   },
   "outputs": [
    {
     "name": "stdout",
     "output_type": "stream",
     "text": [
      "0    1\n",
      "1    1\n",
      "2    1\n",
      "Name: size, dtype: int64\n",
      "0    1\n",
      "1    1\n",
      "2    3\n",
      "Name: size, dtype: int64\n"
     ]
    }
   ],
   "source": [
    "age_mapping = {\"노견기\":0,\"성견기\":1,\"유견기\":2}\n",
    "df['age_u'] = df['age_u'].map(age_mapping)\n",
    "df_t['age_u'] = df_t['age_u'].map(age_mapping)\n",
    "\n",
    "print(df['size'].head(3))\n",
    "print(df_t['size'].head(3))"
   ]
  },
  {
   "cell_type": "markdown",
   "metadata": {},
   "source": [
    "#### - processState_Pre : 문자 -> 숫자 mapping "
   ]
  },
  {
   "cell_type": "code",
   "execution_count": 34,
   "metadata": {},
   "outputs": [
    {
     "name": "stdout",
     "output_type": "stream",
     "text": [
      "0    2\n",
      "1    1\n",
      "2    4\n",
      "Name: processState_Pre, dtype: int64\n",
      "0    0\n",
      "1    0\n",
      "2    0\n",
      "Name: processState_Pre, dtype: int64\n"
     ]
    }
   ],
   "source": [
    "proc_mapping = {\"C\":0, \"A\":1, \"D\":2, \"R\":3, \"E\":4}\n",
    "df['processState_Pre'] = df['processState_Pre'].map(proc_mapping)\n",
    "df_t['processState_Pre'] = df_t['processState_Pre'].map(proc_mapping)\n",
    "\n",
    "print(df['processState_Pre'].head(3))\n",
    "print(df_t['processState_Pre'].head(3))"
   ]
  },
  {
   "cell_type": "markdown",
   "metadata": {},
   "source": [
    "#### - DataFrame 분류 : 개, 고양이, 기타"
   ]
  },
  {
   "cell_type": "code",
   "execution_count": null,
   "metadata": {},
   "outputs": [],
   "source": [
    "# #개:0, 고양이:1, 기타:2\n",
    "# dfd = df[df.kind==0]\n",
    "# dfc = df[df.kind==1]\n",
    "# dfe = df[df.kind==2]\n",
    "\n",
    "# print(dfd['kind'].value_counts())\n",
    "# print(dfc['kind'].value_counts())\n",
    "# print(dfe['kind'].value_counts())"
   ]
  },
  {
   "cell_type": "markdown",
   "metadata": {},
   "source": [
    "### 3. Data Statistical Analysis"
   ]
  },
  {
   "cell_type": "code",
   "execution_count": null,
   "metadata": {},
   "outputs": [],
   "source": [
    "df.describe()"
   ]
  },
  {
   "cell_type": "code",
   "execution_count": null,
   "metadata": {},
   "outputs": [],
   "source": [
    "df_t.describe()"
   ]
  },
  {
   "cell_type": "code",
   "execution_count": null,
   "metadata": {},
   "outputs": [],
   "source": [
    "print(df.columns)\n",
    "print(df_t.columns)"
   ]
  },
  {
   "cell_type": "code",
   "execution_count": null,
   "metadata": {
    "scrolled": true
   },
   "outputs": [],
   "source": [
    "# processState와 상관관계\n",
    "cor_t = np.round(df.corr(),3)\n",
    "cor1 = cor_t.loc[:,[ 'processState_Pre', 'processState_C', 'processState_A',\n",
    "       'processState_D', 'processState_R', 'processState_E']]\n",
    "cor1"
   ]
  },
  {
   "cell_type": "code",
   "execution_count": null,
   "metadata": {},
   "outputs": [],
   "source": [
    "cor_t2 = np.round(df_t.corr(),3)\n",
    "cor2 = cor_t2.loc[:,[ 'processState_Pre', 'processState_C', 'processState_A',\n",
    "       'processState_D', 'processState_R', 'processState_E']]\n",
    "cor2"
   ]
  },
  {
   "cell_type": "markdown",
   "metadata": {},
   "source": [
    "### 4. Data Learning"
   ]
  },
  {
   "cell_type": "code",
   "execution_count": null,
   "metadata": {},
   "outputs": [],
   "source": [
    "# null값 처리\n",
    "# df.isnull().any()\n",
    "#null_columns=df.columns[df.isnull().any()]\n",
    "#df[null_columns].isnull().sum()\n",
    "#print(df[df[\"breed_Pre\"].isnull()][null_columns])"
   ]
  },
  {
   "cell_type": "markdown",
   "metadata": {},
   "source": [
    "#### - feature 선택"
   ]
  },
  {
   "cell_type": "code",
   "execution_count": null,
   "metadata": {},
   "outputs": [],
   "source": [
    "# feature_name = ['age(after)','neuterYn','sexCd','weight(after)', 'kind', 'happenWd', 'happenMth', \n",
    "#                 'size', 'processState_Pre', 'sido']\n",
    "# df_Pre = df[feature_name]\n",
    "# dft_Pre = df_t[feature_name]\n",
    "\n",
    "# feature_name2 = ['age(after)','neuterYn','sexCd','weight(after)', 'kind', 'happenWd', 'happenMth', \n",
    "#                 'size', 'processState_A', 'sido']\n",
    "# df_A = df[feature_name2]\n",
    "# dft_A = df_t[feature_name2]"
   ]
  },
  {
   "cell_type": "code",
   "execution_count": null,
   "metadata": {},
   "outputs": [],
   "source": [
    "df_Pre.head(3)"
   ]
  },
  {
   "cell_type": "code",
   "execution_count": null,
   "metadata": {},
   "outputs": [],
   "source": [
    "dft_Pre.head(3)"
   ]
  },
  {
   "cell_type": "code",
   "execution_count": null,
   "metadata": {},
   "outputs": [],
   "source": [
    "df_A.head(3)"
   ]
  },
  {
   "cell_type": "code",
   "execution_count": null,
   "metadata": {},
   "outputs": [],
   "source": [
    "dft_A.head(3)"
   ]
  },
  {
   "cell_type": "code",
   "execution_count": 35,
   "metadata": {},
   "outputs": [],
   "source": [
    "feature_name = ['kind', 'happenWd', 'happenMth','size','age_u', 'sexCd_M',\n",
    "               'sexCd_F', 'sexCd_Q', 'neuterYn_Y', 'neuterYn_N', 'neuterYn_U',\n",
    "               'careNm_ETC', 'careNm_H', 'careNm_C', 'careNm_O', 'careNm_AD',\n",
    "               'careNm_CM', 'sido','processState_Pre', 'sido']\n",
    "\n",
    "df_Pre = df[feature_name]\n",
    "dft_Pre = df_t[feature_name]\n",
    "\n",
    "feature_name2 = ['kind', 'happenWd', 'happenMth','size','age_u', 'sexCd_M',\n",
    "               'sexCd_F', 'sexCd_Q', 'neuterYn_Y', 'neuterYn_N', 'neuterYn_U',\n",
    "               'careNm_ETC', 'careNm_H', 'careNm_C', 'careNm_O', 'careNm_AD',\n",
    "               'careNm_CM', 'sido','processState_A', 'sido']\n",
    "df_A = df[feature_name2]\n",
    "dft_A = df_t[feature_name2]\n"
   ]
  },
  {
   "cell_type": "code",
   "execution_count": 43,
   "metadata": {},
   "outputs": [
    {
     "data": {
      "text/html": [
       "<div>\n",
       "<style scoped>\n",
       "    .dataframe tbody tr th:only-of-type {\n",
       "        vertical-align: middle;\n",
       "    }\n",
       "\n",
       "    .dataframe tbody tr th {\n",
       "        vertical-align: top;\n",
       "    }\n",
       "\n",
       "    .dataframe thead th {\n",
       "        text-align: right;\n",
       "    }\n",
       "</style>\n",
       "<table border=\"1\" class=\"dataframe\">\n",
       "  <thead>\n",
       "    <tr style=\"text-align: right;\">\n",
       "      <th></th>\n",
       "      <th>kind</th>\n",
       "      <th>happenWd</th>\n",
       "      <th>happenMth</th>\n",
       "      <th>size</th>\n",
       "      <th>age_u</th>\n",
       "      <th>sexCd_M</th>\n",
       "      <th>sexCd_F</th>\n",
       "      <th>sexCd_Q</th>\n",
       "      <th>neuterYn_Y</th>\n",
       "      <th>neuterYn_N</th>\n",
       "      <th>neuterYn_U</th>\n",
       "      <th>careNm_ETC</th>\n",
       "      <th>careNm_H</th>\n",
       "      <th>careNm_C</th>\n",
       "      <th>careNm_O</th>\n",
       "      <th>careNm_AD</th>\n",
       "      <th>careNm_CM</th>\n",
       "      <th>sido</th>\n",
       "      <th>processState_A</th>\n",
       "      <th>sido</th>\n",
       "    </tr>\n",
       "  </thead>\n",
       "  <tbody>\n",
       "    <tr>\n",
       "      <th>0</th>\n",
       "      <td>0</td>\n",
       "      <td>4</td>\n",
       "      <td>12</td>\n",
       "      <td>1</td>\n",
       "      <td>2</td>\n",
       "      <td>False</td>\n",
       "      <td>True</td>\n",
       "      <td>False</td>\n",
       "      <td>False</td>\n",
       "      <td>True</td>\n",
       "      <td>False</td>\n",
       "      <td>False</td>\n",
       "      <td>True</td>\n",
       "      <td>False</td>\n",
       "      <td>False</td>\n",
       "      <td>False</td>\n",
       "      <td>False</td>\n",
       "      <td>5</td>\n",
       "      <td>False</td>\n",
       "      <td>5</td>\n",
       "    </tr>\n",
       "    <tr>\n",
       "      <th>1</th>\n",
       "      <td>0</td>\n",
       "      <td>4</td>\n",
       "      <td>12</td>\n",
       "      <td>1</td>\n",
       "      <td>1</td>\n",
       "      <td>True</td>\n",
       "      <td>False</td>\n",
       "      <td>False</td>\n",
       "      <td>False</td>\n",
       "      <td>True</td>\n",
       "      <td>False</td>\n",
       "      <td>False</td>\n",
       "      <td>False</td>\n",
       "      <td>False</td>\n",
       "      <td>False</td>\n",
       "      <td>False</td>\n",
       "      <td>True</td>\n",
       "      <td>13</td>\n",
       "      <td>True</td>\n",
       "      <td>13</td>\n",
       "    </tr>\n",
       "    <tr>\n",
       "      <th>2</th>\n",
       "      <td>0</td>\n",
       "      <td>4</td>\n",
       "      <td>12</td>\n",
       "      <td>1</td>\n",
       "      <td>1</td>\n",
       "      <td>False</td>\n",
       "      <td>True</td>\n",
       "      <td>False</td>\n",
       "      <td>False</td>\n",
       "      <td>False</td>\n",
       "      <td>True</td>\n",
       "      <td>False</td>\n",
       "      <td>False</td>\n",
       "      <td>False</td>\n",
       "      <td>False</td>\n",
       "      <td>True</td>\n",
       "      <td>False</td>\n",
       "      <td>4</td>\n",
       "      <td>False</td>\n",
       "      <td>4</td>\n",
       "    </tr>\n",
       "    <tr>\n",
       "      <th>3</th>\n",
       "      <td>0</td>\n",
       "      <td>4</td>\n",
       "      <td>12</td>\n",
       "      <td>1</td>\n",
       "      <td>1</td>\n",
       "      <td>True</td>\n",
       "      <td>False</td>\n",
       "      <td>False</td>\n",
       "      <td>False</td>\n",
       "      <td>False</td>\n",
       "      <td>True</td>\n",
       "      <td>False</td>\n",
       "      <td>False</td>\n",
       "      <td>True</td>\n",
       "      <td>False</td>\n",
       "      <td>False</td>\n",
       "      <td>False</td>\n",
       "      <td>9</td>\n",
       "      <td>True</td>\n",
       "      <td>9</td>\n",
       "    </tr>\n",
       "    <tr>\n",
       "      <th>4</th>\n",
       "      <td>0</td>\n",
       "      <td>4</td>\n",
       "      <td>12</td>\n",
       "      <td>1</td>\n",
       "      <td>2</td>\n",
       "      <td>True</td>\n",
       "      <td>False</td>\n",
       "      <td>False</td>\n",
       "      <td>False</td>\n",
       "      <td>True</td>\n",
       "      <td>False</td>\n",
       "      <td>False</td>\n",
       "      <td>True</td>\n",
       "      <td>False</td>\n",
       "      <td>False</td>\n",
       "      <td>False</td>\n",
       "      <td>False</td>\n",
       "      <td>8</td>\n",
       "      <td>False</td>\n",
       "      <td>8</td>\n",
       "    </tr>\n",
       "  </tbody>\n",
       "</table>\n",
       "</div>"
      ],
      "text/plain": [
       "   kind  happenWd  happenMth  size  age_u  sexCd_M  sexCd_F  sexCd_Q  \\\n",
       "0     0         4         12     1      2    False     True    False   \n",
       "1     0         4         12     1      1     True    False    False   \n",
       "2     0         4         12     1      1    False     True    False   \n",
       "3     0         4         12     1      1     True    False    False   \n",
       "4     0         4         12     1      2     True    False    False   \n",
       "\n",
       "   neuterYn_Y  neuterYn_N  neuterYn_U  careNm_ETC  careNm_H  careNm_C  \\\n",
       "0       False        True       False       False      True     False   \n",
       "1       False        True       False       False     False     False   \n",
       "2       False       False        True       False     False     False   \n",
       "3       False       False        True       False     False      True   \n",
       "4       False        True       False       False      True     False   \n",
       "\n",
       "   careNm_O  careNm_AD  careNm_CM  sido  processState_A  sido  \n",
       "0     False      False      False     5           False     5  \n",
       "1     False      False       True    13            True    13  \n",
       "2     False       True      False     4           False     4  \n",
       "3     False      False      False     9            True     9  \n",
       "4     False      False      False     8           False     8  "
      ]
     },
     "execution_count": 43,
     "metadata": {},
     "output_type": "execute_result"
    }
   ],
   "source": [
    "df_A.head()"
   ]
  },
  {
   "cell_type": "code",
   "execution_count": 45,
   "metadata": {},
   "outputs": [
    {
     "data": {
      "text/plain": [
       "Index(['kind', 'happenWd', 'happenMth', 'size', 'age_u', 'sexCd_M', 'sexCd_F',\n",
       "       'sexCd_Q', 'neuterYn_Y', 'neuterYn_N', 'neuterYn_U', 'careNm_ETC',\n",
       "       'careNm_H', 'careNm_C', 'careNm_O', 'careNm_AD', 'careNm_CM', 'sido',\n",
       "       'processState_A', 'sido'],\n",
       "      dtype='object')"
      ]
     },
     "execution_count": 45,
     "metadata": {},
     "output_type": "execute_result"
    }
   ],
   "source": [
    "df_A.columns"
   ]
  },
  {
   "cell_type": "code",
   "execution_count": 37,
   "metadata": {},
   "outputs": [
    {
     "data": {
      "text/html": [
       "<div>\n",
       "<style scoped>\n",
       "    .dataframe tbody tr th:only-of-type {\n",
       "        vertical-align: middle;\n",
       "    }\n",
       "\n",
       "    .dataframe tbody tr th {\n",
       "        vertical-align: top;\n",
       "    }\n",
       "\n",
       "    .dataframe thead th {\n",
       "        text-align: right;\n",
       "    }\n",
       "</style>\n",
       "<table border=\"1\" class=\"dataframe\">\n",
       "  <thead>\n",
       "    <tr style=\"text-align: right;\">\n",
       "      <th></th>\n",
       "      <th>kind</th>\n",
       "      <th>happenWd</th>\n",
       "      <th>happenMth</th>\n",
       "      <th>size</th>\n",
       "      <th>age_u</th>\n",
       "      <th>sexCd_M</th>\n",
       "      <th>sexCd_F</th>\n",
       "      <th>sexCd_Q</th>\n",
       "      <th>neuterYn_Y</th>\n",
       "      <th>neuterYn_N</th>\n",
       "      <th>neuterYn_U</th>\n",
       "      <th>careNm_ETC</th>\n",
       "      <th>careNm_H</th>\n",
       "      <th>careNm_C</th>\n",
       "      <th>careNm_O</th>\n",
       "      <th>careNm_AD</th>\n",
       "      <th>careNm_CM</th>\n",
       "      <th>sido</th>\n",
       "      <th>processState_Pre</th>\n",
       "      <th>sido</th>\n",
       "    </tr>\n",
       "  </thead>\n",
       "  <tbody>\n",
       "    <tr>\n",
       "      <th>0</th>\n",
       "      <td>0</td>\n",
       "      <td>4</td>\n",
       "      <td>9</td>\n",
       "      <td>1</td>\n",
       "      <td>2</td>\n",
       "      <td>False</td>\n",
       "      <td>True</td>\n",
       "      <td>False</td>\n",
       "      <td>False</td>\n",
       "      <td>True</td>\n",
       "      <td>False</td>\n",
       "      <td>False</td>\n",
       "      <td>True</td>\n",
       "      <td>False</td>\n",
       "      <td>False</td>\n",
       "      <td>False</td>\n",
       "      <td>False</td>\n",
       "      <td>13</td>\n",
       "      <td>0</td>\n",
       "      <td>13</td>\n",
       "    </tr>\n",
       "    <tr>\n",
       "      <th>1</th>\n",
       "      <td>0</td>\n",
       "      <td>4</td>\n",
       "      <td>9</td>\n",
       "      <td>1</td>\n",
       "      <td>2</td>\n",
       "      <td>True</td>\n",
       "      <td>False</td>\n",
       "      <td>False</td>\n",
       "      <td>False</td>\n",
       "      <td>True</td>\n",
       "      <td>False</td>\n",
       "      <td>False</td>\n",
       "      <td>True</td>\n",
       "      <td>False</td>\n",
       "      <td>False</td>\n",
       "      <td>False</td>\n",
       "      <td>False</td>\n",
       "      <td>13</td>\n",
       "      <td>0</td>\n",
       "      <td>13</td>\n",
       "    </tr>\n",
       "    <tr>\n",
       "      <th>2</th>\n",
       "      <td>0</td>\n",
       "      <td>4</td>\n",
       "      <td>9</td>\n",
       "      <td>3</td>\n",
       "      <td>2</td>\n",
       "      <td>True</td>\n",
       "      <td>False</td>\n",
       "      <td>False</td>\n",
       "      <td>False</td>\n",
       "      <td>True</td>\n",
       "      <td>False</td>\n",
       "      <td>False</td>\n",
       "      <td>True</td>\n",
       "      <td>False</td>\n",
       "      <td>False</td>\n",
       "      <td>False</td>\n",
       "      <td>False</td>\n",
       "      <td>13</td>\n",
       "      <td>0</td>\n",
       "      <td>13</td>\n",
       "    </tr>\n",
       "  </tbody>\n",
       "</table>\n",
       "</div>"
      ],
      "text/plain": [
       "   kind  happenWd  happenMth  size  age_u  sexCd_M  sexCd_F  sexCd_Q  \\\n",
       "0     0         4          9     1      2    False     True    False   \n",
       "1     0         4          9     1      2     True    False    False   \n",
       "2     0         4          9     3      2     True    False    False   \n",
       "\n",
       "   neuterYn_Y  neuterYn_N  neuterYn_U  careNm_ETC  careNm_H  careNm_C  \\\n",
       "0       False        True       False       False      True     False   \n",
       "1       False        True       False       False      True     False   \n",
       "2       False        True       False       False      True     False   \n",
       "\n",
       "   careNm_O  careNm_AD  careNm_CM  sido  processState_Pre  sido  \n",
       "0     False      False      False    13                 0    13  \n",
       "1     False      False      False    13                 0    13  \n",
       "2     False      False      False    13                 0    13  "
      ]
     },
     "execution_count": 37,
     "metadata": {},
     "output_type": "execute_result"
    }
   ],
   "source": [
    "dft_Pre.head(3)"
   ]
  },
  {
   "cell_type": "code",
   "execution_count": 46,
   "metadata": {},
   "outputs": [
    {
     "data": {
      "text/html": [
       "<div>\n",
       "<style scoped>\n",
       "    .dataframe tbody tr th:only-of-type {\n",
       "        vertical-align: middle;\n",
       "    }\n",
       "\n",
       "    .dataframe tbody tr th {\n",
       "        vertical-align: top;\n",
       "    }\n",
       "\n",
       "    .dataframe thead th {\n",
       "        text-align: right;\n",
       "    }\n",
       "</style>\n",
       "<table border=\"1\" class=\"dataframe\">\n",
       "  <thead>\n",
       "    <tr style=\"text-align: right;\">\n",
       "      <th></th>\n",
       "      <th>kind</th>\n",
       "      <th>happenWd</th>\n",
       "      <th>happenMth</th>\n",
       "      <th>size</th>\n",
       "      <th>age_u</th>\n",
       "      <th>sexCd_M</th>\n",
       "      <th>sexCd_F</th>\n",
       "      <th>sexCd_Q</th>\n",
       "      <th>neuterYn_Y</th>\n",
       "      <th>neuterYn_N</th>\n",
       "      <th>neuterYn_U</th>\n",
       "      <th>careNm_ETC</th>\n",
       "      <th>careNm_H</th>\n",
       "      <th>careNm_C</th>\n",
       "      <th>careNm_O</th>\n",
       "      <th>careNm_AD</th>\n",
       "      <th>careNm_CM</th>\n",
       "      <th>sido</th>\n",
       "      <th>processState_A</th>\n",
       "      <th>sido</th>\n",
       "    </tr>\n",
       "  </thead>\n",
       "  <tbody>\n",
       "    <tr>\n",
       "      <th>0</th>\n",
       "      <td>0</td>\n",
       "      <td>4</td>\n",
       "      <td>12</td>\n",
       "      <td>1</td>\n",
       "      <td>2</td>\n",
       "      <td>False</td>\n",
       "      <td>True</td>\n",
       "      <td>False</td>\n",
       "      <td>False</td>\n",
       "      <td>True</td>\n",
       "      <td>False</td>\n",
       "      <td>False</td>\n",
       "      <td>True</td>\n",
       "      <td>False</td>\n",
       "      <td>False</td>\n",
       "      <td>False</td>\n",
       "      <td>False</td>\n",
       "      <td>5</td>\n",
       "      <td>False</td>\n",
       "      <td>5</td>\n",
       "    </tr>\n",
       "    <tr>\n",
       "      <th>1</th>\n",
       "      <td>0</td>\n",
       "      <td>4</td>\n",
       "      <td>12</td>\n",
       "      <td>1</td>\n",
       "      <td>1</td>\n",
       "      <td>True</td>\n",
       "      <td>False</td>\n",
       "      <td>False</td>\n",
       "      <td>False</td>\n",
       "      <td>True</td>\n",
       "      <td>False</td>\n",
       "      <td>False</td>\n",
       "      <td>False</td>\n",
       "      <td>False</td>\n",
       "      <td>False</td>\n",
       "      <td>False</td>\n",
       "      <td>True</td>\n",
       "      <td>13</td>\n",
       "      <td>True</td>\n",
       "      <td>13</td>\n",
       "    </tr>\n",
       "    <tr>\n",
       "      <th>2</th>\n",
       "      <td>0</td>\n",
       "      <td>4</td>\n",
       "      <td>12</td>\n",
       "      <td>1</td>\n",
       "      <td>1</td>\n",
       "      <td>False</td>\n",
       "      <td>True</td>\n",
       "      <td>False</td>\n",
       "      <td>False</td>\n",
       "      <td>False</td>\n",
       "      <td>True</td>\n",
       "      <td>False</td>\n",
       "      <td>False</td>\n",
       "      <td>False</td>\n",
       "      <td>False</td>\n",
       "      <td>True</td>\n",
       "      <td>False</td>\n",
       "      <td>4</td>\n",
       "      <td>False</td>\n",
       "      <td>4</td>\n",
       "    </tr>\n",
       "    <tr>\n",
       "      <th>3</th>\n",
       "      <td>0</td>\n",
       "      <td>4</td>\n",
       "      <td>12</td>\n",
       "      <td>1</td>\n",
       "      <td>1</td>\n",
       "      <td>True</td>\n",
       "      <td>False</td>\n",
       "      <td>False</td>\n",
       "      <td>False</td>\n",
       "      <td>False</td>\n",
       "      <td>True</td>\n",
       "      <td>False</td>\n",
       "      <td>False</td>\n",
       "      <td>True</td>\n",
       "      <td>False</td>\n",
       "      <td>False</td>\n",
       "      <td>False</td>\n",
       "      <td>9</td>\n",
       "      <td>True</td>\n",
       "      <td>9</td>\n",
       "    </tr>\n",
       "    <tr>\n",
       "      <th>4</th>\n",
       "      <td>0</td>\n",
       "      <td>4</td>\n",
       "      <td>12</td>\n",
       "      <td>1</td>\n",
       "      <td>2</td>\n",
       "      <td>True</td>\n",
       "      <td>False</td>\n",
       "      <td>False</td>\n",
       "      <td>False</td>\n",
       "      <td>True</td>\n",
       "      <td>False</td>\n",
       "      <td>False</td>\n",
       "      <td>True</td>\n",
       "      <td>False</td>\n",
       "      <td>False</td>\n",
       "      <td>False</td>\n",
       "      <td>False</td>\n",
       "      <td>8</td>\n",
       "      <td>False</td>\n",
       "      <td>8</td>\n",
       "    </tr>\n",
       "  </tbody>\n",
       "</table>\n",
       "</div>"
      ],
      "text/plain": [
       "   kind  happenWd  happenMth  size  age_u  sexCd_M  sexCd_F  sexCd_Q  \\\n",
       "0     0         4         12     1      2    False     True    False   \n",
       "1     0         4         12     1      1     True    False    False   \n",
       "2     0         4         12     1      1    False     True    False   \n",
       "3     0         4         12     1      1     True    False    False   \n",
       "4     0         4         12     1      2     True    False    False   \n",
       "\n",
       "   neuterYn_Y  neuterYn_N  neuterYn_U  careNm_ETC  careNm_H  careNm_C  \\\n",
       "0       False        True       False       False      True     False   \n",
       "1       False        True       False       False     False     False   \n",
       "2       False       False        True       False     False     False   \n",
       "3       False       False        True       False     False      True   \n",
       "4       False        True       False       False      True     False   \n",
       "\n",
       "   careNm_O  careNm_AD  careNm_CM  sido  processState_A  sido  \n",
       "0     False      False      False     5           False     5  \n",
       "1     False      False       True    13            True    13  \n",
       "2     False       True      False     4           False     4  \n",
       "3     False      False      False     9            True     9  \n",
       "4     False      False      False     8           False     8  "
      ]
     },
     "execution_count": 46,
     "metadata": {},
     "output_type": "execute_result"
    }
   ],
   "source": [
    "df_A.head()"
   ]
  },
  {
   "cell_type": "code",
   "execution_count": 42,
   "metadata": {},
   "outputs": [],
   "source": [
    "pp=df_A.head(30)\n",
    "pp.to_csv('pp.csv', encoding='utf-8')"
   ]
  },
  {
   "cell_type": "markdown",
   "metadata": {},
   "source": [
    "#### - 종속변수 독립변수 추출"
   ]
  },
  {
   "cell_type": "markdown",
   "metadata": {
    "scrolled": true
   },
   "source": [
    "###### 1) processState_Pre 기준"
   ]
  },
  {
   "cell_type": "code",
   "execution_count": null,
   "metadata": {},
   "outputs": [],
   "source": [
    "X=np.array(df_Pre.drop(columns='processState_Pre')) #종속변수\n",
    "Y=np.array(df_Pre.processState_Pre) #독립변수\n",
    "\n",
    "X2=np.array(dft_Pre.drop(columns='processState_Pre')) #종속변수\n",
    "Y2=np.array(dft_Pre.processState_Pre) #독립변수"
   ]
  },
  {
   "cell_type": "code",
   "execution_count": null,
   "metadata": {
    "scrolled": true
   },
   "outputs": [],
   "source": [
    "print(df['processState_Pre'].value_counts())\n",
    "table = itemfreq(Y)\n",
    "x_ticks = ['0','1','2','3','4'] \n",
    "# 0 : 보호중, 1:입양,기증, 2:자연사,안락사, 3:반환, 4:방사,미포획\n",
    "plt.bar(x_ticks, table[:,1], color='skyblue')\n",
    "table[:,1]"
   ]
  },
  {
   "cell_type": "markdown",
   "metadata": {},
   "source": [
    "###### 2) processState_A 기준"
   ]
  },
  {
   "cell_type": "code",
   "execution_count": null,
   "metadata": {},
   "outputs": [],
   "source": [
    "Z=np.array(df_A.drop(columns='processState_A')) #종속변수\n",
    "Q=np.array(df_A.processState_A) #독립변수\n",
    "Z2=np.array(dft_A.drop(columns='processState_A')) #종속변수\n",
    "Q2=np.array(dft_A.processState_A) #독립변수"
   ]
  },
  {
   "cell_type": "code",
   "execution_count": null,
   "metadata": {},
   "outputs": [],
   "source": [
    "print(df_A['processState_A'].value_counts())\n",
    "table = itemfreq(Q)\n",
    "x_ticks = ['0','1'] # 0 : 입양X, 1:입양O\n",
    "plt.bar(x_ticks, table[:,1], color='pink')\n",
    "table[:,1]"
   ]
  },
  {
   "cell_type": "markdown",
   "metadata": {},
   "source": [
    "##### - 데이터셋 나누기"
   ]
  },
  {
   "cell_type": "code",
   "execution_count": null,
   "metadata": {},
   "outputs": [],
   "source": [
    "# 15/16/17 train 데이터 \n",
    "print(X.shape)\n",
    "print(Y.shape)\n",
    "print(Z.shape)\n",
    "print(Q.shape)"
   ]
  },
  {
   "cell_type": "code",
   "execution_count": null,
   "metadata": {},
   "outputs": [],
   "source": [
    "#18년도 test 데이터\n",
    "print(X2.shape)\n",
    "print(Y2.shape)\n",
    "print(Z2.shape)\n",
    "print(Q2.shape)"
   ]
  },
  {
   "cell_type": "code",
   "execution_count": null,
   "metadata": {},
   "outputs": [],
   "source": [
    "#X_train, X_test, Y_train, Y_test = train_test_split(X,Y,test_size=0.3, random_state=5)\n",
    "#Z_train, Z_test, Q_train, Q_test = train_test_split(Z,Q,test_size=0.3, random_state=5)\n",
    "\n",
    "# train_test_split\n",
    "# : 데이터를  train set과 test set으로 단순분리\n",
    "# : 원래 트레이닝 데이터와 결과값이 X와 Y를 무작위로 섞은 후 test_size로 주어진 비율만큼 나눔\n",
    "# test_size 0.3은 X와 Y를 무작위로 섞은 후에 70%은 train으로, 30%는 test로 하는것\n",
    "# random_state : 난수발생을 위한 seed의 인자값"
   ]
  },
  {
   "cell_type": "markdown",
   "metadata": {},
   "source": [
    "#### - 모형 적용"
   ]
  },
  {
   "cell_type": "markdown",
   "metadata": {},
   "source": [
    "##### KNN"
   ]
  },
  {
   "cell_type": "code",
   "execution_count": null,
   "metadata": {
    "scrolled": true
   },
   "outputs": [],
   "source": [
    "# knn객체 : 훈련데이터로 모델을 만들고 새로운 데이터포인트에 대해 예측하는 알고리즘을 캡슐화\n",
    "# 또한 알고리즘이 훈련데이터로부터 추출한 정보를 담고 있음\n",
    "# KNeighborsClassifier : 훈련데이터 자체를 저장\n",
    "knn_Pre = KNeighborsClassifier(n_neighbors=1) # n_neighbor : 이웃의 갯수\n",
    "knn_A = KNeighborsClassifier(n_neighbors=1) # n_neighbor : 이웃의 갯수\n",
    "print(knn_Pre)\n",
    "print(knn_A)\n",
    "# fit() : 훈련데이터셋으로부터 모델 만들기, knn객체 자체를 반환, 그리고 knn객체 자체를 변경시킴, knn객체가 문자열 형태로 출력됨\n",
    "#출력에서 모델으르생성할떄 사용한 매개변수 확인 가능\n",
    "# 훈련데이터(Numpy배열 X_train), 훈련데이터레이블(Numpy배열 y_train)을 매개변수로 받음\n",
    "knn_Pre.fit(X, Y)\n",
    "knn_A.fit(Z, Q)"
   ]
  },
  {
   "cell_type": "markdown",
   "metadata": {},
   "source": [
    "##### Logistic Regression"
   ]
  },
  {
   "cell_type": "code",
   "execution_count": null,
   "metadata": {},
   "outputs": [],
   "source": [
    "glm_Pre = LogisticRegression()\n",
    "glm_A = LogisticRegression()\n",
    "\n",
    "glm_Pre.fit(X, Y)\n",
    "glm_A.fit(Z, Q)"
   ]
  },
  {
   "cell_type": "markdown",
   "metadata": {},
   "source": [
    "##### Naive Bayes"
   ]
  },
  {
   "cell_type": "code",
   "execution_count": null,
   "metadata": {},
   "outputs": [],
   "source": [
    "GNB_Pre = GaussianNB()\n",
    "GNB_A = GaussianNB()\n",
    "print(GNB_Pre)\n",
    "print(GNB_A)\n",
    "\n",
    "GNB_Pre.fit(X, Y)\n",
    "GNB_A.fit(Z, Q) "
   ]
  },
  {
   "cell_type": "markdown",
   "metadata": {},
   "source": [
    "##### Tree"
   ]
  },
  {
   "cell_type": "code",
   "execution_count": null,
   "metadata": {},
   "outputs": [],
   "source": [
    "depth_grid = np.arange(2,31,2)\n",
    "parameters = {'max_depth':depth_grid}\n",
    "\n",
    "gridCV_Pre = GridSearchCV(DecisionTreeClassifier(), parameters, cv=10)\n",
    "gridCV_A = GridSearchCV(DecisionTreeClassifier(), parameters, cv=10)\n",
    "\n",
    "gridCV_Pre.fit(X, Y);\n",
    "gridCV_A.fit(Z, Q);\n",
    "\n",
    "best_depth_Pre = gridCV_Pre.best_params_['max_depth']\n",
    "best_depth_A = gridCV_A.best_params_['max_depth']\n",
    "\n",
    "print(\"Tree best depth : \" + str(best_depth_Pre))\n",
    "print(\"Tree best depth : \" + str(best_depth_A))"
   ]
  },
  {
   "cell_type": "code",
   "execution_count": null,
   "metadata": {},
   "outputs": [],
   "source": [
    "DTC_best_Pre = DecisionTreeClassifier(max_depth=best_depth_Pre)\n",
    "DTC_best_A = DecisionTreeClassifier(max_depth=best_depth_A)\n",
    "\n",
    "DTC_best_Pre.fit(X, Y);\n",
    "DTC_best_A.fit(Z, Q);"
   ]
  },
  {
   "cell_type": "markdown",
   "metadata": {},
   "source": [
    "##### Random Forest"
   ]
  },
  {
   "cell_type": "code",
   "execution_count": null,
   "metadata": {},
   "outputs": [],
   "source": [
    "estimator_grid = np.arange(1, 30, 5)\n",
    "depth_grid = np.arange(1, 10, 2)\n",
    "parameters = {'n_estimators': estimator_grid, 'max_depth': depth_grid}\n",
    "\n",
    "gridCV_Pre = GridSearchCV(RandomForestClassifier(), param_grid=parameters, cv=10)\n",
    "gridCV_A = GridSearchCV(RandomForestClassifier(), param_grid=parameters, cv=10)\n",
    "\n",
    "gridCV_Pre.fit(X, Y);\n",
    "gridCV_A.fit(Z, Q);\n",
    "\n",
    "best_n_estim_Pre = gridCV_Pre.best_params_['n_estimators']\n",
    "best_depth_Pre = gridCV_Pre.best_params_['max_depth']\n",
    "\n",
    "best_n_estim_A = gridCV_A.best_params_['n_estimators']\n",
    "best_depth_A = gridCV_A.best_params_['max_depth']"
   ]
  },
  {
   "cell_type": "code",
   "execution_count": null,
   "metadata": {},
   "outputs": [],
   "source": [
    "print(\"Random Forest best n estimator : \" + str(best_n_estim_Pre))\n",
    "print(\"Random Forest best depth : \" + str(best_depth_Pre))\n",
    "\n",
    "print(\"Random Forest best n estimator : \" + str(best_n_estim_A))\n",
    "print(\"Random Forest best depth : \" + str(best_depth_A))"
   ]
  },
  {
   "cell_type": "code",
   "execution_count": null,
   "metadata": {},
   "outputs": [],
   "source": [
    "RF_best_Pre = RandomForestClassifier(max_depth=best_depth_Pre,n_estimators=best_n_estim_Pre,random_state=3)\n",
    "RF_best_A = RandomForestClassifier(max_depth=best_depth_A,n_estimators=best_n_estim_A,random_state=3)\n",
    "\n",
    "RF_best_Pre.fit(X, Y);\n",
    "RF_best_A.fit(Z, Q);"
   ]
  },
  {
   "cell_type": "markdown",
   "metadata": {},
   "source": [
    "##### AdaBoost"
   ]
  },
  {
   "cell_type": "code",
   "execution_count": null,
   "metadata": {},
   "outputs": [],
   "source": [
    "estimator_grid = np.arange(30, 80, 10)\n",
    "learning_rate_grid = np.array([0.1,0.2,0.3,0.4,0.5,0.6,0.7,0.8,0.9])\n",
    "parameters = {'n_estimators': estimator_grid, 'learning_rate': learning_rate_grid}\n",
    "\n",
    "gridCV_Pre = GridSearchCV(AdaBoostClassifier(), param_grid=parameters, cv=10)\n",
    "gridCV_A = GridSearchCV(AdaBoostClassifier(), param_grid=parameters, cv=10)\n",
    "\n",
    "gridCV_Pre.fit(X, Y)\n",
    "gridCV_A.fit(Z, Q)\n",
    "\n",
    "best_n_estim_Pre = gridCV_Pre.best_params_['n_estimators']\n",
    "best_learn_rate_Pre = gridCV_Pre.best_params_['learning_rate']\n",
    "\n",
    "best_n_estim_A = gridCV_A.best_params_['n_estimators']\n",
    "best_learn_rate_A = gridCV_A.best_params_['learning_rate']"
   ]
  },
  {
   "cell_type": "code",
   "execution_count": null,
   "metadata": {},
   "outputs": [],
   "source": [
    "print(\"Ada Boost best n estimator : \" + str(best_n_estim_Pre))\n",
    "print(\"Ada Boost best learning rate : \" + str(best_learn_rate_A))\n",
    "\n",
    "print(\"Ada Boost best n estimator : \" + str(best_n_estim_Pre))\n",
    "print(\"Ada Boost best learning rate : \" + str(best_learn_rate_A))"
   ]
  },
  {
   "cell_type": "code",
   "execution_count": null,
   "metadata": {},
   "outputs": [],
   "source": [
    "AB_best_Pre = AdaBoostClassifier(n_estimators=best_n_estim_Pre,learning_rate=best_learn_rate_Pre,random_state=3)\n",
    "AB_best_A = AdaBoostClassifier(n_estimators=best_n_estim_A,learning_rate=best_learn_rate_A,random_state=3)\n",
    "\n",
    "AB_best_Pre.fit(X, Y);\n",
    "AB_best_A.fit(Z, Q);"
   ]
  },
  {
   "cell_type": "markdown",
   "metadata": {},
   "source": [
    "##### SVM (Support Vector Machine)"
   ]
  },
  {
   "cell_type": "code",
   "execution_count": null,
   "metadata": {},
   "outputs": [],
   "source": [
    "C_grid = [0.001, 0.01, 0.1, 1, 10]\n",
    "gamma_grid = [0.001, 0.01, 0.1, 1]\n",
    "parameters = {'C': C_grid, 'gamma' : gamma_grid}\n",
    "\n",
    "gridCV_Pre = GridSearchCV(SVC(kernel='rbf'), parameters, cv=10);\n",
    "gridCV_Pre.fit(X, Y)\n",
    "\n",
    "gridCV_A = GridSearchCV(SVC(kernel='rbf'), parameters, cv=10);\n",
    "gridCV_A.fit(Z, Q)\n",
    "\n",
    "\n",
    "best_C_Pre = gridCV_Pre.best_params_['C']\n",
    "best_gamma_Pre = gridCV_Pre.best_params_['gamma']\n",
    "\n",
    "best_C_A = gridCV_A.best_params_['C']\n",
    "best_gamma_A = gridCV_A.best_params_['gamma']"
   ]
  },
  {
   "cell_type": "code",
   "execution_count": null,
   "metadata": {},
   "outputs": [],
   "source": [
    "print(\"SVM best C : \" + str(best_C_Pre))\n",
    "print(\"SVM best gamma : \" + str(best_gamma_Pre))\n",
    "\n",
    "print(\"SVM best C : \" + str(best_C_A))\n",
    "print(\"SVM best gamma : \" + str(best_gamma_A))"
   ]
  },
  {
   "cell_type": "code",
   "execution_count": null,
   "metadata": {},
   "outputs": [],
   "source": [
    "SVM_best_Pre = SVC(C=best_C_Pre,gamma=best_gamma_Pre)\n",
    "SVM_best_Pre.fit(X, Y);\n",
    "\n",
    "SVM_best_A = SVC(C=best_C_A,gamma=best_gamma_A)\n",
    "SVM_best_A.fit(Z, Q);"
   ]
  },
  {
   "cell_type": "markdown",
   "metadata": {},
   "source": [
    "#### - 예측 및 검증"
   ]
  },
  {
   "cell_type": "code",
   "execution_count": null,
   "metadata": {},
   "outputs": [],
   "source": [
    "# X_new = np.array([[5,1,0,4.5,0,1,11,2,12]])\n",
    "# Z_new = np.array([[5,1,0,4.5,0,1,11,2,12]])\n",
    "# print(\"X_new.shape : {}\".format(X_new.shape))\n",
    "# print(\"Z_new.shape : {}\".format(Z_new.shape))"
   ]
  },
  {
   "cell_type": "code",
   "execution_count": null,
   "metadata": {},
   "outputs": [],
   "source": [
    "X_new = np.array([[0,3,11,2,1,0,0,1,1,0,0,0,0,0,1,0,0,4,3]])\n",
    "Z_new = np.array([[0,3,11,2,1,0,0,1,1,0,0,0,0,0,1,0,0,4,3]])\n",
    "print(\"X_new.shape : {}\".format(X_new.shape))\n",
    "print(\"Z_new.shape : {}\".format(Z_new.shape))"
   ]
  },
  {
   "cell_type": "code",
   "execution_count": null,
   "metadata": {},
   "outputs": [],
   "source": [
    "target_Pre = {0:'보호중', 1:'입양기증', 2:'자연사안락사', 3:'반환', 4:'방사미포획'}\n",
    "target_A = {0:'입양X', 1:'입양O'}"
   ]
  },
  {
   "cell_type": "markdown",
   "metadata": {},
   "source": [
    "##### KNN"
   ]
  },
  {
   "cell_type": "code",
   "execution_count": null,
   "metadata": {},
   "outputs": [],
   "source": [
    "prediction_Pre = knn_Pre.predict(X_new)\n",
    "print(\"예측:{}\".format(prediction_Pre))\n",
    "p_Pre = int(prediction_Pre)\n",
    "print(\"예측한 타깃의 이름 : {}\".format(target_Pre[p_Pre]))\n",
    "\n",
    "prediction_A = knn_A.predict(X_new)\n",
    "print(\"예측:{}\".format(prediction_A))\n",
    "p_A = int(prediction_A)\n",
    "print(\"예측한 타깃의 이름 : {}\".format(target_A[p_A]))"
   ]
  },
  {
   "cell_type": "code",
   "execution_count": null,
   "metadata": {},
   "outputs": [],
   "source": [
    "#테스트데이터 사용 (모델을 만들때 사용하지 않았고, 테스트셋에 있는 각 붓꽃의 품종을 정확히 알고있음)\n",
    "Y_pred = knn_Pre.predict(X2) \n",
    "print(\"테스트 셋에 대한 예측값: {}\".format(Y_pred))\n",
    "\n",
    "Q_pred = knn_A.predict(Z2) \n",
    "print(\"테스트 셋에 대한 예측값: {}\".format(Q_pred))"
   ]
  },
  {
   "cell_type": "code",
   "execution_count": null,
   "metadata": {},
   "outputs": [],
   "source": [
    "print( \"KNN best accuracy : \" + str(np.round(metrics.accuracy_score(Y2,Y_pred),3)))\n",
    "print( \"KNN best accuracy : \" + str(np.round(metrics.accuracy_score(Q2,Q_pred),3)))"
   ]
  },
  {
   "cell_type": "markdown",
   "metadata": {},
   "source": [
    "##### Logistic Regression"
   ]
  },
  {
   "cell_type": "code",
   "execution_count": null,
   "metadata": {},
   "outputs": [],
   "source": [
    "prediction_Pre = glm_Pre.predict(X_new)\n",
    "print(\"예측:{}\".format(prediction_Pre))\n",
    "p_Pre = int(prediction_Pre)\n",
    "print(\"예측한 타깃의 이름 : {}\".format(target_Pre[p_Pre]))\n",
    "\n",
    "prediction_A = glm_A.predict(X_new)\n",
    "print(\"예측:{}\".format(prediction_A))\n",
    "p_A = int(prediction_A)\n",
    "print(\"예측한 타깃의 이름 : {}\".format(target_A[p_A]))"
   ]
  },
  {
   "cell_type": "code",
   "execution_count": null,
   "metadata": {},
   "outputs": [],
   "source": [
    "#테스트데이터 사용 (모델을 만들때 사용하지 않았고, 테스트셋에 있는 각 붓꽃의 품종을 정확히 알고있음)\n",
    "Y_pred = glm_Pre.predict(X2) \n",
    "print(\"테스트 셋에 대한 예측값: {}\".format(Y_pred))\n",
    "\n",
    "Q_pred = glm_A.predict(Z2) \n",
    "print(\"테스트 셋에 대한 예측값: {}\".format(Q_pred))"
   ]
  },
  {
   "cell_type": "code",
   "execution_count": null,
   "metadata": {},
   "outputs": [],
   "source": [
    "print( \"Logistic Regression best accuracy : \" + str(np.round(metrics.accuracy_score(Y2,Y_pred),3)))\n",
    "print( \"Logistic Regression best accuracy : \" + str(np.round(metrics.accuracy_score(Q2,Q_pred),3)))"
   ]
  },
  {
   "cell_type": "markdown",
   "metadata": {},
   "source": [
    "##### Naive Bayes"
   ]
  },
  {
   "cell_type": "code",
   "execution_count": null,
   "metadata": {},
   "outputs": [],
   "source": [
    "prediction_Pre = GNB_Pre.predict(X_new)\n",
    "print(\"예측:{}\".format(prediction_Pre))\n",
    "p_Pre = int(prediction_Pre)\n",
    "print(\"예측한 타깃의 이름 : {}\".format(target_Pre[p_Pre]))\n",
    "\n",
    "prediction_A = GNB_A.predict(X_new)\n",
    "print(\"예측:{}\".format(prediction_A))\n",
    "p_A = int(prediction_A)\n",
    "print(\"예측한 타깃의 이름 : {}\".format(target_A[p_A]))"
   ]
  },
  {
   "cell_type": "code",
   "execution_count": null,
   "metadata": {},
   "outputs": [],
   "source": [
    "#테스트데이터 사용 (모델을 만들때 사용하지 않았고, 테스트셋에 있는 각 붓꽃의 품종을 정확히 알고있음)\n",
    "Y_pred = GNB_Pre.predict(X2) \n",
    "print(\"테스트 셋에 대한 예측값: {}\".format(Y_pred))\n",
    "\n",
    "Q_pred = GNB_A.predict(Z2) \n",
    "print(\"테스트 셋에 대한 예측값: {}\".format(Q_pred))"
   ]
  },
  {
   "cell_type": "code",
   "execution_count": null,
   "metadata": {},
   "outputs": [],
   "source": [
    "print( \"Naive Bayes best accuracy : \" + str(np.round(metrics.accuracy_score(Y2,Y_pred),3)))\n",
    "print( \"Naive Bayes best accuracy : \" + str(np.round(metrics.accuracy_score(Q2,Q_pred),3)))"
   ]
  },
  {
   "cell_type": "markdown",
   "metadata": {},
   "source": [
    "##### Tree"
   ]
  },
  {
   "cell_type": "code",
   "execution_count": null,
   "metadata": {},
   "outputs": [],
   "source": [
    "prediction_Pre = DTC_best_Pre.predict(X_new)\n",
    "print(\"예측:{}\".format(prediction_Pre))\n",
    "p_Pre = int(prediction_Pre)\n",
    "print(\"예측한 타깃의 이름 : {}\".format(target_Pre[p_Pre]))\n",
    "\n",
    "prediction_A = DTC_best_A.predict(X_new)\n",
    "print(\"예측:{}\".format(prediction_A))\n",
    "p_A = int(prediction_A)\n",
    "print(\"예측한 타깃의 이름 : {}\".format(target_A[p_A]))"
   ]
  },
  {
   "cell_type": "code",
   "execution_count": null,
   "metadata": {},
   "outputs": [],
   "source": [
    "#테스트데이터 사용 (모델을 만들때 사용하지 않았고, 테스트셋에 있는 각 붓꽃의 품종을 정확히 알고있음)\n",
    "Y_pred = DTC_best_Pre.predict(X2) \n",
    "print(\"테스트 셋에 대한 예측값: {}\".format(Y_pred))\n",
    "\n",
    "Q_pred = DTC_best_A.predict(Z2) \n",
    "print(\"테스트 셋에 대한 예측값: {}\".format(Q_pred))"
   ]
  },
  {
   "cell_type": "code",
   "execution_count": null,
   "metadata": {},
   "outputs": [],
   "source": [
    "print( \"Tree best accuracy : \" + str(np.round(metrics.accuracy_score(Y2,Y_pred),3)))\n",
    "print( \"Tree best accuracy : \" + str(np.round(metrics.accuracy_score(Q2,Q_pred),3)))"
   ]
  },
  {
   "cell_type": "markdown",
   "metadata": {},
   "source": [
    "##### Random Forest"
   ]
  },
  {
   "cell_type": "code",
   "execution_count": null,
   "metadata": {},
   "outputs": [],
   "source": [
    "prediction_Pre = RF_best_Pre.predict(X_new)\n",
    "print(\"예측:{}\".format(prediction_Pre))\n",
    "p_Pre = int(prediction_Pre)\n",
    "print(\"예측한 타깃의 이름 : {}\".format(target_Pre[p_Pre]))\n",
    "\n",
    "prediction_A = RF_best_A.predict(X_new)\n",
    "print(\"예측:{}\".format(prediction_A))\n",
    "p_A = int(prediction_A)\n",
    "print(\"예측한 타깃의 이름 : {}\".format(target_A[p_A]))"
   ]
  },
  {
   "cell_type": "code",
   "execution_count": null,
   "metadata": {},
   "outputs": [],
   "source": [
    "#테스트데이터 사용 (모델을 만들때 사용하지 않았고, 테스트셋에 있는 각 붓꽃의 품종을 정확히 알고있음)\n",
    "Y_pred =RF_best_Pre.predict(X2) \n",
    "print(\"테스트 셋에 대한 예측값: {}\".format(Y_pred))\n",
    "\n",
    "Q_pred = RF_best_A.predict(Z2) \n",
    "print(\"테스트 셋에 대한 예측값: {}\".format(Q_pred))"
   ]
  },
  {
   "cell_type": "code",
   "execution_count": null,
   "metadata": {},
   "outputs": [],
   "source": [
    "print( \"Random Forest best accuracy : \" + str(np.round(metrics.accuracy_score(Y2,Y_pred),3)))\n",
    "print( \"Random Forest best accuracy : \" + str(np.round(metrics.accuracy_score(Q2,Q_pred),3)))"
   ]
  },
  {
   "cell_type": "markdown",
   "metadata": {},
   "source": [
    "##### AdaBoost"
   ]
  },
  {
   "cell_type": "code",
   "execution_count": null,
   "metadata": {},
   "outputs": [],
   "source": [
    "prediction_Pre = AB_best_Pre.predict(X_new)\n",
    "print(\"예측:{}\".format(prediction_Pre))\n",
    "p_Pre = int(prediction_Pre)\n",
    "print(\"예측한 타깃의 이름 : {}\".format(target_Pre[p_Pre]))\n",
    "\n",
    "prediction_A = AB_best_A.predict(X_new)\n",
    "print(\"예측:{}\".format(prediction_A))\n",
    "p_A = int(prediction_A)\n",
    "print(\"예측한 타깃의 이름 : {}\".format(target_A[p_A]))"
   ]
  },
  {
   "cell_type": "code",
   "execution_count": null,
   "metadata": {},
   "outputs": [],
   "source": [
    "#테스트데이터 사용 (모델을 만들때 사용하지 않았고, 테스트셋에 있는 각 붓꽃의 품종을 정확히 알고있음)\n",
    "Y_pred =AB_best_Pre.predict(X2) \n",
    "print(\"테스트 셋에 대한 예측값: {}\".format(Y_pred))\n",
    "\n",
    "Q_pred = AB_best_A.predict(Z2) \n",
    "print(\"테스트 셋에 대한 예측값: {}\".format(Q_pred))"
   ]
  },
  {
   "cell_type": "code",
   "execution_count": null,
   "metadata": {},
   "outputs": [],
   "source": [
    "print( \"Ada Boost best accuracy : \" + str(np.round(metrics.accuracy_score(Y2,Y_pred),3)))\n",
    "print( \"Ada Boost best accuracy : \" + str(np.round(metrics.accuracy_score(Q2,Q_pred),3)))"
   ]
  },
  {
   "cell_type": "markdown",
   "metadata": {},
   "source": [
    "##### SVM (Support Vector Machine)"
   ]
  },
  {
   "cell_type": "code",
   "execution_count": null,
   "metadata": {},
   "outputs": [],
   "source": [
    "prediction_Pre = SVM_best_Pre.predict(X_new)\n",
    "print(\"예측:{}\".format(prediction_Pre))\n",
    "p_Pre = int(prediction_Pre)\n",
    "print(\"예측한 타깃의 이름 : {}\".format(target_Pre[p_Pre]))\n",
    "\n",
    "prediction_A = SVM_best_A.predict(X_new)\n",
    "print(\"예측:{}\".format(prediction_A))\n",
    "p_A = int(prediction_A)\n",
    "print(\"예측한 타깃의 이름 : {}\".format(target_A[p_A]))"
   ]
  },
  {
   "cell_type": "code",
   "execution_count": null,
   "metadata": {},
   "outputs": [],
   "source": [
    "#테스트데이터 사용 (모델을 만들때 사용하지 않았고, 테스트셋에 있는 각 붓꽃의 품종을 정확히 알고있음)\n",
    "Y_pred =SVM_best_Pre.predict(X2) \n",
    "print(\"테스트 셋에 대한 예측값: {}\".format(Y_pred))\n",
    "\n",
    "Q_pred = SVM_best_A.predict(Z2) \n",
    "print(\"테스트 셋에 대한 예측값: {}\".format(Q_pred))"
   ]
  },
  {
   "cell_type": "code",
   "execution_count": null,
   "metadata": {},
   "outputs": [],
   "source": [
    "print( \"SVM best accuracy : \" + str(np.round(metrics.accuracy_score(Y2,Y_pred),3)))\n",
    "print( \"SVM best accuracy : \" + str(np.round(metrics.accuracy_score(Q2,Z_pred),3)))"
   ]
  },
  {
   "cell_type": "markdown",
   "metadata": {},
   "source": [
    "##### - 검증2"
   ]
  },
  {
   "cell_type": "code",
   "execution_count": null,
   "metadata": {},
   "outputs": [],
   "source": [
    "# 예측값 y_pred와 기존의 정답인 y_test가 맞는지 확인\n",
    "print(\"테스트 셋에 대한 정확도 : {:.2f}\".format(np.mean(Y_pred == Y_test)))\n",
    "print(\"테스트 셋에 대한 정확도 : {:.2f}\".format(np.mean(Z_pred == Z_test)))"
   ]
  },
  {
   "cell_type": "code",
   "execution_count": null,
   "metadata": {},
   "outputs": [],
   "source": [
    "print(\"테스트 셋트에 대한 정확도 : {:.2f}\".format(knn_Pre.score(X_test, Y_test)))\n",
    "print(\"테스트 셋트에 대한 정확도 : {:.2f}\".format(knn_A.score(Z_test, Q_test)))"
   ]
  },
  {
   "cell_type": "code",
   "execution_count": null,
   "metadata": {},
   "outputs": [],
   "source": []
  },
  {
   "cell_type": "code",
   "execution_count": null,
   "metadata": {},
   "outputs": [],
   "source": []
  },
  {
   "cell_type": "code",
   "execution_count": null,
   "metadata": {},
   "outputs": [],
   "source": []
  }
 ],
 "metadata": {
  "kernelspec": {
   "display_name": "Python 3",
   "language": "python",
   "name": "python3"
  },
  "language_info": {
   "codemirror_mode": {
    "name": "ipython",
    "version": 3
   },
   "file_extension": ".py",
   "mimetype": "text/x-python",
   "name": "python",
   "nbconvert_exporter": "python",
   "pygments_lexer": "ipython3",
   "version": "3.7.0"
  }
 },
 "nbformat": 4,
 "nbformat_minor": 1
}
