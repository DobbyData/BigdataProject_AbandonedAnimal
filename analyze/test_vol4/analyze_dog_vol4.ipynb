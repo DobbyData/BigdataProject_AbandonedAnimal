{
 "cells": [
  {
   "cell_type": "markdown",
   "metadata": {},
   "source": [
    "## 유기동물 데이터를 이용한 입양률 예측"
   ]
  },
  {
   "cell_type": "code",
   "execution_count": 1,
   "metadata": {},
   "outputs": [
    {
     "name": "stderr",
     "output_type": "stream",
     "text": [
      "C:\\Users\\Bit\\Anaconda3\\lib\\site-packages\\sklearn\\ensemble\\weight_boosting.py:29: DeprecationWarning: numpy.core.umath_tests is an internal NumPy module and should not be imported. It will be removed in a future NumPy release.\n",
      "  from numpy.core.umath_tests import inner1d\n"
     ]
    }
   ],
   "source": [
    "import pandas as pd\n",
    "import numpy as np\n",
    "import os\n",
    "import matplotlib.pyplot as plt\n",
    "from sklearn.neighbors import KNeighborsClassifier\n",
    "from sklearn.linear_model import LogisticRegression\n",
    "from sklearn.model_selection import train_test_split,RandomizedSearchCV, GridSearchCV\n",
    "from sklearn.tree import DecisionTreeClassifier\n",
    "from sklearn.ensemble import RandomForestClassifier\n",
    "from sklearn.ensemble import AdaBoostClassifier\n",
    "from sklearn.naive_bayes import GaussianNB\n",
    "from sklearn.svm import SVC\n",
    "from sklearn import metrics, preprocessing\n",
    "from scipy.stats import itemfreq\n",
    "import mglearn"
   ]
  },
  {
   "cell_type": "markdown",
   "metadata": {},
   "source": [
    "### 1. Data Loading"
   ]
  },
  {
   "cell_type": "code",
   "execution_count": 2,
   "metadata": {},
   "outputs": [],
   "source": [
    "df8=pd.read_csv(\"D:\\KSA\\project_imsi\\lostAnimal_20180101_20181231_vol3.csv\", encoding=\"euc-kr\")\n",
    "df7=pd.read_csv(\"D:\\KSA\\project_imsi\\lostAnimal_20170101_20171231_vol3.csv\", encoding=\"euc-kr\")\n",
    "df6=pd.read_csv(\"D:\\KSA\\project_imsi\\lostAnimal_20160101_20161231_vol3.csv\", encoding=\"euc-kr\")\n",
    "df5=pd.read_csv(\"D:\\KSA\\project_imsi\\lostAnimal_20150101_20151231_vol3.csv\", encoding=\"euc-kr\")"
   ]
  },
  {
   "cell_type": "code",
   "execution_count": 3,
   "metadata": {},
   "outputs": [],
   "source": [
    "df5 = df5.drop(columns=['Unnamed: 0', 'Unnamed: 0.1', 'Unnamed: 0.1.1'])\n",
    "df6 = df6.drop(columns=['Unnamed: 0', 'Unnamed: 0.1', 'Unnamed: 0.1.1'])\n",
    "df7 = df7.drop(columns=['Unnamed: 0', 'Unnamed: 0.1', 'Unnamed: 0.1.1'])\n",
    "df8 = df8.drop(columns=['Unnamed: 0', 'Unnamed: 0.1', 'Unnamed: 0.1.1'])"
   ]
  },
  {
   "cell_type": "code",
   "execution_count": 4,
   "metadata": {
    "scrolled": true
   },
   "outputs": [
    {
     "data": {
      "text/html": [
       "<div>\n",
       "<style scoped>\n",
       "    .dataframe tbody tr th:only-of-type {\n",
       "        vertical-align: middle;\n",
       "    }\n",
       "\n",
       "    .dataframe tbody tr th {\n",
       "        vertical-align: top;\n",
       "    }\n",
       "\n",
       "    .dataframe thead th {\n",
       "        text-align: right;\n",
       "    }\n",
       "</style>\n",
       "<table border=\"1\" class=\"dataframe\">\n",
       "  <thead>\n",
       "    <tr style=\"text-align: right;\">\n",
       "      <th></th>\n",
       "      <th>age(before)</th>\n",
       "      <th>age(after)</th>\n",
       "      <th>careAddr</th>\n",
       "      <th>careNm</th>\n",
       "      <th>careTel</th>\n",
       "      <th>chargeNm</th>\n",
       "      <th>colorCd</th>\n",
       "      <th>desertionNo</th>\n",
       "      <th>filename</th>\n",
       "      <th>happenDt</th>\n",
       "      <th>...</th>\n",
       "      <th>sexCd_Q</th>\n",
       "      <th>neuterYn_Y</th>\n",
       "      <th>neuterYn_N</th>\n",
       "      <th>neuterYn_U</th>\n",
       "      <th>careNm_ETC</th>\n",
       "      <th>careNm_H</th>\n",
       "      <th>careNm_C</th>\n",
       "      <th>careNm_O</th>\n",
       "      <th>careNm_AD</th>\n",
       "      <th>careNm_CM</th>\n",
       "    </tr>\n",
       "  </thead>\n",
       "  <tbody>\n",
       "    <tr>\n",
       "      <th>79744</th>\n",
       "      <td>2달추정(년생)</td>\n",
       "      <td>0.0</td>\n",
       "      <td>경기도 수원시 팔달구 인계동 1135-7</td>\n",
       "      <td>정동물병원</td>\n",
       "      <td>031-239-7585</td>\n",
       "      <td>노선영</td>\n",
       "      <td>흑백</td>\n",
       "      <td>4.413740e+14</td>\n",
       "      <td>http://www.animal.go.kr/files/shelter/2014/12/...</td>\n",
       "      <td>2015-01-01</td>\n",
       "      <td>...</td>\n",
       "      <td>False</td>\n",
       "      <td>False</td>\n",
       "      <td>True</td>\n",
       "      <td>False</td>\n",
       "      <td>False</td>\n",
       "      <td>True</td>\n",
       "      <td>False</td>\n",
       "      <td>False</td>\n",
       "      <td>False</td>\n",
       "      <td>False</td>\n",
       "    </tr>\n",
       "  </tbody>\n",
       "</table>\n",
       "<p>1 rows × 50 columns</p>\n",
       "</div>"
      ],
      "text/plain": [
       "      age(before)  age(after)                careAddr careNm       careTel  \\\n",
       "79744    2달추정(년생)         0.0  경기도 수원시 팔달구 인계동 1135-7  정동물병원  031-239-7585   \n",
       "\n",
       "      chargeNm colorCd   desertionNo  \\\n",
       "79744      노선영      흑백  4.413740e+14   \n",
       "\n",
       "                                                filename    happenDt  \\\n",
       "79744  http://www.animal.go.kr/files/shelter/2014/12/...  2015-01-01   \n",
       "\n",
       "         ...    sexCd_Q neuterYn_Y neuterYn_N neuterYn_U  careNm_ETC careNm_H  \\\n",
       "79744    ...      False      False       True      False       False     True   \n",
       "\n",
       "       careNm_C careNm_O careNm_AD careNm_CM  \n",
       "79744     False    False     False     False  \n",
       "\n",
       "[1 rows x 50 columns]"
      ]
     },
     "execution_count": 4,
     "metadata": {},
     "output_type": "execute_result"
    }
   ],
   "source": [
    "df5.tail(1)"
   ]
  },
  {
   "cell_type": "code",
   "execution_count": 5,
   "metadata": {},
   "outputs": [
    {
     "data": {
      "text/html": [
       "<div>\n",
       "<style scoped>\n",
       "    .dataframe tbody tr th:only-of-type {\n",
       "        vertical-align: middle;\n",
       "    }\n",
       "\n",
       "    .dataframe tbody tr th {\n",
       "        vertical-align: top;\n",
       "    }\n",
       "\n",
       "    .dataframe thead th {\n",
       "        text-align: right;\n",
       "    }\n",
       "</style>\n",
       "<table border=\"1\" class=\"dataframe\">\n",
       "  <thead>\n",
       "    <tr style=\"text-align: right;\">\n",
       "      <th></th>\n",
       "      <th>age(before)</th>\n",
       "      <th>age(after)</th>\n",
       "      <th>careAddr</th>\n",
       "      <th>careNm</th>\n",
       "      <th>careTel</th>\n",
       "      <th>chargeNm</th>\n",
       "      <th>colorCd</th>\n",
       "      <th>desertionNo</th>\n",
       "      <th>filename</th>\n",
       "      <th>happenDt</th>\n",
       "      <th>...</th>\n",
       "      <th>sexCd_Q</th>\n",
       "      <th>neuterYn_Y</th>\n",
       "      <th>neuterYn_N</th>\n",
       "      <th>neuterYn_U</th>\n",
       "      <th>careNm_ETC</th>\n",
       "      <th>careNm_H</th>\n",
       "      <th>careNm_C</th>\n",
       "      <th>careNm_O</th>\n",
       "      <th>careNm_AD</th>\n",
       "      <th>careNm_CM</th>\n",
       "    </tr>\n",
       "  </thead>\n",
       "  <tbody>\n",
       "    <tr>\n",
       "      <th>88174</th>\n",
       "      <td>2개월추정(년생)</td>\n",
       "      <td>0.0</td>\n",
       "      <td>경기도 안산시 상록구 청곡길 50 (부곡동) 한국야생동물보호협회</td>\n",
       "      <td>한국야생동물보호협회</td>\n",
       "      <td>031-296-0124</td>\n",
       "      <td>박태환</td>\n",
       "      <td>흑</td>\n",
       "      <td>4.414010e+14</td>\n",
       "      <td>http://www.animal.go.kr/files/shelter/2015/11/...</td>\n",
       "      <td>2016-01-01</td>\n",
       "      <td>...</td>\n",
       "      <td>False</td>\n",
       "      <td>False</td>\n",
       "      <td>True</td>\n",
       "      <td>False</td>\n",
       "      <td>False</td>\n",
       "      <td>False</td>\n",
       "      <td>False</td>\n",
       "      <td>False</td>\n",
       "      <td>False</td>\n",
       "      <td>True</td>\n",
       "    </tr>\n",
       "  </tbody>\n",
       "</table>\n",
       "<p>1 rows × 50 columns</p>\n",
       "</div>"
      ],
      "text/plain": [
       "      age(before)  age(after)                             careAddr  \\\n",
       "88174   2개월추정(년생)         0.0  경기도 안산시 상록구 청곡길 50 (부곡동) 한국야생동물보호협회   \n",
       "\n",
       "           careNm       careTel chargeNm colorCd   desertionNo  \\\n",
       "88174  한국야생동물보호협회  031-296-0124      박태환       흑  4.414010e+14   \n",
       "\n",
       "                                                filename    happenDt  \\\n",
       "88174  http://www.animal.go.kr/files/shelter/2015/11/...  2016-01-01   \n",
       "\n",
       "         ...    sexCd_Q neuterYn_Y neuterYn_N neuterYn_U  careNm_ETC careNm_H  \\\n",
       "88174    ...      False      False       True      False       False    False   \n",
       "\n",
       "       careNm_C careNm_O careNm_AD careNm_CM  \n",
       "88174     False    False     False      True  \n",
       "\n",
       "[1 rows x 50 columns]"
      ]
     },
     "execution_count": 5,
     "metadata": {},
     "output_type": "execute_result"
    }
   ],
   "source": [
    "df6.tail(1)"
   ]
  },
  {
   "cell_type": "code",
   "execution_count": 6,
   "metadata": {},
   "outputs": [
    {
     "data": {
      "text/html": [
       "<div>\n",
       "<style scoped>\n",
       "    .dataframe tbody tr th:only-of-type {\n",
       "        vertical-align: middle;\n",
       "    }\n",
       "\n",
       "    .dataframe tbody tr th {\n",
       "        vertical-align: top;\n",
       "    }\n",
       "\n",
       "    .dataframe thead th {\n",
       "        text-align: right;\n",
       "    }\n",
       "</style>\n",
       "<table border=\"1\" class=\"dataframe\">\n",
       "  <thead>\n",
       "    <tr style=\"text-align: right;\">\n",
       "      <th></th>\n",
       "      <th>age(before)</th>\n",
       "      <th>age(after)</th>\n",
       "      <th>careAddr</th>\n",
       "      <th>careNm</th>\n",
       "      <th>careTel</th>\n",
       "      <th>chargeNm</th>\n",
       "      <th>colorCd</th>\n",
       "      <th>desertionNo</th>\n",
       "      <th>filename</th>\n",
       "      <th>happenDt</th>\n",
       "      <th>...</th>\n",
       "      <th>sexCd_Q</th>\n",
       "      <th>neuterYn_Y</th>\n",
       "      <th>neuterYn_N</th>\n",
       "      <th>neuterYn_U</th>\n",
       "      <th>careNm_ETC</th>\n",
       "      <th>careNm_H</th>\n",
       "      <th>careNm_C</th>\n",
       "      <th>careNm_O</th>\n",
       "      <th>careNm_AD</th>\n",
       "      <th>careNm_CM</th>\n",
       "    </tr>\n",
       "  </thead>\n",
       "  <tbody>\n",
       "    <tr>\n",
       "      <th>100722</th>\n",
       "      <td>2012(년생)</td>\n",
       "      <td>5</td>\n",
       "      <td>서울특별시 양천구 목동  657번지 16호</td>\n",
       "      <td>강현림 동물병원</td>\n",
       "      <td>02-2642-9159</td>\n",
       "      <td>김영승</td>\n",
       "      <td>갈색</td>\n",
       "      <td>4.113140e+14</td>\n",
       "      <td>http://www.animal.go.kr/files/shelter/2016/10/...</td>\n",
       "      <td>2017-01-01</td>\n",
       "      <td>...</td>\n",
       "      <td>False</td>\n",
       "      <td>False</td>\n",
       "      <td>True</td>\n",
       "      <td>False</td>\n",
       "      <td>False</td>\n",
       "      <td>True</td>\n",
       "      <td>False</td>\n",
       "      <td>False</td>\n",
       "      <td>False</td>\n",
       "      <td>False</td>\n",
       "    </tr>\n",
       "  </tbody>\n",
       "</table>\n",
       "<p>1 rows × 50 columns</p>\n",
       "</div>"
      ],
      "text/plain": [
       "       age(before)  age(after)                 careAddr    careNm  \\\n",
       "100722    2012(년생)           5  서울특별시 양천구 목동  657번지 16호  강현림 동물병원   \n",
       "\n",
       "             careTel chargeNm colorCd   desertionNo  \\\n",
       "100722  02-2642-9159      김영승      갈색  4.113140e+14   \n",
       "\n",
       "                                                 filename    happenDt  \\\n",
       "100722  http://www.animal.go.kr/files/shelter/2016/10/...  2017-01-01   \n",
       "\n",
       "          ...    sexCd_Q neuterYn_Y neuterYn_N neuterYn_U  careNm_ETC  \\\n",
       "100722    ...      False      False       True      False       False   \n",
       "\n",
       "       careNm_H  careNm_C careNm_O careNm_AD careNm_CM  \n",
       "100722     True     False    False     False     False  \n",
       "\n",
       "[1 rows x 50 columns]"
      ]
     },
     "execution_count": 6,
     "metadata": {},
     "output_type": "execute_result"
    }
   ],
   "source": [
    "df7.tail(1)"
   ]
  },
  {
   "cell_type": "code",
   "execution_count": 7,
   "metadata": {},
   "outputs": [
    {
     "data": {
      "text/html": [
       "<div>\n",
       "<style scoped>\n",
       "    .dataframe tbody tr th:only-of-type {\n",
       "        vertical-align: middle;\n",
       "    }\n",
       "\n",
       "    .dataframe tbody tr th {\n",
       "        vertical-align: top;\n",
       "    }\n",
       "\n",
       "    .dataframe thead th {\n",
       "        text-align: right;\n",
       "    }\n",
       "</style>\n",
       "<table border=\"1\" class=\"dataframe\">\n",
       "  <thead>\n",
       "    <tr style=\"text-align: right;\">\n",
       "      <th></th>\n",
       "      <th>age(before)</th>\n",
       "      <th>age(after)</th>\n",
       "      <th>careAddr</th>\n",
       "      <th>careNm</th>\n",
       "      <th>careTel</th>\n",
       "      <th>chargeNm</th>\n",
       "      <th>colorCd</th>\n",
       "      <th>desertionNo</th>\n",
       "      <th>filename</th>\n",
       "      <th>happenDt</th>\n",
       "      <th>...</th>\n",
       "      <th>sexCd_Q</th>\n",
       "      <th>neuterYn_Y</th>\n",
       "      <th>neuterYn_N</th>\n",
       "      <th>neuterYn_U</th>\n",
       "      <th>careNm_ETC</th>\n",
       "      <th>careNm_H</th>\n",
       "      <th>careNm_C</th>\n",
       "      <th>careNm_O</th>\n",
       "      <th>careNm_AD</th>\n",
       "      <th>careNm_CM</th>\n",
       "    </tr>\n",
       "  </thead>\n",
       "  <tbody>\n",
       "    <tr>\n",
       "      <th>80329</th>\n",
       "      <td>2015(년생)</td>\n",
       "      <td>3</td>\n",
       "      <td>대구광역시 수성구 달구벌대로 2475 (범어동)</td>\n",
       "      <td>제니스동물병원</td>\n",
       "      <td>053-756-8290</td>\n",
       "      <td>경제환경과</td>\n",
       "      <td>흰색</td>\n",
       "      <td>4.270000e+14</td>\n",
       "      <td>http://www.animal.go.kr/files/shelter/2017/12/...</td>\n",
       "      <td>2018-01-01</td>\n",
       "      <td>...</td>\n",
       "      <td>False</td>\n",
       "      <td>True</td>\n",
       "      <td>False</td>\n",
       "      <td>False</td>\n",
       "      <td>False</td>\n",
       "      <td>True</td>\n",
       "      <td>False</td>\n",
       "      <td>False</td>\n",
       "      <td>False</td>\n",
       "      <td>False</td>\n",
       "    </tr>\n",
       "  </tbody>\n",
       "</table>\n",
       "<p>1 rows × 50 columns</p>\n",
       "</div>"
      ],
      "text/plain": [
       "      age(before)  age(after)                    careAddr   careNm  \\\n",
       "80329    2015(년생)           3  대구광역시 수성구 달구벌대로 2475 (범어동)  제니스동물병원   \n",
       "\n",
       "            careTel chargeNm colorCd   desertionNo  \\\n",
       "80329  053-756-8290    경제환경과      흰색  4.270000e+14   \n",
       "\n",
       "                                                filename    happenDt  \\\n",
       "80329  http://www.animal.go.kr/files/shelter/2017/12/...  2018-01-01   \n",
       "\n",
       "         ...    sexCd_Q neuterYn_Y neuterYn_N neuterYn_U  careNm_ETC careNm_H  \\\n",
       "80329    ...      False       True      False      False       False     True   \n",
       "\n",
       "       careNm_C careNm_O careNm_AD careNm_CM  \n",
       "80329     False    False     False     False  \n",
       "\n",
       "[1 rows x 50 columns]"
      ]
     },
     "execution_count": 7,
     "metadata": {},
     "output_type": "execute_result"
    }
   ],
   "source": [
    "df8.tail(1)"
   ]
  },
  {
   "cell_type": "code",
   "execution_count": null,
   "metadata": {
    "scrolled": true
   },
   "outputs": [],
   "source": [
    "print(len(df5.columns))\n",
    "print(len(df6.columns))\n",
    "print(len(df7.columns))\n",
    "print(len(df8.columns))"
   ]
  },
  {
   "cell_type": "markdown",
   "metadata": {},
   "source": [
    "### 2. Data PreProcessing"
   ]
  },
  {
   "cell_type": "markdown",
   "metadata": {},
   "source": [
    "#### - 데이터프레임 합치기 (15,16,17년도)"
   ]
  },
  {
   "cell_type": "code",
   "execution_count": null,
   "metadata": {},
   "outputs": [],
   "source": [
    "#df567 = pd.merge(df5,df6, how='outer')\n",
    "df567 = pd.concat([df5,df6], ignore_index=True)\n",
    "len(df567)"
   ]
  },
  {
   "cell_type": "code",
   "execution_count": null,
   "metadata": {},
   "outputs": [],
   "source": [
    "df567 = pd.concat([df567,df7], ignore_index=True)\n",
    "len(df567)"
   ]
  },
  {
   "cell_type": "code",
   "execution_count": null,
   "metadata": {},
   "outputs": [],
   "source": [
    "df567.head(1)"
   ]
  },
  {
   "cell_type": "code",
   "execution_count": null,
   "metadata": {},
   "outputs": [],
   "source": [
    "df567.tail(1)"
   ]
  },
  {
   "cell_type": "code",
   "execution_count": null,
   "metadata": {},
   "outputs": [],
   "source": [
    "df567.columns"
   ]
  },
  {
   "cell_type": "markdown",
   "metadata": {},
   "source": [
    "#### - 필요없는 컬럼 삭제"
   ]
  },
  {
   "cell_type": "code",
   "execution_count": null,
   "metadata": {
    "scrolled": false
   },
   "outputs": [],
   "source": [
    "df = df567.drop(columns=['age(before)','colorCd','careAddr', 'careNm', 'careTel', 'chargeNm',\n",
    "                      'desertionNo', 'filename', 'happenDt', 'happenPlace', 'kindCd','noticeComment',\n",
    "                       'noticeNo', 'noticeSdt','officetel', 'popfile', 'processState',\n",
    "                       'weight(before)', 'specialMark','breed', 'breed_Pre','breed.1'\n",
    "                      ])\n",
    "\n",
    "df_t = df8.drop(columns=['age(before)','colorCd','careAddr', 'careNm', 'careTel', 'chargeNm',\n",
    "                      'desertionNo', 'filename', 'happenDt', 'happenPlace', 'kindCd','noticeComment',\n",
    "                       'noticeNo', 'noticeSdt','officetel', 'popfile', 'processState',\n",
    "                       'weight(before)', 'specialMark','breed', 'breed_Pre'\n",
    "                      ])\n",
    "\n",
    "#'Unnamed: 0', 'Unnamed: 0.1', 'Unnamed: 0.1.1',"
   ]
  },
  {
   "cell_type": "code",
   "execution_count": null,
   "metadata": {},
   "outputs": [],
   "source": [
    "df.tail(2)"
   ]
  },
  {
   "cell_type": "code",
   "execution_count": null,
   "metadata": {},
   "outputs": [],
   "source": [
    "df_t.tail(2)"
   ]
  },
  {
   "cell_type": "code",
   "execution_count": null,
   "metadata": {},
   "outputs": [],
   "source": [
    "print(\"15/16/17 데이터프레임 사용할 컬럼 갯수 : \",len(df.columns))\n",
    "print(\"컬럼 이름 : \", df.columns)\n",
    "\n",
    "print(\"18 데이터프레임 사용할 컬럼 갯수 : \",len(df_t.columns))\n",
    "print(\"컬럼 이름 : \", df_t.columns)"
   ]
  },
  {
   "cell_type": "code",
   "execution_count": null,
   "metadata": {},
   "outputs": [],
   "source": [
    "df.info()"
   ]
  },
  {
   "cell_type": "code",
   "execution_count": null,
   "metadata": {},
   "outputs": [],
   "source": [
    "df_t.info()"
   ]
  },
  {
   "cell_type": "markdown",
   "metadata": {},
   "source": [
    "#### - 결측치 처리"
   ]
  },
  {
   "cell_type": "code",
   "execution_count": null,
   "metadata": {
    "scrolled": true
   },
   "outputs": [],
   "source": [
    "## 15/16/17년도 데이터프레임\n",
    "\n",
    "#print(df.isnull().sum()) # 결측치 수\n",
    "#df.isnull().any()\n",
    "null_columns=df.columns[df.isnull().any()]\n",
    "df[null_columns].isnull().sum()\n",
    "#print(df[df[\"breed_Pre\"].isnull()][null_columns])        \n",
    "\n",
    "#print(df['weight(after)'].isnull().sum())       \n",
    "#print(df['size'].isnull().sum())                "
   ]
  },
  {
   "cell_type": "code",
   "execution_count": null,
   "metadata": {},
   "outputs": [],
   "source": [
    "## 18년도 데이터프레임\n",
    "null_columns=df_t.columns[df_t.isnull().any()]\n",
    "df_t[null_columns].isnull().sum()\n"
   ]
  },
  {
   "cell_type": "code",
   "execution_count": null,
   "metadata": {},
   "outputs": [],
   "source": [
    "# weight(after) : 나이별로 묶어서 중위값넣기\n",
    "df[\"weight(after)\"].fillna(df.groupby(\"age_u\")[\"weight(after)\"].transform(\"median\"), inplace=True)\n",
    "df_t[\"weight(after)\"].fillna(df_t.groupby(\"age_u\")[\"weight(after)\"].transform(\"median\"), inplace=True)"
   ]
  },
  {
   "cell_type": "code",
   "execution_count": null,
   "metadata": {},
   "outputs": [],
   "source": [
    "df.loc[pd.isnull(df[\"weight(after)\"])]"
   ]
  },
  {
   "cell_type": "code",
   "execution_count": null,
   "metadata": {},
   "outputs": [],
   "source": [
    "df_t.loc[pd.isnull(df[\"weight(after)\"])]"
   ]
  },
  {
   "cell_type": "code",
   "execution_count": null,
   "metadata": {},
   "outputs": [],
   "source": [
    "# size : 몸무게가 비어서 전처리 되지 않은 행 재전처리\n",
    "df.loc[df['weight(after)'] <= 3, 'size'] = '초소형'\n",
    "df.loc[(df['weight(after)'] > 3 ) & (df['weight(after)'] <=9 ), 'size'] = '소형'\n",
    "df.loc[(df['weight(after)'] > 9 ) & (df['weight(after)'] <=25 ), 'size'] = '중형'\n",
    "df.loc[df['weight(after)'] > 25, 'size'] = '대형'\n",
    "\n",
    "df_t.loc[df_t['weight(after)'] <= 3, 'size'] = '초소형'\n",
    "df_t.loc[(df_t['weight(after)'] > 3 ) & (df_t['weight(after)'] <=9 ), 'size'] = '소형'\n",
    "df_t.loc[(df_t['weight(after)'] > 9 ) & (df_t['weight(after)'] <=25 ), 'size'] = '중형'\n",
    "df_t.loc[df_t['weight(after)'] > 25, 'size'] = '대형'"
   ]
  },
  {
   "cell_type": "code",
   "execution_count": null,
   "metadata": {},
   "outputs": [],
   "source": [
    "df.loc[pd.isnull(df[\"size\"])]"
   ]
  },
  {
   "cell_type": "code",
   "execution_count": null,
   "metadata": {},
   "outputs": [],
   "source": [
    "df_t.loc[pd.isnull(df_t[\"size\"])]"
   ]
  },
  {
   "cell_type": "code",
   "execution_count": null,
   "metadata": {},
   "outputs": [],
   "source": [
    "# 동물 종 : 몇개 안되니 기타로 입력\n",
    "#df['breed_Pre'].fillna(\"기타\",inplace=True)\n",
    "#df.loc[pd.isnull(df[\"breed_Pre\"])]"
   ]
  },
  {
   "cell_type": "code",
   "execution_count": null,
   "metadata": {
    "scrolled": true
   },
   "outputs": [],
   "source": [
    "null_columns=df.columns[df.isnull().any()]\n",
    "df[null_columns].isnull().sum()"
   ]
  },
  {
   "cell_type": "code",
   "execution_count": null,
   "metadata": {},
   "outputs": [],
   "source": [
    "null_columns=df_t.columns[df_t.isnull().any()]\n",
    "df_t[null_columns].isnull().sum()"
   ]
  },
  {
   "cell_type": "markdown",
   "metadata": {},
   "source": [
    "#### - neuterYn : 문자 -> 숫자"
   ]
  },
  {
   "cell_type": "code",
   "execution_count": null,
   "metadata": {},
   "outputs": [],
   "source": [
    "neuter_mapping = {\"Y\":0,\"N\":1,\"U\":2}\n",
    "df['neuterYn'] = df['neuterYn'].map(neuter_mapping)\n",
    "df_t['neuterYn'] = df_t['neuterYn'].map(neuter_mapping)\n",
    "\n",
    "print(df.neuterYn[1:3])\n",
    "print(df_t.neuterYn[1:3])"
   ]
  },
  {
   "cell_type": "markdown",
   "metadata": {},
   "source": [
    "#### - sexCd : 문자 -> 숫자"
   ]
  },
  {
   "cell_type": "code",
   "execution_count": null,
   "metadata": {},
   "outputs": [],
   "source": [
    "sex_mapping = {\"M\":0,\"F\":1,\"Q\":2}\n",
    "df['sexCd'] = df['sexCd'].map(sex_mapping)\n",
    "df_t['sexCd'] = df_t['sexCd'].map(sex_mapping)\n",
    "\n",
    "print(df.sexCd[1:3])\n",
    "print(df_t.sexCd[1:3])"
   ]
  },
  {
   "cell_type": "markdown",
   "metadata": {},
   "source": [
    "#### - orgNm(담당지역주소) : 두분류로 나눈뒤, 숫자 mapping"
   ]
  },
  {
   "cell_type": "code",
   "execution_count": null,
   "metadata": {},
   "outputs": [],
   "source": [
    "df['sido'] = df['orgNm'].str.split(\" \").str[0]\n",
    "df_t['sido'] = df_t['orgNm'].str.split(\" \").str[0]\n",
    "\n",
    "print(df['sido'].value_counts())\n",
    "print(df_t['sido'].value_counts())"
   ]
  },
  {
   "cell_type": "code",
   "execution_count": null,
   "metadata": {},
   "outputs": [],
   "source": [
    "sido_mapping = {\"경기도\":0,\"서울특별시\":1,\"부산광역시\":2,\"경상남도\":3,\n",
    "                \"인천광역시\":4,\"충청남도\":5,\"강원도\":6,\"대구광역시\":7,\n",
    "                \"전라북도\":8,\"경상북도\":9,\"대전광역시\":10,\"울산광역시\":11,\n",
    "                \"충청북도\":12,\"전라남도\":13,\"제주특별자치도\":14,\"광주광역시\":15,\n",
    "                \"세종특별자치시\":16\n",
    "}\n",
    "df['sido'] = df['sido'].map(sido_mapping)\n",
    "df_t['sido'] = df_t['sido'].map(sido_mapping)\n",
    "\n",
    "print(df['sido'].head(3))\n",
    "print(df_t['sido'].head(3))"
   ]
  },
  {
   "cell_type": "markdown",
   "metadata": {},
   "source": [
    "#### - happenWd(발견요일) : 문자 -> 숫자 mapping "
   ]
  },
  {
   "cell_type": "code",
   "execution_count": null,
   "metadata": {},
   "outputs": [],
   "source": [
    "week_mapping = {\"Monday\":0, \"Tuesday\":2, \"Wednesday\":3, \n",
    "                \"Thursday\":4, \"Friday\":5, \"Saturday\":6, \"Sunday\":7}\n",
    "df['happenWd'] = df['happenWd'].map(week_mapping)\n",
    "df_t['happenWd'] = df_t['happenWd'].map(week_mapping) \n",
    "\n",
    "print(df['happenWd'].head(3))\n",
    "print(df_t['happenWd'].head(3))"
   ]
  },
  {
   "cell_type": "markdown",
   "metadata": {},
   "source": [
    "#### - size : 문자 -> 숫자 mapping"
   ]
  },
  {
   "cell_type": "code",
   "execution_count": null,
   "metadata": {
    "scrolled": true
   },
   "outputs": [],
   "source": [
    "#df['size'].fillna('중형',inplace=True)\n",
    "size_mapping = {\"대형\":0,\"소형\":1,\"중형\":2,\"초소형\":3}\n",
    "df['size'] = df['size'].map(size_mapping)\n",
    "df_t['size'] = df_t['size'].map(size_mapping)\n",
    "\n",
    "print(df['size'].head(3))\n",
    "print(df_t['size'].head(3))"
   ]
  },
  {
   "cell_type": "markdown",
   "metadata": {},
   "source": [
    "#### - age : 문자 -> 숫자 mapping "
   ]
  },
  {
   "cell_type": "code",
   "execution_count": null,
   "metadata": {
    "scrolled": true
   },
   "outputs": [],
   "source": [
    "age_mapping = {\"노견기\":0,\"성견기\":1,\"유견기\":2}\n",
    "df['age_u'] = df['age_u'].map(age_mapping)\n",
    "df_t['age_u'] = df_t['age_u'].map(age_mapping)\n",
    "\n",
    "print(df['size'].head(3))\n",
    "print(df_t['size'].head(3))"
   ]
  },
  {
   "cell_type": "markdown",
   "metadata": {},
   "source": [
    "#### - processState_Pre : 문자 -> 숫자 mapping "
   ]
  },
  {
   "cell_type": "code",
   "execution_count": null,
   "metadata": {},
   "outputs": [],
   "source": [
    "proc_mapping = {\"C\":0, \"A\":1, \"D\":2, \"R\":3, \"E\":4}\n",
    "df['processState_Pre'] = df['processState_Pre'].map(proc_mapping)\n",
    "df_t['processState_Pre'] = df_t['processState_Pre'].map(proc_mapping)\n",
    "\n",
    "print(df['processState_Pre'].head(3))\n",
    "print(df_t['processState_Pre'].head(3))"
   ]
  },
  {
   "cell_type": "markdown",
   "metadata": {},
   "source": [
    "#### - DataFrame 분류 : 개, 고양이, 기타"
   ]
  },
  {
   "cell_type": "code",
   "execution_count": null,
   "metadata": {},
   "outputs": [],
   "source": [
    "#개:0, 고양이:1, 기타:2\n",
    "dfd = df[df.kind==0] #15/16/17\n",
    "dfd2 = df_t[df_t.kind==0] #18\n",
    "#dfc = df[df.kind==1]\n",
    "#dfe = df[df.kind==2]\n",
    "\n",
    "print(dfd['kind'].value_counts())\n",
    "print(dfd2['kind'].value_counts())\n"
   ]
  },
  {
   "cell_type": "markdown",
   "metadata": {},
   "source": [
    "### 3. Data Statistical Analysis"
   ]
  },
  {
   "cell_type": "code",
   "execution_count": null,
   "metadata": {},
   "outputs": [],
   "source": [
    "dfd.describe()"
   ]
  },
  {
   "cell_type": "code",
   "execution_count": null,
   "metadata": {},
   "outputs": [],
   "source": [
    "dfd2.describe()"
   ]
  },
  {
   "cell_type": "code",
   "execution_count": null,
   "metadata": {},
   "outputs": [],
   "source": [
    "print(dfd.columns)\n",
    "print(dfd2.columns)"
   ]
  },
  {
   "cell_type": "code",
   "execution_count": null,
   "metadata": {
    "scrolled": true
   },
   "outputs": [],
   "source": [
    "# processState와 상관관계\n",
    "cor_t = np.round(dfd.corr(),3)\n",
    "cor1 = cor_t.loc[:,[ 'processState_Pre', 'processState_C', 'processState_A',\n",
    "       'processState_D', 'processState_R', 'processState_E']]\n",
    "cor1"
   ]
  },
  {
   "cell_type": "code",
   "execution_count": null,
   "metadata": {},
   "outputs": [],
   "source": [
    "cor_t2 = np.round(dfd2.corr(),3)\n",
    "cor2 = cor_t2.loc[:,[ 'processState_Pre', 'processState_C', 'processState_A',\n",
    "       'processState_D', 'processState_R', 'processState_E']]\n",
    "cor2"
   ]
  },
  {
   "cell_type": "markdown",
   "metadata": {},
   "source": [
    "### 4. Data Learning"
   ]
  },
  {
   "cell_type": "code",
   "execution_count": null,
   "metadata": {},
   "outputs": [],
   "source": [
    "# null값 처리\n",
    "# df.isnull().any()\n",
    "#null_columns=df.columns[df.isnull().any()]\n",
    "#df[null_columns].isnull().sum()\n",
    "#print(df[df[\"breed_Pre\"].isnull()][null_columns])"
   ]
  },
  {
   "cell_type": "markdown",
   "metadata": {},
   "source": [
    "#### - feature 선택"
   ]
  },
  {
   "cell_type": "code",
   "execution_count": null,
   "metadata": {},
   "outputs": [],
   "source": [
    "feature_name = ['age(after)','neuterYn','sexCd','weight(after)', 'kind', 'happenWd', 'happenMth', \n",
    "                'size', 'processState_Pre', 'sido']\n",
    "df_Pre = dfd[feature_name]\n",
    "dft_Pre = dfd2[feature_name]\n",
    "\n",
    "feature_name2 = ['age(after)','neuterYn','sexCd','weight(after)', 'kind', 'happenWd', 'happenMth', \n",
    "                'size', 'processState_A', 'sido']\n",
    "df_A = dfd[feature_name2]\n",
    "dft_A = dfd2[feature_name2]"
   ]
  },
  {
   "cell_type": "code",
   "execution_count": null,
   "metadata": {},
   "outputs": [],
   "source": [
    "df_Pre.tail(3)"
   ]
  },
  {
   "cell_type": "code",
   "execution_count": null,
   "metadata": {},
   "outputs": [],
   "source": [
    "dft_Pre.tail(3)"
   ]
  },
  {
   "cell_type": "code",
   "execution_count": null,
   "metadata": {},
   "outputs": [],
   "source": [
    "df_A.tail(3)"
   ]
  },
  {
   "cell_type": "code",
   "execution_count": null,
   "metadata": {},
   "outputs": [],
   "source": [
    "dft_A.tail(3)"
   ]
  },
  {
   "cell_type": "code",
   "execution_count": null,
   "metadata": {},
   "outputs": [],
   "source": [
    "# feature_name = ['kind', 'happenWd', 'happenMth','size','age_u', 'sexCd_M',\n",
    "#                'sexCd_F', 'sexCd_Q', 'neuterYn_Y', 'neuterYn_N', 'neuterYn_U',\n",
    "#                'careNm_ETC', 'careNm_H', 'careNm_C', 'careNm_O', 'careNm_AD',\n",
    "#                'careNm_CM', 'sido','processState_Pre', 'sido']\n",
    "\n",
    "# df_Pre = dfd[feature_name]\n",
    "# dft_Pre = dfd2[feature_name]\n",
    "\n",
    "# feature_name2 = ['kind', 'happenWd', 'happenMth','size','age_u', 'sexCd_M',\n",
    "#                'sexCd_F', 'sexCd_Q', 'neuterYn_Y', 'neuterYn_N', 'neuterYn_U',\n",
    "#                'careNm_ETC', 'careNm_H', 'careNm_C', 'careNm_O', 'careNm_AD',\n",
    "#                'careNm_CM', 'sido','processState_A', 'sido']\n",
    "# df_A = dfd[feature_name2]\n",
    "# dft_A = dfd2[feature_name2]\n"
   ]
  },
  {
   "cell_type": "code",
   "execution_count": null,
   "metadata": {},
   "outputs": [],
   "source": [
    "#df_Pre.head(3)"
   ]
  },
  {
   "cell_type": "code",
   "execution_count": null,
   "metadata": {},
   "outputs": [],
   "source": [
    "#dft_Pre.head(3)"
   ]
  },
  {
   "cell_type": "code",
   "execution_count": null,
   "metadata": {},
   "outputs": [],
   "source": [
    "#df_A.head(3)"
   ]
  },
  {
   "cell_type": "code",
   "execution_count": null,
   "metadata": {},
   "outputs": [],
   "source": [
    "#dft_A.head(3)"
   ]
  },
  {
   "cell_type": "markdown",
   "metadata": {},
   "source": [
    "#### - 종속변수 독립변수 추출"
   ]
  },
  {
   "cell_type": "markdown",
   "metadata": {
    "scrolled": true
   },
   "source": [
    "###### 1) processState_Pre 기준"
   ]
  },
  {
   "cell_type": "code",
   "execution_count": null,
   "metadata": {},
   "outputs": [],
   "source": [
    "X=np.array(df_Pre.drop(columns='processState_Pre')) #종속변수\n",
    "Y=np.array(df_Pre.processState_Pre) #독립변수\n",
    "\n",
    "X2=np.array(dft_Pre.drop(columns='processState_Pre')) #종속변수\n",
    "Y2=np.array(dft_Pre.processState_Pre) #독립변수"
   ]
  },
  {
   "cell_type": "code",
   "execution_count": null,
   "metadata": {
    "scrolled": true
   },
   "outputs": [],
   "source": [
    "print(df['processState_Pre'].value_counts())\n",
    "table = itemfreq(Y)\n",
    "x_ticks = ['0','1','2','3','4'] \n",
    "# 0 : 보호중, 1:입양,기증, 2:자연사,안락사, 3:반환, 4:방사,미포획\n",
    "plt.bar(x_ticks, table[:,1], color='skyblue')\n",
    "table[:,1]"
   ]
  },
  {
   "cell_type": "markdown",
   "metadata": {},
   "source": [
    "###### 2) processState_A 기준"
   ]
  },
  {
   "cell_type": "code",
   "execution_count": null,
   "metadata": {},
   "outputs": [],
   "source": [
    "Z=np.array(df_A.drop(columns='processState_A')) #종속변수\n",
    "Q=np.array(df_A.processState_A) #독립변수\n",
    "Z2=np.array(dft_A.drop(columns='processState_A')) #종속변수\n",
    "Q2=np.array(dft_A.processState_A) #독립변수"
   ]
  },
  {
   "cell_type": "code",
   "execution_count": null,
   "metadata": {},
   "outputs": [],
   "source": [
    "print(df_A['processState_A'].value_counts())\n",
    "table = itemfreq(Q)\n",
    "x_ticks = ['0','1'] # 0 : 입양X, 1:입양O\n",
    "plt.bar(x_ticks, table[:,1], color='pink')\n",
    "table[:,1]"
   ]
  },
  {
   "cell_type": "markdown",
   "metadata": {},
   "source": [
    "##### - 데이터셋 나누기"
   ]
  },
  {
   "cell_type": "code",
   "execution_count": null,
   "metadata": {},
   "outputs": [],
   "source": [
    "# 15/16/17 train 데이터 \n",
    "print(X.shape)\n",
    "print(Y.shape)\n",
    "print(Z.shape)\n",
    "print(Q.shape)"
   ]
  },
  {
   "cell_type": "code",
   "execution_count": null,
   "metadata": {},
   "outputs": [],
   "source": [
    "#18년도 test 데이터\n",
    "print(X2.shape)\n",
    "print(Y2.shape)\n",
    "print(Z2.shape)\n",
    "print(Q2.shape)"
   ]
  },
  {
   "cell_type": "code",
   "execution_count": null,
   "metadata": {},
   "outputs": [],
   "source": [
    "#X_train, X_test, Y_train, Y_test = train_test_split(X,Y,test_size=0.3, random_state=5)\n",
    "#Z_train, Z_test, Q_train, Q_test = train_test_split(Z,Q,test_size=0.3, random_state=5)\n",
    "\n",
    "# train_test_split\n",
    "# : 데이터를  train set과 test set으로 단순분리\n",
    "# : 원래 트레이닝 데이터와 결과값이 X와 Y를 무작위로 섞은 후 test_size로 주어진 비율만큼 나눔\n",
    "# test_size 0.3은 X와 Y를 무작위로 섞은 후에 70%은 train으로, 30%는 test로 하는것\n",
    "# random_state : 난수발생을 위한 seed의 인자값"
   ]
  },
  {
   "cell_type": "markdown",
   "metadata": {},
   "source": [
    "#### - 모형 적용"
   ]
  },
  {
   "cell_type": "markdown",
   "metadata": {},
   "source": [
    "##### KNN"
   ]
  },
  {
   "cell_type": "code",
   "execution_count": null,
   "metadata": {
    "scrolled": true
   },
   "outputs": [],
   "source": [
    "# knn객체 : 훈련데이터로 모델을 만들고 새로운 데이터포인트에 대해 예측하는 알고리즘을 캡슐화\n",
    "# 또한 알고리즘이 훈련데이터로부터 추출한 정보를 담고 있음\n",
    "# KNeighborsClassifier : 훈련데이터 자체를 저장\n",
    "knn_Pre = KNeighborsClassifier(n_neighbors=1) # n_neighbor : 이웃의 갯수\n",
    "knn_A = KNeighborsClassifier(n_neighbors=1) # n_neighbor : 이웃의 갯수\n",
    "print(knn_Pre)\n",
    "print(knn_A)\n",
    "# fit() : 훈련데이터셋으로부터 모델 만들기, knn객체 자체를 반환, 그리고 knn객체 자체를 변경시킴, knn객체가 문자열 형태로 출력됨\n",
    "#출력에서 모델으르생성할떄 사용한 매개변수 확인 가능\n",
    "# 훈련데이터(Numpy배열 X_train), 훈련데이터레이블(Numpy배열 y_train)을 매개변수로 받음\n",
    "knn_Pre.fit(X, Y)\n",
    "knn_A.fit(Z, Q)"
   ]
  },
  {
   "cell_type": "markdown",
   "metadata": {},
   "source": [
    "##### Logistic Regression"
   ]
  },
  {
   "cell_type": "code",
   "execution_count": null,
   "metadata": {},
   "outputs": [],
   "source": [
    "glm_Pre = LogisticRegression()\n",
    "glm_A = LogisticRegression()\n",
    "\n",
    "glm_Pre.fit(X, Y)\n",
    "glm_A.fit(Z, Q)"
   ]
  },
  {
   "cell_type": "markdown",
   "metadata": {},
   "source": [
    "##### Naive Bayes"
   ]
  },
  {
   "cell_type": "code",
   "execution_count": null,
   "metadata": {},
   "outputs": [],
   "source": [
    "GNB_Pre = GaussianNB()\n",
    "GNB_A = GaussianNB()\n",
    "print(GNB_Pre)\n",
    "print(GNB_A)\n",
    "\n",
    "GNB_Pre.fit(X, Y)\n",
    "GNB_A.fit(Z, Q) "
   ]
  },
  {
   "cell_type": "markdown",
   "metadata": {},
   "source": [
    "##### Tree"
   ]
  },
  {
   "cell_type": "code",
   "execution_count": null,
   "metadata": {},
   "outputs": [],
   "source": [
    "depth_grid = np.arange(2,31,2)\n",
    "parameters = {'max_depth':depth_grid}\n",
    "\n",
    "gridCV_Pre = GridSearchCV(DecisionTreeClassifier(), parameters, cv=10)\n",
    "gridCV_A = GridSearchCV(DecisionTreeClassifier(), parameters, cv=10)\n",
    "\n",
    "gridCV_Pre.fit(X, Y);\n",
    "gridCV_A.fit(Z, Q);\n",
    "\n",
    "best_depth_Pre = gridCV_Pre.best_params_['max_depth']\n",
    "best_depth_A = gridCV_A.best_params_['max_depth']\n",
    "\n",
    "print(\"Tree best depth : \" + str(best_depth_Pre))\n",
    "print(\"Tree best depth : \" + str(best_depth_A))"
   ]
  },
  {
   "cell_type": "code",
   "execution_count": null,
   "metadata": {},
   "outputs": [],
   "source": [
    "DTC_best_Pre = DecisionTreeClassifier(max_depth=best_depth_Pre)\n",
    "DTC_best_A = DecisionTreeClassifier(max_depth=best_depth_A)\n",
    "\n",
    "DTC_best_Pre.fit(X, Y);\n",
    "DTC_best_A.fit(Z, Q);"
   ]
  },
  {
   "cell_type": "markdown",
   "metadata": {},
   "source": [
    "##### Random Forest"
   ]
  },
  {
   "cell_type": "code",
   "execution_count": null,
   "metadata": {},
   "outputs": [],
   "source": [
    "estimator_grid = np.arange(1, 30, 5)\n",
    "depth_grid = np.arange(1, 10, 2)\n",
    "parameters = {'n_estimators': estimator_grid, 'max_depth': depth_grid}\n",
    "\n",
    "gridCV_Pre = GridSearchCV(RandomForestClassifier(), param_grid=parameters, cv=10)\n",
    "gridCV_A = GridSearchCV(RandomForestClassifier(), param_grid=parameters, cv=10)\n",
    "\n",
    "gridCV_Pre.fit(X, Y);\n",
    "gridCV_A.fit(Z, Q);\n",
    "\n",
    "best_n_estim_Pre = gridCV_Pre.best_params_['n_estimators']\n",
    "best_depth_Pre = gridCV_Pre.best_params_['max_depth']\n",
    "\n",
    "best_n_estim_A = gridCV_A.best_params_['n_estimators']\n",
    "best_depth_A = gridCV_A.best_params_['max_depth']"
   ]
  },
  {
   "cell_type": "code",
   "execution_count": null,
   "metadata": {},
   "outputs": [],
   "source": [
    "print(\"Random Forest best n estimator : \" + str(best_n_estim_Pre))\n",
    "print(\"Random Forest best depth : \" + str(best_depth_Pre))\n",
    "\n",
    "print(\"Random Forest best n estimator : \" + str(best_n_estim_A))\n",
    "print(\"Random Forest best depth : \" + str(best_depth_A))"
   ]
  },
  {
   "cell_type": "code",
   "execution_count": null,
   "metadata": {},
   "outputs": [],
   "source": [
    "RF_best_Pre = RandomForestClassifier(max_depth=best_depth_Pre,n_estimators=best_n_estim_Pre,random_state=3)\n",
    "RF_best_A = RandomForestClassifier(max_depth=best_depth_A,n_estimators=best_n_estim_A,random_state=3)\n",
    "\n",
    "RF_best_Pre.fit(X, Y);\n",
    "RF_best_A.fit(Z, Q);"
   ]
  },
  {
   "cell_type": "markdown",
   "metadata": {},
   "source": [
    "##### AdaBoost"
   ]
  },
  {
   "cell_type": "code",
   "execution_count": null,
   "metadata": {},
   "outputs": [],
   "source": [
    "estimator_grid = np.arange(30, 80, 10)\n",
    "learning_rate_grid = np.array([0.1,0.2,0.3,0.4,0.5,0.6,0.7,0.8,0.9])\n",
    "parameters = {'n_estimators': estimator_grid, 'learning_rate': learning_rate_grid}\n",
    "\n",
    "gridCV_Pre = GridSearchCV(AdaBoostClassifier(), param_grid=parameters, cv=10)\n",
    "gridCV_A = GridSearchCV(AdaBoostClassifier(), param_grid=parameters, cv=10)\n",
    "\n",
    "gridCV_Pre.fit(X, Y)\n",
    "gridCV_A.fit(Z, Q)\n",
    "\n",
    "best_n_estim_Pre = gridCV_Pre.best_params_['n_estimators']\n",
    "best_learn_rate_Pre = gridCV_Pre.best_params_['learning_rate']\n",
    "\n",
    "best_n_estim_A = gridCV_A.best_params_['n_estimators']\n",
    "best_learn_rate_A = gridCV_A.best_params_['learning_rate']"
   ]
  },
  {
   "cell_type": "code",
   "execution_count": null,
   "metadata": {},
   "outputs": [],
   "source": [
    "print(\"Ada Boost best n estimator : \" + str(best_n_estim_Pre))\n",
    "print(\"Ada Boost best learning rate : \" + str(best_learn_rate_A))\n",
    "\n",
    "print(\"Ada Boost best n estimator : \" + str(best_n_estim_Pre))\n",
    "print(\"Ada Boost best learning rate : \" + str(best_learn_rate_A))"
   ]
  },
  {
   "cell_type": "code",
   "execution_count": null,
   "metadata": {},
   "outputs": [],
   "source": [
    "AB_best_Pre = AdaBoostClassifier(n_estimators=best_n_estim_Pre,learning_rate=best_learn_rate_Pre,random_state=3)\n",
    "AB_best_A = AdaBoostClassifier(n_estimators=best_n_estim_A,learning_rate=best_learn_rate_A,random_state=3)\n",
    "\n",
    "AB_best_Pre.fit(X, Y);\n",
    "AB_best_A.fit(Z, Q);"
   ]
  },
  {
   "cell_type": "markdown",
   "metadata": {},
   "source": [
    "##### SVM (Support Vector Machine)"
   ]
  },
  {
   "cell_type": "code",
   "execution_count": null,
   "metadata": {},
   "outputs": [],
   "source": [
    "C_grid = [0.001, 0.01, 0.1, 1, 10]\n",
    "gamma_grid = [0.001, 0.01, 0.1, 1]\n",
    "parameters = {'C': C_grid, 'gamma' : gamma_grid}\n",
    "\n",
    "gridCV_Pre = GridSearchCV(SVC(kernel='rbf'), parameters, cv=10);\n",
    "gridCV_Pre.fit(X, Y)\n",
    "\n",
    "gridCV_A = GridSearchCV(SVC(kernel='rbf'), parameters, cv=10);\n",
    "gridCV_A.fit(Z, Q)\n",
    "\n",
    "\n",
    "best_C_Pre = gridCV_Pre.best_params_['C']\n",
    "best_gamma_Pre = gridCV_Pre.best_params_['gamma']\n",
    "\n",
    "best_C_A = gridCV_A.best_params_['C']\n",
    "best_gamma_A = gridCV_A.best_params_['gamma']"
   ]
  },
  {
   "cell_type": "code",
   "execution_count": null,
   "metadata": {},
   "outputs": [],
   "source": [
    "print(\"SVM best C : \" + str(best_C_Pre))\n",
    "print(\"SVM best gamma : \" + str(best_gamma_Pre))\n",
    "\n",
    "print(\"SVM best C : \" + str(best_C_A))\n",
    "print(\"SVM best gamma : \" + str(best_gamma_A))"
   ]
  },
  {
   "cell_type": "code",
   "execution_count": null,
   "metadata": {},
   "outputs": [],
   "source": [
    "SVM_best_Pre = SVC(C=best_C_Pre,gamma=best_gamma_Pre)\n",
    "SVM_best_Pre.fit(X, Y);\n",
    "\n",
    "SVM_best_A = SVC(C=best_C_A,gamma=best_gamma_A)\n",
    "SVM_best_A.fit(Z, Q);"
   ]
  },
  {
   "cell_type": "markdown",
   "metadata": {},
   "source": [
    "#### - 예측 및 검증"
   ]
  },
  {
   "cell_type": "code",
   "execution_count": null,
   "metadata": {},
   "outputs": [],
   "source": [
    "X_new = np.array([[5,1,0,4.5,0,1,11,2,12]])\n",
    "Z_new = np.array([[5,1,0,4.5,0,1,11,2,12]])\n",
    "print(\"X_new.shape : {}\".format(X_new.shape))\n",
    "print(\"Z_new.shape : {}\".format(Z_new.shape))"
   ]
  },
  {
   "cell_type": "code",
   "execution_count": null,
   "metadata": {},
   "outputs": [],
   "source": [
    "# X_new = np.array([[0,3,11,2,1,0,0,1,1,0,0,0,0,0,1,0,0,4,3]])\n",
    "# Z_new = np.array([[0,3,11,2,1,0,0,1,1,0,0,0,0,0,1,0,0,4,3]])\n",
    "# print(\"X_new.shape : {}\".format(X_new.shape))\n",
    "# print(\"Z_new.shape : {}\".format(Z_new.shape))"
   ]
  },
  {
   "cell_type": "code",
   "execution_count": null,
   "metadata": {},
   "outputs": [],
   "source": [
    "target_Pre = {0:'보호중', 1:'입양기증', 2:'자연사안락사', 3:'반환', 4:'방사미포획'}\n",
    "target_A = {0:'입양X', 1:'입양O'}"
   ]
  },
  {
   "cell_type": "markdown",
   "metadata": {},
   "source": [
    "##### KNN"
   ]
  },
  {
   "cell_type": "code",
   "execution_count": null,
   "metadata": {},
   "outputs": [],
   "source": [
    "prediction_Pre = knn_Pre.predict(X_new)\n",
    "print(\"예측:{}\".format(prediction_Pre))\n",
    "p_Pre = int(prediction_Pre)\n",
    "print(\"예측한 타깃의 이름 : {}\".format(target_Pre[p_Pre]))\n",
    "\n",
    "prediction_A = knn_A.predict(X_new)\n",
    "print(\"예측:{}\".format(prediction_A))\n",
    "p_A = int(prediction_A)\n",
    "print(\"예측한 타깃의 이름 : {}\".format(target_A[p_A]))"
   ]
  },
  {
   "cell_type": "code",
   "execution_count": null,
   "metadata": {},
   "outputs": [],
   "source": [
    "#테스트데이터 사용 (모델을 만들때 사용하지 않았고, 테스트셋에 있는 각 붓꽃의 품종을 정확히 알고있음)\n",
    "Y_pred = knn_Pre.predict(X2) \n",
    "print(\"테스트 셋에 대한 예측값: {}\".format(Y_pred))\n",
    "\n",
    "Q_pred = knn_A.predict(Z2) \n",
    "print(\"테스트 셋에 대한 예측값: {}\".format(Q_pred))"
   ]
  },
  {
   "cell_type": "code",
   "execution_count": null,
   "metadata": {},
   "outputs": [],
   "source": [
    "print( \"KNN best accuracy : \" + str(np.round(metrics.accuracy_score(Y2,Y_pred),3)))\n",
    "print( \"KNN best accuracy : \" + str(np.round(metrics.accuracy_score(Q2,Q_pred),3)))"
   ]
  },
  {
   "cell_type": "markdown",
   "metadata": {},
   "source": [
    "##### Logistic Regression"
   ]
  },
  {
   "cell_type": "code",
   "execution_count": null,
   "metadata": {},
   "outputs": [],
   "source": [
    "prediction_Pre = glm_Pre.predict(X_new)\n",
    "print(\"예측:{}\".format(prediction_Pre))\n",
    "p_Pre = int(prediction_Pre)\n",
    "print(\"예측한 타깃의 이름 : {}\".format(target_Pre[p_Pre]))\n",
    "\n",
    "prediction_A = glm_A.predict(X_new)\n",
    "print(\"예측:{}\".format(prediction_A))\n",
    "p_A = int(prediction_A)\n",
    "print(\"예측한 타깃의 이름 : {}\".format(target_A[p_A]))"
   ]
  },
  {
   "cell_type": "code",
   "execution_count": null,
   "metadata": {},
   "outputs": [],
   "source": [
    "#테스트데이터 사용 (모델을 만들때 사용하지 않았고, 테스트셋에 있는 각 붓꽃의 품종을 정확히 알고있음)\n",
    "Y_pred = glm_Pre.predict(X2) \n",
    "print(\"테스트 셋에 대한 예측값: {}\".format(Y_pred))\n",
    "\n",
    "Q_pred = glm_A.predict(Z2) \n",
    "print(\"테스트 셋에 대한 예측값: {}\".format(Q_pred))"
   ]
  },
  {
   "cell_type": "code",
   "execution_count": null,
   "metadata": {},
   "outputs": [],
   "source": [
    "print( \"Logistic Regression best accuracy : \" + str(np.round(metrics.accuracy_score(Y2,Y_pred),3)))\n",
    "print( \"Logistic Regression best accuracy : \" + str(np.round(metrics.accuracy_score(Q2,Q_pred),3)))"
   ]
  },
  {
   "cell_type": "markdown",
   "metadata": {},
   "source": [
    "##### Naive Bayes"
   ]
  },
  {
   "cell_type": "code",
   "execution_count": null,
   "metadata": {},
   "outputs": [],
   "source": [
    "prediction_Pre = GNB_Pre.predict(X_new)\n",
    "print(\"예측:{}\".format(prediction_Pre))\n",
    "p_Pre = int(prediction_Pre)\n",
    "print(\"예측한 타깃의 이름 : {}\".format(target_Pre[p_Pre]))\n",
    "\n",
    "prediction_A = GNB_A.predict(X_new)\n",
    "print(\"예측:{}\".format(prediction_A))\n",
    "p_A = int(prediction_A)\n",
    "print(\"예측한 타깃의 이름 : {}\".format(target_A[p_A]))"
   ]
  },
  {
   "cell_type": "code",
   "execution_count": null,
   "metadata": {},
   "outputs": [],
   "source": [
    "#테스트데이터 사용 (모델을 만들때 사용하지 않았고, 테스트셋에 있는 각 붓꽃의 품종을 정확히 알고있음)\n",
    "Y_pred = GNB_Pre.predict(X2) \n",
    "print(\"테스트 셋에 대한 예측값: {}\".format(Y_pred))\n",
    "\n",
    "Q_pred = GNB_A.predict(Z2) \n",
    "print(\"테스트 셋에 대한 예측값: {}\".format(Q_pred))"
   ]
  },
  {
   "cell_type": "code",
   "execution_count": null,
   "metadata": {},
   "outputs": [],
   "source": [
    "print( \"Naive Bayes best accuracy : \" + str(np.round(metrics.accuracy_score(Y2,Y_pred),3)))\n",
    "print( \"Naive Bayes best accuracy : \" + str(np.round(metrics.accuracy_score(Q2,Q_pred),3)))"
   ]
  },
  {
   "cell_type": "markdown",
   "metadata": {},
   "source": [
    "##### Tree"
   ]
  },
  {
   "cell_type": "code",
   "execution_count": null,
   "metadata": {},
   "outputs": [],
   "source": [
    "prediction_Pre = DTC_best_Pre.predict(X_new)\n",
    "print(\"예측:{}\".format(prediction_Pre))\n",
    "p_Pre = int(prediction_Pre)\n",
    "print(\"예측한 타깃의 이름 : {}\".format(target_Pre[p_Pre]))\n",
    "\n",
    "prediction_A = DTC_best_A.predict(X_new)\n",
    "print(\"예측:{}\".format(prediction_A))\n",
    "p_A = int(prediction_A)\n",
    "print(\"예측한 타깃의 이름 : {}\".format(target_A[p_A]))"
   ]
  },
  {
   "cell_type": "code",
   "execution_count": null,
   "metadata": {},
   "outputs": [],
   "source": [
    "#테스트데이터 사용 (모델을 만들때 사용하지 않았고, 테스트셋에 있는 각 붓꽃의 품종을 정확히 알고있음)\n",
    "Y_pred = DTC_best_Pre.predict(X2) \n",
    "print(\"테스트 셋에 대한 예측값: {}\".format(Y_pred))\n",
    "\n",
    "Q_pred = DTC_best_A.predict(Z2) \n",
    "print(\"테스트 셋에 대한 예측값: {}\".format(Q_pred))"
   ]
  },
  {
   "cell_type": "code",
   "execution_count": null,
   "metadata": {},
   "outputs": [],
   "source": [
    "print( \"Tree best accuracy : \" + str(np.round(metrics.accuracy_score(Y2,Y_pred),3)))\n",
    "print( \"Tree best accuracy : \" + str(np.round(metrics.accuracy_score(Q2,Q_pred),3)))"
   ]
  },
  {
   "cell_type": "markdown",
   "metadata": {},
   "source": [
    "##### Random Forest"
   ]
  },
  {
   "cell_type": "code",
   "execution_count": null,
   "metadata": {},
   "outputs": [],
   "source": [
    "prediction_Pre = RF_best_Pre.predict(X_new)\n",
    "print(\"예측:{}\".format(prediction_Pre))\n",
    "p_Pre = int(prediction_Pre)\n",
    "print(\"예측한 타깃의 이름 : {}\".format(target_Pre[p_Pre]))\n",
    "\n",
    "prediction_A = RF_best_A.predict(X_new)\n",
    "print(\"예측:{}\".format(prediction_A))\n",
    "p_A = int(prediction_A)\n",
    "print(\"예측한 타깃의 이름 : {}\".format(target_A[p_A]))"
   ]
  },
  {
   "cell_type": "code",
   "execution_count": null,
   "metadata": {},
   "outputs": [],
   "source": [
    "#테스트데이터 사용 (모델을 만들때 사용하지 않았고, 테스트셋에 있는 각 붓꽃의 품종을 정확히 알고있음)\n",
    "Y_pred =RF_best_Pre.predict(X2) \n",
    "print(\"테스트 셋에 대한 예측값: {}\".format(Y_pred))\n",
    "\n",
    "Q_pred = RF_best_A.predict(Z2) \n",
    "print(\"테스트 셋에 대한 예측값: {}\".format(Q_pred))"
   ]
  },
  {
   "cell_type": "code",
   "execution_count": null,
   "metadata": {},
   "outputs": [],
   "source": [
    "print( \"Random Forest best accuracy : \" + str(np.round(metrics.accuracy_score(Y2,Y_pred),3)))\n",
    "print( \"Random Forest best accuracy : \" + str(np.round(metrics.accuracy_score(Q2,Q_pred),3)))"
   ]
  },
  {
   "cell_type": "markdown",
   "metadata": {},
   "source": [
    "##### AdaBoost"
   ]
  },
  {
   "cell_type": "code",
   "execution_count": null,
   "metadata": {},
   "outputs": [],
   "source": [
    "prediction_Pre = AB_best_Pre.predict(X_new)\n",
    "print(\"예측:{}\".format(prediction_Pre))\n",
    "p_Pre = int(prediction_Pre)\n",
    "print(\"예측한 타깃의 이름 : {}\".format(target_Pre[p_Pre]))\n",
    "\n",
    "prediction_A = AB_best_A.predict(X_new)\n",
    "print(\"예측:{}\".format(prediction_A))\n",
    "p_A = int(prediction_A)\n",
    "print(\"예측한 타깃의 이름 : {}\".format(target_A[p_A]))"
   ]
  },
  {
   "cell_type": "code",
   "execution_count": null,
   "metadata": {},
   "outputs": [],
   "source": [
    "#테스트데이터 사용 (모델을 만들때 사용하지 않았고, 테스트셋에 있는 각 붓꽃의 품종을 정확히 알고있음)\n",
    "Y_pred =AB_best_Pre.predict(X2) \n",
    "print(\"테스트 셋에 대한 예측값: {}\".format(Y_pred))\n",
    "\n",
    "Q_pred = AB_best_A.predict(Z2) \n",
    "print(\"테스트 셋에 대한 예측값: {}\".format(Q_pred))"
   ]
  },
  {
   "cell_type": "code",
   "execution_count": null,
   "metadata": {},
   "outputs": [],
   "source": [
    "print( \"Ada Boost best accuracy : \" + str(np.round(metrics.accuracy_score(Y2,Y_pred),3)))\n",
    "print( \"Ada Boost best accuracy : \" + str(np.round(metrics.accuracy_score(Q2,Q_pred),3)))"
   ]
  },
  {
   "cell_type": "markdown",
   "metadata": {},
   "source": [
    "##### SVM (Support Vector Machine)"
   ]
  },
  {
   "cell_type": "code",
   "execution_count": null,
   "metadata": {},
   "outputs": [],
   "source": [
    "prediction_Pre = SVM_best_Pre.predict(X_new)\n",
    "print(\"예측:{}\".format(prediction_Pre))\n",
    "p_Pre = int(prediction_Pre)\n",
    "print(\"예측한 타깃의 이름 : {}\".format(target_Pre[p_Pre]))\n",
    "\n",
    "prediction_A = SVM_best_A.predict(X_new)\n",
    "print(\"예측:{}\".format(prediction_A))\n",
    "p_A = int(prediction_A)\n",
    "print(\"예측한 타깃의 이름 : {}\".format(target_A[p_A]))"
   ]
  },
  {
   "cell_type": "code",
   "execution_count": null,
   "metadata": {},
   "outputs": [],
   "source": [
    "#테스트데이터 사용 (모델을 만들때 사용하지 않았고, 테스트셋에 있는 각 붓꽃의 품종을 정확히 알고있음)\n",
    "Y_pred =SVM_best_Pre.predict(X2) \n",
    "print(\"테스트 셋에 대한 예측값: {}\".format(Y_pred))\n",
    "\n",
    "Q_pred = SVM_best_A.predict(Z2) \n",
    "print(\"테스트 셋에 대한 예측값: {}\".format(Q_pred))"
   ]
  },
  {
   "cell_type": "code",
   "execution_count": null,
   "metadata": {},
   "outputs": [],
   "source": [
    "print( \"SVM best accuracy : \" + str(np.round(metrics.accuracy_score(Y2,Y_pred),3)))\n",
    "print( \"SVM best accuracy : \" + str(np.round(metrics.accuracy_score(Q2,Q_pred),3)))"
   ]
  },
  {
   "cell_type": "markdown",
   "metadata": {},
   "source": [
    "##### - 검증2"
   ]
  },
  {
   "cell_type": "code",
   "execution_count": null,
   "metadata": {},
   "outputs": [],
   "source": [
    "# 예측값 y_pred와 기존의 정답인 y_test가 맞는지 확인\n",
    "print(\"테스트 셋에 대한 정확도 : {:.2f}\".format(np.mean(Y_pred == Y_test)))\n",
    "print(\"테스트 셋에 대한 정확도 : {:.2f}\".format(np.mean(Z_pred == Z_test)))"
   ]
  },
  {
   "cell_type": "code",
   "execution_count": null,
   "metadata": {},
   "outputs": [],
   "source": [
    "print(\"테스트 셋트에 대한 정확도 : {:.2f}\".format(knn_Pre.score(X_test, Y_test)))\n",
    "print(\"테스트 셋트에 대한 정확도 : {:.2f}\".format(knn_A.score(Z_test, Q_test)))"
   ]
  },
  {
   "cell_type": "code",
   "execution_count": null,
   "metadata": {},
   "outputs": [],
   "source": []
  },
  {
   "cell_type": "code",
   "execution_count": null,
   "metadata": {},
   "outputs": [],
   "source": []
  },
  {
   "cell_type": "code",
   "execution_count": null,
   "metadata": {},
   "outputs": [],
   "source": []
  }
 ],
 "metadata": {
  "kernelspec": {
   "display_name": "Python 3",
   "language": "python",
   "name": "python3"
  },
  "language_info": {
   "codemirror_mode": {
    "name": "ipython",
    "version": 3
   },
   "file_extension": ".py",
   "mimetype": "text/x-python",
   "name": "python",
   "nbconvert_exporter": "python",
   "pygments_lexer": "ipython3",
   "version": "3.7.0"
  }
 },
 "nbformat": 4,
 "nbformat_minor": 1
}
