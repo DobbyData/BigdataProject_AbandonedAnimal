{
 "cells": [
  {
   "cell_type": "markdown",
   "metadata": {},
   "source": [
    "## 유기동물 데이터를 이용한 입양률 예측"
   ]
  },
  {
   "cell_type": "code",
   "execution_count": 1,
   "metadata": {},
   "outputs": [
    {
     "name": "stderr",
     "output_type": "stream",
     "text": [
      "C:\\Users\\Bit\\Anaconda3\\lib\\site-packages\\sklearn\\ensemble\\weight_boosting.py:29: DeprecationWarning: numpy.core.umath_tests is an internal NumPy module and should not be imported. It will be removed in a future NumPy release.\n",
      "  from numpy.core.umath_tests import inner1d\n"
     ]
    }
   ],
   "source": [
    "import pandas as pd\n",
    "import numpy as np\n",
    "import os\n",
    "import matplotlib.pyplot as plt\n",
    "from sklearn.neighbors import KNeighborsClassifier\n",
    "from sklearn.linear_model import LogisticRegression\n",
    "from sklearn.model_selection import train_test_split,RandomizedSearchCV, GridSearchCV\n",
    "from sklearn.tree import DecisionTreeClassifier\n",
    "from sklearn.ensemble import RandomForestClassifier\n",
    "from sklearn.ensemble import AdaBoostClassifier\n",
    "from sklearn.naive_bayes import GaussianNB\n",
    "from sklearn.svm import SVC\n",
    "from sklearn import metrics, preprocessing\n",
    "from scipy.stats import itemfreq\n",
    "import mglearn"
   ]
  },
  {
   "cell_type": "markdown",
   "metadata": {},
   "source": [
    "### 1. Data Loading"
   ]
  },
  {
   "cell_type": "code",
   "execution_count": 2,
   "metadata": {},
   "outputs": [],
   "source": [
    "#df4=pd.read_csv(\"D:\\project_imsi\\lostAnimal_20180101_20181231_vol3.csv\", encoding=\"euc-kr\")\n",
    "#df3=pd.read_csv(\"D:\\project_imsi\\lostAnimal_20170101_20171231_vol3.csv\", encoding=\"euc-kr\")\n",
    "#df2=pd.read_csv(\"D:\\project_imsi\\lostAnimal_20160101_20161231_vol3.csv\", encoding=\"euc-kr\")\n",
    "df1=pd.read_csv(\"D:\\KSA\\project_imsi\\lostAnimal_20150101_20151231_vol3.csv\", encoding=\"euc-kr\")\n"
   ]
  },
  {
   "cell_type": "code",
   "execution_count": 3,
   "metadata": {
    "scrolled": true
   },
   "outputs": [
    {
     "data": {
      "text/html": [
       "<div>\n",
       "<style scoped>\n",
       "    .dataframe tbody tr th:only-of-type {\n",
       "        vertical-align: middle;\n",
       "    }\n",
       "\n",
       "    .dataframe tbody tr th {\n",
       "        vertical-align: top;\n",
       "    }\n",
       "\n",
       "    .dataframe thead th {\n",
       "        text-align: right;\n",
       "    }\n",
       "</style>\n",
       "<table border=\"1\" class=\"dataframe\">\n",
       "  <thead>\n",
       "    <tr style=\"text-align: right;\">\n",
       "      <th></th>\n",
       "      <th>Unnamed: 0</th>\n",
       "      <th>Unnamed: 0.1</th>\n",
       "      <th>Unnamed: 0.1.1</th>\n",
       "      <th>age(before)</th>\n",
       "      <th>age(after)</th>\n",
       "      <th>careAddr</th>\n",
       "      <th>careNm</th>\n",
       "      <th>careTel</th>\n",
       "      <th>chargeNm</th>\n",
       "      <th>colorCd</th>\n",
       "      <th>...</th>\n",
       "      <th>sexCd_Q</th>\n",
       "      <th>neuterYn_Y</th>\n",
       "      <th>neuterYn_N</th>\n",
       "      <th>neuterYn_U</th>\n",
       "      <th>careNm_ETC</th>\n",
       "      <th>careNm_H</th>\n",
       "      <th>careNm_C</th>\n",
       "      <th>careNm_O</th>\n",
       "      <th>careNm_AD</th>\n",
       "      <th>careNm_CM</th>\n",
       "    </tr>\n",
       "  </thead>\n",
       "  <tbody>\n",
       "    <tr>\n",
       "      <th>79744</th>\n",
       "      <td>79744</td>\n",
       "      <td>79744</td>\n",
       "      <td>80455</td>\n",
       "      <td>2달추정(년생)</td>\n",
       "      <td>0.0</td>\n",
       "      <td>경기도 수원시 팔달구 인계동 1135-7</td>\n",
       "      <td>정동물병원</td>\n",
       "      <td>031-239-7585</td>\n",
       "      <td>노선영</td>\n",
       "      <td>흑백</td>\n",
       "      <td>...</td>\n",
       "      <td>False</td>\n",
       "      <td>False</td>\n",
       "      <td>True</td>\n",
       "      <td>False</td>\n",
       "      <td>False</td>\n",
       "      <td>True</td>\n",
       "      <td>False</td>\n",
       "      <td>False</td>\n",
       "      <td>False</td>\n",
       "      <td>False</td>\n",
       "    </tr>\n",
       "  </tbody>\n",
       "</table>\n",
       "<p>1 rows × 53 columns</p>\n",
       "</div>"
      ],
      "text/plain": [
       "       Unnamed: 0  Unnamed: 0.1  Unnamed: 0.1.1 age(before)  age(after)  \\\n",
       "79744       79744         79744           80455    2달추정(년생)         0.0   \n",
       "\n",
       "                     careAddr careNm       careTel chargeNm colorCd  \\\n",
       "79744  경기도 수원시 팔달구 인계동 1135-7  정동물병원  031-239-7585      노선영      흑백   \n",
       "\n",
       "         ...      sexCd_Q neuterYn_Y neuterYn_N neuterYn_U careNm_ETC  \\\n",
       "79744    ...        False      False       True      False      False   \n",
       "\n",
       "      careNm_H careNm_C  careNm_O careNm_AD  careNm_CM  \n",
       "79744     True    False     False     False      False  \n",
       "\n",
       "[1 rows x 53 columns]"
      ]
     },
     "execution_count": 3,
     "metadata": {},
     "output_type": "execute_result"
    }
   ],
   "source": [
    "df1.tail(1)"
   ]
  },
  {
   "cell_type": "code",
   "execution_count": 4,
   "metadata": {
    "scrolled": true
   },
   "outputs": [
    {
     "data": {
      "text/plain": [
       "Index(['Unnamed: 0', 'Unnamed: 0.1', 'Unnamed: 0.1.1', 'age(before)',\n",
       "       'age(after)', 'careAddr', 'careNm', 'careTel', 'chargeNm', 'colorCd',\n",
       "       'desertionNo', 'filename', 'happenDt', 'happenPlace', 'kindCd',\n",
       "       'neuterYn', 'noticeComment', 'noticeEdt', 'noticeNo', 'noticeSdt',\n",
       "       'officetel', 'orgNm', 'popfile', 'processState', 'sexCd', 'specialMark',\n",
       "       'weight(before)', 'weight(after)', 'kind', 'breed', 'breed_Pre',\n",
       "       'happenWd', 'happenMth', 'size', 'age_u', 'processState_Pre',\n",
       "       'processState_C', 'processState_A', 'processState_D', 'processState_R',\n",
       "       'processState_E', 'sexCd_M', 'sexCd_F', 'sexCd_Q', 'neuterYn_Y',\n",
       "       'neuterYn_N', 'neuterYn_U', 'careNm_ETC', 'careNm_H', 'careNm_C',\n",
       "       'careNm_O', 'careNm_AD', 'careNm_CM'],\n",
       "      dtype='object')"
      ]
     },
     "execution_count": 4,
     "metadata": {},
     "output_type": "execute_result"
    }
   ],
   "source": [
    "df1.columns"
   ]
  },
  {
   "cell_type": "markdown",
   "metadata": {},
   "source": [
    "### 2. Data PreProcessing"
   ]
  },
  {
   "cell_type": "markdown",
   "metadata": {},
   "source": [
    "#### - 필요없는 컬럼 삭제"
   ]
  },
  {
   "cell_type": "code",
   "execution_count": 5,
   "metadata": {
    "scrolled": false
   },
   "outputs": [
    {
     "data": {
      "text/html": [
       "<div>\n",
       "<style scoped>\n",
       "    .dataframe tbody tr th:only-of-type {\n",
       "        vertical-align: middle;\n",
       "    }\n",
       "\n",
       "    .dataframe tbody tr th {\n",
       "        vertical-align: top;\n",
       "    }\n",
       "\n",
       "    .dataframe thead th {\n",
       "        text-align: right;\n",
       "    }\n",
       "</style>\n",
       "<table border=\"1\" class=\"dataframe\">\n",
       "  <thead>\n",
       "    <tr style=\"text-align: right;\">\n",
       "      <th></th>\n",
       "      <th>Unnamed: 0</th>\n",
       "      <th>Unnamed: 0.1</th>\n",
       "      <th>Unnamed: 0.1.1</th>\n",
       "      <th>age(after)</th>\n",
       "      <th>colorCd</th>\n",
       "      <th>neuterYn</th>\n",
       "      <th>noticeEdt</th>\n",
       "      <th>orgNm</th>\n",
       "      <th>sexCd</th>\n",
       "      <th>weight(after)</th>\n",
       "      <th>...</th>\n",
       "      <th>sexCd_Q</th>\n",
       "      <th>neuterYn_Y</th>\n",
       "      <th>neuterYn_N</th>\n",
       "      <th>neuterYn_U</th>\n",
       "      <th>careNm_ETC</th>\n",
       "      <th>careNm_H</th>\n",
       "      <th>careNm_C</th>\n",
       "      <th>careNm_O</th>\n",
       "      <th>careNm_AD</th>\n",
       "      <th>careNm_CM</th>\n",
       "    </tr>\n",
       "  </thead>\n",
       "  <tbody>\n",
       "    <tr>\n",
       "      <th>0</th>\n",
       "      <td>0</td>\n",
       "      <td>0</td>\n",
       "      <td>0</td>\n",
       "      <td>0.0</td>\n",
       "      <td>흰갈색</td>\n",
       "      <td>N</td>\n",
       "      <td>20160121</td>\n",
       "      <td>충청남도 공주시</td>\n",
       "      <td>F</td>\n",
       "      <td>6.0</td>\n",
       "      <td>...</td>\n",
       "      <td>False</td>\n",
       "      <td>False</td>\n",
       "      <td>True</td>\n",
       "      <td>False</td>\n",
       "      <td>False</td>\n",
       "      <td>True</td>\n",
       "      <td>False</td>\n",
       "      <td>False</td>\n",
       "      <td>False</td>\n",
       "      <td>False</td>\n",
       "    </tr>\n",
       "    <tr>\n",
       "      <th>1</th>\n",
       "      <td>1</td>\n",
       "      <td>1</td>\n",
       "      <td>1</td>\n",
       "      <td>4.0</td>\n",
       "      <td>흰색</td>\n",
       "      <td>N</td>\n",
       "      <td>20160114</td>\n",
       "      <td>전라남도 순천시</td>\n",
       "      <td>M</td>\n",
       "      <td>3.5</td>\n",
       "      <td>...</td>\n",
       "      <td>False</td>\n",
       "      <td>False</td>\n",
       "      <td>True</td>\n",
       "      <td>False</td>\n",
       "      <td>False</td>\n",
       "      <td>False</td>\n",
       "      <td>False</td>\n",
       "      <td>False</td>\n",
       "      <td>False</td>\n",
       "      <td>True</td>\n",
       "    </tr>\n",
       "    <tr>\n",
       "      <th>2</th>\n",
       "      <td>2</td>\n",
       "      <td>2</td>\n",
       "      <td>2</td>\n",
       "      <td>5.0</td>\n",
       "      <td>검/흰</td>\n",
       "      <td>U</td>\n",
       "      <td>20160118</td>\n",
       "      <td>인천광역시 미추홀구</td>\n",
       "      <td>F</td>\n",
       "      <td>5.0</td>\n",
       "      <td>...</td>\n",
       "      <td>False</td>\n",
       "      <td>False</td>\n",
       "      <td>False</td>\n",
       "      <td>True</td>\n",
       "      <td>False</td>\n",
       "      <td>False</td>\n",
       "      <td>False</td>\n",
       "      <td>False</td>\n",
       "      <td>True</td>\n",
       "      <td>False</td>\n",
       "    </tr>\n",
       "  </tbody>\n",
       "</table>\n",
       "<p>3 rows × 34 columns</p>\n",
       "</div>"
      ],
      "text/plain": [
       "   Unnamed: 0  Unnamed: 0.1  Unnamed: 0.1.1  age(after) colorCd neuterYn  \\\n",
       "0           0             0               0         0.0     흰갈색        N   \n",
       "1           1             1               1         4.0      흰색        N   \n",
       "2           2             2               2         5.0     검/흰        U   \n",
       "\n",
       "   noticeEdt       orgNm sexCd  weight(after)    ...      sexCd_Q neuterYn_Y  \\\n",
       "0   20160121    충청남도 공주시     F            6.0    ...        False      False   \n",
       "1   20160114    전라남도 순천시     M            3.5    ...        False      False   \n",
       "2   20160118  인천광역시 미추홀구     F            5.0    ...        False      False   \n",
       "\n",
       "  neuterYn_N  neuterYn_U careNm_ETC careNm_H careNm_C  careNm_O  careNm_AD  \\\n",
       "0       True       False      False     True    False     False      False   \n",
       "1       True       False      False    False    False     False      False   \n",
       "2      False        True      False    False    False     False       True   \n",
       "\n",
       "   careNm_CM  \n",
       "0      False  \n",
       "1       True  \n",
       "2      False  \n",
       "\n",
       "[3 rows x 34 columns]"
      ]
     },
     "execution_count": 5,
     "metadata": {},
     "output_type": "execute_result"
    }
   ],
   "source": [
    "df = df1.drop(columns=['age(before)','careAddr', 'careNm', 'careTel', 'chargeNm',\n",
    "                      'desertionNo', 'filename', 'happenDt', 'happenPlace', 'kindCd','noticeComment',\n",
    "                       'noticeNo', 'noticeSdt','officetel', 'popfile', 'processState',\n",
    "                       'weight(before)', 'specialMark','breed', \n",
    "                      ])\n",
    "df.head(3)\n",
    "#'Unnamed: 0', 'Unnamed: 0.1', 'Unnamed: 0.1.1',"
   ]
  },
  {
   "cell_type": "code",
   "execution_count": 6,
   "metadata": {},
   "outputs": [
    {
     "name": "stdout",
     "output_type": "stream",
     "text": [
      "사용할 컬럼 갯수 :  34\n",
      "컬럼 이름 :  Index(['Unnamed: 0', 'Unnamed: 0.1', 'Unnamed: 0.1.1', 'age(after)', 'colorCd',\n",
      "       'neuterYn', 'noticeEdt', 'orgNm', 'sexCd', 'weight(after)', 'kind',\n",
      "       'breed_Pre', 'happenWd', 'happenMth', 'size', 'age_u',\n",
      "       'processState_Pre', 'processState_C', 'processState_A',\n",
      "       'processState_D', 'processState_R', 'processState_E', 'sexCd_M',\n",
      "       'sexCd_F', 'sexCd_Q', 'neuterYn_Y', 'neuterYn_N', 'neuterYn_U',\n",
      "       'careNm_ETC', 'careNm_H', 'careNm_C', 'careNm_O', 'careNm_AD',\n",
      "       'careNm_CM'],\n",
      "      dtype='object')\n"
     ]
    }
   ],
   "source": [
    "print(\"사용할 컬럼 갯수 : \",len(df.columns))\n",
    "print(\"컬럼 이름 : \", df.columns)"
   ]
  },
  {
   "cell_type": "code",
   "execution_count": 7,
   "metadata": {},
   "outputs": [
    {
     "name": "stdout",
     "output_type": "stream",
     "text": [
      "<class 'pandas.core.frame.DataFrame'>\n",
      "RangeIndex: 79745 entries, 0 to 79744\n",
      "Data columns (total 34 columns):\n",
      "Unnamed: 0          79745 non-null int64\n",
      "Unnamed: 0.1        79745 non-null int64\n",
      "Unnamed: 0.1.1      79745 non-null int64\n",
      "age(after)          79745 non-null float64\n",
      "colorCd             79745 non-null object\n",
      "neuterYn            79745 non-null object\n",
      "noticeEdt           79745 non-null int64\n",
      "orgNm               79745 non-null object\n",
      "sexCd               79745 non-null object\n",
      "weight(after)       79533 non-null float64\n",
      "kind                79745 non-null int64\n",
      "breed_Pre           79737 non-null object\n",
      "happenWd            79745 non-null object\n",
      "happenMth           79745 non-null int64\n",
      "size                79533 non-null object\n",
      "age_u               79745 non-null object\n",
      "processState_Pre    79745 non-null object\n",
      "processState_C      79745 non-null bool\n",
      "processState_A      79745 non-null bool\n",
      "processState_D      79745 non-null bool\n",
      "processState_R      79745 non-null bool\n",
      "processState_E      79745 non-null bool\n",
      "sexCd_M             79745 non-null bool\n",
      "sexCd_F             79745 non-null bool\n",
      "sexCd_Q             79745 non-null bool\n",
      "neuterYn_Y          79745 non-null bool\n",
      "neuterYn_N          79745 non-null bool\n",
      "neuterYn_U          79745 non-null bool\n",
      "careNm_ETC          79745 non-null bool\n",
      "careNm_H            79745 non-null bool\n",
      "careNm_C            79745 non-null bool\n",
      "careNm_O            79745 non-null bool\n",
      "careNm_AD           79745 non-null bool\n",
      "careNm_CM           79745 non-null bool\n",
      "dtypes: bool(17), float64(2), int64(6), object(9)\n",
      "memory usage: 11.6+ MB\n"
     ]
    }
   ],
   "source": [
    "df.info()"
   ]
  },
  {
   "cell_type": "markdown",
   "metadata": {},
   "source": [
    "#### - 결측치 처리"
   ]
  },
  {
   "cell_type": "code",
   "execution_count": 8,
   "metadata": {},
   "outputs": [
    {
     "name": "stdout",
     "output_type": "stream",
     "text": [
      "212\n",
      "212\n"
     ]
    }
   ],
   "source": [
    "#print(df.isnull().sum()) # 결측치 수\n",
    "#df.isnull().any()\n",
    "#null_columns=df.columns[df.isnull().any()]\n",
    "#df[null_columns].isnull().sum()\n",
    "#print(df[df[\"breed_Pre\"].isnull()][null_columns])        \n",
    "print(df['weight(after)'].isnull().sum())       \n",
    "print(df['size'].isnull().sum())                "
   ]
  },
  {
   "cell_type": "code",
   "execution_count": 9,
   "metadata": {},
   "outputs": [
    {
     "data": {
      "text/html": [
       "<div>\n",
       "<style scoped>\n",
       "    .dataframe tbody tr th:only-of-type {\n",
       "        vertical-align: middle;\n",
       "    }\n",
       "\n",
       "    .dataframe tbody tr th {\n",
       "        vertical-align: top;\n",
       "    }\n",
       "\n",
       "    .dataframe thead th {\n",
       "        text-align: right;\n",
       "    }\n",
       "</style>\n",
       "<table border=\"1\" class=\"dataframe\">\n",
       "  <thead>\n",
       "    <tr style=\"text-align: right;\">\n",
       "      <th></th>\n",
       "      <th>Unnamed: 0</th>\n",
       "      <th>Unnamed: 0.1</th>\n",
       "      <th>Unnamed: 0.1.1</th>\n",
       "      <th>age(after)</th>\n",
       "      <th>colorCd</th>\n",
       "      <th>neuterYn</th>\n",
       "      <th>noticeEdt</th>\n",
       "      <th>orgNm</th>\n",
       "      <th>sexCd</th>\n",
       "      <th>weight(after)</th>\n",
       "      <th>...</th>\n",
       "      <th>sexCd_Q</th>\n",
       "      <th>neuterYn_Y</th>\n",
       "      <th>neuterYn_N</th>\n",
       "      <th>neuterYn_U</th>\n",
       "      <th>careNm_ETC</th>\n",
       "      <th>careNm_H</th>\n",
       "      <th>careNm_C</th>\n",
       "      <th>careNm_O</th>\n",
       "      <th>careNm_AD</th>\n",
       "      <th>careNm_CM</th>\n",
       "    </tr>\n",
       "  </thead>\n",
       "  <tbody>\n",
       "  </tbody>\n",
       "</table>\n",
       "<p>0 rows × 34 columns</p>\n",
       "</div>"
      ],
      "text/plain": [
       "Empty DataFrame\n",
       "Columns: [Unnamed: 0, Unnamed: 0.1, Unnamed: 0.1.1, age(after), colorCd, neuterYn, noticeEdt, orgNm, sexCd, weight(after), kind, breed_Pre, happenWd, happenMth, size, age_u, processState_Pre, processState_C, processState_A, processState_D, processState_R, processState_E, sexCd_M, sexCd_F, sexCd_Q, neuterYn_Y, neuterYn_N, neuterYn_U, careNm_ETC, careNm_H, careNm_C, careNm_O, careNm_AD, careNm_CM]\n",
       "Index: []\n",
       "\n",
       "[0 rows x 34 columns]"
      ]
     },
     "execution_count": 9,
     "metadata": {},
     "output_type": "execute_result"
    }
   ],
   "source": [
    "# weight(after) : 나이별로 묶어서 중위값넣기\n",
    "df[\"weight(after)\"].fillna(df.groupby(\"age_u\")[\"weight(after)\"].transform(\"median\"), inplace=True)\n",
    "df.loc[pd.isnull(df[\"weight(after)\"])]"
   ]
  },
  {
   "cell_type": "code",
   "execution_count": 10,
   "metadata": {},
   "outputs": [
    {
     "data": {
      "text/html": [
       "<div>\n",
       "<style scoped>\n",
       "    .dataframe tbody tr th:only-of-type {\n",
       "        vertical-align: middle;\n",
       "    }\n",
       "\n",
       "    .dataframe tbody tr th {\n",
       "        vertical-align: top;\n",
       "    }\n",
       "\n",
       "    .dataframe thead th {\n",
       "        text-align: right;\n",
       "    }\n",
       "</style>\n",
       "<table border=\"1\" class=\"dataframe\">\n",
       "  <thead>\n",
       "    <tr style=\"text-align: right;\">\n",
       "      <th></th>\n",
       "      <th>Unnamed: 0</th>\n",
       "      <th>Unnamed: 0.1</th>\n",
       "      <th>Unnamed: 0.1.1</th>\n",
       "      <th>age(after)</th>\n",
       "      <th>colorCd</th>\n",
       "      <th>neuterYn</th>\n",
       "      <th>noticeEdt</th>\n",
       "      <th>orgNm</th>\n",
       "      <th>sexCd</th>\n",
       "      <th>weight(after)</th>\n",
       "      <th>...</th>\n",
       "      <th>sexCd_Q</th>\n",
       "      <th>neuterYn_Y</th>\n",
       "      <th>neuterYn_N</th>\n",
       "      <th>neuterYn_U</th>\n",
       "      <th>careNm_ETC</th>\n",
       "      <th>careNm_H</th>\n",
       "      <th>careNm_C</th>\n",
       "      <th>careNm_O</th>\n",
       "      <th>careNm_AD</th>\n",
       "      <th>careNm_CM</th>\n",
       "    </tr>\n",
       "  </thead>\n",
       "  <tbody>\n",
       "  </tbody>\n",
       "</table>\n",
       "<p>0 rows × 34 columns</p>\n",
       "</div>"
      ],
      "text/plain": [
       "Empty DataFrame\n",
       "Columns: [Unnamed: 0, Unnamed: 0.1, Unnamed: 0.1.1, age(after), colorCd, neuterYn, noticeEdt, orgNm, sexCd, weight(after), kind, breed_Pre, happenWd, happenMth, size, age_u, processState_Pre, processState_C, processState_A, processState_D, processState_R, processState_E, sexCd_M, sexCd_F, sexCd_Q, neuterYn_Y, neuterYn_N, neuterYn_U, careNm_ETC, careNm_H, careNm_C, careNm_O, careNm_AD, careNm_CM]\n",
       "Index: []\n",
       "\n",
       "[0 rows x 34 columns]"
      ]
     },
     "execution_count": 10,
     "metadata": {},
     "output_type": "execute_result"
    }
   ],
   "source": [
    "# size : 몸무게가 비어서 전처리 되지 않은 행 재전처리\n",
    "df.loc[df['weight(after)'] <= 3, 'size'] = '초소형'\n",
    "df.loc[(df['weight(after)'] > 3 ) & (df['weight(after)'] <=9 ), 'size'] = '소형'\n",
    "df.loc[(df['weight(after)'] > 9 ) & (df['weight(after)'] <=25 ), 'size'] = '중형'\n",
    "df.loc[df['weight(after)'] > 25, 'size'] = '대형'\n",
    "\n",
    "df.loc[pd.isnull(df[\"size\"])]"
   ]
  },
  {
   "cell_type": "code",
   "execution_count": 11,
   "metadata": {},
   "outputs": [
    {
     "data": {
      "text/html": [
       "<div>\n",
       "<style scoped>\n",
       "    .dataframe tbody tr th:only-of-type {\n",
       "        vertical-align: middle;\n",
       "    }\n",
       "\n",
       "    .dataframe tbody tr th {\n",
       "        vertical-align: top;\n",
       "    }\n",
       "\n",
       "    .dataframe thead th {\n",
       "        text-align: right;\n",
       "    }\n",
       "</style>\n",
       "<table border=\"1\" class=\"dataframe\">\n",
       "  <thead>\n",
       "    <tr style=\"text-align: right;\">\n",
       "      <th></th>\n",
       "      <th>Unnamed: 0</th>\n",
       "      <th>Unnamed: 0.1</th>\n",
       "      <th>Unnamed: 0.1.1</th>\n",
       "      <th>age(after)</th>\n",
       "      <th>colorCd</th>\n",
       "      <th>neuterYn</th>\n",
       "      <th>noticeEdt</th>\n",
       "      <th>orgNm</th>\n",
       "      <th>sexCd</th>\n",
       "      <th>weight(after)</th>\n",
       "      <th>...</th>\n",
       "      <th>sexCd_Q</th>\n",
       "      <th>neuterYn_Y</th>\n",
       "      <th>neuterYn_N</th>\n",
       "      <th>neuterYn_U</th>\n",
       "      <th>careNm_ETC</th>\n",
       "      <th>careNm_H</th>\n",
       "      <th>careNm_C</th>\n",
       "      <th>careNm_O</th>\n",
       "      <th>careNm_AD</th>\n",
       "      <th>careNm_CM</th>\n",
       "    </tr>\n",
       "  </thead>\n",
       "  <tbody>\n",
       "  </tbody>\n",
       "</table>\n",
       "<p>0 rows × 34 columns</p>\n",
       "</div>"
      ],
      "text/plain": [
       "Empty DataFrame\n",
       "Columns: [Unnamed: 0, Unnamed: 0.1, Unnamed: 0.1.1, age(after), colorCd, neuterYn, noticeEdt, orgNm, sexCd, weight(after), kind, breed_Pre, happenWd, happenMth, size, age_u, processState_Pre, processState_C, processState_A, processState_D, processState_R, processState_E, sexCd_M, sexCd_F, sexCd_Q, neuterYn_Y, neuterYn_N, neuterYn_U, careNm_ETC, careNm_H, careNm_C, careNm_O, careNm_AD, careNm_CM]\n",
       "Index: []\n",
       "\n",
       "[0 rows x 34 columns]"
      ]
     },
     "execution_count": 11,
     "metadata": {},
     "output_type": "execute_result"
    }
   ],
   "source": [
    "# 동물 종 : 몇개 안되니 기타로 입력\n",
    "df['breed_Pre'].fillna(\"기타\",inplace=True)\n",
    "df.loc[pd.isnull(df[\"breed_Pre\"])]"
   ]
  },
  {
   "cell_type": "code",
   "execution_count": 12,
   "metadata": {
    "scrolled": true
   },
   "outputs": [
    {
     "data": {
      "text/plain": [
       "Unnamed: 0          0\n",
       "Unnamed: 0.1        0\n",
       "Unnamed: 0.1.1      0\n",
       "age(after)          0\n",
       "colorCd             0\n",
       "neuterYn            0\n",
       "noticeEdt           0\n",
       "orgNm               0\n",
       "sexCd               0\n",
       "weight(after)       0\n",
       "kind                0\n",
       "breed_Pre           0\n",
       "happenWd            0\n",
       "happenMth           0\n",
       "size                0\n",
       "age_u               0\n",
       "processState_Pre    0\n",
       "processState_C      0\n",
       "processState_A      0\n",
       "processState_D      0\n",
       "processState_R      0\n",
       "processState_E      0\n",
       "sexCd_M             0\n",
       "sexCd_F             0\n",
       "sexCd_Q             0\n",
       "neuterYn_Y          0\n",
       "neuterYn_N          0\n",
       "neuterYn_U          0\n",
       "careNm_ETC          0\n",
       "careNm_H            0\n",
       "careNm_C            0\n",
       "careNm_O            0\n",
       "careNm_AD           0\n",
       "careNm_CM           0\n",
       "dtype: int64"
      ]
     },
     "execution_count": 12,
     "metadata": {},
     "output_type": "execute_result"
    }
   ],
   "source": [
    "df.isnull().sum()"
   ]
  },
  {
   "cell_type": "markdown",
   "metadata": {},
   "source": [
    "#### - colorCd : 대표적 색상으로 분류"
   ]
  },
  {
   "cell_type": "markdown",
   "metadata": {},
   "source": [
    "#### - neuterYn : 문자 -> 숫자"
   ]
  },
  {
   "cell_type": "code",
   "execution_count": 13,
   "metadata": {},
   "outputs": [
    {
     "data": {
      "text/plain": [
       "1    1\n",
       "2    2\n",
       "Name: neuterYn, dtype: int64"
      ]
     },
     "execution_count": 13,
     "metadata": {},
     "output_type": "execute_result"
    }
   ],
   "source": [
    "neuter_mapping = {\"Y\":0,\"N\":1,\"U\":2}\n",
    "df['neuterYn'] = df['neuterYn'].map(neuter_mapping)\n",
    "df.neuterYn[1:3]"
   ]
  },
  {
   "cell_type": "markdown",
   "metadata": {},
   "source": [
    "#### - sexCd : 문자 -> 숫자"
   ]
  },
  {
   "cell_type": "code",
   "execution_count": 14,
   "metadata": {},
   "outputs": [
    {
     "data": {
      "text/plain": [
       "1    0\n",
       "2    1\n",
       "Name: sexCd, dtype: int64"
      ]
     },
     "execution_count": 14,
     "metadata": {},
     "output_type": "execute_result"
    }
   ],
   "source": [
    "sex_mapping = {\"M\":0,\"F\":1,\"Q\":2}\n",
    "df['sexCd'] = df['sexCd'].map(sex_mapping)\n",
    "df.sexCd[1:3]"
   ]
  },
  {
   "cell_type": "markdown",
   "metadata": {},
   "source": [
    "#### - orgNm(담당지역주소) : 두분류로 나눈뒤, 숫자 mapping"
   ]
  },
  {
   "cell_type": "code",
   "execution_count": 15,
   "metadata": {},
   "outputs": [
    {
     "data": {
      "text/plain": [
       "경기도        19300\n",
       "서울특별시       8859\n",
       "부산광역시       6937\n",
       "경상남도        5581\n",
       "인천광역시       5195\n",
       "충청남도        4558\n",
       "강원도         3559\n",
       "대구광역시       3414\n",
       "전라북도        3299\n",
       "경상북도        3259\n",
       "대전광역시       3158\n",
       "울산광역시       2986\n",
       "충청북도        2955\n",
       "전라남도        2943\n",
       "제주특별자치도     1775\n",
       "광주광역시       1683\n",
       "세종특별자치시      284\n",
       "Name: sido, dtype: int64"
      ]
     },
     "execution_count": 15,
     "metadata": {},
     "output_type": "execute_result"
    }
   ],
   "source": [
    "df['sido'] = df['orgNm'].str.split(\" \").str[0]\n",
    "df['sido'].value_counts()"
   ]
  },
  {
   "cell_type": "code",
   "execution_count": 16,
   "metadata": {},
   "outputs": [
    {
     "data": {
      "text/plain": [
       "0     5\n",
       "1    13\n",
       "2     4\n",
       "Name: sido, dtype: int64"
      ]
     },
     "execution_count": 16,
     "metadata": {},
     "output_type": "execute_result"
    }
   ],
   "source": [
    "sido_mapping = {\"경기도\":0,\"서울특별시\":1,\"부산광역시\":2,\"경상남도\":3,\n",
    "                \"인천광역시\":4,\"충청남도\":5,\"강원도\":6,\"대구광역시\":7,\n",
    "                \"전라북도\":8,\"경상북도\":9,\"대전광역시\":10,\"울산광역시\":11,\n",
    "                \"충청북도\":12,\"전라남도\":13,\"제주특별자치도\":14,\"광주광역시\":15,\n",
    "                \"세종특별자치시\":16\n",
    "}\n",
    "df['sido'] = df['sido'].map(sido_mapping)\n",
    "df['sido'].head(3)"
   ]
  },
  {
   "cell_type": "markdown",
   "metadata": {},
   "source": [
    "#### - breed_Pre(유기동물종류) : "
   ]
  },
  {
   "cell_type": "markdown",
   "metadata": {},
   "source": [
    "#### - happenWd(발견요일) : 문자 -> 숫자 mapping "
   ]
  },
  {
   "cell_type": "code",
   "execution_count": 17,
   "metadata": {},
   "outputs": [
    {
     "data": {
      "text/html": [
       "<div>\n",
       "<style scoped>\n",
       "    .dataframe tbody tr th:only-of-type {\n",
       "        vertical-align: middle;\n",
       "    }\n",
       "\n",
       "    .dataframe tbody tr th {\n",
       "        vertical-align: top;\n",
       "    }\n",
       "\n",
       "    .dataframe thead th {\n",
       "        text-align: right;\n",
       "    }\n",
       "</style>\n",
       "<table border=\"1\" class=\"dataframe\">\n",
       "  <thead>\n",
       "    <tr style=\"text-align: right;\">\n",
       "      <th></th>\n",
       "      <th>Unnamed: 0</th>\n",
       "      <th>Unnamed: 0.1</th>\n",
       "      <th>Unnamed: 0.1.1</th>\n",
       "      <th>age(after)</th>\n",
       "      <th>colorCd</th>\n",
       "      <th>neuterYn</th>\n",
       "      <th>noticeEdt</th>\n",
       "      <th>orgNm</th>\n",
       "      <th>sexCd</th>\n",
       "      <th>weight(after)</th>\n",
       "      <th>...</th>\n",
       "      <th>neuterYn_Y</th>\n",
       "      <th>neuterYn_N</th>\n",
       "      <th>neuterYn_U</th>\n",
       "      <th>careNm_ETC</th>\n",
       "      <th>careNm_H</th>\n",
       "      <th>careNm_C</th>\n",
       "      <th>careNm_O</th>\n",
       "      <th>careNm_AD</th>\n",
       "      <th>careNm_CM</th>\n",
       "      <th>sido</th>\n",
       "    </tr>\n",
       "  </thead>\n",
       "  <tbody>\n",
       "    <tr>\n",
       "      <th>79742</th>\n",
       "      <td>79742</td>\n",
       "      <td>79742</td>\n",
       "      <td>80453</td>\n",
       "      <td>3.0</td>\n",
       "      <td>갈색</td>\n",
       "      <td>1</td>\n",
       "      <td>20150112</td>\n",
       "      <td>경기도 평택시</td>\n",
       "      <td>0</td>\n",
       "      <td>5.7</td>\n",
       "      <td>...</td>\n",
       "      <td>False</td>\n",
       "      <td>True</td>\n",
       "      <td>False</td>\n",
       "      <td>False</td>\n",
       "      <td>False</td>\n",
       "      <td>True</td>\n",
       "      <td>False</td>\n",
       "      <td>False</td>\n",
       "      <td>False</td>\n",
       "      <td>0</td>\n",
       "    </tr>\n",
       "    <tr>\n",
       "      <th>79743</th>\n",
       "      <td>79743</td>\n",
       "      <td>79743</td>\n",
       "      <td>80454</td>\n",
       "      <td>12.0</td>\n",
       "      <td>갈색 백색</td>\n",
       "      <td>2</td>\n",
       "      <td>20150112</td>\n",
       "      <td>경기도 성남시</td>\n",
       "      <td>1</td>\n",
       "      <td>5.5</td>\n",
       "      <td>...</td>\n",
       "      <td>False</td>\n",
       "      <td>False</td>\n",
       "      <td>True</td>\n",
       "      <td>False</td>\n",
       "      <td>True</td>\n",
       "      <td>False</td>\n",
       "      <td>False</td>\n",
       "      <td>False</td>\n",
       "      <td>False</td>\n",
       "      <td>0</td>\n",
       "    </tr>\n",
       "    <tr>\n",
       "      <th>79744</th>\n",
       "      <td>79744</td>\n",
       "      <td>79744</td>\n",
       "      <td>80455</td>\n",
       "      <td>0.0</td>\n",
       "      <td>흑백</td>\n",
       "      <td>1</td>\n",
       "      <td>20150108</td>\n",
       "      <td>경기도 수원시</td>\n",
       "      <td>0</td>\n",
       "      <td>0.2</td>\n",
       "      <td>...</td>\n",
       "      <td>False</td>\n",
       "      <td>True</td>\n",
       "      <td>False</td>\n",
       "      <td>False</td>\n",
       "      <td>True</td>\n",
       "      <td>False</td>\n",
       "      <td>False</td>\n",
       "      <td>False</td>\n",
       "      <td>False</td>\n",
       "      <td>0</td>\n",
       "    </tr>\n",
       "  </tbody>\n",
       "</table>\n",
       "<p>3 rows × 35 columns</p>\n",
       "</div>"
      ],
      "text/plain": [
       "       Unnamed: 0  Unnamed: 0.1  Unnamed: 0.1.1  age(after) colorCd  neuterYn  \\\n",
       "79742       79742         79742           80453         3.0      갈색         1   \n",
       "79743       79743         79743           80454        12.0   갈색 백색         2   \n",
       "79744       79744         79744           80455         0.0      흑백         1   \n",
       "\n",
       "       noticeEdt    orgNm  sexCd  weight(after)  ...   neuterYn_Y neuterYn_N  \\\n",
       "79742   20150112  경기도 평택시      0            5.7  ...        False       True   \n",
       "79743   20150112  경기도 성남시      1            5.5  ...        False      False   \n",
       "79744   20150108  경기도 수원시      0            0.2  ...        False       True   \n",
       "\n",
       "       neuterYn_U  careNm_ETC careNm_H careNm_C careNm_O  careNm_AD  \\\n",
       "79742       False       False    False     True    False      False   \n",
       "79743        True       False     True    False    False      False   \n",
       "79744       False       False     True    False    False      False   \n",
       "\n",
       "       careNm_CM  sido  \n",
       "79742      False     0  \n",
       "79743      False     0  \n",
       "79744      False     0  \n",
       "\n",
       "[3 rows x 35 columns]"
      ]
     },
     "execution_count": 17,
     "metadata": {},
     "output_type": "execute_result"
    }
   ],
   "source": [
    "week_mapping = {\"Monday\":0, \"Tuesday\":2, \"Wednesday\":3, \n",
    "                \"Thursday\":4, \"Friday\":5, \"Saturday\":6, \"Sunday\":7}\n",
    "df['happenWd'] = df['happenWd'].map(week_mapping)\n",
    "df.tail(3)"
   ]
  },
  {
   "cell_type": "markdown",
   "metadata": {},
   "source": [
    "#### - size : 문자 -> 숫자 mapping"
   ]
  },
  {
   "cell_type": "code",
   "execution_count": 18,
   "metadata": {
    "scrolled": true
   },
   "outputs": [
    {
     "data": {
      "text/html": [
       "<div>\n",
       "<style scoped>\n",
       "    .dataframe tbody tr th:only-of-type {\n",
       "        vertical-align: middle;\n",
       "    }\n",
       "\n",
       "    .dataframe tbody tr th {\n",
       "        vertical-align: top;\n",
       "    }\n",
       "\n",
       "    .dataframe thead th {\n",
       "        text-align: right;\n",
       "    }\n",
       "</style>\n",
       "<table border=\"1\" class=\"dataframe\">\n",
       "  <thead>\n",
       "    <tr style=\"text-align: right;\">\n",
       "      <th></th>\n",
       "      <th>Unnamed: 0</th>\n",
       "      <th>Unnamed: 0.1</th>\n",
       "      <th>Unnamed: 0.1.1</th>\n",
       "      <th>age(after)</th>\n",
       "      <th>colorCd</th>\n",
       "      <th>neuterYn</th>\n",
       "      <th>noticeEdt</th>\n",
       "      <th>orgNm</th>\n",
       "      <th>sexCd</th>\n",
       "      <th>weight(after)</th>\n",
       "      <th>...</th>\n",
       "      <th>neuterYn_Y</th>\n",
       "      <th>neuterYn_N</th>\n",
       "      <th>neuterYn_U</th>\n",
       "      <th>careNm_ETC</th>\n",
       "      <th>careNm_H</th>\n",
       "      <th>careNm_C</th>\n",
       "      <th>careNm_O</th>\n",
       "      <th>careNm_AD</th>\n",
       "      <th>careNm_CM</th>\n",
       "      <th>sido</th>\n",
       "    </tr>\n",
       "  </thead>\n",
       "  <tbody>\n",
       "    <tr>\n",
       "      <th>0</th>\n",
       "      <td>0</td>\n",
       "      <td>0</td>\n",
       "      <td>0</td>\n",
       "      <td>0.0</td>\n",
       "      <td>흰갈색</td>\n",
       "      <td>1</td>\n",
       "      <td>20160121</td>\n",
       "      <td>충청남도 공주시</td>\n",
       "      <td>1</td>\n",
       "      <td>6.0</td>\n",
       "      <td>...</td>\n",
       "      <td>False</td>\n",
       "      <td>True</td>\n",
       "      <td>False</td>\n",
       "      <td>False</td>\n",
       "      <td>True</td>\n",
       "      <td>False</td>\n",
       "      <td>False</td>\n",
       "      <td>False</td>\n",
       "      <td>False</td>\n",
       "      <td>5</td>\n",
       "    </tr>\n",
       "    <tr>\n",
       "      <th>1</th>\n",
       "      <td>1</td>\n",
       "      <td>1</td>\n",
       "      <td>1</td>\n",
       "      <td>4.0</td>\n",
       "      <td>흰색</td>\n",
       "      <td>1</td>\n",
       "      <td>20160114</td>\n",
       "      <td>전라남도 순천시</td>\n",
       "      <td>0</td>\n",
       "      <td>3.5</td>\n",
       "      <td>...</td>\n",
       "      <td>False</td>\n",
       "      <td>True</td>\n",
       "      <td>False</td>\n",
       "      <td>False</td>\n",
       "      <td>False</td>\n",
       "      <td>False</td>\n",
       "      <td>False</td>\n",
       "      <td>False</td>\n",
       "      <td>True</td>\n",
       "      <td>13</td>\n",
       "    </tr>\n",
       "    <tr>\n",
       "      <th>2</th>\n",
       "      <td>2</td>\n",
       "      <td>2</td>\n",
       "      <td>2</td>\n",
       "      <td>5.0</td>\n",
       "      <td>검/흰</td>\n",
       "      <td>2</td>\n",
       "      <td>20160118</td>\n",
       "      <td>인천광역시 미추홀구</td>\n",
       "      <td>1</td>\n",
       "      <td>5.0</td>\n",
       "      <td>...</td>\n",
       "      <td>False</td>\n",
       "      <td>False</td>\n",
       "      <td>True</td>\n",
       "      <td>False</td>\n",
       "      <td>False</td>\n",
       "      <td>False</td>\n",
       "      <td>False</td>\n",
       "      <td>True</td>\n",
       "      <td>False</td>\n",
       "      <td>4</td>\n",
       "    </tr>\n",
       "  </tbody>\n",
       "</table>\n",
       "<p>3 rows × 35 columns</p>\n",
       "</div>"
      ],
      "text/plain": [
       "   Unnamed: 0  Unnamed: 0.1  Unnamed: 0.1.1  age(after) colorCd  neuterYn  \\\n",
       "0           0             0               0         0.0     흰갈색         1   \n",
       "1           1             1               1         4.0      흰색         1   \n",
       "2           2             2               2         5.0     검/흰         2   \n",
       "\n",
       "   noticeEdt       orgNm  sexCd  weight(after)  ...   neuterYn_Y neuterYn_N  \\\n",
       "0   20160121    충청남도 공주시      1            6.0  ...        False       True   \n",
       "1   20160114    전라남도 순천시      0            3.5  ...        False       True   \n",
       "2   20160118  인천광역시 미추홀구      1            5.0  ...        False      False   \n",
       "\n",
       "   neuterYn_U  careNm_ETC  careNm_H careNm_C careNm_O  careNm_AD  careNm_CM  \\\n",
       "0       False       False      True    False    False      False      False   \n",
       "1       False       False     False    False    False      False       True   \n",
       "2        True       False     False    False    False       True      False   \n",
       "\n",
       "   sido  \n",
       "0     5  \n",
       "1    13  \n",
       "2     4  \n",
       "\n",
       "[3 rows x 35 columns]"
      ]
     },
     "execution_count": 18,
     "metadata": {},
     "output_type": "execute_result"
    }
   ],
   "source": [
    "df['size'].fillna('중형',inplace=True)\n",
    "size_mapping = {\"대형\":0,\"소형\":1,\"중형\":2,\"초소형\":3}\n",
    "df['size'] = df['size'].map(size_mapping)\n",
    "\n",
    "df.head(3)"
   ]
  },
  {
   "cell_type": "markdown",
   "metadata": {},
   "source": [
    "#### - age : 문자 -> 숫자 mapping "
   ]
  },
  {
   "cell_type": "code",
   "execution_count": 19,
   "metadata": {
    "scrolled": true
   },
   "outputs": [
    {
     "data": {
      "text/html": [
       "<div>\n",
       "<style scoped>\n",
       "    .dataframe tbody tr th:only-of-type {\n",
       "        vertical-align: middle;\n",
       "    }\n",
       "\n",
       "    .dataframe tbody tr th {\n",
       "        vertical-align: top;\n",
       "    }\n",
       "\n",
       "    .dataframe thead th {\n",
       "        text-align: right;\n",
       "    }\n",
       "</style>\n",
       "<table border=\"1\" class=\"dataframe\">\n",
       "  <thead>\n",
       "    <tr style=\"text-align: right;\">\n",
       "      <th></th>\n",
       "      <th>Unnamed: 0</th>\n",
       "      <th>Unnamed: 0.1</th>\n",
       "      <th>Unnamed: 0.1.1</th>\n",
       "      <th>age(after)</th>\n",
       "      <th>colorCd</th>\n",
       "      <th>neuterYn</th>\n",
       "      <th>noticeEdt</th>\n",
       "      <th>orgNm</th>\n",
       "      <th>sexCd</th>\n",
       "      <th>weight(after)</th>\n",
       "      <th>...</th>\n",
       "      <th>neuterYn_Y</th>\n",
       "      <th>neuterYn_N</th>\n",
       "      <th>neuterYn_U</th>\n",
       "      <th>careNm_ETC</th>\n",
       "      <th>careNm_H</th>\n",
       "      <th>careNm_C</th>\n",
       "      <th>careNm_O</th>\n",
       "      <th>careNm_AD</th>\n",
       "      <th>careNm_CM</th>\n",
       "      <th>sido</th>\n",
       "    </tr>\n",
       "  </thead>\n",
       "  <tbody>\n",
       "    <tr>\n",
       "      <th>0</th>\n",
       "      <td>0</td>\n",
       "      <td>0</td>\n",
       "      <td>0</td>\n",
       "      <td>0.0</td>\n",
       "      <td>흰갈색</td>\n",
       "      <td>1</td>\n",
       "      <td>20160121</td>\n",
       "      <td>충청남도 공주시</td>\n",
       "      <td>1</td>\n",
       "      <td>6.0</td>\n",
       "      <td>...</td>\n",
       "      <td>False</td>\n",
       "      <td>True</td>\n",
       "      <td>False</td>\n",
       "      <td>False</td>\n",
       "      <td>True</td>\n",
       "      <td>False</td>\n",
       "      <td>False</td>\n",
       "      <td>False</td>\n",
       "      <td>False</td>\n",
       "      <td>5</td>\n",
       "    </tr>\n",
       "    <tr>\n",
       "      <th>1</th>\n",
       "      <td>1</td>\n",
       "      <td>1</td>\n",
       "      <td>1</td>\n",
       "      <td>4.0</td>\n",
       "      <td>흰색</td>\n",
       "      <td>1</td>\n",
       "      <td>20160114</td>\n",
       "      <td>전라남도 순천시</td>\n",
       "      <td>0</td>\n",
       "      <td>3.5</td>\n",
       "      <td>...</td>\n",
       "      <td>False</td>\n",
       "      <td>True</td>\n",
       "      <td>False</td>\n",
       "      <td>False</td>\n",
       "      <td>False</td>\n",
       "      <td>False</td>\n",
       "      <td>False</td>\n",
       "      <td>False</td>\n",
       "      <td>True</td>\n",
       "      <td>13</td>\n",
       "    </tr>\n",
       "  </tbody>\n",
       "</table>\n",
       "<p>2 rows × 35 columns</p>\n",
       "</div>"
      ],
      "text/plain": [
       "   Unnamed: 0  Unnamed: 0.1  Unnamed: 0.1.1  age(after) colorCd  neuterYn  \\\n",
       "0           0             0               0         0.0     흰갈색         1   \n",
       "1           1             1               1         4.0      흰색         1   \n",
       "\n",
       "   noticeEdt     orgNm  sexCd  weight(after)  ...   neuterYn_Y neuterYn_N  \\\n",
       "0   20160121  충청남도 공주시      1            6.0  ...        False       True   \n",
       "1   20160114  전라남도 순천시      0            3.5  ...        False       True   \n",
       "\n",
       "   neuterYn_U  careNm_ETC  careNm_H  careNm_C careNm_O  careNm_AD  careNm_CM  \\\n",
       "0       False       False      True     False    False      False      False   \n",
       "1       False       False     False     False    False      False       True   \n",
       "\n",
       "   sido  \n",
       "0     5  \n",
       "1    13  \n",
       "\n",
       "[2 rows x 35 columns]"
      ]
     },
     "execution_count": 19,
     "metadata": {},
     "output_type": "execute_result"
    }
   ],
   "source": [
    "age_mapping = {\"노견기\":0,\"성견기\":1,\"유견기\":2}\n",
    "df['age_u'] = df['age_u'].map(age_mapping)\n",
    "\n",
    "df.head(2)"
   ]
  },
  {
   "cell_type": "markdown",
   "metadata": {},
   "source": [
    "#### - processState_Pre : 문자 -> 숫자 mapping "
   ]
  },
  {
   "cell_type": "code",
   "execution_count": 20,
   "metadata": {},
   "outputs": [
    {
     "data": {
      "text/html": [
       "<div>\n",
       "<style scoped>\n",
       "    .dataframe tbody tr th:only-of-type {\n",
       "        vertical-align: middle;\n",
       "    }\n",
       "\n",
       "    .dataframe tbody tr th {\n",
       "        vertical-align: top;\n",
       "    }\n",
       "\n",
       "    .dataframe thead th {\n",
       "        text-align: right;\n",
       "    }\n",
       "</style>\n",
       "<table border=\"1\" class=\"dataframe\">\n",
       "  <thead>\n",
       "    <tr style=\"text-align: right;\">\n",
       "      <th></th>\n",
       "      <th>Unnamed: 0</th>\n",
       "      <th>Unnamed: 0.1</th>\n",
       "      <th>Unnamed: 0.1.1</th>\n",
       "      <th>age(after)</th>\n",
       "      <th>colorCd</th>\n",
       "      <th>neuterYn</th>\n",
       "      <th>noticeEdt</th>\n",
       "      <th>orgNm</th>\n",
       "      <th>sexCd</th>\n",
       "      <th>weight(after)</th>\n",
       "      <th>...</th>\n",
       "      <th>neuterYn_Y</th>\n",
       "      <th>neuterYn_N</th>\n",
       "      <th>neuterYn_U</th>\n",
       "      <th>careNm_ETC</th>\n",
       "      <th>careNm_H</th>\n",
       "      <th>careNm_C</th>\n",
       "      <th>careNm_O</th>\n",
       "      <th>careNm_AD</th>\n",
       "      <th>careNm_CM</th>\n",
       "      <th>sido</th>\n",
       "    </tr>\n",
       "  </thead>\n",
       "  <tbody>\n",
       "    <tr>\n",
       "      <th>0</th>\n",
       "      <td>0</td>\n",
       "      <td>0</td>\n",
       "      <td>0</td>\n",
       "      <td>0.0</td>\n",
       "      <td>흰갈색</td>\n",
       "      <td>1</td>\n",
       "      <td>20160121</td>\n",
       "      <td>충청남도 공주시</td>\n",
       "      <td>1</td>\n",
       "      <td>6.0</td>\n",
       "      <td>...</td>\n",
       "      <td>False</td>\n",
       "      <td>True</td>\n",
       "      <td>False</td>\n",
       "      <td>False</td>\n",
       "      <td>True</td>\n",
       "      <td>False</td>\n",
       "      <td>False</td>\n",
       "      <td>False</td>\n",
       "      <td>False</td>\n",
       "      <td>5</td>\n",
       "    </tr>\n",
       "    <tr>\n",
       "      <th>1</th>\n",
       "      <td>1</td>\n",
       "      <td>1</td>\n",
       "      <td>1</td>\n",
       "      <td>4.0</td>\n",
       "      <td>흰색</td>\n",
       "      <td>1</td>\n",
       "      <td>20160114</td>\n",
       "      <td>전라남도 순천시</td>\n",
       "      <td>0</td>\n",
       "      <td>3.5</td>\n",
       "      <td>...</td>\n",
       "      <td>False</td>\n",
       "      <td>True</td>\n",
       "      <td>False</td>\n",
       "      <td>False</td>\n",
       "      <td>False</td>\n",
       "      <td>False</td>\n",
       "      <td>False</td>\n",
       "      <td>False</td>\n",
       "      <td>True</td>\n",
       "      <td>13</td>\n",
       "    </tr>\n",
       "  </tbody>\n",
       "</table>\n",
       "<p>2 rows × 35 columns</p>\n",
       "</div>"
      ],
      "text/plain": [
       "   Unnamed: 0  Unnamed: 0.1  Unnamed: 0.1.1  age(after) colorCd  neuterYn  \\\n",
       "0           0             0               0         0.0     흰갈색         1   \n",
       "1           1             1               1         4.0      흰색         1   \n",
       "\n",
       "   noticeEdt     orgNm  sexCd  weight(after)  ...   neuterYn_Y neuterYn_N  \\\n",
       "0   20160121  충청남도 공주시      1            6.0  ...        False       True   \n",
       "1   20160114  전라남도 순천시      0            3.5  ...        False       True   \n",
       "\n",
       "   neuterYn_U  careNm_ETC  careNm_H  careNm_C  careNm_O  careNm_AD  careNm_CM  \\\n",
       "0       False       False      True     False     False      False      False   \n",
       "1       False       False     False     False     False      False       True   \n",
       "\n",
       "   sido  \n",
       "0     5  \n",
       "1    13  \n",
       "\n",
       "[2 rows x 35 columns]"
      ]
     },
     "execution_count": 20,
     "metadata": {},
     "output_type": "execute_result"
    }
   ],
   "source": [
    "proc_mapping = {\"C\":0, \"A\":1, \"D\":2, \"R\":3, \"E\":4}\n",
    "df['processState_Pre'] = df['processState_Pre'].map(proc_mapping)\n",
    "\n",
    "df.head(2)"
   ]
  },
  {
   "cell_type": "code",
   "execution_count": 21,
   "metadata": {},
   "outputs": [
    {
     "data": {
      "text/html": [
       "<div>\n",
       "<style scoped>\n",
       "    .dataframe tbody tr th:only-of-type {\n",
       "        vertical-align: middle;\n",
       "    }\n",
       "\n",
       "    .dataframe tbody tr th {\n",
       "        vertical-align: top;\n",
       "    }\n",
       "\n",
       "    .dataframe thead th {\n",
       "        text-align: right;\n",
       "    }\n",
       "</style>\n",
       "<table border=\"1\" class=\"dataframe\">\n",
       "  <thead>\n",
       "    <tr style=\"text-align: right;\">\n",
       "      <th></th>\n",
       "      <th>Unnamed: 0</th>\n",
       "      <th>Unnamed: 0.1</th>\n",
       "      <th>Unnamed: 0.1.1</th>\n",
       "      <th>age(after)</th>\n",
       "      <th>colorCd</th>\n",
       "      <th>neuterYn</th>\n",
       "      <th>noticeEdt</th>\n",
       "      <th>orgNm</th>\n",
       "      <th>sexCd</th>\n",
       "      <th>weight(after)</th>\n",
       "      <th>...</th>\n",
       "      <th>neuterYn_Y</th>\n",
       "      <th>neuterYn_N</th>\n",
       "      <th>neuterYn_U</th>\n",
       "      <th>careNm_ETC</th>\n",
       "      <th>careNm_H</th>\n",
       "      <th>careNm_C</th>\n",
       "      <th>careNm_O</th>\n",
       "      <th>careNm_AD</th>\n",
       "      <th>careNm_CM</th>\n",
       "      <th>sido</th>\n",
       "    </tr>\n",
       "  </thead>\n",
       "  <tbody>\n",
       "    <tr>\n",
       "      <th>0</th>\n",
       "      <td>0</td>\n",
       "      <td>0</td>\n",
       "      <td>0</td>\n",
       "      <td>0.0</td>\n",
       "      <td>흰갈색</td>\n",
       "      <td>1</td>\n",
       "      <td>20160121</td>\n",
       "      <td>충청남도 공주시</td>\n",
       "      <td>1</td>\n",
       "      <td>6.0</td>\n",
       "      <td>...</td>\n",
       "      <td>False</td>\n",
       "      <td>True</td>\n",
       "      <td>False</td>\n",
       "      <td>False</td>\n",
       "      <td>True</td>\n",
       "      <td>False</td>\n",
       "      <td>False</td>\n",
       "      <td>False</td>\n",
       "      <td>False</td>\n",
       "      <td>5</td>\n",
       "    </tr>\n",
       "  </tbody>\n",
       "</table>\n",
       "<p>1 rows × 35 columns</p>\n",
       "</div>"
      ],
      "text/plain": [
       "   Unnamed: 0  Unnamed: 0.1  Unnamed: 0.1.1  age(after) colorCd  neuterYn  \\\n",
       "0           0             0               0         0.0     흰갈색         1   \n",
       "\n",
       "   noticeEdt     orgNm  sexCd  weight(after)  ...   neuterYn_Y neuterYn_N  \\\n",
       "0   20160121  충청남도 공주시      1            6.0  ...        False       True   \n",
       "\n",
       "   neuterYn_U  careNm_ETC  careNm_H  careNm_C  careNm_O  careNm_AD  careNm_CM  \\\n",
       "0       False       False      True     False     False      False      False   \n",
       "\n",
       "   sido  \n",
       "0     5  \n",
       "\n",
       "[1 rows x 35 columns]"
      ]
     },
     "execution_count": 21,
     "metadata": {},
     "output_type": "execute_result"
    }
   ],
   "source": [
    "df.head(1)"
   ]
  },
  {
   "cell_type": "markdown",
   "metadata": {},
   "source": [
    "#### - DataFrame 분류 : 개, 고양이, 기타"
   ]
  },
  {
   "cell_type": "code",
   "execution_count": 22,
   "metadata": {},
   "outputs": [
    {
     "name": "stdout",
     "output_type": "stream",
     "text": [
      "0    58220\n",
      "Name: kind, dtype: int64\n",
      "1    20602\n",
      "Name: kind, dtype: int64\n",
      "2    923\n",
      "Name: kind, dtype: int64\n"
     ]
    }
   ],
   "source": [
    "#개:0, 고양이:1, 기타:2\n",
    "dfd = df[df.kind==0]\n",
    "dfc = df[df.kind==1]\n",
    "dfe = df[df.kind==2]\n",
    "\n",
    "print(dfd['kind'].value_counts())\n",
    "print(dfc['kind'].value_counts())\n",
    "print(dfe['kind'].value_counts())"
   ]
  },
  {
   "cell_type": "markdown",
   "metadata": {},
   "source": [
    "### 3. Data Statistical Analysis"
   ]
  },
  {
   "cell_type": "code",
   "execution_count": 23,
   "metadata": {},
   "outputs": [
    {
     "data": {
      "text/html": [
       "<div>\n",
       "<style scoped>\n",
       "    .dataframe tbody tr th:only-of-type {\n",
       "        vertical-align: middle;\n",
       "    }\n",
       "\n",
       "    .dataframe tbody tr th {\n",
       "        vertical-align: top;\n",
       "    }\n",
       "\n",
       "    .dataframe thead th {\n",
       "        text-align: right;\n",
       "    }\n",
       "</style>\n",
       "<table border=\"1\" class=\"dataframe\">\n",
       "  <thead>\n",
       "    <tr style=\"text-align: right;\">\n",
       "      <th></th>\n",
       "      <th>Unnamed: 0</th>\n",
       "      <th>Unnamed: 0.1</th>\n",
       "      <th>Unnamed: 0.1.1</th>\n",
       "      <th>age(after)</th>\n",
       "      <th>neuterYn</th>\n",
       "      <th>noticeEdt</th>\n",
       "      <th>sexCd</th>\n",
       "      <th>weight(after)</th>\n",
       "      <th>kind</th>\n",
       "      <th>happenWd</th>\n",
       "      <th>happenMth</th>\n",
       "      <th>size</th>\n",
       "      <th>age_u</th>\n",
       "      <th>processState_Pre</th>\n",
       "      <th>sido</th>\n",
       "    </tr>\n",
       "  </thead>\n",
       "  <tbody>\n",
       "    <tr>\n",
       "      <th>count</th>\n",
       "      <td>20602.000000</td>\n",
       "      <td>20602.000000</td>\n",
       "      <td>20602.000000</td>\n",
       "      <td>20602.000000</td>\n",
       "      <td>20602.000000</td>\n",
       "      <td>2.060200e+04</td>\n",
       "      <td>20602.000000</td>\n",
       "      <td>20602.000000</td>\n",
       "      <td>20602.0</td>\n",
       "      <td>20602.000000</td>\n",
       "      <td>20602.000000</td>\n",
       "      <td>20602.000000</td>\n",
       "      <td>20602.000000</td>\n",
       "      <td>20602.000000</td>\n",
       "      <td>20602.000000</td>\n",
       "    </tr>\n",
       "    <tr>\n",
       "      <th>mean</th>\n",
       "      <td>38281.862974</td>\n",
       "      <td>38281.862974</td>\n",
       "      <td>38587.183574</td>\n",
       "      <td>0.719199</td>\n",
       "      <td>1.267935</td>\n",
       "      <td>2.015090e+07</td>\n",
       "      <td>0.680856</td>\n",
       "      <td>1.514812</td>\n",
       "      <td>1.0</td>\n",
       "      <td>3.148966</td>\n",
       "      <td>6.939520</td>\n",
       "      <td>2.684448</td>\n",
       "      <td>1.790020</td>\n",
       "      <td>1.754684</td>\n",
       "      <td>4.378895</td>\n",
       "    </tr>\n",
       "    <tr>\n",
       "      <th>std</th>\n",
       "      <td>20728.865453</td>\n",
       "      <td>20728.865453</td>\n",
       "      <td>20905.672101</td>\n",
       "      <td>1.626220</td>\n",
       "      <td>0.492702</td>\n",
       "      <td>1.444974e+03</td>\n",
       "      <td>0.679883</td>\n",
       "      <td>1.472753</td>\n",
       "      <td>0.0</td>\n",
       "      <td>2.100548</td>\n",
       "      <td>2.827094</td>\n",
       "      <td>0.729046</td>\n",
       "      <td>0.411925</td>\n",
       "      <td>0.697279</td>\n",
       "      <td>4.306474</td>\n",
       "    </tr>\n",
       "    <tr>\n",
       "      <th>min</th>\n",
       "      <td>9.000000</td>\n",
       "      <td>9.000000</td>\n",
       "      <td>9.000000</td>\n",
       "      <td>0.000000</td>\n",
       "      <td>0.000000</td>\n",
       "      <td>2.005071e+07</td>\n",
       "      <td>0.000000</td>\n",
       "      <td>0.010000</td>\n",
       "      <td>1.0</td>\n",
       "      <td>0.000000</td>\n",
       "      <td>1.000000</td>\n",
       "      <td>0.000000</td>\n",
       "      <td>0.000000</td>\n",
       "      <td>0.000000</td>\n",
       "      <td>0.000000</td>\n",
       "    </tr>\n",
       "    <tr>\n",
       "      <th>25%</th>\n",
       "      <td>20563.000000</td>\n",
       "      <td>20563.000000</td>\n",
       "      <td>20725.000000</td>\n",
       "      <td>0.000000</td>\n",
       "      <td>1.000000</td>\n",
       "      <td>2.015053e+07</td>\n",
       "      <td>0.000000</td>\n",
       "      <td>0.400000</td>\n",
       "      <td>1.0</td>\n",
       "      <td>2.000000</td>\n",
       "      <td>5.000000</td>\n",
       "      <td>3.000000</td>\n",
       "      <td>2.000000</td>\n",
       "      <td>1.000000</td>\n",
       "      <td>1.000000</td>\n",
       "    </tr>\n",
       "    <tr>\n",
       "      <th>50%</th>\n",
       "      <td>39576.500000</td>\n",
       "      <td>39576.500000</td>\n",
       "      <td>39872.500000</td>\n",
       "      <td>0.000000</td>\n",
       "      <td>1.000000</td>\n",
       "      <td>2.015072e+07</td>\n",
       "      <td>1.000000</td>\n",
       "      <td>0.960000</td>\n",
       "      <td>1.0</td>\n",
       "      <td>3.000000</td>\n",
       "      <td>7.000000</td>\n",
       "      <td>3.000000</td>\n",
       "      <td>2.000000</td>\n",
       "      <td>2.000000</td>\n",
       "      <td>2.000000</td>\n",
       "    </tr>\n",
       "    <tr>\n",
       "      <th>75%</th>\n",
       "      <td>53989.500000</td>\n",
       "      <td>53989.500000</td>\n",
       "      <td>54426.500000</td>\n",
       "      <td>1.000000</td>\n",
       "      <td>2.000000</td>\n",
       "      <td>2.015100e+07</td>\n",
       "      <td>1.000000</td>\n",
       "      <td>2.500000</td>\n",
       "      <td>1.0</td>\n",
       "      <td>5.000000</td>\n",
       "      <td>9.000000</td>\n",
       "      <td>3.000000</td>\n",
       "      <td>2.000000</td>\n",
       "      <td>2.000000</td>\n",
       "      <td>7.000000</td>\n",
       "    </tr>\n",
       "    <tr>\n",
       "      <th>max</th>\n",
       "      <td>79744.000000</td>\n",
       "      <td>79744.000000</td>\n",
       "      <td>80455.000000</td>\n",
       "      <td>50.000000</td>\n",
       "      <td>2.000000</td>\n",
       "      <td>2.016071e+07</td>\n",
       "      <td>2.000000</td>\n",
       "      <td>40.000000</td>\n",
       "      <td>1.0</td>\n",
       "      <td>7.000000</td>\n",
       "      <td>12.000000</td>\n",
       "      <td>3.000000</td>\n",
       "      <td>2.000000</td>\n",
       "      <td>4.000000</td>\n",
       "      <td>16.000000</td>\n",
       "    </tr>\n",
       "  </tbody>\n",
       "</table>\n",
       "</div>"
      ],
      "text/plain": [
       "         Unnamed: 0  Unnamed: 0.1  Unnamed: 0.1.1    age(after)      neuterYn  \\\n",
       "count  20602.000000  20602.000000    20602.000000  20602.000000  20602.000000   \n",
       "mean   38281.862974  38281.862974    38587.183574      0.719199      1.267935   \n",
       "std    20728.865453  20728.865453    20905.672101      1.626220      0.492702   \n",
       "min        9.000000      9.000000        9.000000      0.000000      0.000000   \n",
       "25%    20563.000000  20563.000000    20725.000000      0.000000      1.000000   \n",
       "50%    39576.500000  39576.500000    39872.500000      0.000000      1.000000   \n",
       "75%    53989.500000  53989.500000    54426.500000      1.000000      2.000000   \n",
       "max    79744.000000  79744.000000    80455.000000     50.000000      2.000000   \n",
       "\n",
       "          noticeEdt         sexCd  weight(after)     kind      happenWd  \\\n",
       "count  2.060200e+04  20602.000000   20602.000000  20602.0  20602.000000   \n",
       "mean   2.015090e+07      0.680856       1.514812      1.0      3.148966   \n",
       "std    1.444974e+03      0.679883       1.472753      0.0      2.100548   \n",
       "min    2.005071e+07      0.000000       0.010000      1.0      0.000000   \n",
       "25%    2.015053e+07      0.000000       0.400000      1.0      2.000000   \n",
       "50%    2.015072e+07      1.000000       0.960000      1.0      3.000000   \n",
       "75%    2.015100e+07      1.000000       2.500000      1.0      5.000000   \n",
       "max    2.016071e+07      2.000000      40.000000      1.0      7.000000   \n",
       "\n",
       "          happenMth          size         age_u  processState_Pre  \\\n",
       "count  20602.000000  20602.000000  20602.000000      20602.000000   \n",
       "mean       6.939520      2.684448      1.790020          1.754684   \n",
       "std        2.827094      0.729046      0.411925          0.697279   \n",
       "min        1.000000      0.000000      0.000000          0.000000   \n",
       "25%        5.000000      3.000000      2.000000          1.000000   \n",
       "50%        7.000000      3.000000      2.000000          2.000000   \n",
       "75%        9.000000      3.000000      2.000000          2.000000   \n",
       "max       12.000000      3.000000      2.000000          4.000000   \n",
       "\n",
       "               sido  \n",
       "count  20602.000000  \n",
       "mean       4.378895  \n",
       "std        4.306474  \n",
       "min        0.000000  \n",
       "25%        1.000000  \n",
       "50%        2.000000  \n",
       "75%        7.000000  \n",
       "max       16.000000  "
      ]
     },
     "execution_count": 23,
     "metadata": {},
     "output_type": "execute_result"
    }
   ],
   "source": [
    "dfc.describe()"
   ]
  },
  {
   "cell_type": "code",
   "execution_count": 24,
   "metadata": {},
   "outputs": [
    {
     "data": {
      "text/plain": [
       "Index(['Unnamed: 0', 'Unnamed: 0.1', 'Unnamed: 0.1.1', 'age(after)', 'colorCd',\n",
       "       'neuterYn', 'noticeEdt', 'orgNm', 'sexCd', 'weight(after)', 'kind',\n",
       "       'breed_Pre', 'happenWd', 'happenMth', 'size', 'age_u',\n",
       "       'processState_Pre', 'processState_C', 'processState_A',\n",
       "       'processState_D', 'processState_R', 'processState_E', 'sexCd_M',\n",
       "       'sexCd_F', 'sexCd_Q', 'neuterYn_Y', 'neuterYn_N', 'neuterYn_U',\n",
       "       'careNm_ETC', 'careNm_H', 'careNm_C', 'careNm_O', 'careNm_AD',\n",
       "       'careNm_CM', 'sido'],\n",
       "      dtype='object')"
      ]
     },
     "execution_count": 24,
     "metadata": {},
     "output_type": "execute_result"
    }
   ],
   "source": [
    "dfc.columns"
   ]
  },
  {
   "cell_type": "code",
   "execution_count": 25,
   "metadata": {
    "scrolled": true
   },
   "outputs": [
    {
     "data": {
      "text/html": [
       "<div>\n",
       "<style scoped>\n",
       "    .dataframe tbody tr th:only-of-type {\n",
       "        vertical-align: middle;\n",
       "    }\n",
       "\n",
       "    .dataframe tbody tr th {\n",
       "        vertical-align: top;\n",
       "    }\n",
       "\n",
       "    .dataframe thead th {\n",
       "        text-align: right;\n",
       "    }\n",
       "</style>\n",
       "<table border=\"1\" class=\"dataframe\">\n",
       "  <thead>\n",
       "    <tr style=\"text-align: right;\">\n",
       "      <th></th>\n",
       "      <th>processState_Pre</th>\n",
       "      <th>processState_C</th>\n",
       "      <th>processState_A</th>\n",
       "      <th>processState_D</th>\n",
       "      <th>processState_R</th>\n",
       "      <th>processState_E</th>\n",
       "    </tr>\n",
       "  </thead>\n",
       "  <tbody>\n",
       "    <tr>\n",
       "      <th>Unnamed: 0</th>\n",
       "      <td>-0.000</td>\n",
       "      <td>-0.044</td>\n",
       "      <td>0.074</td>\n",
       "      <td>-0.086</td>\n",
       "      <td>0.009</td>\n",
       "      <td>0.058</td>\n",
       "    </tr>\n",
       "    <tr>\n",
       "      <th>Unnamed: 0.1</th>\n",
       "      <td>-0.000</td>\n",
       "      <td>-0.044</td>\n",
       "      <td>0.074</td>\n",
       "      <td>-0.086</td>\n",
       "      <td>0.009</td>\n",
       "      <td>0.058</td>\n",
       "    </tr>\n",
       "    <tr>\n",
       "      <th>Unnamed: 0.1.1</th>\n",
       "      <td>-0.000</td>\n",
       "      <td>-0.044</td>\n",
       "      <td>0.074</td>\n",
       "      <td>-0.086</td>\n",
       "      <td>0.009</td>\n",
       "      <td>0.058</td>\n",
       "    </tr>\n",
       "    <tr>\n",
       "      <th>age(after)</th>\n",
       "      <td>0.097</td>\n",
       "      <td>-0.008</td>\n",
       "      <td>-0.032</td>\n",
       "      <td>-0.029</td>\n",
       "      <td>0.072</td>\n",
       "      <td>0.106</td>\n",
       "    </tr>\n",
       "    <tr>\n",
       "      <th>neuterYn</th>\n",
       "      <td>0.054</td>\n",
       "      <td>-0.069</td>\n",
       "      <td>-0.108</td>\n",
       "      <td>0.153</td>\n",
       "      <td>-0.038</td>\n",
       "      <td>-0.059</td>\n",
       "    </tr>\n",
       "    <tr>\n",
       "      <th>noticeEdt</th>\n",
       "      <td>0.017</td>\n",
       "      <td>0.000</td>\n",
       "      <td>-0.019</td>\n",
       "      <td>0.016</td>\n",
       "      <td>-0.003</td>\n",
       "      <td>0.009</td>\n",
       "    </tr>\n",
       "    <tr>\n",
       "      <th>sexCd</th>\n",
       "      <td>0.056</td>\n",
       "      <td>-0.039</td>\n",
       "      <td>-0.028</td>\n",
       "      <td>0.021</td>\n",
       "      <td>-0.014</td>\n",
       "      <td>0.047</td>\n",
       "    </tr>\n",
       "    <tr>\n",
       "      <th>weight(after)</th>\n",
       "      <td>0.100</td>\n",
       "      <td>0.012</td>\n",
       "      <td>0.011</td>\n",
       "      <td>-0.110</td>\n",
       "      <td>0.138</td>\n",
       "      <td>0.153</td>\n",
       "    </tr>\n",
       "    <tr>\n",
       "      <th>kind</th>\n",
       "      <td>NaN</td>\n",
       "      <td>NaN</td>\n",
       "      <td>NaN</td>\n",
       "      <td>NaN</td>\n",
       "      <td>NaN</td>\n",
       "      <td>NaN</td>\n",
       "    </tr>\n",
       "    <tr>\n",
       "      <th>happenWd</th>\n",
       "      <td>0.004</td>\n",
       "      <td>0.011</td>\n",
       "      <td>-0.008</td>\n",
       "      <td>0.003</td>\n",
       "      <td>-0.001</td>\n",
       "      <td>0.005</td>\n",
       "    </tr>\n",
       "    <tr>\n",
       "      <th>happenMth</th>\n",
       "      <td>-0.001</td>\n",
       "      <td>0.042</td>\n",
       "      <td>-0.070</td>\n",
       "      <td>0.083</td>\n",
       "      <td>-0.010</td>\n",
       "      <td>-0.058</td>\n",
       "    </tr>\n",
       "    <tr>\n",
       "      <th>size</th>\n",
       "      <td>-0.093</td>\n",
       "      <td>-0.001</td>\n",
       "      <td>-0.002</td>\n",
       "      <td>0.083</td>\n",
       "      <td>-0.099</td>\n",
       "      <td>-0.137</td>\n",
       "    </tr>\n",
       "    <tr>\n",
       "      <th>age_u</th>\n",
       "      <td>-0.126</td>\n",
       "      <td>0.017</td>\n",
       "      <td>0.035</td>\n",
       "      <td>0.045</td>\n",
       "      <td>-0.100</td>\n",
       "      <td>-0.141</td>\n",
       "    </tr>\n",
       "    <tr>\n",
       "      <th>processState_Pre</th>\n",
       "      <td>1.000</td>\n",
       "      <td>-0.294</td>\n",
       "      <td>-0.734</td>\n",
       "      <td>0.445</td>\n",
       "      <td>0.225</td>\n",
       "      <td>0.661</td>\n",
       "    </tr>\n",
       "    <tr>\n",
       "      <th>processState_C</th>\n",
       "      <td>-0.294</td>\n",
       "      <td>1.000</td>\n",
       "      <td>-0.079</td>\n",
       "      <td>-0.148</td>\n",
       "      <td>-0.015</td>\n",
       "      <td>-0.024</td>\n",
       "    </tr>\n",
       "    <tr>\n",
       "      <th>processState_A</th>\n",
       "      <td>-0.734</td>\n",
       "      <td>-0.079</td>\n",
       "      <td>1.000</td>\n",
       "      <td>-0.858</td>\n",
       "      <td>-0.085</td>\n",
       "      <td>-0.139</td>\n",
       "    </tr>\n",
       "    <tr>\n",
       "      <th>processState_D</th>\n",
       "      <td>0.445</td>\n",
       "      <td>-0.148</td>\n",
       "      <td>-0.858</td>\n",
       "      <td>1.000</td>\n",
       "      <td>-0.159</td>\n",
       "      <td>-0.260</td>\n",
       "    </tr>\n",
       "    <tr>\n",
       "      <th>processState_R</th>\n",
       "      <td>0.225</td>\n",
       "      <td>-0.015</td>\n",
       "      <td>-0.085</td>\n",
       "      <td>-0.159</td>\n",
       "      <td>1.000</td>\n",
       "      <td>-0.026</td>\n",
       "    </tr>\n",
       "    <tr>\n",
       "      <th>processState_E</th>\n",
       "      <td>0.661</td>\n",
       "      <td>-0.024</td>\n",
       "      <td>-0.139</td>\n",
       "      <td>-0.260</td>\n",
       "      <td>-0.026</td>\n",
       "      <td>1.000</td>\n",
       "    </tr>\n",
       "    <tr>\n",
       "      <th>sexCd_M</th>\n",
       "      <td>-0.032</td>\n",
       "      <td>0.029</td>\n",
       "      <td>0.008</td>\n",
       "      <td>-0.003</td>\n",
       "      <td>0.003</td>\n",
       "      <td>-0.030</td>\n",
       "    </tr>\n",
       "    <tr>\n",
       "      <th>sexCd_F</th>\n",
       "      <td>-0.014</td>\n",
       "      <td>-0.004</td>\n",
       "      <td>0.023</td>\n",
       "      <td>-0.023</td>\n",
       "      <td>0.013</td>\n",
       "      <td>-0.004</td>\n",
       "    </tr>\n",
       "    <tr>\n",
       "      <th>sexCd_Q</th>\n",
       "      <td>0.068</td>\n",
       "      <td>-0.037</td>\n",
       "      <td>-0.047</td>\n",
       "      <td>0.039</td>\n",
       "      <td>-0.024</td>\n",
       "      <td>0.052</td>\n",
       "    </tr>\n",
       "    <tr>\n",
       "      <th>neuterYn_Y</th>\n",
       "      <td>0.010</td>\n",
       "      <td>0.038</td>\n",
       "      <td>0.038</td>\n",
       "      <td>-0.090</td>\n",
       "      <td>0.087</td>\n",
       "      <td>0.056</td>\n",
       "    </tr>\n",
       "    <tr>\n",
       "      <th>neuterYn_N</th>\n",
       "      <td>-0.064</td>\n",
       "      <td>0.048</td>\n",
       "      <td>0.090</td>\n",
       "      <td>-0.104</td>\n",
       "      <td>-0.016</td>\n",
       "      <td>0.026</td>\n",
       "    </tr>\n",
       "    <tr>\n",
       "      <th>neuterYn_U</th>\n",
       "      <td>0.062</td>\n",
       "      <td>-0.062</td>\n",
       "      <td>-0.104</td>\n",
       "      <td>0.136</td>\n",
       "      <td>-0.012</td>\n",
       "      <td>-0.045</td>\n",
       "    </tr>\n",
       "    <tr>\n",
       "      <th>careNm_ETC</th>\n",
       "      <td>-0.034</td>\n",
       "      <td>-0.026</td>\n",
       "      <td>0.039</td>\n",
       "      <td>-0.017</td>\n",
       "      <td>-0.020</td>\n",
       "      <td>-0.023</td>\n",
       "    </tr>\n",
       "    <tr>\n",
       "      <th>careNm_H</th>\n",
       "      <td>-0.007</td>\n",
       "      <td>-0.087</td>\n",
       "      <td>0.111</td>\n",
       "      <td>-0.112</td>\n",
       "      <td>-0.013</td>\n",
       "      <td>0.073</td>\n",
       "    </tr>\n",
       "    <tr>\n",
       "      <th>careNm_C</th>\n",
       "      <td>-0.031</td>\n",
       "      <td>0.142</td>\n",
       "      <td>-0.022</td>\n",
       "      <td>-0.014</td>\n",
       "      <td>0.006</td>\n",
       "      <td>0.000</td>\n",
       "    </tr>\n",
       "    <tr>\n",
       "      <th>careNm_O</th>\n",
       "      <td>NaN</td>\n",
       "      <td>NaN</td>\n",
       "      <td>NaN</td>\n",
       "      <td>NaN</td>\n",
       "      <td>NaN</td>\n",
       "      <td>NaN</td>\n",
       "    </tr>\n",
       "    <tr>\n",
       "      <th>careNm_AD</th>\n",
       "      <td>0.021</td>\n",
       "      <td>-0.028</td>\n",
       "      <td>-0.062</td>\n",
       "      <td>0.087</td>\n",
       "      <td>0.001</td>\n",
       "      <td>-0.052</td>\n",
       "    </tr>\n",
       "    <tr>\n",
       "      <th>careNm_CM</th>\n",
       "      <td>0.063</td>\n",
       "      <td>-0.027</td>\n",
       "      <td>-0.121</td>\n",
       "      <td>0.137</td>\n",
       "      <td>0.025</td>\n",
       "      <td>-0.054</td>\n",
       "    </tr>\n",
       "    <tr>\n",
       "      <th>sido</th>\n",
       "      <td>0.024</td>\n",
       "      <td>0.010</td>\n",
       "      <td>0.004</td>\n",
       "      <td>-0.029</td>\n",
       "      <td>0.012</td>\n",
       "      <td>0.049</td>\n",
       "    </tr>\n",
       "  </tbody>\n",
       "</table>\n",
       "</div>"
      ],
      "text/plain": [
       "                  processState_Pre  processState_C  processState_A  \\\n",
       "Unnamed: 0                  -0.000          -0.044           0.074   \n",
       "Unnamed: 0.1                -0.000          -0.044           0.074   \n",
       "Unnamed: 0.1.1              -0.000          -0.044           0.074   \n",
       "age(after)                   0.097          -0.008          -0.032   \n",
       "neuterYn                     0.054          -0.069          -0.108   \n",
       "noticeEdt                    0.017           0.000          -0.019   \n",
       "sexCd                        0.056          -0.039          -0.028   \n",
       "weight(after)                0.100           0.012           0.011   \n",
       "kind                           NaN             NaN             NaN   \n",
       "happenWd                     0.004           0.011          -0.008   \n",
       "happenMth                   -0.001           0.042          -0.070   \n",
       "size                        -0.093          -0.001          -0.002   \n",
       "age_u                       -0.126           0.017           0.035   \n",
       "processState_Pre             1.000          -0.294          -0.734   \n",
       "processState_C              -0.294           1.000          -0.079   \n",
       "processState_A              -0.734          -0.079           1.000   \n",
       "processState_D               0.445          -0.148          -0.858   \n",
       "processState_R               0.225          -0.015          -0.085   \n",
       "processState_E               0.661          -0.024          -0.139   \n",
       "sexCd_M                     -0.032           0.029           0.008   \n",
       "sexCd_F                     -0.014          -0.004           0.023   \n",
       "sexCd_Q                      0.068          -0.037          -0.047   \n",
       "neuterYn_Y                   0.010           0.038           0.038   \n",
       "neuterYn_N                  -0.064           0.048           0.090   \n",
       "neuterYn_U                   0.062          -0.062          -0.104   \n",
       "careNm_ETC                  -0.034          -0.026           0.039   \n",
       "careNm_H                    -0.007          -0.087           0.111   \n",
       "careNm_C                    -0.031           0.142          -0.022   \n",
       "careNm_O                       NaN             NaN             NaN   \n",
       "careNm_AD                    0.021          -0.028          -0.062   \n",
       "careNm_CM                    0.063          -0.027          -0.121   \n",
       "sido                         0.024           0.010           0.004   \n",
       "\n",
       "                  processState_D  processState_R  processState_E  \n",
       "Unnamed: 0                -0.086           0.009           0.058  \n",
       "Unnamed: 0.1              -0.086           0.009           0.058  \n",
       "Unnamed: 0.1.1            -0.086           0.009           0.058  \n",
       "age(after)                -0.029           0.072           0.106  \n",
       "neuterYn                   0.153          -0.038          -0.059  \n",
       "noticeEdt                  0.016          -0.003           0.009  \n",
       "sexCd                      0.021          -0.014           0.047  \n",
       "weight(after)             -0.110           0.138           0.153  \n",
       "kind                         NaN             NaN             NaN  \n",
       "happenWd                   0.003          -0.001           0.005  \n",
       "happenMth                  0.083          -0.010          -0.058  \n",
       "size                       0.083          -0.099          -0.137  \n",
       "age_u                      0.045          -0.100          -0.141  \n",
       "processState_Pre           0.445           0.225           0.661  \n",
       "processState_C            -0.148          -0.015          -0.024  \n",
       "processState_A            -0.858          -0.085          -0.139  \n",
       "processState_D             1.000          -0.159          -0.260  \n",
       "processState_R            -0.159           1.000          -0.026  \n",
       "processState_E            -0.260          -0.026           1.000  \n",
       "sexCd_M                   -0.003           0.003          -0.030  \n",
       "sexCd_F                   -0.023           0.013          -0.004  \n",
       "sexCd_Q                    0.039          -0.024           0.052  \n",
       "neuterYn_Y                -0.090           0.087           0.056  \n",
       "neuterYn_N                -0.104          -0.016           0.026  \n",
       "neuterYn_U                 0.136          -0.012          -0.045  \n",
       "careNm_ETC                -0.017          -0.020          -0.023  \n",
       "careNm_H                  -0.112          -0.013           0.073  \n",
       "careNm_C                  -0.014           0.006           0.000  \n",
       "careNm_O                     NaN             NaN             NaN  \n",
       "careNm_AD                  0.087           0.001          -0.052  \n",
       "careNm_CM                  0.137           0.025          -0.054  \n",
       "sido                      -0.029           0.012           0.049  "
      ]
     },
     "execution_count": 25,
     "metadata": {},
     "output_type": "execute_result"
    }
   ],
   "source": [
    "# processState와 상관관계\n",
    "cor_t = np.round(dfc.corr(),3)\n",
    "cor1 = cor_t.loc[:,[ 'processState_Pre', 'processState_C', 'processState_A',\n",
    "       'processState_D', 'processState_R', 'processState_E']]\n",
    "cor1"
   ]
  },
  {
   "cell_type": "markdown",
   "metadata": {},
   "source": [
    "### 4. Data Learning"
   ]
  },
  {
   "cell_type": "code",
   "execution_count": null,
   "metadata": {},
   "outputs": [],
   "source": [
    "# null값 처리\n",
    "# df.isnull().any()\n",
    "#null_columns=df.columns[df.isnull().any()]\n",
    "#df[null_columns].isnull().sum()\n",
    "#print(df[df[\"breed_Pre\"].isnull()][null_columns])"
   ]
  },
  {
   "cell_type": "markdown",
   "metadata": {},
   "source": [
    "#### - feature 선택"
   ]
  },
  {
   "cell_type": "code",
   "execution_count": 49,
   "metadata": {},
   "outputs": [],
   "source": [
    "# feature_name = ['age(after)','neuterYn','sexCd','weight(after)', 'kind', 'happenWd', 'happenMth', \n",
    "#                 'size', 'processState_Pre', 'sido']\n",
    "# df_Pre = dfc[feature_name]\n",
    "\n",
    "# feature_name2 = ['age(after)','neuterYn','sexCd','weight(after)', 'kind', 'happenWd', 'happenMth', \n",
    "#                 'size', 'processState_A', 'sido']\n",
    "# df_A = dfc[feature_name2]\n",
    "\n",
    "# df_Pre.head(3)\n",
    "# #df_A.head(3)"
   ]
  },
  {
   "cell_type": "code",
   "execution_count": 50,
   "metadata": {},
   "outputs": [
    {
     "data": {
      "text/html": [
       "<div>\n",
       "<style scoped>\n",
       "    .dataframe tbody tr th:only-of-type {\n",
       "        vertical-align: middle;\n",
       "    }\n",
       "\n",
       "    .dataframe tbody tr th {\n",
       "        vertical-align: top;\n",
       "    }\n",
       "\n",
       "    .dataframe thead th {\n",
       "        text-align: right;\n",
       "    }\n",
       "</style>\n",
       "<table border=\"1\" class=\"dataframe\">\n",
       "  <thead>\n",
       "    <tr style=\"text-align: right;\">\n",
       "      <th></th>\n",
       "      <th>kind</th>\n",
       "      <th>happenWd</th>\n",
       "      <th>happenMth</th>\n",
       "      <th>size</th>\n",
       "      <th>age_u</th>\n",
       "      <th>sexCd_M</th>\n",
       "      <th>sexCd_F</th>\n",
       "      <th>sexCd_Q</th>\n",
       "      <th>neuterYn_Y</th>\n",
       "      <th>neuterYn_N</th>\n",
       "      <th>neuterYn_U</th>\n",
       "      <th>careNm_ETC</th>\n",
       "      <th>careNm_H</th>\n",
       "      <th>careNm_C</th>\n",
       "      <th>careNm_O</th>\n",
       "      <th>careNm_AD</th>\n",
       "      <th>careNm_CM</th>\n",
       "      <th>sido</th>\n",
       "      <th>processState_A</th>\n",
       "      <th>sido</th>\n",
       "    </tr>\n",
       "  </thead>\n",
       "  <tbody>\n",
       "    <tr>\n",
       "      <th>9</th>\n",
       "      <td>1</td>\n",
       "      <td>4</td>\n",
       "      <td>12</td>\n",
       "      <td>1</td>\n",
       "      <td>1</td>\n",
       "      <td>False</td>\n",
       "      <td>True</td>\n",
       "      <td>False</td>\n",
       "      <td>False</td>\n",
       "      <td>True</td>\n",
       "      <td>False</td>\n",
       "      <td>False</td>\n",
       "      <td>True</td>\n",
       "      <td>False</td>\n",
       "      <td>False</td>\n",
       "      <td>False</td>\n",
       "      <td>False</td>\n",
       "      <td>1</td>\n",
       "      <td>False</td>\n",
       "      <td>1</td>\n",
       "    </tr>\n",
       "    <tr>\n",
       "      <th>10</th>\n",
       "      <td>1</td>\n",
       "      <td>4</td>\n",
       "      <td>12</td>\n",
       "      <td>3</td>\n",
       "      <td>2</td>\n",
       "      <td>False</td>\n",
       "      <td>True</td>\n",
       "      <td>False</td>\n",
       "      <td>False</td>\n",
       "      <td>False</td>\n",
       "      <td>True</td>\n",
       "      <td>False</td>\n",
       "      <td>False</td>\n",
       "      <td>True</td>\n",
       "      <td>False</td>\n",
       "      <td>False</td>\n",
       "      <td>False</td>\n",
       "      <td>14</td>\n",
       "      <td>True</td>\n",
       "      <td>14</td>\n",
       "    </tr>\n",
       "    <tr>\n",
       "      <th>11</th>\n",
       "      <td>1</td>\n",
       "      <td>4</td>\n",
       "      <td>12</td>\n",
       "      <td>3</td>\n",
       "      <td>2</td>\n",
       "      <td>False</td>\n",
       "      <td>True</td>\n",
       "      <td>False</td>\n",
       "      <td>False</td>\n",
       "      <td>False</td>\n",
       "      <td>True</td>\n",
       "      <td>False</td>\n",
       "      <td>False</td>\n",
       "      <td>True</td>\n",
       "      <td>False</td>\n",
       "      <td>False</td>\n",
       "      <td>False</td>\n",
       "      <td>14</td>\n",
       "      <td>False</td>\n",
       "      <td>14</td>\n",
       "    </tr>\n",
       "  </tbody>\n",
       "</table>\n",
       "</div>"
      ],
      "text/plain": [
       "    kind  happenWd  happenMth  size  age_u  sexCd_M  sexCd_F  sexCd_Q  \\\n",
       "9      1         4         12     1      1    False     True    False   \n",
       "10     1         4         12     3      2    False     True    False   \n",
       "11     1         4         12     3      2    False     True    False   \n",
       "\n",
       "    neuterYn_Y  neuterYn_N  neuterYn_U  careNm_ETC  careNm_H  careNm_C  \\\n",
       "9        False        True       False       False      True     False   \n",
       "10       False       False        True       False     False      True   \n",
       "11       False       False        True       False     False      True   \n",
       "\n",
       "    careNm_O  careNm_AD  careNm_CM  sido  processState_A  sido  \n",
       "9      False      False      False     1           False     1  \n",
       "10     False      False      False    14            True    14  \n",
       "11     False      False      False    14           False    14  "
      ]
     },
     "execution_count": 50,
     "metadata": {},
     "output_type": "execute_result"
    }
   ],
   "source": [
    "feature_name = ['kind', 'happenWd', 'happenMth','size','age_u', 'sexCd_M',\n",
    "               'sexCd_F', 'sexCd_Q', 'neuterYn_Y', 'neuterYn_N', 'neuterYn_U',\n",
    "               'careNm_ETC', 'careNm_H', 'careNm_C', 'careNm_O', 'careNm_AD',\n",
    "               'careNm_CM', 'sido','processState_Pre', 'sido']\n",
    "\n",
    "df_Pre = dfc[feature_name]\n",
    "\n",
    "feature_name2 = ['kind', 'happenWd', 'happenMth','size','age_u', 'sexCd_M',\n",
    "               'sexCd_F', 'sexCd_Q', 'neuterYn_Y', 'neuterYn_N', 'neuterYn_U',\n",
    "               'careNm_ETC', 'careNm_H', 'careNm_C', 'careNm_O', 'careNm_AD',\n",
    "               'careNm_CM', 'sido','processState_A', 'sido']\n",
    "df_A = dfc[feature_name2]\n",
    "\n",
    "df_Pre.head(3)\n",
    "df_A.head(3)"
   ]
  },
  {
   "cell_type": "markdown",
   "metadata": {},
   "source": [
    "#### - 종속변수 독립변수 추출"
   ]
  },
  {
   "cell_type": "markdown",
   "metadata": {
    "scrolled": true
   },
   "source": [
    "###### 1) processState_Pre 기준"
   ]
  },
  {
   "cell_type": "code",
   "execution_count": 51,
   "metadata": {},
   "outputs": [],
   "source": [
    "X=np.array(df_Pre.drop(columns='processState_Pre')) #종속변수\n",
    "Y=np.array(df_Pre.processState_Pre) #독립변수"
   ]
  },
  {
   "cell_type": "code",
   "execution_count": 52,
   "metadata": {
    "scrolled": true
   },
   "outputs": [
    {
     "name": "stdout",
     "output_type": "stream",
     "text": [
      "2    12682\n",
      "1     6487\n",
      "4      834\n",
      "3      321\n",
      "0      278\n",
      "Name: processState_Pre, dtype: int64\n"
     ]
    },
    {
     "name": "stderr",
     "output_type": "stream",
     "text": [
      "C:\\Users\\Bit\\Anaconda3\\lib\\site-packages\\ipykernel_launcher.py:2: DeprecationWarning: `itemfreq` is deprecated!\n",
      "`itemfreq` is deprecated and will be removed in a future version. Use instead `np.unique(..., return_counts=True)`\n",
      "  \n"
     ]
    },
    {
     "data": {
      "text/plain": [
       "array([  278,  6487, 12682,   321,   834], dtype=int64)"
      ]
     },
     "execution_count": 52,
     "metadata": {},
     "output_type": "execute_result"
    },
    {
     "data": {
      "image/png": "[encoded data removed]",
      "text/plain": [
       "<Figure size 432x288 with 1 Axes>"
      ]
     },
     "metadata": {
      "needs_background": "light"
     },
     "output_type": "display_data"
    }
   ],
   "source": [
    "print(df_Pre['processState_Pre'].value_counts())\n",
    "table = itemfreq(Y)\n",
    "x_ticks = ['0','1','2','3','4'] \n",
    "# 0 : 보호중, 1:입양,기증, 2:자연사,안락사, 3:반환, 4:방사,미포획\n",
    "plt.bar(x_ticks, table[:,1], color='skyblue')\n",
    "table[:,1]"
   ]
  },
  {
   "cell_type": "markdown",
   "metadata": {},
   "source": [
    "###### 2) processState_A 기준"
   ]
  },
  {
   "cell_type": "code",
   "execution_count": 53,
   "metadata": {},
   "outputs": [],
   "source": [
    "Z=np.array(df_A.drop(columns='processState_A')) #종속변수\n",
    "Q=np.array(df_A.processState_A) #독립변수"
   ]
  },
  {
   "cell_type": "code",
   "execution_count": 54,
   "metadata": {},
   "outputs": [
    {
     "name": "stdout",
     "output_type": "stream",
     "text": [
      "False    14115\n",
      "True      6487\n",
      "Name: processState_A, dtype: int64\n"
     ]
    },
    {
     "name": "stderr",
     "output_type": "stream",
     "text": [
      "C:\\Users\\Bit\\Anaconda3\\lib\\site-packages\\ipykernel_launcher.py:2: DeprecationWarning: `itemfreq` is deprecated!\n",
      "`itemfreq` is deprecated and will be removed in a future version. Use instead `np.unique(..., return_counts=True)`\n",
      "  \n"
     ]
    },
    {
     "data": {
      "text/plain": [
       "array([14115,  6487], dtype=int64)"
      ]
     },
     "execution_count": 54,
     "metadata": {},
     "output_type": "execute_result"
    },
    {
     "data": {
      "image/png": "[encoded data removed]",
      "text/plain": [
       "<Figure size 432x288 with 1 Axes>"
      ]
     },
     "metadata": {
      "needs_background": "light"
     },
     "output_type": "display_data"
    }
   ],
   "source": [
    "print(df_A['processState_A'].value_counts())\n",
    "table = itemfreq(Q)\n",
    "x_ticks = ['0','1'] # 0 : 입양X, 1:입양O\n",
    "plt.bar(x_ticks, table[:,1], color='pink')\n",
    "table[:,1]"
   ]
  },
  {
   "cell_type": "markdown",
   "metadata": {},
   "source": [
    "##### - 데이터셋 나누기"
   ]
  },
  {
   "cell_type": "code",
   "execution_count": 55,
   "metadata": {},
   "outputs": [],
   "source": [
    "X_train, X_test, Y_train, Y_test = train_test_split(X,Y,test_size=0.3, random_state=5)\n",
    "Z_train, Z_test, Q_train, Q_test = train_test_split(Z,Q,test_size=0.3, random_state=5)\n",
    "\n",
    "# train_test_split\n",
    "# : 데이터를  train set과 test set으로 단순분리\n",
    "# : 원래 트레이닝 데이터와 결과값이 X와 Y를 무작위로 섞은 후 test_size로 주어진 비율만큼 나눔\n",
    "# test_size 0.3은 X와 Y를 무작위로 섞은 후에 70%은 train으로, 30%는 test로 하는것\n",
    "# random_state : 난수발생을 위한 seed의 인자값"
   ]
  },
  {
   "cell_type": "code",
   "execution_count": 56,
   "metadata": {},
   "outputs": [
    {
     "name": "stdout",
     "output_type": "stream",
     "text": [
      "(14421, 19)\n",
      "(6181, 19)\n",
      "(14421,)\n",
      "(6181,)\n"
     ]
    }
   ],
   "source": [
    "print(X_train.shape)\n",
    "print(X_test.shape)\n",
    "print(Y_train.shape)\n",
    "print(Y_test.shape)"
   ]
  },
  {
   "cell_type": "code",
   "execution_count": 57,
   "metadata": {},
   "outputs": [
    {
     "name": "stdout",
     "output_type": "stream",
     "text": [
      "(14421, 19)\n",
      "(6181, 19)\n",
      "(14421,)\n",
      "(6181,)\n"
     ]
    }
   ],
   "source": [
    "print(Z_train.shape)\n",
    "print(Z_test.shape)\n",
    "print(Q_train.shape)\n",
    "print(Q_test.shape)"
   ]
  },
  {
   "cell_type": "markdown",
   "metadata": {},
   "source": [
    "#### - 모형 적용"
   ]
  },
  {
   "cell_type": "markdown",
   "metadata": {},
   "source": [
    "##### KNN"
   ]
  },
  {
   "cell_type": "code",
   "execution_count": 58,
   "metadata": {
    "scrolled": true
   },
   "outputs": [
    {
     "name": "stdout",
     "output_type": "stream",
     "text": [
      "KNeighborsClassifier(algorithm='auto', leaf_size=30, metric='minkowski',\n",
      "           metric_params=None, n_jobs=1, n_neighbors=1, p=2,\n",
      "           weights='uniform')\n",
      "KNeighborsClassifier(algorithm='auto', leaf_size=30, metric='minkowski',\n",
      "           metric_params=None, n_jobs=1, n_neighbors=1, p=2,\n",
      "           weights='uniform')\n"
     ]
    },
    {
     "data": {
      "text/plain": [
       "KNeighborsClassifier(algorithm='auto', leaf_size=30, metric='minkowski',\n",
       "           metric_params=None, n_jobs=1, n_neighbors=1, p=2,\n",
       "           weights='uniform')"
      ]
     },
     "execution_count": 58,
     "metadata": {},
     "output_type": "execute_result"
    }
   ],
   "source": [
    "# knn객체 : 훈련데이터로 모델을 만들고 새로운 데이터포인트에 대해 예측하는 알고리즘을 캡슐화\n",
    "# 또한 알고리즘이 훈련데이터로부터 추출한 정보를 담고 있음\n",
    "# KNeighborsClassifier : 훈련데이터 자체를 저장\n",
    "knn_Pre = KNeighborsClassifier(n_neighbors=1) # n_neighbor : 이웃의 갯수\n",
    "knn_A = KNeighborsClassifier(n_neighbors=1) # n_neighbor : 이웃의 갯수\n",
    "print(knn_Pre)\n",
    "print(knn_A)\n",
    "# fit() : 훈련데이터셋으로부터 모델 만들기, knn객체 자체를 반환, 그리고 knn객체 자체를 변경시킴, knn객체가 문자열 형태로 출력됨\n",
    "#출력에서 모델으르생성할떄 사용한 매개변수 확인 가능\n",
    "# 훈련데이터(Numpy배열 X_train), 훈련데이터레이블(Numpy배열 y_train)을 매개변수로 받음\n",
    "knn_Pre.fit(X_train, Y_train)\n",
    "knn_A.fit(Z_train,Q_train)"
   ]
  },
  {
   "cell_type": "markdown",
   "metadata": {},
   "source": [
    "##### Logistic Regression"
   ]
  },
  {
   "cell_type": "code",
   "execution_count": null,
   "metadata": {},
   "outputs": [],
   "source": [
    "glm_Pre = LogisticRegression()\n",
    "glm_A = LogisticRegression()\n",
    "\n",
    "glm_Pre.fit(X_train, Y_train)\n",
    "glm_A.fit(Z_train, Q_train)"
   ]
  },
  {
   "cell_type": "markdown",
   "metadata": {},
   "source": [
    "##### Naive Bayes"
   ]
  },
  {
   "cell_type": "code",
   "execution_count": null,
   "metadata": {},
   "outputs": [],
   "source": [
    "GNB_Pre = GaussianNB()\n",
    "GNB_A = GaussianNB()\n",
    "print(GNB_Pre)\n",
    "print(GNB_A)\n",
    "\n",
    "GNB_Pre.fit(X_train, Y_train)\n",
    "GNB_A.fit(Z_train, Q_train) "
   ]
  },
  {
   "cell_type": "markdown",
   "metadata": {},
   "source": [
    "##### Tree"
   ]
  },
  {
   "cell_type": "code",
   "execution_count": null,
   "metadata": {},
   "outputs": [],
   "source": [
    "depth_grid = np.arange(2,31,2)\n",
    "parameters = {'max_depth':depth_grid}\n",
    "\n",
    "gridCV_Pre = GridSearchCV(DecisionTreeClassifier(), parameters, cv=10)\n",
    "gridCV_A = GridSearchCV(DecisionTreeClassifier(), parameters, cv=10)\n",
    "\n",
    "gridCV_Pre.fit(X_train, Y_train);\n",
    "gridCV_A.fit(Z_train, Q_train);\n",
    "\n",
    "best_depth_Pre = gridCV_Pre.best_params_['max_depth']\n",
    "best_depth_A = gridCV_A.best_params_['max_depth']\n",
    "\n",
    "print(\"Tree best depth : \" + str(best_depth_Pre))\n",
    "print(\"Tree best depth : \" + str(best_depth_A))"
   ]
  },
  {
   "cell_type": "code",
   "execution_count": null,
   "metadata": {},
   "outputs": [],
   "source": [
    "DTC_best_Pre = DecisionTreeClassifier(max_depth=best_depth_Pre)\n",
    "DTC_best_A = DecisionTreeClassifier(max_depth=best_depth_A)\n",
    "\n",
    "DTC_best_Pre.fit(X_train, Y_train);\n",
    "DTC_best_A.fit(Z_train, Q_train);"
   ]
  },
  {
   "cell_type": "markdown",
   "metadata": {},
   "source": [
    "##### Random Forest"
   ]
  },
  {
   "cell_type": "code",
   "execution_count": null,
   "metadata": {},
   "outputs": [],
   "source": [
    "estimator_grid = np.arange(1, 30, 5)\n",
    "depth_grid = np.arange(1, 10, 2)\n",
    "parameters = {'n_estimators': estimator_grid, 'max_depth': depth_grid}\n",
    "\n",
    "gridCV_Pre = GridSearchCV(RandomForestClassifier(), param_grid=parameters, cv=10)\n",
    "gridCV_A = GridSearchCV(RandomForestClassifier(), param_grid=parameters, cv=10)\n",
    "\n",
    "gridCV_Pre.fit(X_train, Y_train);\n",
    "gridCV_A.fit(Z_train, Q_train);\n",
    "\n",
    "best_n_estim_Pre = gridCV_Pre.best_params_['n_estimators']\n",
    "best_depth_Pre = gridCV_Pre.best_params_['max_depth']\n",
    "\n",
    "best_n_estim_A = gridCV_A.best_params_['n_estimators']\n",
    "best_depth_A = gridCV_A.best_params_['max_depth']"
   ]
  },
  {
   "cell_type": "code",
   "execution_count": null,
   "metadata": {},
   "outputs": [],
   "source": [
    "print(\"Random Forest best n estimator : \" + str(best_n_estim_Pre))\n",
    "print(\"Random Forest best depth : \" + str(best_depth_Pre))\n",
    "\n",
    "print(\"Random Forest best n estimator : \" + str(best_n_estim_A))\n",
    "print(\"Random Forest best depth : \" + str(best_depth_A))"
   ]
  },
  {
   "cell_type": "code",
   "execution_count": null,
   "metadata": {},
   "outputs": [],
   "source": [
    "RF_best_Pre = RandomForestClassifier(max_depth=best_depth_Pre,n_estimators=best_n_estim_Pre,random_state=3)\n",
    "RF_best_A = RandomForestClassifier(max_depth=best_depth_A,n_estimators=best_n_estim_A,random_state=3)\n",
    "\n",
    "RF_best_Pre.fit(X_train, Y_train);\n",
    "RF_best_A.fit(Z_train, Q_train);"
   ]
  },
  {
   "cell_type": "markdown",
   "metadata": {},
   "source": [
    "##### AdaBoost"
   ]
  },
  {
   "cell_type": "code",
   "execution_count": 35,
   "metadata": {},
   "outputs": [
    {
     "name": "stdout",
     "output_type": "stream",
     "text": [
      "1\n",
      "2\n"
     ]
    }
   ],
   "source": [
    "estimator_grid = np.arange(30, 80, 10)\n",
    "learning_rate_grid = np.array([0.1,0.2,0.3,0.4,0.5,0.6,0.7,0.8,0.9])\n",
    "parameters = {'n_estimators': estimator_grid, 'learning_rate': learning_rate_grid}\n",
    "\n",
    "gridCV_Pre = GridSearchCV(AdaBoostClassifier(), param_grid=parameters, cv=10, n_jobs=8)\n",
    "gridCV_A = GridSearchCV(AdaBoostClassifier(), param_grid=parameters, cv=10, n_jobs=8)\n",
    "\n",
    "gridCV_Pre.fit(X_train, Y_train)\n",
    "print(\"1\")\n",
    "gridCV_A.fit(Z_train, Q_train)\n",
    "print(\"2\")\n",
    "\n",
    "best_n_estim_Pre = gridCV_Pre.best_params_['n_estimators']\n",
    "best_learn_rate_Pre = gridCV_Pre.best_params_['learning_rate']\n",
    "\n",
    "best_n_estim_A = gridCV_A.best_params_['n_estimators']\n",
    "best_learn_rate_A = gridCV_A.best_params_['learning_rate']"
   ]
  },
  {
   "cell_type": "code",
   "execution_count": 36,
   "metadata": {},
   "outputs": [
    {
     "name": "stdout",
     "output_type": "stream",
     "text": [
      "Ada Boost best n estimator : 70\n",
      "Ada Boost best learning rate : 0.8\n",
      "Ada Boost best n estimator : 70\n",
      "Ada Boost best learning rate : 0.8\n"
     ]
    }
   ],
   "source": [
    "print(\"Ada Boost best n estimator : \" + str(best_n_estim_Pre))\n",
    "print(\"Ada Boost best learning rate : \" + str(best_learn_rate_A))\n",
    "\n",
    "print(\"Ada Boost best n estimator : \" + str(best_n_estim_Pre))\n",
    "print(\"Ada Boost best learning rate : \" + str(best_learn_rate_A))"
   ]
  },
  {
   "cell_type": "code",
   "execution_count": 37,
   "metadata": {},
   "outputs": [
    {
     "name": "stdout",
     "output_type": "stream",
     "text": [
      "3\n"
     ]
    }
   ],
   "source": [
    "AB_best_Pre = AdaBoostClassifier(n_estimators=best_n_estim_Pre,learning_rate=best_learn_rate_Pre,random_state=3)\n",
    "AB_best_A = AdaBoostClassifier(n_estimators=best_n_estim_A,learning_rate=best_learn_rate_A,random_state=3)\n",
    "\n",
    "AB_best_Pre.fit(X_train, Y_train);\n",
    "print(\"3\")\n",
    "AB_best_A.fit(Z_train, Q_train);"
   ]
  },
  {
   "cell_type": "markdown",
   "metadata": {},
   "source": [
    "##### SVM (Support Vector Machine)"
   ]
  },
  {
   "cell_type": "code",
   "execution_count": 59,
   "metadata": {},
   "outputs": [
    {
     "name": "stdout",
     "output_type": "stream",
     "text": [
      "1\n",
      "2\n"
     ]
    }
   ],
   "source": [
    "C_grid = [0.001, 0.01, 0.1, 1, 10]\n",
    "gamma_grid = [0.001, 0.01, 0.1, 1]\n",
    "parameters = {'C': C_grid, 'gamma' : gamma_grid}\n",
    "\n",
    "gridCV_Pre = GridSearchCV(SVC(kernel='rbf'), parameters, cv=10, n_jobs=4);\n",
    "gridCV_Pre.fit(X_train, Y_train)\n",
    "print(\"1\")\n",
    "\n",
    "gridCV_A = GridSearchCV(SVC(kernel='rbf'), parameters, cv=10, n_jobs=4);\n",
    "gridCV_A.fit(Z_train, Q_train)\n",
    "print(\"2\")\n",
    "\n",
    "best_C_Pre = gridCV_Pre.best_params_['C']\n",
    "best_gamma_Pre = gridCV_Pre.best_params_['gamma']\n",
    "\n",
    "best_C_A = gridCV_A.best_params_['C']\n",
    "best_gamma_A = gridCV_A.best_params_['gamma']"
   ]
  },
  {
   "cell_type": "code",
   "execution_count": 60,
   "metadata": {},
   "outputs": [
    {
     "name": "stdout",
     "output_type": "stream",
     "text": [
      "SVM best C : 1\n",
      "SVM best gamma : 0.1\n",
      "SVM best C : 1\n",
      "SVM best gamma : 1\n"
     ]
    }
   ],
   "source": [
    "print(\"SVM best C : \" + str(best_C_Pre))\n",
    "print(\"SVM best gamma : \" + str(best_gamma_Pre))\n",
    "\n",
    "print(\"SVM best C : \" + str(best_C_A))\n",
    "print(\"SVM best gamma : \" + str(best_gamma_A))"
   ]
  },
  {
   "cell_type": "code",
   "execution_count": 61,
   "metadata": {},
   "outputs": [
    {
     "name": "stdout",
     "output_type": "stream",
     "text": [
      "3\n"
     ]
    }
   ],
   "source": [
    "SVM_best_Pre = SVC(C=best_C_Pre,gamma=best_gamma_Pre)\n",
    "SVM_best_Pre.fit(X_train, Y_train);\n",
    "print(\"3\")\n",
    "\n",
    "SVM_best_A = SVC(C=best_C_A,gamma=best_gamma_A)\n",
    "SVM_best_A.fit(Z_train, Q_train);"
   ]
  },
  {
   "cell_type": "markdown",
   "metadata": {},
   "source": [
    "#### - 예측 및 검증"
   ]
  },
  {
   "cell_type": "code",
   "execution_count": 38,
   "metadata": {},
   "outputs": [
    {
     "name": "stdout",
     "output_type": "stream",
     "text": [
      "X_new.shape : (1, 9)\n",
      "Z_new.shape : (1, 9)\n"
     ]
    }
   ],
   "source": [
    "# X_new = np.array([[5,1,0,4.5,0,1,11,2,12]])\n",
    "# Z_new = np.array([[5,1,0,4.5,0,1,11,2,12]])\n",
    "# print(\"X_new.shape : {}\".format(X_new.shape))\n",
    "# print(\"Z_new.shape : {}\".format(Z_new.shape))"
   ]
  },
  {
   "cell_type": "code",
   "execution_count": 63,
   "metadata": {},
   "outputs": [
    {
     "name": "stdout",
     "output_type": "stream",
     "text": [
      "X_new.shape : (1, 19)\n",
      "Z_new.shape : (1, 19)\n"
     ]
    }
   ],
   "source": [
    "X_new = np.array([[0,3,11,2,1,0,0,1,1,0,0,0,0,0,1,0,0,4,3]])\n",
    "Z_new = np.array([[0,3,11,2,1,0,0,1,1,0,0,0,0,0,1,0,0,4,3]])\n",
    "print(\"X_new.shape : {}\".format(X_new.shape))\n",
    "print(\"Z_new.shape : {}\".format(Z_new.shape))"
   ]
  },
  {
   "cell_type": "code",
   "execution_count": 64,
   "metadata": {},
   "outputs": [],
   "source": [
    "target_Pre = {0:'보호중', 1:'입양기증', 2:'자연사안락사', 3:'반환', 4:'방사미포획'}\n",
    "target_A = {0:'입양X', 1:'입양O'}"
   ]
  },
  {
   "cell_type": "markdown",
   "metadata": {},
   "source": [
    "##### KNN"
   ]
  },
  {
   "cell_type": "code",
   "execution_count": null,
   "metadata": {},
   "outputs": [],
   "source": [
    "prediction_Pre = knn_Pre.predict(X_new)\n",
    "print(\"예측:{}\".format(prediction_Pre))\n",
    "p_Pre = int(prediction_Pre)\n",
    "print(\"예측한 타깃의 이름 : {}\".format(target_Pre[p_Pre]))\n",
    "\n",
    "prediction_A = knn_A.predict(X_new)\n",
    "print(\"예측:{}\".format(prediction_A))\n",
    "p_A = int(prediction_A)\n",
    "print(\"예측한 타깃의 이름 : {}\".format(target_A[p_A]))"
   ]
  },
  {
   "cell_type": "code",
   "execution_count": null,
   "metadata": {},
   "outputs": [],
   "source": [
    "#테스트데이터 사용 (모델을 만들때 사용하지 않았고, 테스트셋에 있는 각 붓꽃의 품종을 정확히 알고있음)\n",
    "Y_pred = knn_Pre.predict(X_test) \n",
    "print(\"테스트 셋에 대한 예측값: {}\".format(Y_pred))\n",
    "\n",
    "Q_pred = knn_A.predict(Z_test) \n",
    "print(\"테스트 셋에 대한 예측값: {}\".format(Q_pred))"
   ]
  },
  {
   "cell_type": "code",
   "execution_count": null,
   "metadata": {},
   "outputs": [],
   "source": [
    "print( \"KNN best accuracy : \" + str(np.round(metrics.accuracy_score(Y_test,Y_pred),3)))\n",
    "print( \"KNN best accuracy : \" + str(np.round(metrics.accuracy_score(Q_test,Q_pred),3)))"
   ]
  },
  {
   "cell_type": "markdown",
   "metadata": {},
   "source": [
    "##### Logistic Regression"
   ]
  },
  {
   "cell_type": "code",
   "execution_count": null,
   "metadata": {},
   "outputs": [],
   "source": [
    "prediction_Pre = glm_Pre.predict(X_new)\n",
    "print(\"예측:{}\".format(prediction_Pre))\n",
    "p_Pre = int(prediction_Pre)\n",
    "print(\"예측한 타깃의 이름 : {}\".format(target_Pre[p_Pre]))\n",
    "\n",
    "prediction_A = glm_A.predict(X_new)\n",
    "print(\"예측:{}\".format(prediction_A))\n",
    "p_A = int(prediction_A)\n",
    "print(\"예측한 타깃의 이름 : {}\".format(target_A[p_A]))"
   ]
  },
  {
   "cell_type": "code",
   "execution_count": null,
   "metadata": {},
   "outputs": [],
   "source": [
    "#테스트데이터 사용 (모델을 만들때 사용하지 않았고, 테스트셋에 있는 각 붓꽃의 품종을 정확히 알고있음)\n",
    "Y_pred = glm_Pre.predict(X_test) \n",
    "print(\"테스트 셋에 대한 예측값: {}\".format(Y_pred))\n",
    "\n",
    "Q_pred = glm_A.predict(Z_test) \n",
    "print(\"테스트 셋에 대한 예측값: {}\".format(Q_pred))"
   ]
  },
  {
   "cell_type": "code",
   "execution_count": null,
   "metadata": {},
   "outputs": [],
   "source": [
    "print( \"Logistic Regression best accuracy : \" + str(np.round(metrics.accuracy_score(Y_test,Y_pred),3)))\n",
    "print( \"Logistic Regression best accuracy : \" + str(np.round(metrics.accuracy_score(Q_test,Q_pred),3)))"
   ]
  },
  {
   "cell_type": "markdown",
   "metadata": {},
   "source": [
    "##### Naive Bayes"
   ]
  },
  {
   "cell_type": "code",
   "execution_count": null,
   "metadata": {},
   "outputs": [],
   "source": [
    "prediction_Pre = GNB_Pre.predict(X_new)\n",
    "print(\"예측:{}\".format(prediction_Pre))\n",
    "p_Pre = int(prediction_Pre)\n",
    "print(\"예측한 타깃의 이름 : {}\".format(target_Pre[p_Pre]))\n",
    "\n",
    "prediction_A = GNB_A.predict(X_new)\n",
    "print(\"예측:{}\".format(prediction_A))\n",
    "p_A = int(prediction_A)\n",
    "print(\"예측한 타깃의 이름 : {}\".format(target_A[p_A]))"
   ]
  },
  {
   "cell_type": "code",
   "execution_count": null,
   "metadata": {},
   "outputs": [],
   "source": [
    "#테스트데이터 사용 (모델을 만들때 사용하지 않았고, 테스트셋에 있는 각 붓꽃의 품종을 정확히 알고있음)\n",
    "Y_pred = GNB_Pre.predict(X_test) \n",
    "print(\"테스트 셋에 대한 예측값: {}\".format(Y_pred))\n",
    "\n",
    "Q_pred = GNB_A.predict(Z_test) \n",
    "print(\"테스트 셋에 대한 예측값: {}\".format(Q_pred))"
   ]
  },
  {
   "cell_type": "code",
   "execution_count": null,
   "metadata": {},
   "outputs": [],
   "source": [
    "print( \"Naive Bayes best accuracy : \" + str(np.round(metrics.accuracy_score(Y_test,Y_pred),3)))\n",
    "print( \"Naive Bayes best accuracy : \" + str(np.round(metrics.accuracy_score(Q_test,Q_pred),3)))"
   ]
  },
  {
   "cell_type": "markdown",
   "metadata": {},
   "source": [
    "##### Tree"
   ]
  },
  {
   "cell_type": "code",
   "execution_count": null,
   "metadata": {},
   "outputs": [],
   "source": [
    "prediction_Pre = DTC_best_Pre.predict(X_new)\n",
    "print(\"예측:{}\".format(prediction_Pre))\n",
    "p_Pre = int(prediction_Pre)\n",
    "print(\"예측한 타깃의 이름 : {}\".format(target_Pre[p_Pre]))\n",
    "\n",
    "prediction_A = DTC_best_A.predict(X_new)\n",
    "print(\"예측:{}\".format(prediction_A))\n",
    "p_A = int(prediction_A)\n",
    "print(\"예측한 타깃의 이름 : {}\".format(target_A[p_A]))"
   ]
  },
  {
   "cell_type": "code",
   "execution_count": null,
   "metadata": {},
   "outputs": [],
   "source": [
    "#테스트데이터 사용 (모델을 만들때 사용하지 않았고, 테스트셋에 있는 각 붓꽃의 품종을 정확히 알고있음)\n",
    "Y_pred = DTC_best_Pre.predict(X_test) \n",
    "print(\"테스트 셋에 대한 예측값: {}\".format(Y_pred))\n",
    "\n",
    "Q_pred = DTC_best_A.predict(Z_test) \n",
    "print(\"테스트 셋에 대한 예측값: {}\".format(Q_pred))"
   ]
  },
  {
   "cell_type": "code",
   "execution_count": null,
   "metadata": {},
   "outputs": [],
   "source": [
    "print( \"Tree best accuracy : \" + str(np.round(metrics.accuracy_score(Y_test,Y_pred),3)))\n",
    "print( \"Tree best accuracy : \" + str(np.round(metrics.accuracy_score(Q_test,Q_pred),3)))"
   ]
  },
  {
   "cell_type": "markdown",
   "metadata": {},
   "source": [
    "##### Random Forest"
   ]
  },
  {
   "cell_type": "code",
   "execution_count": null,
   "metadata": {},
   "outputs": [],
   "source": [
    "prediction_Pre = RF_best_Pre.predict(X_new)\n",
    "print(\"예측:{}\".format(prediction_Pre))\n",
    "p_Pre = int(prediction_Pre)\n",
    "print(\"예측한 타깃의 이름 : {}\".format(target_Pre[p_Pre]))\n",
    "\n",
    "prediction_A = RF_best_A.predict(X_new)\n",
    "print(\"예측:{}\".format(prediction_A))\n",
    "p_A = int(prediction_A)\n",
    "print(\"예측한 타깃의 이름 : {}\".format(target_A[p_A]))"
   ]
  },
  {
   "cell_type": "code",
   "execution_count": null,
   "metadata": {},
   "outputs": [],
   "source": [
    "#테스트데이터 사용 (모델을 만들때 사용하지 않았고, 테스트셋에 있는 각 붓꽃의 품종을 정확히 알고있음)\n",
    "Y_pred =RF_best_Pre.predict(X_test) \n",
    "print(\"테스트 셋에 대한 예측값: {}\".format(Y_pred))\n",
    "\n",
    "Q_pred = RF_best_A.predict(Z_test) \n",
    "print(\"테스트 셋에 대한 예측값: {}\".format(Q_pred))"
   ]
  },
  {
   "cell_type": "code",
   "execution_count": null,
   "metadata": {},
   "outputs": [],
   "source": [
    "print( \"Random Forest best accuracy : \" + str(np.round(metrics.accuracy_score(Y_test,Y_pred),3)))\n",
    "print( \"Random Forest best accuracy : \" + str(np.round(metrics.accuracy_score(Q_test,Q_pred),3)))"
   ]
  },
  {
   "cell_type": "markdown",
   "metadata": {},
   "source": [
    "##### AdaBoost"
   ]
  },
  {
   "cell_type": "code",
   "execution_count": 40,
   "metadata": {},
   "outputs": [
    {
     "name": "stdout",
     "output_type": "stream",
     "text": [
      "예측:[2]\n",
      "예측한 타깃의 이름 : 자연사안락사\n",
      "예측:[False]\n",
      "예측한 타깃의 이름 : 입양X\n"
     ]
    }
   ],
   "source": [
    "prediction_Pre = AB_best_Pre.predict(X_new)\n",
    "print(\"예측:{}\".format(prediction_Pre))\n",
    "p_Pre = int(prediction_Pre)\n",
    "print(\"예측한 타깃의 이름 : {}\".format(target_Pre[p_Pre]))\n",
    "\n",
    "prediction_A = AB_best_A.predict(X_new)\n",
    "print(\"예측:{}\".format(prediction_A))\n",
    "p_A = int(prediction_A)\n",
    "print(\"예측한 타깃의 이름 : {}\".format(target_A[p_A]))"
   ]
  },
  {
   "cell_type": "code",
   "execution_count": 41,
   "metadata": {},
   "outputs": [
    {
     "name": "stdout",
     "output_type": "stream",
     "text": [
      "테스트 셋에 대한 예측값: [2 2 2 ... 2 2 2]\n",
      "테스트 셋에 대한 예측값: [False False False ... False False False]\n"
     ]
    }
   ],
   "source": [
    "#테스트데이터 사용 (모델을 만들때 사용하지 않았고, 테스트셋에 있는 각 붓꽃의 품종을 정확히 알고있음)\n",
    "Y_pred =AB_best_Pre.predict(X_test) \n",
    "print(\"테스트 셋에 대한 예측값: {}\".format(Y_pred))\n",
    "\n",
    "Q_pred = AB_best_A.predict(Z_test) \n",
    "print(\"테스트 셋에 대한 예측값: {}\".format(Q_pred))"
   ]
  },
  {
   "cell_type": "code",
   "execution_count": 42,
   "metadata": {},
   "outputs": [
    {
     "name": "stdout",
     "output_type": "stream",
     "text": [
      "Ada Boost best accuracy : 0.63\n",
      "Ada Boost best accuracy : 0.694\n"
     ]
    }
   ],
   "source": [
    "print( \"Ada Boost best accuracy : \" + str(np.round(metrics.accuracy_score(Y_test,Y_pred),3)))\n",
    "print( \"Ada Boost best accuracy : \" + str(np.round(metrics.accuracy_score(Q_test,Q_pred),3)))"
   ]
  },
  {
   "cell_type": "markdown",
   "metadata": {},
   "source": [
    "##### SVM (Support Vector Machine)"
   ]
  },
  {
   "cell_type": "code",
   "execution_count": 65,
   "metadata": {},
   "outputs": [
    {
     "name": "stdout",
     "output_type": "stream",
     "text": [
      "예측:[2]\n",
      "예측한 타깃의 이름 : 자연사안락사\n",
      "예측:[False]\n",
      "예측한 타깃의 이름 : 입양X\n"
     ]
    }
   ],
   "source": [
    "prediction_Pre = SVM_best_Pre.predict(X_new)\n",
    "print(\"예측:{}\".format(prediction_Pre))\n",
    "p_Pre = int(prediction_Pre)\n",
    "print(\"예측한 타깃의 이름 : {}\".format(target_Pre[p_Pre]))\n",
    "\n",
    "prediction_A = SVM_best_A.predict(X_new)\n",
    "print(\"예측:{}\".format(prediction_A))\n",
    "p_A = int(prediction_A)\n",
    "print(\"예측한 타깃의 이름 : {}\".format(target_A[p_A]))"
   ]
  },
  {
   "cell_type": "code",
   "execution_count": 66,
   "metadata": {},
   "outputs": [
    {
     "name": "stdout",
     "output_type": "stream",
     "text": [
      "테스트 셋에 대한 예측값: [2 2 2 ... 2 1 2]\n",
      "테스트 셋에 대한 예측값: [ True False False ... False False False]\n"
     ]
    }
   ],
   "source": [
    "#테스트데이터 사용 (모델을 만들때 사용하지 않았고, 테스트셋에 있는 각 붓꽃의 품종을 정확히 알고있음)\n",
    "Y_pred =SVM_best_Pre.predict(X_test) \n",
    "print(\"테스트 셋에 대한 예측값: {}\".format(Y_pred))\n",
    "\n",
    "Q_pred = SVM_best_A.predict(Z_test) \n",
    "print(\"테스트 셋에 대한 예측값: {}\".format(Q_pred))"
   ]
  },
  {
   "cell_type": "code",
   "execution_count": 67,
   "metadata": {},
   "outputs": [
    {
     "name": "stdout",
     "output_type": "stream",
     "text": [
      "SVM best accuracy : 0.66\n",
      "SVM best accuracy : 0.703\n"
     ]
    }
   ],
   "source": [
    "print( \"SVM best accuracy : \" + str(np.round(metrics.accuracy_score(Y_test,Y_pred),3)))\n",
    "print( \"SVM best accuracy : \" + str(np.round(metrics.accuracy_score(Q_test,Q_pred),3)))"
   ]
  },
  {
   "cell_type": "markdown",
   "metadata": {},
   "source": [
    "##### - 검증2"
   ]
  },
  {
   "cell_type": "code",
   "execution_count": null,
   "metadata": {},
   "outputs": [],
   "source": [
    "# 예측값 y_pred와 기존의 정답인 y_test가 맞는지 확인\n",
    "print(\"테스트 셋에 대한 정확도 : {:.2f}\".format(np.mean(Y_pred == Y_test)))\n",
    "print(\"테스트 셋에 대한 정확도 : {:.2f}\".format(np.mean(Z_pred == Z_test)))"
   ]
  },
  {
   "cell_type": "code",
   "execution_count": null,
   "metadata": {},
   "outputs": [],
   "source": [
    "print(\"테스트 셋트에 대한 정확도 : {:.2f}\".format(knn_Pre.score(X_test, Y_test)))\n",
    "print(\"테스트 셋트에 대한 정확도 : {:.2f}\".format(knn_A.score(Z_test, Q_test)))"
   ]
  },
  {
   "cell_type": "code",
   "execution_count": null,
   "metadata": {},
   "outputs": [],
   "source": []
  },
  {
   "cell_type": "code",
   "execution_count": null,
   "metadata": {},
   "outputs": [],
   "source": []
  },
  {
   "cell_type": "code",
   "execution_count": null,
   "metadata": {},
   "outputs": [],
   "source": []
  }
 ],
 "metadata": {
  "kernelspec": {
   "display_name": "Python 3",
   "language": "python",
   "name": "python3"
  },
  "language_info": {
   "codemirror_mode": {
    "name": "ipython",
    "version": 3
   },
   "file_extension": ".py",
   "mimetype": "text/x-python",
   "name": "python",
   "nbconvert_exporter": "python",
   "pygments_lexer": "ipython3",
   "version": "3.7.0"
  }
 },
 "nbformat": 4,
 "nbformat_minor": 1
}
