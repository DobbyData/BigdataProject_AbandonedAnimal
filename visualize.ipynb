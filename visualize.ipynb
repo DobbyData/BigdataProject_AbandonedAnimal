{
 "cells": [
  {
   "cell_type": "code",
   "execution_count": 1,
   "metadata": {},
   "outputs": [],
   "source": [
    "import pandas as pd\n",
    "import numpy as np\n",
    "import matplotlib.pyplot as plt\n",
    "import matplotlib\n",
    "%matplotlib inline\n",
    "import seaborn as sns\n",
    "sns.set()"
   ]
  },
  {
   "cell_type": "code",
   "execution_count": 2,
   "metadata": {},
   "outputs": [],
   "source": [
    "df_15 = pd.read_csv(r'D:\\pycharmProject\\BigdataProject_AbandonedAnimal\\lostAnimal_20150101_20151231_vol3.csv', encoding='CP949')\n",
    "df_16 = pd.read_csv(r'D:\\pycharmProject\\BigdataProject_AbandonedAnimal\\lostAnimal_20160101_20161231_vol3.csv', encoding='CP949')\n",
    "df_17 = pd.read_csv(r'D:\\pycharmProject\\BigdataProject_AbandonedAnimal\\lostAnimal_20170101_20171231_vol3.csv', encoding='CP949')\n",
    "df_18 = pd.read_csv(r'D:\\pycharmProject\\BigdataProject_AbandonedAnimal\\lostAnimal_20180101_20181231_vol3.csv', encoding='CP949')\n",
    "df_09 = pd.read_csv(r'D:\\pycharmProject\\BigdataProject_AbandonedAnimal\\__result__\\crawling\\lostAnimal_20090101_20091231.csv', encoding='CP949')\n",
    "df_10 = pd.read_csv(r'D:\\pycharmProject\\BigdataProject_AbandonedAnimal\\__result__\\crawling\\lostAnimal_20100101_20101231.csv', encoding='CP949')\n",
    "df_11 = pd.read_csv(r'D:\\pycharmProject\\BigdataProject_AbandonedAnimal\\__result__\\crawling\\lostAnimal_20110101_20111231.csv', encoding='CP949')\n",
    "df_12 = pd.read_csv(r'D:\\pycharmProject\\BigdataProject_AbandonedAnimal\\__result__\\crawling\\lostAnimal_20120101_20121231.csv', encoding='CP949')\n",
    "df_13 = pd.read_csv(r'D:\\pycharmProject\\BigdataProject_AbandonedAnimal\\__result__\\crawling\\lostAnimal_20130101_20131231.csv', encoding='CP949')\n",
    "df_14 = pd.read_csv(r'D:\\pycharmProject\\BigdataProject_AbandonedAnimal\\__result__\\crawling\\lostAnimal_20140101_20141231.csv', encoding='CP949')"
   ]
  },
  {
   "cell_type": "code",
   "execution_count": 3,
   "metadata": {},
   "outputs": [
    {
     "data": {
      "text/html": [
       "<div>\n",
       "<style scoped>\n",
       "    .dataframe tbody tr th:only-of-type {\n",
       "        vertical-align: middle;\n",
       "    }\n",
       "\n",
       "    .dataframe tbody tr th {\n",
       "        vertical-align: top;\n",
       "    }\n",
       "\n",
       "    .dataframe thead th {\n",
       "        text-align: right;\n",
       "    }\n",
       "</style>\n",
       "<table border=\"1\" class=\"dataframe\">\n",
       "  <thead>\n",
       "    <tr style=\"text-align: right;\">\n",
       "      <th></th>\n",
       "      <th>2015</th>\n",
       "    </tr>\n",
       "  </thead>\n",
       "  <tbody>\n",
       "    <tr>\n",
       "      <th>Dogs</th>\n",
       "      <td>58220</td>\n",
       "    </tr>\n",
       "    <tr>\n",
       "      <th>Cats</th>\n",
       "      <td>20602</td>\n",
       "    </tr>\n",
       "    <tr>\n",
       "      <th>The_Others</th>\n",
       "      <td>923</td>\n",
       "    </tr>\n",
       "  </tbody>\n",
       "</table>\n",
       "</div>"
      ],
      "text/plain": [
       "             2015\n",
       "Dogs        58220\n",
       "Cats        20602\n",
       "The_Others    923"
      ]
     },
     "execution_count": 3,
     "metadata": {},
     "output_type": "execute_result"
    }
   ],
   "source": [
    "kind = df_15['kind'].value_counts()\n",
    "df_kind15 = pd.DataFrame([kind[0], kind[1], kind[2]], index = ['Dogs', 'Cats', 'The_Others'], columns=['2015'])\n",
    "df_kind15"
   ]
  },
  {
   "cell_type": "code",
   "execution_count": 4,
   "metadata": {},
   "outputs": [
    {
     "data": {
      "text/html": [
       "<div>\n",
       "<style scoped>\n",
       "    .dataframe tbody tr th:only-of-type {\n",
       "        vertical-align: middle;\n",
       "    }\n",
       "\n",
       "    .dataframe tbody tr th {\n",
       "        vertical-align: top;\n",
       "    }\n",
       "\n",
       "    .dataframe thead th {\n",
       "        text-align: right;\n",
       "    }\n",
       "</style>\n",
       "<table border=\"1\" class=\"dataframe\">\n",
       "  <thead>\n",
       "    <tr style=\"text-align: right;\">\n",
       "      <th></th>\n",
       "      <th>2016</th>\n",
       "    </tr>\n",
       "  </thead>\n",
       "  <tbody>\n",
       "    <tr>\n",
       "      <th>Dogs</th>\n",
       "      <td>62541</td>\n",
       "    </tr>\n",
       "    <tr>\n",
       "      <th>Cats</th>\n",
       "      <td>24539</td>\n",
       "    </tr>\n",
       "    <tr>\n",
       "      <th>The_Others</th>\n",
       "      <td>1095</td>\n",
       "    </tr>\n",
       "  </tbody>\n",
       "</table>\n",
       "</div>"
      ],
      "text/plain": [
       "             2016\n",
       "Dogs        62541\n",
       "Cats        24539\n",
       "The_Others   1095"
      ]
     },
     "execution_count": 4,
     "metadata": {},
     "output_type": "execute_result"
    }
   ],
   "source": [
    "kind = df_16['kind'].value_counts()\n",
    "df_kind16 = pd.DataFrame([kind[0], kind[1], kind[2]], index = ['Dogs', 'Cats', 'The_Others'], columns=['2016'])\n",
    "df_kind16"
   ]
  },
  {
   "cell_type": "code",
   "execution_count": 5,
   "metadata": {},
   "outputs": [
    {
     "data": {
      "text/html": [
       "<div>\n",
       "<style scoped>\n",
       "    .dataframe tbody tr th:only-of-type {\n",
       "        vertical-align: middle;\n",
       "    }\n",
       "\n",
       "    .dataframe tbody tr th {\n",
       "        vertical-align: top;\n",
       "    }\n",
       "\n",
       "    .dataframe thead th {\n",
       "        text-align: right;\n",
       "    }\n",
       "</style>\n",
       "<table border=\"1\" class=\"dataframe\">\n",
       "  <thead>\n",
       "    <tr style=\"text-align: right;\">\n",
       "      <th></th>\n",
       "      <th>2017</th>\n",
       "    </tr>\n",
       "  </thead>\n",
       "  <tbody>\n",
       "    <tr>\n",
       "      <th>Dogs</th>\n",
       "      <td>73023</td>\n",
       "    </tr>\n",
       "    <tr>\n",
       "      <th>Cats</th>\n",
       "      <td>26543</td>\n",
       "    </tr>\n",
       "    <tr>\n",
       "      <th>The_Others</th>\n",
       "      <td>1157</td>\n",
       "    </tr>\n",
       "  </tbody>\n",
       "</table>\n",
       "</div>"
      ],
      "text/plain": [
       "             2017\n",
       "Dogs        73023\n",
       "Cats        26543\n",
       "The_Others   1157"
      ]
     },
     "execution_count": 5,
     "metadata": {},
     "output_type": "execute_result"
    }
   ],
   "source": [
    "kind = df_17['kind'].value_counts()\n",
    "df_kind17 = pd.DataFrame([kind[0], kind[1], kind[2]], index = ['Dogs', 'Cats', 'The_Others'], columns=['2017'])\n",
    "df_kind17"
   ]
  },
  {
   "cell_type": "code",
   "execution_count": 6,
   "metadata": {},
   "outputs": [
    {
     "data": {
      "text/html": [
       "<div>\n",
       "<style scoped>\n",
       "    .dataframe tbody tr th:only-of-type {\n",
       "        vertical-align: middle;\n",
       "    }\n",
       "\n",
       "    .dataframe tbody tr th {\n",
       "        vertical-align: top;\n",
       "    }\n",
       "\n",
       "    .dataframe thead th {\n",
       "        text-align: right;\n",
       "    }\n",
       "</style>\n",
       "<table border=\"1\" class=\"dataframe\">\n",
       "  <thead>\n",
       "    <tr style=\"text-align: right;\">\n",
       "      <th></th>\n",
       "      <th>2018</th>\n",
       "    </tr>\n",
       "  </thead>\n",
       "  <tbody>\n",
       "    <tr>\n",
       "      <th>Dogs</th>\n",
       "      <td>60813</td>\n",
       "    </tr>\n",
       "    <tr>\n",
       "      <th>Cats</th>\n",
       "      <td>18725</td>\n",
       "    </tr>\n",
       "    <tr>\n",
       "      <th>The_Others</th>\n",
       "      <td>792</td>\n",
       "    </tr>\n",
       "  </tbody>\n",
       "</table>\n",
       "</div>"
      ],
      "text/plain": [
       "             2018\n",
       "Dogs        60813\n",
       "Cats        18725\n",
       "The_Others    792"
      ]
     },
     "execution_count": 6,
     "metadata": {},
     "output_type": "execute_result"
    }
   ],
   "source": [
    "kind = df_18['kind'].value_counts()\n",
    "df_kind18 = pd.DataFrame([kind[0], kind[1], kind[2]], index = ['Dogs', 'Cats', 'The_Others'], columns=['2018'])\n",
    "df_kind18"
   ]
  },
  {
   "cell_type": "code",
   "execution_count": 7,
   "metadata": {},
   "outputs": [
    {
     "data": {
      "text/html": [
       "<div>\n",
       "<style scoped>\n",
       "    .dataframe tbody tr th:only-of-type {\n",
       "        vertical-align: middle;\n",
       "    }\n",
       "\n",
       "    .dataframe tbody tr th {\n",
       "        vertical-align: top;\n",
       "    }\n",
       "\n",
       "    .dataframe thead th {\n",
       "        text-align: right;\n",
       "    }\n",
       "</style>\n",
       "<table border=\"1\" class=\"dataframe\">\n",
       "  <thead>\n",
       "    <tr style=\"text-align: right;\">\n",
       "      <th></th>\n",
       "      <th>2015</th>\n",
       "      <th>2016</th>\n",
       "      <th>2017</th>\n",
       "      <th>2018</th>\n",
       "    </tr>\n",
       "  </thead>\n",
       "  <tbody>\n",
       "    <tr>\n",
       "      <th>Dogs</th>\n",
       "      <td>58220</td>\n",
       "      <td>62541</td>\n",
       "      <td>73023</td>\n",
       "      <td>60813</td>\n",
       "    </tr>\n",
       "    <tr>\n",
       "      <th>Cats</th>\n",
       "      <td>20602</td>\n",
       "      <td>24539</td>\n",
       "      <td>26543</td>\n",
       "      <td>18725</td>\n",
       "    </tr>\n",
       "    <tr>\n",
       "      <th>The_Others</th>\n",
       "      <td>923</td>\n",
       "      <td>1095</td>\n",
       "      <td>1157</td>\n",
       "      <td>792</td>\n",
       "    </tr>\n",
       "  </tbody>\n",
       "</table>\n",
       "</div>"
      ],
      "text/plain": [
       "             2015   2016   2017   2018\n",
       "Dogs        58220  62541  73023  60813\n",
       "Cats        20602  24539  26543  18725\n",
       "The_Others    923   1095   1157    792"
      ]
     },
     "execution_count": 7,
     "metadata": {},
     "output_type": "execute_result"
    }
   ],
   "source": [
    "df_kind = pd.concat([df_kind15, df_kind16, df_kind17, df_kind18], axis=1)  # 표 합치기\n",
    "df_kind"
   ]
  },
  {
   "cell_type": "code",
   "execution_count": 8,
   "metadata": {},
   "outputs": [
    {
     "data": {
      "text/html": [
       "<div>\n",
       "<style scoped>\n",
       "    .dataframe tbody tr th:only-of-type {\n",
       "        vertical-align: middle;\n",
       "    }\n",
       "\n",
       "    .dataframe tbody tr th {\n",
       "        vertical-align: top;\n",
       "    }\n",
       "\n",
       "    .dataframe thead th {\n",
       "        text-align: right;\n",
       "    }\n",
       "</style>\n",
       "<table border=\"1\" class=\"dataframe\">\n",
       "  <thead>\n",
       "    <tr style=\"text-align: right;\">\n",
       "      <th></th>\n",
       "      <th>2015</th>\n",
       "      <th>2016</th>\n",
       "      <th>2017</th>\n",
       "      <th>2018</th>\n",
       "    </tr>\n",
       "  </thead>\n",
       "  <tbody>\n",
       "    <tr>\n",
       "      <th>Dogs</th>\n",
       "      <td>58220</td>\n",
       "      <td>62541</td>\n",
       "      <td>73023</td>\n",
       "      <td>60813</td>\n",
       "    </tr>\n",
       "    <tr>\n",
       "      <th>Cats</th>\n",
       "      <td>20602</td>\n",
       "      <td>24539</td>\n",
       "      <td>26543</td>\n",
       "      <td>18725</td>\n",
       "    </tr>\n",
       "    <tr>\n",
       "      <th>The_Others</th>\n",
       "      <td>923</td>\n",
       "      <td>1095</td>\n",
       "      <td>1157</td>\n",
       "      <td>792</td>\n",
       "    </tr>\n",
       "    <tr>\n",
       "      <th>Total</th>\n",
       "      <td>79745</td>\n",
       "      <td>88175</td>\n",
       "      <td>100723</td>\n",
       "      <td>80330</td>\n",
       "    </tr>\n",
       "  </tbody>\n",
       "</table>\n",
       "</div>"
      ],
      "text/plain": [
       "             2015   2016    2017   2018\n",
       "Dogs        58220  62541   73023  60813\n",
       "Cats        20602  24539   26543  18725\n",
       "The_Others    923   1095    1157    792\n",
       "Total       79745  88175  100723  80330"
      ]
     },
     "execution_count": 8,
     "metadata": {},
     "output_type": "execute_result"
    }
   ],
   "source": [
    "df_kind.loc['Total'] = df_kind.select_dtypes(pd.np.number).sum()\n",
    "df_kind"
   ]
  },
  {
   "cell_type": "code",
   "execution_count": 9,
   "metadata": {
    "scrolled": true
   },
   "outputs": [
    {
     "data": {
      "text/plain": [
       "<matplotlib.axes._subplots.AxesSubplot at 0x178db1a2b38>"
      ]
     },
     "execution_count": 9,
     "metadata": {},
     "output_type": "execute_result"
    },
    {
     "data": {
      "image/png": "[encoded data removed]",
      "text/plain": [
       "<Figure size 720x576 with 4 Axes>"
      ]
     },
     "metadata": {
      "needs_background": "light"
     },
     "output_type": "display_data"
    }
   ],
   "source": [
    "fig, axs = plt.subplots(2, 2, squeeze=False, figsize=(10, 8))\n",
    "df_kind['2015'].plot(kind='bar', ax=axs[0,0])\n",
    "df_kind['2016'].plot(kind='bar', ax=axs[0,1])\n",
    "df_kind['2017'].plot(kind='bar', ax=axs[1,0])\n",
    "df_kind['2018'].plot(kind='bar', ax=axs[1,1])\n",
    "# graph_2015 = df_kind['2015'].plot(kind='bar')"
   ]
  },
  {
   "cell_type": "code",
   "execution_count": 10,
   "metadata": {},
   "outputs": [],
   "source": [
    "cnt_09 = df_09.count().max()\n",
    "cnt_10 = df_10.count().max()\n",
    "cnt_11 = df_11.count().max()\n",
    "cnt_12 = df_12.count().max()\n",
    "cnt_13 = df_13.count().max()\n",
    "cnt_14 = df_14.count().max()\n",
    "cnt_15 = df_15.count().max()\n",
    "cnt_16 = df_16.count().max()\n",
    "cnt_17 = df_17.count().max()\n",
    "df_total = pd.Series([cnt_09, cnt_10, cnt_11, cnt_12, cnt_13, cnt_14,\n",
    "                      cnt_15, cnt_16, cnt_17], index=range(9,18))"
   ]
  },
  {
   "cell_type": "code",
   "execution_count": 11,
   "metadata": {
    "scrolled": true
   },
   "outputs": [
    {
     "name": "stdout",
     "output_type": "stream",
     "text": [
      "9      24943\n",
      "10     62848\n",
      "11     60603\n",
      "12     76960\n",
      "13     81827\n",
      "14     79250\n",
      "15     79745\n",
      "16     88175\n",
      "17    100723\n",
      "dtype: int64\n"
     ]
    },
    {
     "data": {
      "text/plain": [
       "<matplotlib.axes._subplots.AxesSubplot at 0x178db1013c8>"
      ]
     },
     "execution_count": 11,
     "metadata": {},
     "output_type": "execute_result"
    },
    {
     "data": {
      "image/png": "[encoded data removed]",
      "text/plain": [
       "<Figure size 432x288 with 1 Axes>"
      ]
     },
     "metadata": {
      "needs_background": "light"
     },
     "output_type": "display_data"
    }
   ],
   "source": [
    "print(df_total)\n",
    "df_total.plot(kind='bar')"
   ]
  },
  {
   "cell_type": "code",
   "execution_count": 12,
   "metadata": {},
   "outputs": [
    {
     "data": {
      "text/plain": [
       "종료(안락사)    8775\n",
       "종료(입양)     6573\n",
       "종료(자연사)    3949\n",
       "종료(방사)     2638\n",
       "보호중        1445\n",
       "종료(반환)     1343\n",
       "종료(기증)      162\n",
       "종료(미포획)      39\n",
       "종료()         19\n",
       "Name: processState, dtype: int64"
      ]
     },
     "execution_count": 12,
     "metadata": {},
     "output_type": "execute_result"
    }
   ],
   "source": [
    "df_09['processState'].value_counts()"
   ]
  },
  {
   "cell_type": "code",
   "execution_count": 13,
   "metadata": {},
   "outputs": [],
   "source": [
    "mkilling_09 = (df_09['processState'] == '종료(안락사)').sum()\n",
    "mkilling_10 = (df_10['processState'] == '종료(안락사)').sum()\n",
    "mkilling_11 = (df_11['processState'] == '종료(안락사)').sum()\n",
    "mkilling_12 = (df_12['processState'] == '종료(안락사)').sum()\n",
    "mkilling_13 = (df_13['processState'] == '종료(안락사)').sum()\n",
    "mkilling_14 = (df_14['processState'] == '종료(안락사)').sum()\n",
    "mkilling_15 = (df_15['processState'] == '종료(안락사)').sum()\n",
    "mkilling_16 = (df_16['processState'] == '종료(안락사)').sum()\n",
    "mkilling_17 = (df_17['processState'] == '종료(안락사)').sum()\n",
    "df_mkilling = pd.Series([mkilling_09, mkilling_10, mkilling_11, mkilling_12, mkilling_13, mkilling_14,\n",
    "                      mkilling_15, mkilling_16, mkilling_17], index=range(9,18))"
   ]
  },
  {
   "cell_type": "code",
   "execution_count": 14,
   "metadata": {
    "scrolled": true
   },
   "outputs": [
    {
     "name": "stdout",
     "output_type": "stream",
     "text": [
      "9      8775\n",
      "10    19438\n",
      "11    16907\n",
      "12    19646\n",
      "13    21547\n",
      "14    19066\n",
      "15    17001\n",
      "16    18478\n",
      "17    20722\n",
      "dtype: int64\n"
     ]
    },
    {
     "data": {
      "text/plain": [
       "<matplotlib.axes._subplots.AxesSubplot at 0x178db2c6a20>"
      ]
     },
     "execution_count": 14,
     "metadata": {},
     "output_type": "execute_result"
    },
    {
     "data": {
      "image/png": "[encoded data removed]",
      "text/plain": [
       "<Figure size 432x288 with 1 Axes>"
      ]
     },
     "metadata": {
      "needs_background": "light"
     },
     "output_type": "display_data"
    }
   ],
   "source": [
    "print(df_mkilling)\n",
    "df_mkilling.plot(kind='bar')"
   ]
  },
  {
   "cell_type": "code",
   "execution_count": 15,
   "metadata": {},
   "outputs": [],
   "source": [
    "death_09 = (df_09['processState'] == '종료(자연사)').sum()\n",
    "death_10 = (df_10['processState'] == '종료(자연사)').sum()\n",
    "death_11 = (df_11['processState'] == '종료(자연사)').sum()\n",
    "death_12 = (df_12['processState'] == '종료(자연사)').sum()\n",
    "death_13 = (df_13['processState'] == '종료(자연사)').sum()\n",
    "death_14 = (df_14['processState'] == '종료(자연사)').sum()\n",
    "death_15 = (df_15['processState'] == '종료(자연사)').sum()\n",
    "death_16 = (df_16['processState'] == '종료(자연사)').sum()\n",
    "death_17 = (df_17['processState'] == '종료(자연사)').sum()\n",
    "df_death = pd.Series([death_09, death_10, death_11, death_12, death_13, death_14,\n",
    "                      death_15, death_16, death_17], index=range(9,18))"
   ]
  },
  {
   "cell_type": "code",
   "execution_count": 16,
   "metadata": {
    "scrolled": true
   },
   "outputs": [
    {
     "name": "stdout",
     "output_type": "stream",
     "text": [
      "9      3949\n",
      "10    13150\n",
      "11    13453\n",
      "12    19130\n",
      "13    20395\n",
      "14    18713\n",
      "15    19328\n",
      "16    22817\n",
      "17    27427\n",
      "dtype: int64\n"
     ]
    },
    {
     "data": {
      "text/plain": [
       "<matplotlib.axes._subplots.AxesSubplot at 0x178db335518>"
      ]
     },
     "execution_count": 16,
     "metadata": {},
     "output_type": "execute_result"
    },
    {
     "data": {
      "image/png": "[encoded data removed]",
      "text/plain": [
       "<Figure size 432x288 with 1 Axes>"
      ]
     },
     "metadata": {
      "needs_background": "light"
     },
     "output_type": "display_data"
    }
   ],
   "source": [
    "print(df_death)\n",
    "df_death.plot(kind='bar')"
   ]
  },
  {
   "cell_type": "code",
   "execution_count": 17,
   "metadata": {},
   "outputs": [],
   "source": [
    "adopt_09 = (df_09['processState'] == '종료(입양)').sum()\n",
    "adopt_10 = (df_10['processState'] == '종료(입양)').sum()\n",
    "adopt_11 = (df_11['processState'] == '종료(입양)').sum()\n",
    "adopt_12 = (df_12['processState'] == '종료(입양)').sum()\n",
    "adopt_13 = (df_13['processState'] == '종료(입양)').sum()\n",
    "adopt_14 = (df_14['processState'] == '종료(입양)').sum()\n",
    "adopt_15 = (df_15['processState'] == '종료(입양)').sum()\n",
    "adopt_16 = (df_16['processState'] == '종료(입양)').sum()\n",
    "adopt_17 = (df_17['processState'] == '종료(입양)').sum()\n",
    "df_adopt = pd.Series([adopt_09, adopt_10, adopt_11, adopt_12, adopt_13, adopt_14,\n",
    "                      adopt_15, adopt_16, adopt_17], index=range(9,18))"
   ]
  },
  {
   "cell_type": "code",
   "execution_count": 18,
   "metadata": {
    "scrolled": true
   },
   "outputs": [
    {
     "name": "stdout",
     "output_type": "stream",
     "text": [
      "9      6573\n",
      "10    16187\n",
      "11    15543\n",
      "12    20707\n",
      "13    25183\n",
      "14    26446\n",
      "15    27764\n",
      "16    28823\n",
      "17    31120\n",
      "dtype: int64\n"
     ]
    },
    {
     "data": {
      "text/plain": [
       "<matplotlib.axes._subplots.AxesSubplot at 0x178db3a51d0>"
      ]
     },
     "execution_count": 18,
     "metadata": {},
     "output_type": "execute_result"
    },
    {
     "data": {
      "image/png": "[encoded data removed]",
      "text/plain": [
       "<Figure size 432x288 with 1 Axes>"
      ]
     },
     "metadata": {
      "needs_background": "light"
     },
     "output_type": "display_data"
    }
   ],
   "source": [
    "print(df_adopt)\n",
    "df_adopt.plot(kind='bar')"
   ]
  },
  {
   "cell_type": "code",
   "execution_count": 19,
   "metadata": {},
   "outputs": [],
   "source": [
    "donate_09 = (df_09['processState'] == '종료(기증)').sum()\n",
    "donate_10 = (df_10['processState'] == '종료(기증)').sum()\n",
    "donate_11 = (df_11['processState'] == '종료(기증)').sum()\n",
    "donate_12 = (df_12['processState'] == '종료(기증)').sum()\n",
    "donate_13 = (df_13['processState'] == '종료(기증)').sum()\n",
    "donate_14 = (df_14['processState'] == '종료(기증)').sum()\n",
    "donate_15 = (df_15['processState'] == '종료(기증)').sum()\n",
    "donate_16 = (df_16['processState'] == '종료(기증)').sum()\n",
    "donate_17 = (df_17['processState'] == '종료(기증)').sum()\n",
    "df_donate = pd.Series([donate_09, donate_10, donate_11, donate_12, donate_13, donate_14,\n",
    "                      donate_15, donate_16, donate_17], index=range(9,18))"
   ]
  },
  {
   "cell_type": "code",
   "execution_count": 20,
   "metadata": {
    "scrolled": true
   },
   "outputs": [
    {
     "name": "stdout",
     "output_type": "stream",
     "text": [
      "9      162\n",
      "10    1690\n",
      "11     700\n",
      "12     620\n",
      "13     749\n",
      "14    1163\n",
      "15    1366\n",
      "16    1691\n",
      "17    2077\n",
      "dtype: int64\n"
     ]
    },
    {
     "data": {
      "text/plain": [
       "<matplotlib.axes._subplots.AxesSubplot at 0x178db5b99e8>"
      ]
     },
     "execution_count": 20,
     "metadata": {},
     "output_type": "execute_result"
    },
    {
     "data": {
      "image/png": "[encoded data removed]",
      "text/plain": [
       "<Figure size 432x288 with 1 Axes>"
      ]
     },
     "metadata": {
      "needs_background": "light"
     },
     "output_type": "display_data"
    }
   ],
   "source": [
    "print(df_donate)\n",
    "df_donate.plot(kind='bar')"
   ]
  },
  {
   "cell_type": "code",
   "execution_count": 21,
   "metadata": {},
   "outputs": [],
   "source": [
    "return_09 = (df_09['processState'] == '종료(반환)').sum()\n",
    "return_10 = (df_10['processState'] == '종료(반환)').sum()\n",
    "return_11 = (df_11['processState'] == '종료(반환)').sum()\n",
    "return_12 = (df_12['processState'] == '종료(반환)').sum()\n",
    "return_13 = (df_13['processState'] == '종료(반환)').sum()\n",
    "return_14 = (df_14['processState'] == '종료(반환)').sum()\n",
    "return_15 = (df_15['processState'] == '종료(반환)').sum()\n",
    "return_16 = (df_16['processState'] == '종료(반환)').sum()\n",
    "return_17 = (df_17['processState'] == '종료(반환)').sum()\n",
    "df_return = pd.Series([return_09, return_10, return_11, return_12, return_13, return_14,\n",
    "                      return_15, return_16, return_17], index=range(9,18))"
   ]
  },
  {
   "cell_type": "code",
   "execution_count": 22,
   "metadata": {
    "scrolled": true
   },
   "outputs": [
    {
     "name": "stdout",
     "output_type": "stream",
     "text": [
      "9      1343\n",
      "10     4609\n",
      "11     5301\n",
      "12     6947\n",
      "13     9246\n",
      "14    10398\n",
      "15    11936\n",
      "16    13647\n",
      "17    14731\n",
      "dtype: int64\n"
     ]
    },
    {
     "data": {
      "text/plain": [
       "<matplotlib.axes._subplots.AxesSubplot at 0x178db61f1d0>"
      ]
     },
     "execution_count": 22,
     "metadata": {},
     "output_type": "execute_result"
    },
    {
     "data": {
      "image/png": "[encoded data removed]",
      "text/plain": [
       "<Figure size 432x288 with 1 Axes>"
      ]
     },
     "metadata": {
      "needs_background": "light"
     },
     "output_type": "display_data"
    }
   ],
   "source": [
    "print(df_return)\n",
    "df_return.plot(kind='bar')"
   ]
  },
  {
   "cell_type": "code",
   "execution_count": 23,
   "metadata": {},
   "outputs": [],
   "source": [
    "pasture_09 = (df_09['processState'] == '종료(방사)').sum()\n",
    "pasture_10 = (df_10['processState'] == '종료(방사)').sum()\n",
    "pasture_11 = (df_11['processState'] == '종료(방사)').sum()\n",
    "pasture_12 = (df_12['processState'] == '종료(방사)').sum()\n",
    "pasture_13 = (df_13['processState'] == '종료(방사)').sum()\n",
    "pasture_14 = (df_14['processState'] == '종료(방사)').sum()\n",
    "pasture_15 = (df_15['processState'] == '종료(방사)').sum()\n",
    "pasture_16 = (df_16['processState'] == '종료(방사)').sum()\n",
    "pasture_17 = (df_17['processState'] == '종료(방사)').sum()\n",
    "df_pasture = pd.Series([pasture_09, pasture_10, pasture_11, pasture_12, pasture_13, pasture_14,\n",
    "                      pasture_15, pasture_16, pasture_17], index=range(9,18))"
   ]
  },
  {
   "cell_type": "code",
   "execution_count": 24,
   "metadata": {
    "scrolled": true
   },
   "outputs": [
    {
     "name": "stdout",
     "output_type": "stream",
     "text": [
      "9     2638\n",
      "10    2108\n",
      "11    3766\n",
      "12    6371\n",
      "13    2670\n",
      "14    1082\n",
      "15     856\n",
      "16     915\n",
      "17     933\n",
      "dtype: int64\n"
     ]
    },
    {
     "data": {
      "text/plain": [
       "<matplotlib.axes._subplots.AxesSubplot at 0x178db69e9e8>"
      ]
     },
     "execution_count": 24,
     "metadata": {},
     "output_type": "execute_result"
    },
    {
     "data": {
      "image/png": "[encoded data removed]",
      "text/plain": [
       "<Figure size 432x288 with 1 Axes>"
      ]
     },
     "metadata": {
      "needs_background": "light"
     },
     "output_type": "display_data"
    }
   ],
   "source": [
    "print(df_pasture)\n",
    "df_pasture.plot(kind='bar')"
   ]
  },
  {
   "cell_type": "code",
   "execution_count": 25,
   "metadata": {},
   "outputs": [],
   "source": [
    "shelter_09 = (df_09['processState'] == '보호중').sum()\n",
    "shelter_10 = (df_10['processState'] == '보호중').sum()\n",
    "shelter_11 = (df_11['processState'] == '보호중').sum()\n",
    "shelter_12 = (df_12['processState'] == '보호중').sum()\n",
    "shelter_13 = (df_13['processState'] == '보호중').sum()\n",
    "shelter_14 = (df_14['processState'] == '보호중').sum()\n",
    "shelter_15 = (df_15['processState'] == '보호중').sum()\n",
    "shelter_16 = (df_16['processState'] == '보호중').sum()\n",
    "shelter_17 = (df_17['processState'] == '보호중').sum()\n",
    "df_shelter = pd.Series([shelter_09, shelter_10, shelter_11, shelter_12, shelter_13, shelter_14,\n",
    "                      shelter_15, shelter_16, shelter_17], index=range(9,18))"
   ]
  },
  {
   "cell_type": "code",
   "execution_count": 26,
   "metadata": {
    "scrolled": true
   },
   "outputs": [
    {
     "name": "stdout",
     "output_type": "stream",
     "text": [
      "9     1445\n",
      "10    5258\n",
      "11    4876\n",
      "12    3502\n",
      "13    1877\n",
      "14    2312\n",
      "15    1455\n",
      "16    1741\n",
      "17    3635\n",
      "dtype: int64\n"
     ]
    },
    {
     "data": {
      "text/plain": [
       "<matplotlib.axes._subplots.AxesSubplot at 0x178db711a58>"
      ]
     },
     "execution_count": 26,
     "metadata": {},
     "output_type": "execute_result"
    },
    {
     "data": {
      "image/png": "[encoded data removed]",
      "text/plain": [
       "<Figure size 432x288 with 1 Axes>"
      ]
     },
     "metadata": {
      "needs_background": "light"
     },
     "output_type": "display_data"
    }
   ],
   "source": [
    "print(df_shelter)\n",
    "df_shelter.plot(kind='bar')"
   ]
  },
  {
   "cell_type": "code",
   "execution_count": 27,
   "metadata": {},
   "outputs": [
    {
     "data": {
      "text/html": [
       "<div>\n",
       "<style scoped>\n",
       "    .dataframe tbody tr th:only-of-type {\n",
       "        vertical-align: middle;\n",
       "    }\n",
       "\n",
       "    .dataframe tbody tr th {\n",
       "        vertical-align: top;\n",
       "    }\n",
       "\n",
       "    .dataframe thead th {\n",
       "        text-align: right;\n",
       "    }\n",
       "</style>\n",
       "<table border=\"1\" class=\"dataframe\">\n",
       "  <thead>\n",
       "    <tr style=\"text-align: right;\">\n",
       "      <th></th>\n",
       "      <th>total</th>\n",
       "      <th>안락사</th>\n",
       "      <th>자연사</th>\n",
       "      <th>입양</th>\n",
       "      <th>기증</th>\n",
       "      <th>반환</th>\n",
       "      <th>방사</th>\n",
       "      <th>보호중</th>\n",
       "    </tr>\n",
       "  </thead>\n",
       "  <tbody>\n",
       "    <tr>\n",
       "      <th>9</th>\n",
       "      <td>24943</td>\n",
       "      <td>8775</td>\n",
       "      <td>3949</td>\n",
       "      <td>6573</td>\n",
       "      <td>162</td>\n",
       "      <td>1343</td>\n",
       "      <td>2638</td>\n",
       "      <td>1445</td>\n",
       "    </tr>\n",
       "    <tr>\n",
       "      <th>10</th>\n",
       "      <td>62848</td>\n",
       "      <td>19438</td>\n",
       "      <td>13150</td>\n",
       "      <td>16187</td>\n",
       "      <td>1690</td>\n",
       "      <td>4609</td>\n",
       "      <td>2108</td>\n",
       "      <td>5258</td>\n",
       "    </tr>\n",
       "    <tr>\n",
       "      <th>11</th>\n",
       "      <td>60603</td>\n",
       "      <td>16907</td>\n",
       "      <td>13453</td>\n",
       "      <td>15543</td>\n",
       "      <td>700</td>\n",
       "      <td>5301</td>\n",
       "      <td>3766</td>\n",
       "      <td>4876</td>\n",
       "    </tr>\n",
       "    <tr>\n",
       "      <th>12</th>\n",
       "      <td>76960</td>\n",
       "      <td>19646</td>\n",
       "      <td>19130</td>\n",
       "      <td>20707</td>\n",
       "      <td>620</td>\n",
       "      <td>6947</td>\n",
       "      <td>6371</td>\n",
       "      <td>3502</td>\n",
       "    </tr>\n",
       "    <tr>\n",
       "      <th>13</th>\n",
       "      <td>81827</td>\n",
       "      <td>21547</td>\n",
       "      <td>20395</td>\n",
       "      <td>25183</td>\n",
       "      <td>749</td>\n",
       "      <td>9246</td>\n",
       "      <td>2670</td>\n",
       "      <td>1877</td>\n",
       "    </tr>\n",
       "    <tr>\n",
       "      <th>14</th>\n",
       "      <td>79250</td>\n",
       "      <td>19066</td>\n",
       "      <td>18713</td>\n",
       "      <td>26446</td>\n",
       "      <td>1163</td>\n",
       "      <td>10398</td>\n",
       "      <td>1082</td>\n",
       "      <td>2312</td>\n",
       "    </tr>\n",
       "    <tr>\n",
       "      <th>15</th>\n",
       "      <td>79745</td>\n",
       "      <td>17001</td>\n",
       "      <td>19328</td>\n",
       "      <td>27764</td>\n",
       "      <td>1366</td>\n",
       "      <td>11936</td>\n",
       "      <td>856</td>\n",
       "      <td>1455</td>\n",
       "    </tr>\n",
       "    <tr>\n",
       "      <th>16</th>\n",
       "      <td>88175</td>\n",
       "      <td>18478</td>\n",
       "      <td>22817</td>\n",
       "      <td>28823</td>\n",
       "      <td>1691</td>\n",
       "      <td>13647</td>\n",
       "      <td>915</td>\n",
       "      <td>1741</td>\n",
       "    </tr>\n",
       "    <tr>\n",
       "      <th>17</th>\n",
       "      <td>100723</td>\n",
       "      <td>20722</td>\n",
       "      <td>27427</td>\n",
       "      <td>31120</td>\n",
       "      <td>2077</td>\n",
       "      <td>14731</td>\n",
       "      <td>933</td>\n",
       "      <td>3635</td>\n",
       "    </tr>\n",
       "  </tbody>\n",
       "</table>\n",
       "</div>"
      ],
      "text/plain": [
       "     total    안락사    자연사     입양    기증     반환    방사   보호중\n",
       "9    24943   8775   3949   6573   162   1343  2638  1445\n",
       "10   62848  19438  13150  16187  1690   4609  2108  5258\n",
       "11   60603  16907  13453  15543   700   5301  3766  4876\n",
       "12   76960  19646  19130  20707   620   6947  6371  3502\n",
       "13   81827  21547  20395  25183   749   9246  2670  1877\n",
       "14   79250  19066  18713  26446  1163  10398  1082  2312\n",
       "15   79745  17001  19328  27764  1366  11936   856  1455\n",
       "16   88175  18478  22817  28823  1691  13647   915  1741\n",
       "17  100723  20722  27427  31120  2077  14731   933  3635"
      ]
     },
     "execution_count": 27,
     "metadata": {},
     "output_type": "execute_result"
    }
   ],
   "source": [
    "df_state = pd.concat([df_total, df_mkilling, df_death, df_adopt, df_donate, df_return, df_pasture, df_shelter],\n",
    "                     keys=('total', '안락사', '자연사', '입양', '기증', '반환', '방사', '보호중'), axis=1)  # 표 합치기\n",
    "df_state"
   ]
  },
  {
   "cell_type": "code",
   "execution_count": 28,
   "metadata": {
    "scrolled": true
   },
   "outputs": [
    {
     "data": {
      "text/html": [
       "<div>\n",
       "<style scoped>\n",
       "    .dataframe tbody tr th:only-of-type {\n",
       "        vertical-align: middle;\n",
       "    }\n",
       "\n",
       "    .dataframe tbody tr th {\n",
       "        vertical-align: top;\n",
       "    }\n",
       "\n",
       "    .dataframe thead th {\n",
       "        text-align: right;\n",
       "    }\n",
       "</style>\n",
       "<table border=\"1\" class=\"dataframe\">\n",
       "  <thead>\n",
       "    <tr style=\"text-align: right;\">\n",
       "      <th></th>\n",
       "      <th>total</th>\n",
       "      <th>안락사</th>\n",
       "      <th>자연사</th>\n",
       "      <th>입양</th>\n",
       "      <th>기증</th>\n",
       "      <th>반환</th>\n",
       "      <th>방사</th>\n",
       "      <th>보호중</th>\n",
       "    </tr>\n",
       "  </thead>\n",
       "  <tbody>\n",
       "    <tr>\n",
       "      <th>count</th>\n",
       "      <td>9.000000</td>\n",
       "      <td>9.000000</td>\n",
       "      <td>9.000000</td>\n",
       "      <td>9.000000</td>\n",
       "      <td>9.000000</td>\n",
       "      <td>9.000000</td>\n",
       "      <td>9.000000</td>\n",
       "      <td>9.000000</td>\n",
       "    </tr>\n",
       "    <tr>\n",
       "      <th>mean</th>\n",
       "      <td>72786.000000</td>\n",
       "      <td>17953.333333</td>\n",
       "      <td>17595.777778</td>\n",
       "      <td>22038.444444</td>\n",
       "      <td>1135.333333</td>\n",
       "      <td>8684.222222</td>\n",
       "      <td>2371.000000</td>\n",
       "      <td>2900.111111</td>\n",
       "    </tr>\n",
       "    <tr>\n",
       "      <th>std</th>\n",
       "      <td>21629.875768</td>\n",
       "      <td>3765.072509</td>\n",
       "      <td>6722.299138</td>\n",
       "      <td>7968.567345</td>\n",
       "      <td>623.382306</td>\n",
       "      <td>4471.919129</td>\n",
       "      <td>1813.849842</td>\n",
       "      <td>1470.882936</td>\n",
       "    </tr>\n",
       "    <tr>\n",
       "      <th>min</th>\n",
       "      <td>24943.000000</td>\n",
       "      <td>8775.000000</td>\n",
       "      <td>3949.000000</td>\n",
       "      <td>6573.000000</td>\n",
       "      <td>162.000000</td>\n",
       "      <td>1343.000000</td>\n",
       "      <td>856.000000</td>\n",
       "      <td>1445.000000</td>\n",
       "    </tr>\n",
       "    <tr>\n",
       "      <th>25%</th>\n",
       "      <td>62848.000000</td>\n",
       "      <td>17001.000000</td>\n",
       "      <td>13453.000000</td>\n",
       "      <td>16187.000000</td>\n",
       "      <td>700.000000</td>\n",
       "      <td>5301.000000</td>\n",
       "      <td>933.000000</td>\n",
       "      <td>1741.000000</td>\n",
       "    </tr>\n",
       "    <tr>\n",
       "      <th>50%</th>\n",
       "      <td>79250.000000</td>\n",
       "      <td>19066.000000</td>\n",
       "      <td>19130.000000</td>\n",
       "      <td>25183.000000</td>\n",
       "      <td>1163.000000</td>\n",
       "      <td>9246.000000</td>\n",
       "      <td>2108.000000</td>\n",
       "      <td>2312.000000</td>\n",
       "    </tr>\n",
       "    <tr>\n",
       "      <th>75%</th>\n",
       "      <td>81827.000000</td>\n",
       "      <td>19646.000000</td>\n",
       "      <td>20395.000000</td>\n",
       "      <td>27764.000000</td>\n",
       "      <td>1690.000000</td>\n",
       "      <td>11936.000000</td>\n",
       "      <td>2670.000000</td>\n",
       "      <td>3635.000000</td>\n",
       "    </tr>\n",
       "    <tr>\n",
       "      <th>max</th>\n",
       "      <td>100723.000000</td>\n",
       "      <td>21547.000000</td>\n",
       "      <td>27427.000000</td>\n",
       "      <td>31120.000000</td>\n",
       "      <td>2077.000000</td>\n",
       "      <td>14731.000000</td>\n",
       "      <td>6371.000000</td>\n",
       "      <td>5258.000000</td>\n",
       "    </tr>\n",
       "  </tbody>\n",
       "</table>\n",
       "</div>"
      ],
      "text/plain": [
       "               total           안락사           자연사            입양           기증  \\\n",
       "count       9.000000      9.000000      9.000000      9.000000     9.000000   \n",
       "mean    72786.000000  17953.333333  17595.777778  22038.444444  1135.333333   \n",
       "std     21629.875768   3765.072509   6722.299138   7968.567345   623.382306   \n",
       "min     24943.000000   8775.000000   3949.000000   6573.000000   162.000000   \n",
       "25%     62848.000000  17001.000000  13453.000000  16187.000000   700.000000   \n",
       "50%     79250.000000  19066.000000  19130.000000  25183.000000  1163.000000   \n",
       "75%     81827.000000  19646.000000  20395.000000  27764.000000  1690.000000   \n",
       "max    100723.000000  21547.000000  27427.000000  31120.000000  2077.000000   \n",
       "\n",
       "                 반환           방사          보호중  \n",
       "count      9.000000     9.000000     9.000000  \n",
       "mean    8684.222222  2371.000000  2900.111111  \n",
       "std     4471.919129  1813.849842  1470.882936  \n",
       "min     1343.000000   856.000000  1445.000000  \n",
       "25%     5301.000000   933.000000  1741.000000  \n",
       "50%     9246.000000  2108.000000  2312.000000  \n",
       "75%    11936.000000  2670.000000  3635.000000  \n",
       "max    14731.000000  6371.000000  5258.000000  "
      ]
     },
     "execution_count": 28,
     "metadata": {},
     "output_type": "execute_result"
    }
   ],
   "source": [
    "df_state.describe()"
   ]
  },
  {
   "cell_type": "code",
   "execution_count": 29,
   "metadata": {
    "scrolled": false
   },
   "outputs": [
    {
     "data": {
      "image/png": "[encoded data removed]",
      "text/plain": [
       "<Figure size 432x288 with 1 Axes>"
      ]
     },
     "metadata": {
      "needs_background": "light"
     },
     "output_type": "display_data"
    }
   ],
   "source": [
    "graph_mkilling = df_state.groupby('반환').total.mean().plot(kind='bar')"
   ]
  },
  {
   "cell_type": "code",
   "execution_count": 30,
   "metadata": {
    "scrolled": true
   },
   "outputs": [
    {
     "data": {
      "image/png": "[encoded data removed]",
      "text/plain": [
       "<Figure size 432x288 with 1 Axes>"
      ]
     },
     "metadata": {
      "needs_background": "light"
     },
     "output_type": "display_data"
    }
   ],
   "source": [
    "fig = matplotlib.pyplot.gcf()\n",
    "\n",
    "header = ['안락사','자연사','입양', '기증', '반환', '방사', '보호중']\n",
    "\n",
    "configs = df_total\n",
    "N = len(configs)\n",
    "ind = np.arange(N)\n",
    "\n",
    "p1 = plt.bar(ind, df_mkilling)\n",
    "p2 = plt.bar(ind, df_death, bottom=df_mkilling)\n",
    "p3 = plt.bar(ind, df_adopt, bottom=np.array(df_mkilling)+np.array(df_death))\n",
    "p4 = plt.bar(ind, df_donate, \n",
    "             bottom=np.array(df_mkilling)+np.array(df_death)+np.array(df_adopt))\n",
    "p5 = plt.bar(ind, df_return, \n",
    "             bottom=np.array(df_mkilling)+np.array(df_death)+np.array(df_adopt)+np.array(df_donate))\n",
    "p6 = plt.bar(ind, df_pasture, \n",
    "             bottom=np.array(df_mkilling)+np.array(df_death)+np.array(df_adopt)+np.array(df_donate)+np.array(df_return))\n",
    "p7 = plt.bar(ind, df_shelter, \n",
    "             bottom=np.array(df_mkilling)+np.array(df_death)+np.array(df_adopt)+np.array(df_donate)+np.array(df_return)+np.array(df_pasture))\n",
    "\n",
    "plt.legend((p1[0], p2[0], p3[0], p4[0], p5[0], p6[0], p7[0]),\n",
    "           (header[0], header[1], header[2], header[3], header[4], header[5], header[6]))\n",
    "plt.show()"
   ]
  },
  {
   "cell_type": "code",
   "execution_count": null,
   "metadata": {},
   "outputs": [],
   "source": []
  },
  {
   "cell_type": "code",
   "execution_count": null,
   "metadata": {},
   "outputs": [],
   "source": []
  }
 ],
 "metadata": {
  "kernelspec": {
   "display_name": "Python 3",
   "language": "python",
   "name": "python3"
  },
  "language_info": {
   "codemirror_mode": {
    "name": "ipython",
    "version": 3
   },
   "file_extension": ".py",
   "mimetype": "text/x-python",
   "name": "python",
   "nbconvert_exporter": "python",
   "pygments_lexer": "ipython3",
   "version": "3.6.5"
  }
 },
 "nbformat": 4,
 "nbformat_minor": 2
}
