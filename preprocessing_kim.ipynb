{
 "cells": [
  {
   "cell_type": "code",
   "execution_count": null,
   "metadata": {},
   "outputs": [],
   "source": [
    "import numpy as np\n",
    "import pandas as pd\n"
   ]
  },
  {
   "cell_type": "code",
   "execution_count": null,
   "metadata": {},
   "outputs": [],
   "source": [
    "df1=pd.read_csv(\"D:\\JupyterNotebook\\project\\lostAnimal_data\\processing_data\\lostAnimal_20150101_20151231_pre.csv\", encoding=\"euc-kr\")\n",
    "#df2=pd.read_excel(\"D:\\JupyterNotebook\\project\\lostAnimal_data\\processing_data\\lostAnimal_20160101_20161231.xlsx\", encoding=\"euc-kr\")\n",
    "#df3=pd.read_excel(\"D:\\JupyterNotebook\\project\\lostAnimal_data\\processing_data\\lostAnimal_20170101_20171231.xlsx\", encoding=\"euc-kr\")\n",
    "#df4=pd.read_excel(\"D:\\JupyterNotebook\\project\\lostAnimal_data\\processing_data\\lostAnimal_20180101_20181231.xlsx\", encoding=\"euc-kr\")"
   ]
  },
  {
   "cell_type": "code",
   "execution_count": null,
   "metadata": {},
   "outputs": [],
   "source": [
    "#all_df=pd.concat([df1,df2,df3,df4,df5,df6,df7,df8,df9,df10])\n",
    "#cs=all_df.drop(['Unnamed: 0','chargeNm','desertionNo','filename','noticeComment','officetel','popfile','specialMark','orgNm'],axis=1)\n",
    "#df2=df2.drop(['Unnamed: 0','chargeNm','desertionNo','filename','noticeComment','officetel','popfile','specialMark','orgNm','careTel'],axis=1)\n",
    "#df3=df3.drop(['Unnamed: 0','chargeNm','desertionNo','filename','noticeComment','officetel','popfile','specialMark','orgNm','careTel'],axis=1)\n",
    "#df4=df4.drop(['Unnamed: 0','chargeNm','desertionNo','filename','noticeComment','officetel','popfile','specialMark','orgNm','careTel'],axis=1)"
   ]
  },
  {
   "cell_type": "code",
   "execution_count": null,
   "metadata": {},
   "outputs": [],
   "source": [
    "#df2[['processState','sexCd','neuterYn']].isnull().sum()"
   ]
  },
  {
   "cell_type": "code",
   "execution_count": null,
   "metadata": {},
   "outputs": [],
   "source": [
    "#df3[['processState','sexCd','neuterYn']].isnull().sum()"
   ]
  },
  {
   "cell_type": "code",
   "execution_count": null,
   "metadata": {},
   "outputs": [],
   "source": [
    "#df4[['processState','sexCd','neuterYn']].isnull().sum()"
   ]
  },
  {
   "cell_type": "code",
   "execution_count": null,
   "metadata": {},
   "outputs": [],
   "source": [
    "df1['processState'].value_counts()"
   ]
  },
  {
   "cell_type": "markdown",
   "metadata": {},
   "source": [
    "### processState, sexCd, neuterYn) 전처리(레이블링, column화, one-hot 코딩)"
   ]
  },
  {
   "cell_type": "code",
   "execution_count": null,
   "metadata": {},
   "outputs": [],
   "source": [
    "# 데이터에서 값제거 코드\n",
    "#df1 = df1[df1.processState!='종료(방사)'] \n"
   ]
  },
  {
   "cell_type": "code",
   "execution_count": null,
   "metadata": {},
   "outputs": [],
   "source": [
    "df1['processState_C']=df1['processState']=='C' #보호중\n",
    "df1['processState_A']=df1['processState']=='A' #입양+기증\n",
    "df1['processState_D']=df1['processState']=='D' #자연사+안락사\n",
    "df1['processState_R']=df1['processState']=='R' #반환\n",
    "df1['processState_E']=df1['processState']=='E' #미포획+방사\n",
    "df1[['processState','processState_C','processState_A','processState_D','processState_R','processState_E']].head(20)"
   ]
  },
  {
   "cell_type": "markdown",
   "metadata": {},
   "source": [
    "### 성별( M=남, F=여자, Q=미상)"
   ]
  },
  {
   "cell_type": "code",
   "execution_count": null,
   "metadata": {},
   "outputs": [],
   "source": [
    "df1['sexCd_M']=df1['sexCd']=='M'\n",
    "df1['sexCd_F']=df1['sexCd']=='F'\n",
    "df1['sexCd_Q']=df1['sexCd']=='Q\n",
    "df1[['sexCd','sexCd_M','sexCd_F','sexCd_Q']].head(30)"
   ]
  },
  {
   "cell_type": "markdown",
   "metadata": {},
   "source": [
    "### 보호장소"
   ]
  },
  {
   "cell_type": "code",
   "execution_count": null,
   "metadata": {},
   "outputs": [],
   "source": [
    "dfh1=df1['careNm'].str.contains('병원|의료센터|메디컬|클리닉|의료원') #메디컬(715)+의료(91)+의료(23408)\n",
    "dfh2=df1['careNm'].str.contains('보호소|보호센터|리본센터') #보호소(18387)+센터(18413)\n",
    "dfh3=df1['careNm'].str.contains('군청|시청') #군청(54)+시청(24)\n",
    "dfh4=df1['careNm'].str.contains('수의사회') #수의사회(2443)\n",
    "dfh5=df1['careNm'].str.contains('한동보|협회|보호협' ) #한동보(1115)+동물협회(10806)\n",
    "dfh6=df1['careNm'].str.contains('병원|의료|메디컬|클리닉|보호소|보호센터|리본센터|군청|시청|수의사회|한동보|협회|보호협|의료원')==False"
   ]
  },
  {
   "cell_type": "code",
   "execution_count": null,
   "metadata": {},
   "outputs": [],
   "source": [
    "df1['careNm_ETC']=dfh6 #밑에 컬럼속성들을 제외한 속성\n",
    "df1['careNm_H']=dfh1 # 병원,의료센터,메디컬,클리닉,의료원\n",
    "df1['careNm_C']=dfh2 # 보호소,보호센터,리본센터\n",
    "df1['careNm_O']=dfh3 # 군청, 시청\n",
    "df1['careNm_AD']=dfh4 # 수의사회\n",
    "df1['careNm_CM']=dfh5 # 한동보,동물협회"
   ]
  },
  {
   "cell_type": "code",
   "execution_count": null,
   "metadata": {},
   "outputs": [],
   "source": [
    "df1[['careNm','careNm_ETC','careNm_H','careNm_C','careNm_O','careNm_AD','careNm_CM']]"
   ]
  },
  {
   "cell_type": "markdown",
   "metadata": {},
   "source": [
    "## 시도분류"
   ]
  },
  {
   "cell_type": "code",
   "execution_count": null,
   "metadata": {},
   "outputs": [],
   "source": [
    "# df1['orgNm'][df1['orgNm'].str.contains('서울특별시')==True]\n",
    "# df1['orgNm'][df1['orgNm'].str.contains('경기도')==True]\n",
    "# df1['orgNm'][df1['orgNm'].str.contains('강원도')==True]\n",
    "# df1['orgNm'][df1['orgNm'].str.contains('경상남도')==True]\n",
    "# df1['orgNm'][df1['orgNm'].str.contains('경상북도')==True]\n",
    "# df1['orgNm'][df1['orgNm'].str.contains('전라남도')==True]\n",
    "# df1['orgNm'][df1['orgNm'].str.contains('전라북도')==True]\n",
    "# df1['orgNm'][df1['orgNm'].str.contains('충청남도')==True]\n",
    "# df1['orgNm'][df1['orgNm'].str.contains('충청북도')==True]\n",
    "# df1['orgNm'][df1['orgNm'].str.contains('울산광역시')==True]\n",
    "# df1['orgNm'][df1['orgNm'].str.contains('부산광역시')==True]\n",
    "# df1['orgNm'][df1['orgNm'].str.contains('대전광역시')==True]\n",
    "# df1['orgNm'][df1['orgNm'].str.contains('제주특별자치도')==True]\n",
    "#df1['orgNm'].unique()"
   ]
  }
 ],
 "metadata": {
  "kernelspec": {
   "display_name": "Python 3",
   "language": "python",
   "name": "python3"
  },
  "language_info": {
   "codemirror_mode": {
    "name": "ipython",
    "version": 3
   },
   "file_extension": ".py",
   "mimetype": "text/x-python",
   "name": "python",
   "nbconvert_exporter": "python",
   "pygments_lexer": "ipython3",
   "version": "3.6.5"
  }
 },
 "nbformat": 4,
 "nbformat_minor": 2
}
