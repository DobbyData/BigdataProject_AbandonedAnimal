{
 "cells": [
  {
   "cell_type": "code",
   "execution_count": 1,
   "metadata": {},
   "outputs": [],
   "source": [
    "import pandas as pd\n",
    "from konlpy.tag import Kkma\n",
    "from konlpy.utils import pprint"
   ]
  },
  {
   "cell_type": "code",
   "execution_count": 2,
   "metadata": {},
   "outputs": [],
   "source": [
    "kkma = Kkma()"
   ]
  },
  {
   "cell_type": "code",
   "execution_count": 116,
   "metadata": {},
   "outputs": [
    {
     "name": "stderr",
     "output_type": "stream",
     "text": [
      "D:\\pycharmProject\\BigdataProject_AbandonedAnimal\\venv\\lib\\site-packages\\IPython\\core\\interactiveshell.py:2785: DtypeWarning: Columns (26) have mixed types. Specify dtype option on import or set low_memory=False.\n",
      "  interactivity=interactivity, compiler=compiler, result=result)\n"
     ]
    }
   ],
   "source": [
    "df = pd.read_csv(r'D:\\pycharmProject\\BigdataProject_AbandonedAnimal\\lostAnimal_20170101_20171231.csv', encoding='CP949')"
   ]
  },
  {
   "cell_type": "code",
   "execution_count": 117,
   "metadata": {},
   "outputs": [
    {
     "data": {
      "text/plain": [
       "Index(['Unnamed: 0', 'age(before)', 'age(after)', 'careAddr', 'careNm',\n",
       "       'careTel', 'chargeNm', 'colorCd', 'desertionNo', 'filename', 'happenDt',\n",
       "       'happenPlace', 'kindCd', 'neuterYn', 'noticeComment', 'noticeEdt',\n",
       "       'noticeNo', 'noticeSdt', 'officetel', 'orgNm', 'popfile',\n",
       "       'processState', 'sexCd', 'specialMark', 'weight(before)',\n",
       "       'weight(after)', '두마리이상', 'Unnamed: 27'],\n",
       "      dtype='object')"
      ]
     },
     "execution_count": 117,
     "metadata": {},
     "output_type": "execute_result"
    }
   ],
   "source": [
    "df.columns"
   ]
  },
  {
   "cell_type": "code",
   "execution_count": 118,
   "metadata": {},
   "outputs": [
    {
     "name": "stdout",
     "output_type": "stream",
     "text": [
      "<class 'pandas.core.frame.DataFrame'>\n",
      "RangeIndex: 100723 entries, 0 to 100722\n",
      "Data columns (total 28 columns):\n",
      "Unnamed: 0        100723 non-null int64\n",
      "age(before)       100723 non-null object\n",
      "age(after)        100723 non-null int64\n",
      "careAddr          100723 non-null object\n",
      "careNm            100723 non-null object\n",
      "careTel           100723 non-null object\n",
      "chargeNm          94569 non-null object\n",
      "colorCd           100723 non-null object\n",
      "desertionNo       100723 non-null float64\n",
      "filename          100723 non-null object\n",
      "happenDt          100723 non-null int64\n",
      "happenPlace       100721 non-null object\n",
      "kindCd            100723 non-null object\n",
      "neuterYn          100723 non-null object\n",
      "noticeComment     535 non-null object\n",
      "noticeEdt         100723 non-null int64\n",
      "noticeNo          100723 non-null object\n",
      "noticeSdt         100723 non-null int64\n",
      "officetel         95905 non-null object\n",
      "orgNm             100723 non-null object\n",
      "popfile           100723 non-null object\n",
      "processState      100723 non-null object\n",
      "sexCd             100723 non-null object\n",
      "specialMark       99031 non-null object\n",
      "weight(before)    100723 non-null object\n",
      "weight(after)     100353 non-null float64\n",
      "두마리이상             18 non-null object\n",
      "Unnamed: 27       36 non-null float64\n",
      "dtypes: float64(3), int64(5), object(20)\n",
      "memory usage: 21.5+ MB\n"
     ]
    }
   ],
   "source": [
    "df.info()"
   ]
  },
  {
   "cell_type": "markdown",
   "metadata": {},
   "source": [
    "## kindCd, happenDt, happenPlace, colorCd"
   ]
  },
  {
   "cell_type": "markdown",
   "metadata": {},
   "source": [
    "### kindCd"
   ]
  },
  {
   "cell_type": "code",
   "execution_count": 119,
   "metadata": {},
   "outputs": [
    {
     "data": {
      "text/plain": [
       "0         [개] 믹스견\n",
       "1         [개] 믹스견\n",
       "2    [고양이] 한국 고양이\n",
       "3         [개] 믹스견\n",
       "4         [개] 믹스견\n",
       "Name: kindCd, dtype: object"
      ]
     },
     "execution_count": 119,
     "metadata": {},
     "output_type": "execute_result"
    }
   ],
   "source": [
    "df['kindCd'].head()"
   ]
  },
  {
   "cell_type": "code",
   "execution_count": 120,
   "metadata": {},
   "outputs": [
    {
     "data": {
      "text/plain": [
       "0      개\n",
       "1      개\n",
       "2    고양이\n",
       "3      개\n",
       "4      개\n",
       "Name: kind, dtype: object"
      ]
     },
     "execution_count": 120,
     "metadata": {},
     "output_type": "execute_result"
    }
   ],
   "source": [
    "df['kind'] = df['kindCd'].str.extract('([가-힣]+)\\]', expand=False) # 한글 정규식\n",
    "df['kind'].head()"
   ]
  },
  {
   "cell_type": "code",
   "execution_count": 121,
   "metadata": {},
   "outputs": [],
   "source": [
    "kind_mapping = {'개': 0, '고양이':1, '기타축종':2}\n",
    "df['kind'] = df['kind'].map(kind_mapping)"
   ]
  },
  {
   "cell_type": "code",
   "execution_count": 122,
   "metadata": {},
   "outputs": [
    {
     "data": {
      "text/plain": [
       "0    73023\n",
       "1    26543\n",
       "2     1157\n",
       "Name: kind, dtype: int64"
      ]
     },
     "execution_count": 122,
     "metadata": {},
     "output_type": "execute_result"
    }
   ],
   "source": [
    "df['kind'].value_counts()"
   ]
  },
  {
   "cell_type": "code",
   "execution_count": 123,
   "metadata": {
    "scrolled": true
   },
   "outputs": [],
   "source": [
    "df['breed'] = df['kindCd'].str.split('] ').str[1]\n",
    "# split으로 분리하여 얻은 list에서 2번째 값을 string으로 받음"
   ]
  },
  {
   "cell_type": "code",
   "execution_count": 124,
   "metadata": {},
   "outputs": [
    {
     "data": {
      "text/plain": [
       "0       믹스견\n",
       "1       믹스견\n",
       "2    한국 고양이\n",
       "3       믹스견\n",
       "4       믹스견\n",
       "Name: breed, dtype: object"
      ]
     },
     "execution_count": 124,
     "metadata": {},
     "output_type": "execute_result"
    }
   ],
   "source": [
    "df['breed'].head()"
   ]
  },
  {
   "cell_type": "code",
   "execution_count": 125,
   "metadata": {},
   "outputs": [
    {
     "data": {
      "text/plain": [
       "믹스견             37569\n",
       "고양이             26189\n",
       "말티즈              7013\n",
       "푸들               6803\n",
       "진도견              3371\n",
       "시츄               2750\n",
       "요크셔 테리어          1748\n",
       "포메라니안            1653\n",
       "스피츠              1268\n",
       "골든 리트리버          1042\n",
       "코카 스파니엘           875\n",
       "치와와               774\n",
       "닥스훈트              746\n",
       "미니어쳐 핀셔           587\n",
       "슈나우져              558\n",
       "라브라도 리트리버         462\n",
       "시베리안 허스키          395\n",
       "토끼                378\n",
       "웰시 코기 펨브로크        368\n",
       "비글                362\n",
       "보스턴 테리어           283\n",
       "한국 고양이            274\n",
       "페키니즈              245\n",
       "셰퍼드               216\n",
       "사모예드              203\n",
       "프렌치 불독            169\n",
       "불독                167\n",
       "발바리               157\n",
       "포인터               139\n",
       "그레이트 피레니즈         129\n",
       "                ...  \n",
       "늑대거북이               1\n",
       "코카 푸                1\n",
       "말티즈혼합으로보임           1\n",
       "브래타니                1\n",
       "발바리믹스견              1\n",
       "라보라도리트리버            1\n",
       "벨지안 셰퍼드 독           1\n",
       "요크믹스                1\n",
       "레드라도리트리버            1\n",
       "믹스(퍼그)              1\n",
       "진도 또는 믹스            1\n",
       "포메리안스피츠믹스           1\n",
       "친칠라                 1\n",
       "갈/흰                 1\n",
       "라브라도레트리버            1\n",
       "말티스 믹스추정            1\n",
       "아메리칸아끼다             1\n",
       "팬텀푸들                1\n",
       "제페니즈친               1\n",
       "은계                  1\n",
       "거북                  1\n",
       "믹스 흑구               1\n",
       "테리어                 1\n",
       "진도 또는 대형견 믹스        1\n",
       "세이블햄스터 추정           1\n",
       "셔틀렌드 쉽독             1\n",
       "직박구리                1\n",
       "말티즈 추정              1\n",
       "키타                  1\n",
       "보스롱                 1\n",
       "Name: breed, Length: 537, dtype: int64"
      ]
     },
     "execution_count": 125,
     "metadata": {},
     "output_type": "execute_result"
    }
   ],
   "source": [
    "breed = df['breed'].value_counts()\n",
    "breed"
   ]
  },
  {
   "cell_type": "markdown",
   "metadata": {},
   "source": [
    "### happenDt"
   ]
  },
  {
   "cell_type": "code",
   "execution_count": 126,
   "metadata": {},
   "outputs": [
    {
     "data": {
      "text/plain": [
       "0    20171231\n",
       "1    20171231\n",
       "2    20171231\n",
       "3    20171231\n",
       "4    20171231\n",
       "Name: happenDt, dtype: int64"
      ]
     },
     "execution_count": 126,
     "metadata": {},
     "output_type": "execute_result"
    }
   ],
   "source": [
    "df['happenDt'].head()"
   ]
  },
  {
   "cell_type": "code",
   "execution_count": 127,
   "metadata": {},
   "outputs": [],
   "source": [
    "df['happenDt'] = pd.to_datetime(df['happenDt'], format='%Y%m%d')\n",
    "# 8자리를 날짜형식으로 바꿈"
   ]
  },
  {
   "cell_type": "code",
   "execution_count": 128,
   "metadata": {},
   "outputs": [
    {
     "data": {
      "text/plain": [
       "0   2017-12-31\n",
       "1   2017-12-31\n",
       "2   2017-12-31\n",
       "3   2017-12-31\n",
       "4   2017-12-31\n",
       "Name: happenDt, dtype: datetime64[ns]"
      ]
     },
     "execution_count": 128,
     "metadata": {},
     "output_type": "execute_result"
    }
   ],
   "source": [
    "df['happenDt'].head()"
   ]
  },
  {
   "cell_type": "code",
   "execution_count": 129,
   "metadata": {},
   "outputs": [],
   "source": [
    "# df['happenWd'] = df['happenDt'].dt.dayofweekday  # 요일을 숫자로 표현함 \"0 = Sunday\"\n",
    "df['happenWd'] = df['happenDt'].dt.day_name()"
   ]
  },
  {
   "cell_type": "code",
   "execution_count": 130,
   "metadata": {},
   "outputs": [
    {
     "data": {
      "text/plain": [
       "0    Sunday\n",
       "1    Sunday\n",
       "2    Sunday\n",
       "3    Sunday\n",
       "4    Sunday\n",
       "Name: happenWd, dtype: object"
      ]
     },
     "execution_count": 130,
     "metadata": {},
     "output_type": "execute_result"
    }
   ],
   "source": [
    "df['happenWd'].head()"
   ]
  },
  {
   "cell_type": "code",
   "execution_count": 131,
   "metadata": {},
   "outputs": [
    {
     "data": {
      "text/plain": [
       "Monday       22098\n",
       "Tuesday      16930\n",
       "Wednesday    15993\n",
       "Thursday     15824\n",
       "Friday       15508\n",
       "Saturday      8787\n",
       "Sunday        5583\n",
       "Name: happenWd, dtype: int64"
      ]
     },
     "execution_count": 131,
     "metadata": {},
     "output_type": "execute_result"
    }
   ],
   "source": [
    "df['happenWd'].value_counts()"
   ]
  },
  {
   "cell_type": "code",
   "execution_count": 132,
   "metadata": {},
   "outputs": [],
   "source": [
    "df['happenMth'] = pd.DatetimeIndex(df['happenDt']).month\n",
    "# 날짜에서 '월'값을 받음"
   ]
  },
  {
   "cell_type": "code",
   "execution_count": 133,
   "metadata": {},
   "outputs": [
    {
     "data": {
      "text/plain": [
       "0    12\n",
       "1    12\n",
       "2    12\n",
       "3    12\n",
       "4    12\n",
       "Name: happenMth, dtype: int64"
      ]
     },
     "execution_count": 133,
     "metadata": {},
     "output_type": "execute_result"
    }
   ],
   "source": [
    "df['happenMth'].head()"
   ]
  },
  {
   "cell_type": "code",
   "execution_count": 134,
   "metadata": {},
   "outputs": [
    {
     "data": {
      "text/plain": [
       "8     11119\n",
       "7     11075\n",
       "9      9978\n",
       "5      9845\n",
       "6      9713\n",
       "10     9311\n",
       "11     8044\n",
       "4      7594\n",
       "12     6620\n",
       "3      6600\n",
       "1      5582\n",
       "2      5242\n",
       "Name: happenMth, dtype: int64"
      ]
     },
     "execution_count": 134,
     "metadata": {},
     "output_type": "execute_result"
    }
   ],
   "source": [
    "df['happenMth'].value_counts()"
   ]
  },
  {
   "cell_type": "markdown",
   "metadata": {},
   "source": [
    "### age"
   ]
  },
  {
   "cell_type": "code",
   "execution_count": 135,
   "metadata": {},
   "outputs": [
    {
     "data": {
      "text/plain": [
       "0     5.0\n",
       "1    10.0\n",
       "2     1.0\n",
       "3     1.0\n",
       "4     1.0\n",
       "Name: weight(after), dtype: float64"
      ]
     },
     "execution_count": 135,
     "metadata": {},
     "output_type": "execute_result"
    }
   ],
   "source": [
    "df['weight(after)'].head()"
   ]
  },
  {
   "cell_type": "code",
   "execution_count": 136,
   "metadata": {},
   "outputs": [],
   "source": [
    "df.loc[df['weight(after)'] <= 3, 'size'] = '초소형'\n",
    "df.loc[(df['weight(after)'] > 3 ) & (df['weight(after)'] <=9 ), 'size'] = '소형'\n",
    "df.loc[(df['weight(after)'] > 9 ) & (df['weight(after)'] <=25 ), 'size'] = '중형'\n",
    "df.loc[df['weight(after)'] > 25, 'size'] = '대형'"
   ]
  },
  {
   "cell_type": "code",
   "execution_count": 137,
   "metadata": {},
   "outputs": [
    {
     "data": {
      "text/plain": [
       "0     소형\n",
       "1     중형\n",
       "2    초소형\n",
       "3    초소형\n",
       "4    초소형\n",
       "Name: size, dtype: object"
      ]
     },
     "execution_count": 137,
     "metadata": {},
     "output_type": "execute_result"
    }
   ],
   "source": [
    "df['size'].head()"
   ]
  },
  {
   "cell_type": "markdown",
   "metadata": {},
   "source": [
    "### weight"
   ]
  },
  {
   "cell_type": "code",
   "execution_count": 138,
   "metadata": {},
   "outputs": [
    {
     "data": {
      "text/plain": [
       "0    0\n",
       "1    1\n",
       "2    0\n",
       "3    0\n",
       "4    0\n",
       "Name: age(after), dtype: int64"
      ]
     },
     "execution_count": 138,
     "metadata": {},
     "output_type": "execute_result"
    }
   ],
   "source": [
    "df['age(after)'].head()"
   ]
  },
  {
   "cell_type": "code",
   "execution_count": 139,
   "metadata": {},
   "outputs": [],
   "source": [
    "df.loc[df['age(after)'] <= 1, 'age_u'] = '유견기'\n",
    "df.loc[(df['age(after)'] > 1 ) & (df['age(after)'] <= 9 ), 'age_u'] = '성견기'\n",
    "df.loc[df['age(after)'] > 9, 'age_u'] = '노견기'"
   ]
  },
  {
   "cell_type": "code",
   "execution_count": 140,
   "metadata": {},
   "outputs": [
    {
     "data": {
      "text/plain": [
       "0    유견기\n",
       "1    유견기\n",
       "2    유견기\n",
       "3    유견기\n",
       "4    유견기\n",
       "Name: age_u, dtype: object"
      ]
     },
     "execution_count": 140,
     "metadata": {},
     "output_type": "execute_result"
    }
   ],
   "source": [
    "df['age_u'].head()"
   ]
  },
  {
   "cell_type": "markdown",
   "metadata": {},
   "source": [
    "## Save"
   ]
  },
  {
   "cell_type": "code",
   "execution_count": 141,
   "metadata": {},
   "outputs": [
    {
     "data": {
      "text/plain": [
       "Index(['Unnamed: 0', 'age(before)', 'age(after)', 'careAddr', 'careNm',\n",
       "       'careTel', 'chargeNm', 'colorCd', 'desertionNo', 'filename', 'happenDt',\n",
       "       'happenPlace', 'kindCd', 'neuterYn', 'noticeComment', 'noticeEdt',\n",
       "       'noticeNo', 'noticeSdt', 'officetel', 'orgNm', 'popfile',\n",
       "       'processState', 'sexCd', 'specialMark', 'weight(before)',\n",
       "       'weight(after)', '두마리이상', 'Unnamed: 27', 'kind', 'breed', 'happenWd',\n",
       "       'happenMth', 'size', 'age_u'],\n",
       "      dtype='object')"
      ]
     },
     "execution_count": 141,
     "metadata": {},
     "output_type": "execute_result"
    }
   ],
   "source": [
    "df.columns"
   ]
  },
  {
   "cell_type": "code",
   "execution_count": 142,
   "metadata": {},
   "outputs": [],
   "source": [
    "df.to_csv('lostAnimal_20170101_20171231_pre.csv',encoding='euc-kr')"
   ]
  },
  {
   "cell_type": "code",
   "execution_count": null,
   "metadata": {},
   "outputs": [],
   "source": []
  }
 ],
 "metadata": {
  "kernelspec": {
   "display_name": "Python 3",
   "language": "python",
   "name": "python3"
  },
  "language_info": {
   "codemirror_mode": {
    "name": "ipython",
    "version": 3
   },
   "file_extension": ".py",
   "mimetype": "text/x-python",
   "name": "python",
   "nbconvert_exporter": "python",
   "pygments_lexer": "ipython3",
   "version": "3.6.5"
  }
 },
 "nbformat": 4,
 "nbformat_minor": 2
}
