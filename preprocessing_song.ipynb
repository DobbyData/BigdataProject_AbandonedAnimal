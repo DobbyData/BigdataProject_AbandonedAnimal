{
 "cells": [
  {
   "cell_type": "code",
   "execution_count": 1,
   "metadata": {},
   "outputs": [],
   "source": [
    "import pandas as pd\n",
    "from konlpy.tag import Kkma\n",
    "from konlpy.utils import pprint"
   ]
  },
  {
   "cell_type": "code",
   "execution_count": 2,
   "metadata": {},
   "outputs": [],
   "source": [
    "kkma = Kkma()"
   ]
  },
  {
   "cell_type": "code",
   "execution_count": 85,
   "metadata": {},
   "outputs": [],
   "source": [
    "df = pd.read_csv(r'D:\\pycharmProject\\BigdataProject_AbandonedAnimal\\lostAnimal_20180101_20181231_vol1.csv', encoding='CP949')"
   ]
  },
  {
   "cell_type": "code",
   "execution_count": 86,
   "metadata": {},
   "outputs": [
    {
     "data": {
      "text/plain": [
       "Index(['Unnamed: 0', 'age(before)', 'age(after)', 'careAddr', 'careNm',\n",
       "       'careTel', 'chargeNm', 'colorCd', 'desertionNo', 'filename', 'happenDt',\n",
       "       'happenPlace', 'kindCd', 'neuterYn', 'noticeComment', 'noticeEdt',\n",
       "       'noticeNo', 'noticeSdt', 'officetel', 'orgNm', 'popfile',\n",
       "       'processState', 'sexCd', 'specialMark', 'weight(before)',\n",
       "       'weight(after)'],\n",
       "      dtype='object')"
      ]
     },
     "execution_count": 86,
     "metadata": {},
     "output_type": "execute_result"
    }
   ],
   "source": [
    "df.columns"
   ]
  },
  {
   "cell_type": "code",
   "execution_count": 87,
   "metadata": {},
   "outputs": [
    {
     "name": "stdout",
     "output_type": "stream",
     "text": [
      "<class 'pandas.core.frame.DataFrame'>\n",
      "RangeIndex: 80330 entries, 0 to 80329\n",
      "Data columns (total 26 columns):\n",
      "Unnamed: 0        80330 non-null int64\n",
      "age(before)       80330 non-null object\n",
      "age(after)        80330 non-null int64\n",
      "careAddr          80330 non-null object\n",
      "careNm            80330 non-null object\n",
      "careTel           80330 non-null object\n",
      "chargeNm          74132 non-null object\n",
      "colorCd           80322 non-null object\n",
      "desertionNo       80330 non-null float64\n",
      "filename          80330 non-null object\n",
      "happenDt          80330 non-null int64\n",
      "happenPlace       80330 non-null object\n",
      "kindCd            80330 non-null object\n",
      "neuterYn          80330 non-null object\n",
      "noticeComment     334 non-null object\n",
      "noticeEdt         80330 non-null int64\n",
      "noticeNo          80330 non-null object\n",
      "noticeSdt         80330 non-null int64\n",
      "officetel         75720 non-null object\n",
      "orgNm             80330 non-null object\n",
      "popfile           80330 non-null object\n",
      "processState      80330 non-null object\n",
      "sexCd             80330 non-null object\n",
      "specialMark       78614 non-null object\n",
      "weight(before)    80330 non-null object\n",
      "weight(after)     80303 non-null float64\n",
      "dtypes: float64(2), int64(5), object(19)\n",
      "memory usage: 15.9+ MB\n"
     ]
    }
   ],
   "source": [
    "df.info()"
   ]
  },
  {
   "cell_type": "markdown",
   "metadata": {},
   "source": [
    "## kindCd, happenDt, happenPlace, colorCd"
   ]
  },
  {
   "cell_type": "markdown",
   "metadata": {},
   "source": [
    "### kindCd"
   ]
  },
  {
   "cell_type": "code",
   "execution_count": 88,
   "metadata": {},
   "outputs": [
    {
     "data": {
      "text/plain": [
       "0    [개] 믹스견\n",
       "1    [개] 믹스견\n",
       "2    [개] 믹스견\n",
       "3    [개] 믹스견\n",
       "4    [개] 믹스견\n",
       "Name: kindCd, dtype: object"
      ]
     },
     "execution_count": 88,
     "metadata": {},
     "output_type": "execute_result"
    }
   ],
   "source": [
    "df['kindCd'].head()"
   ]
  },
  {
   "cell_type": "code",
   "execution_count": 89,
   "metadata": {},
   "outputs": [
    {
     "data": {
      "text/plain": [
       "0    개\n",
       "1    개\n",
       "2    개\n",
       "3    개\n",
       "4    개\n",
       "Name: kind, dtype: object"
      ]
     },
     "execution_count": 89,
     "metadata": {},
     "output_type": "execute_result"
    }
   ],
   "source": [
    "df['kind'] = df['kindCd'].str.extract('([가-힣]+)\\]', expand=False) # 한글 정규식\n",
    "df['kind'].head()"
   ]
  },
  {
   "cell_type": "code",
   "execution_count": 90,
   "metadata": {},
   "outputs": [],
   "source": [
    "kind_mapping = {'개': 0, '고양이':1, '기타축종':2}\n",
    "df['kind'] = df['kind'].map(kind_mapping)"
   ]
  },
  {
   "cell_type": "code",
   "execution_count": 91,
   "metadata": {},
   "outputs": [
    {
     "data": {
      "text/plain": [
       "0    60813\n",
       "1    18725\n",
       "2      792\n",
       "Name: kind, dtype: int64"
      ]
     },
     "execution_count": 91,
     "metadata": {},
     "output_type": "execute_result"
    }
   ],
   "source": [
    "df['kind'].value_counts()"
   ]
  },
  {
   "cell_type": "code",
   "execution_count": 92,
   "metadata": {
    "scrolled": true
   },
   "outputs": [],
   "source": [
    "df['breed'] = df['kindCd'].str.split('] ').str[1]\n",
    "# split으로 분리하여 얻은 list에서 2번째 값을 string으로 받음"
   ]
  },
  {
   "cell_type": "code",
   "execution_count": 93,
   "metadata": {},
   "outputs": [
    {
     "data": {
      "text/plain": [
       "0    믹스견\n",
       "1    믹스견\n",
       "2    믹스견\n",
       "3    믹스견\n",
       "4    믹스견\n",
       "Name: breed, dtype: object"
      ]
     },
     "execution_count": 93,
     "metadata": {},
     "output_type": "execute_result"
    }
   ],
   "source": [
    "df['breed'].head()"
   ]
  },
  {
   "cell_type": "code",
   "execution_count": 94,
   "metadata": {},
   "outputs": [
    {
     "data": {
      "text/plain": [
       "믹스견               33602\n",
       "한국 고양이            15711\n",
       "푸들                 5439\n",
       "말티즈                5108\n",
       "진도견                2509\n",
       "시츄                 1708\n",
       "포메라니안              1507\n",
       "요크셔 테리어            1091\n",
       "스피츠                1071\n",
       "치와와                 702\n",
       "라브라도 리트리버           597\n",
       "혼합                  583\n",
       "닥스훈트                581\n",
       "골든 리트리버             522\n",
       "코카 스파니엘             485\n",
       "코숏                  461\n",
       "웰시 코기 펨브로크          426\n",
       "미니어쳐 핀셔             375\n",
       "페르시안-페프시안 친칠라       374\n",
       "시베리안 허스키            339\n",
       "슈나우져                301\n",
       "프렌치 불독              288\n",
       "믹스                  281\n",
       "보스턴 테리어             275\n",
       "비글                  257\n",
       "터키시 앙고라             233\n",
       "비숑 프리제              224\n",
       "기타                  205\n",
       "러시안 블루              187\n",
       "보더 콜리               172\n",
       "                  ...  \n",
       "라이카믹스                 1\n",
       "야생고양이                 1\n",
       "아메리칸 에스키모             1\n",
       "퀘이커앵무                 1\n",
       "믹스 강아지                1\n",
       "잉글리쉬 코카스페니얼 믹스        1\n",
       "불독 혼합                 1\n",
       "호저                    1\n",
       "라브라도 믹스               1\n",
       "모름                    1\n",
       "그로넨달                  1\n",
       "잡종견(믹스견)              1\n",
       "사모예드믹스                1\n",
       "러블믹스                  1\n",
       "검은색                   1\n",
       "페터데일테리어               1\n",
       "참새                    1\n",
       "카이훗                   1\n",
       "코카 푸                  1\n",
       "믹스고양이                 1\n",
       "염소(흑염소)               1\n",
       "백봉오골계                 1\n",
       "이집션마우?                1\n",
       "치와와혼종                 1\n",
       "슈나믹스                  1\n",
       "거위                    1\n",
       "인도공작                  1\n",
       "조류(닭)                 1\n",
       "믹스포메                  1\n",
       "품종확인불가                1\n",
       "Name: breed, Length: 408, dtype: int64"
      ]
     },
     "execution_count": 94,
     "metadata": {},
     "output_type": "execute_result"
    }
   ],
   "source": [
    "breed = df['breed'].value_counts()\n",
    "breed"
   ]
  },
  {
   "cell_type": "markdown",
   "metadata": {},
   "source": [
    "### happenDt"
   ]
  },
  {
   "cell_type": "code",
   "execution_count": 95,
   "metadata": {},
   "outputs": [
    {
     "data": {
      "text/plain": [
       "0    20180906\n",
       "1    20180906\n",
       "2    20180906\n",
       "3    20180906\n",
       "4    20180906\n",
       "Name: happenDt, dtype: int64"
      ]
     },
     "execution_count": 95,
     "metadata": {},
     "output_type": "execute_result"
    }
   ],
   "source": [
    "df['happenDt'].head()"
   ]
  },
  {
   "cell_type": "code",
   "execution_count": 96,
   "metadata": {},
   "outputs": [],
   "source": [
    "df['happenDt'] = pd.to_datetime(df['happenDt'], format='%Y%m%d')\n",
    "# 8자리를 날짜형식으로 바꿈"
   ]
  },
  {
   "cell_type": "code",
   "execution_count": 97,
   "metadata": {},
   "outputs": [
    {
     "data": {
      "text/plain": [
       "0   2018-09-06\n",
       "1   2018-09-06\n",
       "2   2018-09-06\n",
       "3   2018-09-06\n",
       "4   2018-09-06\n",
       "Name: happenDt, dtype: datetime64[ns]"
      ]
     },
     "execution_count": 97,
     "metadata": {},
     "output_type": "execute_result"
    }
   ],
   "source": [
    "df['happenDt'].head()"
   ]
  },
  {
   "cell_type": "code",
   "execution_count": 98,
   "metadata": {},
   "outputs": [],
   "source": [
    "# df['happenWd'] = df['happenDt'].dt.dayofweekday  # 요일을 숫자로 표현함 \"0 = Sunday\"\n",
    "df['happenWd'] = df['happenDt'].dt.day_name()"
   ]
  },
  {
   "cell_type": "code",
   "execution_count": 99,
   "metadata": {},
   "outputs": [
    {
     "data": {
      "text/plain": [
       "0    Thursday\n",
       "1    Thursday\n",
       "2    Thursday\n",
       "3    Thursday\n",
       "4    Thursday\n",
       "Name: happenWd, dtype: object"
      ]
     },
     "execution_count": 99,
     "metadata": {},
     "output_type": "execute_result"
    }
   ],
   "source": [
    "df['happenWd'].head()"
   ]
  },
  {
   "cell_type": "code",
   "execution_count": 100,
   "metadata": {},
   "outputs": [
    {
     "data": {
      "text/plain": [
       "Monday       17555\n",
       "Tuesday      13859\n",
       "Wednesday    12795\n",
       "Thursday     12400\n",
       "Friday       12301\n",
       "Saturday      6900\n",
       "Sunday        4520\n",
       "Name: happenWd, dtype: int64"
      ]
     },
     "execution_count": 100,
     "metadata": {},
     "output_type": "execute_result"
    }
   ],
   "source": [
    "df['happenWd'].value_counts()"
   ]
  },
  {
   "cell_type": "code",
   "execution_count": 101,
   "metadata": {},
   "outputs": [],
   "source": [
    "df['happenMth'] = pd.DatetimeIndex(df['happenDt']).month\n",
    "# 날짜에서 '월'값을 받음"
   ]
  },
  {
   "cell_type": "code",
   "execution_count": 102,
   "metadata": {},
   "outputs": [
    {
     "data": {
      "text/plain": [
       "0    9\n",
       "1    9\n",
       "2    9\n",
       "3    9\n",
       "4    9\n",
       "Name: happenMth, dtype: int64"
      ]
     },
     "execution_count": 102,
     "metadata": {},
     "output_type": "execute_result"
    }
   ],
   "source": [
    "df['happenMth'].head()"
   ]
  },
  {
   "cell_type": "code",
   "execution_count": 103,
   "metadata": {},
   "outputs": [
    {
     "data": {
      "text/plain": [
       "5    11984\n",
       "7    11805\n",
       "6    11469\n",
       "8    11062\n",
       "4     9733\n",
       "3     8813\n",
       "1     7345\n",
       "2     6465\n",
       "9     1654\n",
       "Name: happenMth, dtype: int64"
      ]
     },
     "execution_count": 103,
     "metadata": {},
     "output_type": "execute_result"
    }
   ],
   "source": [
    "df['happenMth'].value_counts()"
   ]
  },
  {
   "cell_type": "markdown",
   "metadata": {},
   "source": [
    "### age"
   ]
  },
  {
   "cell_type": "code",
   "execution_count": 104,
   "metadata": {},
   "outputs": [
    {
     "data": {
      "text/plain": [
       "0    4.0\n",
       "1    5.0\n",
       "2    1.0\n",
       "3    1.0\n",
       "4    1.0\n",
       "Name: weight(after), dtype: float64"
      ]
     },
     "execution_count": 104,
     "metadata": {},
     "output_type": "execute_result"
    }
   ],
   "source": [
    "df['weight(after)'].head()"
   ]
  },
  {
   "cell_type": "code",
   "execution_count": 105,
   "metadata": {},
   "outputs": [],
   "source": [
    "df.loc[df['weight(after)'] <= 3, 'size'] = '초소형'\n",
    "df.loc[(df['weight(after)'] > 3 ) & (df['weight(after)'] <=9 ), 'size'] = '소형'\n",
    "df.loc[(df['weight(after)'] > 9 ) & (df['weight(after)'] <=25 ), 'size'] = '중형'\n",
    "df.loc[df['weight(after)'] > 25, 'size'] = '대형'"
   ]
  },
  {
   "cell_type": "code",
   "execution_count": 106,
   "metadata": {},
   "outputs": [
    {
     "data": {
      "text/plain": [
       "0     소형\n",
       "1     소형\n",
       "2    초소형\n",
       "3    초소형\n",
       "4    초소형\n",
       "Name: size, dtype: object"
      ]
     },
     "execution_count": 106,
     "metadata": {},
     "output_type": "execute_result"
    }
   ],
   "source": [
    "df['size'].head()"
   ]
  },
  {
   "cell_type": "markdown",
   "metadata": {},
   "source": [
    "### weight"
   ]
  },
  {
   "cell_type": "code",
   "execution_count": 107,
   "metadata": {},
   "outputs": [
    {
     "data": {
      "text/plain": [
       "0    1\n",
       "1    1\n",
       "2    0\n",
       "3    0\n",
       "4    0\n",
       "Name: age(after), dtype: int64"
      ]
     },
     "execution_count": 107,
     "metadata": {},
     "output_type": "execute_result"
    }
   ],
   "source": [
    "df['age(after)'].head()"
   ]
  },
  {
   "cell_type": "code",
   "execution_count": 108,
   "metadata": {},
   "outputs": [],
   "source": [
    "df.loc[df['age(after)'] <= 1, 'age_u'] = '유견기'\n",
    "df.loc[(df['age(after)'] > 1 ) & (df['age(after)'] <= 9 ), 'age_u'] = '성견기'\n",
    "df.loc[df['age(after)'] > 9, 'age_u'] = '노견기'"
   ]
  },
  {
   "cell_type": "code",
   "execution_count": 109,
   "metadata": {},
   "outputs": [
    {
     "data": {
      "text/plain": [
       "0    유견기\n",
       "1    유견기\n",
       "2    유견기\n",
       "3    유견기\n",
       "4    유견기\n",
       "Name: age_u, dtype: object"
      ]
     },
     "execution_count": 109,
     "metadata": {},
     "output_type": "execute_result"
    }
   ],
   "source": [
    "df['age_u'].head()"
   ]
  },
  {
   "cell_type": "markdown",
   "metadata": {},
   "source": [
    "## Save"
   ]
  },
  {
   "cell_type": "code",
   "execution_count": 110,
   "metadata": {},
   "outputs": [
    {
     "data": {
      "text/plain": [
       "Index(['Unnamed: 0', 'age(before)', 'age(after)', 'careAddr', 'careNm',\n",
       "       'careTel', 'chargeNm', 'colorCd', 'desertionNo', 'filename', 'happenDt',\n",
       "       'happenPlace', 'kindCd', 'neuterYn', 'noticeComment', 'noticeEdt',\n",
       "       'noticeNo', 'noticeSdt', 'officetel', 'orgNm', 'popfile',\n",
       "       'processState', 'sexCd', 'specialMark', 'weight(before)',\n",
       "       'weight(after)', 'kind', 'breed', 'happenWd', 'happenMth', 'size',\n",
       "       'age_u'],\n",
       "      dtype='object')"
      ]
     },
     "execution_count": 110,
     "metadata": {},
     "output_type": "execute_result"
    }
   ],
   "source": [
    "df.columns"
   ]
  },
  {
   "cell_type": "code",
   "execution_count": 111,
   "metadata": {},
   "outputs": [],
   "source": [
    "df.to_csv('lostAnimal_20180101_20181231_vol2.csv',encoding='euc-kr')"
   ]
  },
  {
   "cell_type": "code",
   "execution_count": null,
   "metadata": {},
   "outputs": [],
   "source": []
  },
  {
   "cell_type": "code",
   "execution_count": null,
   "metadata": {},
   "outputs": [],
   "source": []
  }
 ],
 "metadata": {
  "kernelspec": {
   "display_name": "Python 3",
   "language": "python",
   "name": "python3"
  },
  "language_info": {
   "codemirror_mode": {
    "name": "ipython",
    "version": 3
   },
   "file_extension": ".py",
   "mimetype": "text/x-python",
   "name": "python",
   "nbconvert_exporter": "python",
   "pygments_lexer": "ipython3",
   "version": "3.6.5"
  }
 },
 "nbformat": 4,
 "nbformat_minor": 2
}
