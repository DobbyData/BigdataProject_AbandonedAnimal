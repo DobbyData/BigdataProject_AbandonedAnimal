{
 "cells": [
  {
   "cell_type": "code",
   "execution_count": 1,
   "metadata": {},
   "outputs": [],
   "source": [
    "import pandas as pd\n",
    "import os\n",
    "from datetime import datetime\n",
    "import sys\n",
    "from konlpy.tag import Twitter\n",
    "from konlpy.utils import pprint"
   ]
  },
  {
   "cell_type": "code",
   "execution_count": 2,
   "metadata": {
    "scrolled": true
   },
   "outputs": [],
   "source": [
    "df15 = pd.read_csv(r'D:\\pycharmProject\\BigdataProject_AbandonedAnimal\\__result__\\crawling\\lostAnimal_20150101_20151231.csv', encoding='CP949')\n",
    "df16 = pd.read_csv(r'D:\\pycharmProject\\BigdataProject_AbandonedAnimal\\__result__\\crawling\\lostAnimal_20160101_20161231.csv', encoding='CP949')\n",
    "df17 = pd.read_csv(r'D:\\pycharmProject\\BigdataProject_AbandonedAnimal\\__result__\\crawling\\lostAnimal_20170101_20171231.csv', encoding='CP949')\n",
    "df18 = pd.read_csv(r'D:\\pycharmProject\\BigdataProject_AbandonedAnimal\\__result__\\crawling\\lostAnimal_20180101_20181231.csv', encoding='CP949')\n",
    "# df_animal = pd.read_csv(r'D:\\pycharmProject\\BigdataProject_AbandonedAnimal\\__result__\\crawling\\년도별_유기동물.csv', encoding='CP949')"
   ]
  },
  {
   "cell_type": "code",
   "execution_count": 3,
   "metadata": {},
   "outputs": [],
   "source": [
    "df = pd.concat([df15, df16, df17, df18], axis=0)"
   ]
  },
  {
   "cell_type": "code",
   "execution_count": 4,
   "metadata": {
    "scrolled": false
   },
   "outputs": [
    {
     "data": {
      "text/plain": [
       "Index(['Unnamed: 0', 'age', 'careAddr', 'careNm', 'careTel', 'chargeNm',\n",
       "       'colorCd', 'desertionNo', 'filename', 'happenDt', 'happenPlace',\n",
       "       'kindCd', 'neuterYn', 'noticeComment', 'noticeEdt', 'noticeNo',\n",
       "       'noticeSdt', 'officetel', 'orgNm', 'popfile', 'processState', 'sexCd',\n",
       "       'specialMark', 'weight'],\n",
       "      dtype='object')"
      ]
     },
     "execution_count": 4,
     "metadata": {},
     "output_type": "execute_result"
    }
   ],
   "source": [
    "df.columns"
   ]
  },
  {
   "cell_type": "markdown",
   "metadata": {},
   "source": [
    "## colorCd"
   ]
  },
  {
   "cell_type": "code",
   "execution_count": null,
   "metadata": {},
   "outputs": [],
   "source": [
    "df_colorCd = df['colorCd']"
   ]
  },
  {
   "cell_type": "code",
   "execution_count": null,
   "metadata": {
    "scrolled": true
   },
   "outputs": [],
   "source": [
    "df_colorCd.head()"
   ]
  },
  {
   "cell_type": "code",
   "execution_count": null,
   "metadata": {},
   "outputs": [],
   "source": [
    "df_list_c = []\n",
    "for a in df_colorCd:\n",
    "    df_list.append(a)"
   ]
  },
  {
   "cell_type": "code",
   "execution_count": null,
   "metadata": {},
   "outputs": [],
   "source": [
    "df_set = set(df_list)\n",
    "df_set"
   ]
  },
  {
   "cell_type": "code",
   "execution_count": null,
   "metadata": {},
   "outputs": [],
   "source": [
    "file = open('df_colorCd.csv', 'w')\n",
    "for i in df_set:\n",
    "    file.write(str(i))\n",
    "file.close()"
   ]
  },
  {
   "cell_type": "markdown",
   "metadata": {},
   "source": [
    "## specialMark"
   ]
  },
  {
   "cell_type": "code",
   "execution_count": 13,
   "metadata": {},
   "outputs": [],
   "source": [
    "specialMark18 = df18['specialMark']"
   ]
  },
  {
   "cell_type": "code",
   "execution_count": 14,
   "metadata": {},
   "outputs": [],
   "source": [
    "file = open('specialMark18.csv','w')\n",
    "for a in specialMark15:\n",
    "    file.write(str(a))\n",
    "file.close()"
   ]
  },
  {
   "cell_type": "code",
   "execution_count": null,
   "metadata": {},
   "outputs": [],
   "source": [
    "df.loc[df['specialMark'] == ':피부병:', 'specialPre'] = '피부병'"
   ]
  },
  {
   "cell_type": "code",
   "execution_count": null,
   "metadata": {},
   "outputs": [],
   "source": [
    "df.head()"
   ]
  },
  {
   "cell_type": "code",
   "execution_count": null,
   "metadata": {},
   "outputs": [],
   "source": [
    "# df.loc[df['sexCd'] == 'F', 'sexCd_pre'] = 0\n",
    "# df.loc[df['sexCd'] == 'M', 'sexCd_pre'] = 1\n",
    "# df.loc[df['sexCd'] == 'Q', 'sexCd_pre'] = 2"
   ]
  },
  {
   "cell_type": "code",
   "execution_count": null,
   "metadata": {},
   "outputs": [],
   "source": [
    "# df.loc[df['neuterYn'] == 'Y', 'neuterYn_pre'] = 0\n",
    "# df.loc[df['neuterYn'] == 'N', 'neuterYn_pre'] = 1\n",
    "# df.loc[df['neuterYn'] == 'U', 'neuterYn_pre'] = 2"
   ]
  },
  {
   "cell_type": "code",
   "execution_count": null,
   "metadata": {},
   "outputs": [],
   "source": [
    "# df.loc[df['processState'] == '보호중', 'state_pre'] = 0\n",
    "# df.loc[df['processState'] == '종료(반환)', 'state_pre'] = 1\n",
    "# df.loc[df['processState'] == '종료(방사)', 'state_pre'] = 2\n",
    "# df.loc[df['processState'] == '종료(안락사)', 'state_pre'] = 3\n",
    "# df.loc[df['processState'] == '종료(입양)', 'state_pre'] = 4\n",
    "# df.loc[df['processState'] == '종료(자연사)', 'state_pre'] = 5\n",
    "# df.loc[df['processState'] == '종료(기증)', 'state_pre'] = 6"
   ]
  }
 ],
 "metadata": {
  "kernelspec": {
   "display_name": "Python 3",
   "language": "python",
   "name": "python3"
  },
  "language_info": {
   "codemirror_mode": {
    "name": "ipython",
    "version": 3
   },
   "file_extension": ".py",
   "mimetype": "text/x-python",
   "name": "python",
   "nbconvert_exporter": "python",
   "pygments_lexer": "ipython3",
   "version": "3.6.5"
  }
 },
 "nbformat": 4,
 "nbformat_minor": 1
}
